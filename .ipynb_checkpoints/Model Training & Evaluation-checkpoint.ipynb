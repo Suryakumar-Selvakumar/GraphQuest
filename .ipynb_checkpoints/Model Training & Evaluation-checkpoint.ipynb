{
 "cells": [
  {
   "cell_type": "code",
   "execution_count": 1,
   "id": "d14dd244-92af-4c05-ae57-3db93a8a1d13",
   "metadata": {},
   "outputs": [
    {
     "name": "stderr",
     "output_type": "stream",
     "text": [
      "/home/surya/anaconda3/envs/graphquest/lib/python3.9/site-packages/tqdm/auto.py:21: TqdmWarning: IProgress not found. Please update jupyter and ipywidgets. See https://ipywidgets.readthedocs.io/en/stable/user_install.html\n",
      "  from .autonotebook import tqdm as notebook_tqdm\n"
     ]
    }
   ],
   "source": [
    "# import libs\n",
    "import pandas as pd\n",
    "import numpy as np\n",
    "import matplotlib.pyplot as plt\n",
    "import seaborn as sns\n",
    "from sklearn.model_selection import train_test_split\n",
    "from sklearn.preprocessing import MinMaxScaler\n",
    "import xgboost as xgb\n",
    "from xgboost import XGBClassifier\n",
    "from sklearn.metrics import accuracy_score, f1_score, classification_report\n",
    "import optuna\n",
    "import optuna.visualization as ov\n",
    "from optuna.samplers import TPESampler\n",
    "\n",
    "import warnings\n",
    "warnings.filterwarnings(\"ignore\")"
   ]
  },
  {
   "cell_type": "code",
   "execution_count": 2,
   "id": "b0059cdb-ff11-4b36-ad85-a3f193a85970",
   "metadata": {},
   "outputs": [
    {
     "name": "stdout",
     "output_type": "stream",
     "text": [
      "GPU is available: True\n"
     ]
    }
   ],
   "source": [
    "gpu_test = xgb.XGBClassifier(tree_method=\"gpu_hist\")\n",
    "print(\"GPU is available:\", gpu_test.get_params()[\"tree_method\"] == \"gpu_hist\")"
   ]
  },
  {
   "cell_type": "code",
   "execution_count": 3,
   "id": "6bb794ce-32bc-44a9-a05b-3e92c7c96873",
   "metadata": {},
   "outputs": [
    {
     "data": {
      "text/html": [
       "<div>\n",
       "<style scoped>\n",
       "    .dataframe tbody tr th:only-of-type {\n",
       "        vertical-align: middle;\n",
       "    }\n",
       "\n",
       "    .dataframe tbody tr th {\n",
       "        vertical-align: top;\n",
       "    }\n",
       "\n",
       "    .dataframe thead th {\n",
       "        text-align: right;\n",
       "    }\n",
       "</style>\n",
       "<table border=\"1\" class=\"dataframe\">\n",
       "  <thead>\n",
       "    <tr style=\"text-align: right;\">\n",
       "      <th></th>\n",
       "      <th>PlayerID</th>\n",
       "      <th>Age</th>\n",
       "      <th>Gender</th>\n",
       "      <th>PlayTimeHours</th>\n",
       "      <th>InGamePurchases</th>\n",
       "      <th>GameDifficulty</th>\n",
       "      <th>SessionsPerWeek</th>\n",
       "      <th>AvgSessionDurationMinutes</th>\n",
       "      <th>PlayerLevel</th>\n",
       "      <th>AchievementsUnlocked</th>\n",
       "      <th>EngagementLevel</th>\n",
       "      <th>AvgPlayTimePerWeek</th>\n",
       "      <th>isAddicted</th>\n",
       "      <th>Location_Europe</th>\n",
       "      <th>Location_Other</th>\n",
       "      <th>Location_USA</th>\n",
       "      <th>Genre_RPG</th>\n",
       "      <th>Genre_Simulation</th>\n",
       "      <th>Genre_Sports</th>\n",
       "      <th>Genre_Strategy</th>\n",
       "    </tr>\n",
       "  </thead>\n",
       "  <tbody>\n",
       "    <tr>\n",
       "      <th>0</th>\n",
       "      <td>9000</td>\n",
       "      <td>43</td>\n",
       "      <td>0</td>\n",
       "      <td>16.271119</td>\n",
       "      <td>0</td>\n",
       "      <td>1</td>\n",
       "      <td>6</td>\n",
       "      <td>108</td>\n",
       "      <td>79</td>\n",
       "      <td>25</td>\n",
       "      <td>1</td>\n",
       "      <td>648</td>\n",
       "      <td>0</td>\n",
       "      <td>False</td>\n",
       "      <td>True</td>\n",
       "      <td>False</td>\n",
       "      <td>False</td>\n",
       "      <td>False</td>\n",
       "      <td>False</td>\n",
       "      <td>True</td>\n",
       "    </tr>\n",
       "    <tr>\n",
       "      <th>1</th>\n",
       "      <td>9001</td>\n",
       "      <td>29</td>\n",
       "      <td>1</td>\n",
       "      <td>5.525961</td>\n",
       "      <td>0</td>\n",
       "      <td>1</td>\n",
       "      <td>5</td>\n",
       "      <td>144</td>\n",
       "      <td>11</td>\n",
       "      <td>10</td>\n",
       "      <td>1</td>\n",
       "      <td>720</td>\n",
       "      <td>0</td>\n",
       "      <td>False</td>\n",
       "      <td>False</td>\n",
       "      <td>True</td>\n",
       "      <td>False</td>\n",
       "      <td>False</td>\n",
       "      <td>False</td>\n",
       "      <td>True</td>\n",
       "    </tr>\n",
       "    <tr>\n",
       "      <th>2</th>\n",
       "      <td>9002</td>\n",
       "      <td>22</td>\n",
       "      <td>1</td>\n",
       "      <td>8.223755</td>\n",
       "      <td>0</td>\n",
       "      <td>0</td>\n",
       "      <td>16</td>\n",
       "      <td>142</td>\n",
       "      <td>35</td>\n",
       "      <td>41</td>\n",
       "      <td>2</td>\n",
       "      <td>2272</td>\n",
       "      <td>1</td>\n",
       "      <td>False</td>\n",
       "      <td>False</td>\n",
       "      <td>True</td>\n",
       "      <td>False</td>\n",
       "      <td>False</td>\n",
       "      <td>True</td>\n",
       "      <td>False</td>\n",
       "    </tr>\n",
       "    <tr>\n",
       "      <th>3</th>\n",
       "      <td>9003</td>\n",
       "      <td>35</td>\n",
       "      <td>0</td>\n",
       "      <td>5.265351</td>\n",
       "      <td>1</td>\n",
       "      <td>0</td>\n",
       "      <td>9</td>\n",
       "      <td>85</td>\n",
       "      <td>57</td>\n",
       "      <td>47</td>\n",
       "      <td>1</td>\n",
       "      <td>765</td>\n",
       "      <td>0</td>\n",
       "      <td>False</td>\n",
       "      <td>False</td>\n",
       "      <td>True</td>\n",
       "      <td>False</td>\n",
       "      <td>False</td>\n",
       "      <td>False</td>\n",
       "      <td>False</td>\n",
       "    </tr>\n",
       "    <tr>\n",
       "      <th>4</th>\n",
       "      <td>9004</td>\n",
       "      <td>33</td>\n",
       "      <td>0</td>\n",
       "      <td>15.531945</td>\n",
       "      <td>0</td>\n",
       "      <td>1</td>\n",
       "      <td>2</td>\n",
       "      <td>131</td>\n",
       "      <td>95</td>\n",
       "      <td>37</td>\n",
       "      <td>1</td>\n",
       "      <td>262</td>\n",
       "      <td>0</td>\n",
       "      <td>True</td>\n",
       "      <td>False</td>\n",
       "      <td>False</td>\n",
       "      <td>False</td>\n",
       "      <td>False</td>\n",
       "      <td>False</td>\n",
       "      <td>False</td>\n",
       "    </tr>\n",
       "  </tbody>\n",
       "</table>\n",
       "</div>"
      ],
      "text/plain": [
       "   PlayerID  Age  Gender  PlayTimeHours  InGamePurchases  GameDifficulty  \\\n",
       "0      9000   43       0      16.271119                0               1   \n",
       "1      9001   29       1       5.525961                0               1   \n",
       "2      9002   22       1       8.223755                0               0   \n",
       "3      9003   35       0       5.265351                1               0   \n",
       "4      9004   33       0      15.531945                0               1   \n",
       "\n",
       "   SessionsPerWeek  AvgSessionDurationMinutes  PlayerLevel  \\\n",
       "0                6                        108           79   \n",
       "1                5                        144           11   \n",
       "2               16                        142           35   \n",
       "3                9                         85           57   \n",
       "4                2                        131           95   \n",
       "\n",
       "   AchievementsUnlocked  EngagementLevel  AvgPlayTimePerWeek  isAddicted  \\\n",
       "0                    25                1                 648           0   \n",
       "1                    10                1                 720           0   \n",
       "2                    41                2                2272           1   \n",
       "3                    47                1                 765           0   \n",
       "4                    37                1                 262           0   \n",
       "\n",
       "   Location_Europe  Location_Other  Location_USA  Genre_RPG  Genre_Simulation  \\\n",
       "0            False            True         False      False             False   \n",
       "1            False           False          True      False             False   \n",
       "2            False           False          True      False             False   \n",
       "3            False           False          True      False             False   \n",
       "4             True           False         False      False             False   \n",
       "\n",
       "   Genre_Sports  Genre_Strategy  \n",
       "0         False            True  \n",
       "1         False            True  \n",
       "2          True           False  \n",
       "3         False           False  \n",
       "4         False           False  "
      ]
     },
     "execution_count": 3,
     "metadata": {},
     "output_type": "execute_result"
    }
   ],
   "source": [
    "# load dataset\n",
    "df = pd.read_csv(\"data/online_gaming_behavior_dataset_preprocessed.csv\")\n",
    "\n",
    "df.head()"
   ]
  },
  {
   "cell_type": "code",
   "execution_count": 4,
   "id": "a388dce7-a68f-49b3-aae9-96c80d30d5bc",
   "metadata": {},
   "outputs": [
    {
     "name": "stdout",
     "output_type": "stream",
     "text": [
      "Training Set: X_train = (30025, 19), y_train = (30025,)\n",
      "Testing Set: X_test = (10009, 19), y_test = (10009,)\n"
     ]
    }
   ],
   "source": [
    "# Split dataset\n",
    "\n",
    "X = df.drop(columns=[\"EngagementLevel\"]) # remove target feature and add rest to train set\n",
    "y = df[\"EngagementLevel\"] # set target variable\n",
    "\n",
    "# 75% train set, 25% test set, random_state=42 for reproducibility, stratify to prevent class imbalance\n",
    "X_train, X_test, y_train, y_test = train_test_split(\n",
    "    X, y, test_size=0.25, random_state=42, stratify=y\n",
    ")\n",
    "\n",
    "print(f\"Training Set: X_train = {X_train.shape}, y_train = {y_train.shape}\")\n",
    "print(f\"Testing Set: X_test = {X_test.shape}, y_test = {y_test.shape}\")"
   ]
  },
  {
   "cell_type": "code",
   "execution_count": 5,
   "id": "0216625e-8183-4e13-bc0c-75a062e1c6ee",
   "metadata": {},
   "outputs": [],
   "source": [
    "# Standardize data\n",
    "# Standardization is done after data splitting to prevent data-leakage\n",
    "# from Exploratory Data Analysis, we saw that there aren't any outliers in the data, so we can rule out Robust scaling\n",
    "# XGBoost doesn't need [0, 1] scaling so we can rule out Min-Max scaling\n",
    "# However, the numerical features all have different scales, so the best option is Standard scaling\n",
    "from sklearn.preprocessing import StandardScaler\n",
    "\n",
    "scaler = StandardScaler()\n",
    "X_train_scaled = scaler.fit_transform(X_train)\n",
    "X_test_scaled = scaler.transform(X_test)"
   ]
  },
  {
   "cell_type": "code",
   "execution_count": 6,
   "id": "87b6fbbc-135f-4868-9e98-8dfdc0204b1d",
   "metadata": {},
   "outputs": [
    {
     "name": "stdout",
     "output_type": "stream",
     "text": [
      "Baseline Model Performance:\n",
      "Accuracy: 0.9276651014087322\n",
      "F1 Score: 0.9274497986702108\n",
      "\n",
      "Classifcation Report:\n",
      "               precision    recall  f1-score   support\n",
      "\n",
      "           0       0.92      0.90      0.91      2581\n",
      "           1       0.93      0.96      0.94      4844\n",
      "           2       0.93      0.90      0.92      2584\n",
      "\n",
      "    accuracy                           0.93     10009\n",
      "   macro avg       0.93      0.92      0.92     10009\n",
      "weighted avg       0.93      0.93      0.93     10009\n",
      "\n"
     ]
    }
   ],
   "source": [
    "# Train with Default parameters\n",
    "\n",
    "xgb_model = XGBClassifier(use_label_encoder=False, eval_metric=\"mlogloss\", random_state = 42) # initialize classifier\n",
    "xgb_model.fit(X_train, y_train) # train on data\n",
    "\n",
    "y_pred = xgb_model.predict(X_test) # predict using test data\n",
    "\n",
    "# get accuracy metrics\n",
    "accuracy = accuracy_score(y_test, y_pred)\n",
    "f1 = f1_score(y_test, y_pred, average=\"weighted\")\n",
    "\n",
    "# print metrics\n",
    "print(f\"Baseline Model Performance:\")\n",
    "print(f\"Accuracy: {accuracy}\")\n",
    "print(f\"F1 Score: {f1}\")\n",
    "print(\"\\nClassifcation Report:\\n\", classification_report(y_test, y_pred))"
   ]
  },
  {
   "cell_type": "code",
   "execution_count": 7,
   "id": "e1e036ee-2a6d-4f32-8caf-93ff531f025c",
   "metadata": {},
   "outputs": [],
   "source": [
    "# Find best hyperparameters for the XGBoost model using Optuna\n",
    "\n",
    "# Define Objective function for running the study\n",
    "def objective(trial):\n",
    "    # Hyperparameter search space\n",
    "    params = {\n",
    "        \"objective\": \"multi:softmax\",\n",
    "        \"num_class\": len(set(y_train)),\n",
    "        \"eval_metric\": \"mlogloss\",\n",
    "        \"tree_method\": \"gpu_hist\",\n",
    "        \"learning_rate\": trial.suggest_float(\"learning_rate\", 0.001, 1.0, log=True),\n",
    "        \"max_depth\": trial.suggest_int(\"max_depth\", 3, 32),\n",
    "        \"min_child_weight\": trial.suggest_categorical(\"min_child_weight\", [5, 6, 7, 8, 9, 10, 11, 12, 13, 14, 15, 16, 17, 18, 19, 20]), \n",
    "        \"subsample\": trial.suggest_float(\"subsample\", 0.001, 1.0, log=True),\n",
    "        \"colsample_bytree\": trial.suggest_float(\"colsample_bytree\", 0.001, 1.0, log=True),\n",
    "        \"gamma\": trial.suggest_float(\"gamma\", 1e-8, 1.0, log=True),\n",
    "        \"lambda\": trial.suggest_float(\"lambda\", 0.001, 10.0, log=True),\n",
    "        \"alpha\": trial.suggest_float(\"alpha\", 0.001, 10.0, log=True),\n",
    "        \"eta\": trial.suggest_float(\"eta\", 1e-8, 1.0, log=True),\n",
    "        \"n_estimators\": trial.suggest_categorical(\"n_estimators\", [32, 64, 128, 256, 512, 768, 1024, 1536, 2048, 3096, 4096, 5120]),\n",
    "        \"enable_categorical\": trial.suggest_categorical(\"enable_categorical\", [True]),\n",
    "    }\n",
    "\n",
    "    dtrain = xgb.DMatrix(X_train, label=y_train)\n",
    "    dvalid = xgb.DMatrix(X_test, label=y_test)\n",
    "\n",
    "    model = xgb.train(params, dtrain, num_boost_round=100, evals=[(dvalid, \"eval\")], early_stopping_rounds=10, verbose_eval=False)\n",
    "\n",
    "    y_pred = model.predict(dvalid)\n",
    "\n",
    "    # We maximize based on accuracy\n",
    "    accuracy = accuracy_score(y_test, y_pred)\n",
    "\n",
    "    return accuracy"
   ]
  },
  {
   "cell_type": "code",
   "execution_count": 8,
   "id": "a806e796-8d25-46f8-a730-2c890f267c34",
   "metadata": {
    "scrolled": true
   },
   "outputs": [
    {
     "name": "stderr",
     "output_type": "stream",
     "text": [
      "[I 2025-02-03 13:56:22,249] A new study created in memory with name: no-name-4d90a7af-936d-4aec-b998-74020b52c4f7\n",
      "                                                                                                                                                            "
     ]
    },
    {
     "name": "stdout",
     "output_type": "stream",
     "text": [
      "[I 2025-02-03 13:56:22,471] Trial 0 finished with value: 0.48396443201118994 and parameters: {'learning_rate': 0.013972030032807886, 'max_depth': 10, 'min_child_weight': 15, 'subsample': 0.009191491636729445, 'colsample_bytree': 0.01187803460152022, 'gamma': 0.07302153738642458, 'lambda': 9.575951742949718, 'alpha': 1.7083619396645657, 'eta': 0.0008106052915958129, 'n_estimators': 768, 'enable_categorical': True}. Best is trial 0 with value: 0.48396443201118994.\n"
     ]
    },
    {
     "name": "stderr",
     "output_type": "stream",
     "text": [
      "Best trial: 1. Best value: 0.823859:   1%|▍                                                                                 | 3/500 [00:00<01:24,  5.88it/s]"
     ]
    },
    {
     "name": "stdout",
     "output_type": "stream",
     "text": [
      "[I 2025-02-03 13:56:22,672] Trial 1 finished with value: 0.8238585273254071 and parameters: {'learning_rate': 0.05342315928093959, 'max_depth': 12, 'min_child_weight': 6, 'subsample': 0.017279412442896942, 'colsample_bytree': 0.05648510213076255, 'gamma': 1.0784691863396773e-06, 'lambda': 5.1644429470714215, 'alpha': 0.13619679415951533, 'eta': 5.585382274469982e-05, 'n_estimators': 64, 'enable_categorical': True}. Best is trial 1 with value: 0.8238585273254071.\n",
      "[I 2025-02-03 13:56:22,795] Trial 2 finished with value: 0.48396443201118994 and parameters: {'learning_rate': 0.0010402310900504968, 'max_depth': 11, 'min_child_weight': 19, 'subsample': 0.0036180778912055706, 'colsample_bytree': 0.08689201207915356, 'gamma': 0.0009984691120068629, 'lambda': 7.3963170830943845, 'alpha': 0.29126496168287797, 'eta': 4.711597907592323e-06, 'n_estimators': 2048, 'enable_categorical': True}. Best is trial 1 with value: 0.8238585273254071.\n"
     ]
    },
    {
     "name": "stderr",
     "output_type": "stream",
     "text": [
      "Best trial: 1. Best value: 0.823859:   1%|▊                                                                                 | 5/500 [00:00<01:22,  6.03it/s]"
     ]
    },
    {
     "name": "stdout",
     "output_type": "stream",
     "text": [
      "[I 2025-02-03 13:56:22,981] Trial 3 finished with value: 0.6169447497252473 and parameters: {'learning_rate': 0.020602975553104176, 'max_depth': 7, 'min_child_weight': 14, 'subsample': 0.023478571711976443, 'colsample_bytree': 0.0010889384748114291, 'gamma': 2.571004818690435e-06, 'lambda': 0.0034851592589073906, 'alpha': 0.15825620126820109, 'eta': 0.018052765854181956, 'n_estimators': 2048, 'enable_categorical': True}. Best is trial 1 with value: 0.8238585273254071.\n",
      "[I 2025-02-03 13:56:23,128] Trial 4 finished with value: 0.48396443201118994 and parameters: {'learning_rate': 0.001987912457360925, 'max_depth': 3, 'min_child_weight': 15, 'subsample': 0.009910525978478895, 'colsample_bytree': 0.006921754620709629, 'gamma': 0.001713683641646827, 'lambda': 0.0018477897031703551, 'alpha': 0.08527528729756348, 'eta': 0.008571805212019858, 'n_estimators': 128, 'enable_categorical': True}. Best is trial 1 with value: 0.8238585273254071.\n"
     ]
    },
    {
     "name": "stderr",
     "output_type": "stream",
     "text": [
      "Best trial: 1. Best value: 0.823859:   1%|█▏                                                                                | 7/500 [00:01<01:12,  6.82it/s]"
     ]
    },
    {
     "name": "stdout",
     "output_type": "stream",
     "text": [
      "[I 2025-02-03 13:56:23,268] Trial 5 finished with value: 0.7647117594165251 and parameters: {'learning_rate': 0.05460696743522608, 'max_depth': 11, 'min_child_weight': 10, 'subsample': 0.003981599050468284, 'colsample_bytree': 0.004984680732236308, 'gamma': 0.0002959393259859024, 'lambda': 0.09766780525915651, 'alpha': 0.11901372148479812, 'eta': 3.14439850172942e-08, 'n_estimators': 1536, 'enable_categorical': True}. Best is trial 1 with value: 0.8238585273254071.\n",
      "[I 2025-02-03 13:56:23,392] Trial 6 finished with value: 0.48396443201118994 and parameters: {'learning_rate': 0.005016897235495939, 'max_depth': 3, 'min_child_weight': 17, 'subsample': 0.015003703428365224, 'colsample_bytree': 0.08313279440084112, 'gamma': 0.2781090986802264, 'lambda': 1.9722986122921784, 'alpha': 9.97304439891241, 'eta': 4.6332043444078104e-05, 'n_estimators': 768, 'enable_categorical': True}. Best is trial 1 with value: 0.8238585273254071.\n"
     ]
    },
    {
     "name": "stderr",
     "output_type": "stream",
     "text": [
      "Best trial: 7. Best value: 0.888301:   2%|█▍                                                                                | 9/500 [00:01<01:29,  5.50it/s]"
     ]
    },
    {
     "name": "stdout",
     "output_type": "stream",
     "text": [
      "[I 2025-02-03 13:56:23,676] Trial 7 finished with value: 0.8883005295234289 and parameters: {'learning_rate': 0.015667018842072333, 'max_depth': 8, 'min_child_weight': 11, 'subsample': 0.4818127742768308, 'colsample_bytree': 0.22979815668224343, 'gamma': 1.018418153687095e-05, 'lambda': 0.019907620468814422, 'alpha': 8.142317494983514, 'eta': 0.0002771743468732848, 'n_estimators': 32, 'enable_categorical': True}. Best is trial 7 with value: 0.8883005295234289.\n",
      "[I 2025-02-03 13:56:23,840] Trial 8 finished with value: 0.48396443201118994 and parameters: {'learning_rate': 0.001969321044473966, 'max_depth': 28, 'min_child_weight': 8, 'subsample': 0.007143575799307415, 'colsample_bytree': 0.00241917967478908, 'gamma': 0.0001819297277127648, 'lambda': 0.3786100497051992, 'alpha': 0.0027677703115396557, 'eta': 1.1049943256071235e-05, 'n_estimators': 3096, 'enable_categorical': True}. Best is trial 7 with value: 0.8883005295234289.\n"
     ]
    },
    {
     "name": "stderr",
     "output_type": "stream",
     "text": [
      "Best trial: 7. Best value: 0.888301:   2%|█▌                                                                               | 10/500 [00:01<01:27,  5.57it/s]"
     ]
    },
    {
     "name": "stdout",
     "output_type": "stream",
     "text": [
      "[I 2025-02-03 13:56:24,014] Trial 9 finished with value: 0.881706464182236 and parameters: {'learning_rate': 0.049130926966233356, 'max_depth': 26, 'min_child_weight': 6, 'subsample': 0.003855316867273373, 'colsample_bytree': 0.17402619010701853, 'gamma': 5.119782686000928e-08, 'lambda': 5.148648719312112, 'alpha': 1.1246018183990558, 'eta': 0.1495116283927919, 'n_estimators': 128, 'enable_categorical': True}. Best is trial 7 with value: 0.8883005295234289.\n"
     ]
    },
    {
     "name": "stderr",
     "output_type": "stream",
     "text": [
      "Best trial: 10. Best value: 0.924868:   2%|█▊                                                                              | 11/500 [00:02<01:50,  4.44it/s]"
     ]
    },
    {
     "name": "stdout",
     "output_type": "stream",
     "text": [
      "[I 2025-02-03 13:56:24,344] Trial 10 finished with value: 0.9248676191427715 and parameters: {'learning_rate': 0.47950202223741545, 'max_depth': 20, 'min_child_weight': 11, 'subsample': 0.7641492742967225, 'colsample_bytree': 0.8561855727084542, 'gamma': 4.8724648026164235e-06, 'lambda': 0.016219116696149838, 'alpha': 0.008630559572303362, 'eta': 1.8583334118750357e-07, 'n_estimators': 32, 'enable_categorical': True}. Best is trial 10 with value: 0.9248676191427715.\n"
     ]
    },
    {
     "name": "stderr",
     "output_type": "stream",
     "text": [
      "Best trial: 11. Best value: 0.926466:   2%|█▉                                                                              | 12/500 [00:02<01:57,  4.16it/s]"
     ]
    },
    {
     "name": "stdout",
     "output_type": "stream",
     "text": [
      "[I 2025-02-03 13:56:24,618] Trial 11 finished with value: 0.9264661804376062 and parameters: {'learning_rate': 0.6021233072373701, 'max_depth': 21, 'min_child_weight': 11, 'subsample': 0.909003524082476, 'colsample_bytree': 0.985901428038103, 'gamma': 3.4602583909959318e-06, 'lambda': 0.018309775679642877, 'alpha': 0.005844821024852952, 'eta': 3.103609710663442e-08, 'n_estimators': 32, 'enable_categorical': True}. Best is trial 11 with value: 0.9264661804376062.\n"
     ]
    },
    {
     "name": "stderr",
     "output_type": "stream",
     "text": [
      "Best trial: 11. Best value: 0.926466:   3%|██▏                                                                             | 14/500 [00:02<01:48,  4.47it/s]"
     ]
    },
    {
     "name": "stdout",
     "output_type": "stream",
     "text": [
      "[I 2025-02-03 13:56:24,962] Trial 12 finished with value: 0.9208712159056849 and parameters: {'learning_rate': 0.6820185476459858, 'max_depth': 21, 'min_child_weight': 11, 'subsample': 0.9477659031971019, 'colsample_bytree': 0.5886737683130127, 'gamma': 2.425391868791491e-08, 'lambda': 0.03350146181579475, 'alpha': 0.004637451087694573, 'eta': 1.2114929561705889e-08, 'n_estimators': 32, 'enable_categorical': True}. Best is trial 11 with value: 0.9264661804376062.\n",
      "[I 2025-02-03 13:56:25,075] Trial 13 finished with value: 0.9038865021480668 and parameters: {'learning_rate': 0.9959023860598685, 'max_depth': 20, 'min_child_weight': 11, 'subsample': 0.13954915264752316, 'colsample_bytree': 0.8411577071104449, 'gamma': 4.943254782266483e-07, 'lambda': 0.011596319812329926, 'alpha': 0.011171761597335478, 'eta': 4.247192858517448e-07, 'n_estimators': 32, 'enable_categorical': True}. Best is trial 11 with value: 0.9264661804376062.\n"
     ]
    },
    {
     "name": "stderr",
     "output_type": "stream",
     "text": [
      "Best trial: 11. Best value: 0.926466:   3%|██▍                                                                             | 15/500 [00:03<02:07,  3.80it/s]"
     ]
    },
    {
     "name": "stdout",
     "output_type": "stream",
     "text": [
      "[I 2025-02-03 13:56:25,430] Trial 14 finished with value: 0.9159756219402537 and parameters: {'learning_rate': 0.26871735745084024, 'max_depth': 24, 'min_child_weight': 16, 'subsample': 0.11220733633900992, 'colsample_bytree': 0.36590640109959305, 'gamma': 1.814512954110457e-05, 'lambda': 0.08801159378860296, 'alpha': 0.017056755426783372, 'eta': 2.881251109485612e-07, 'n_estimators': 512, 'enable_categorical': True}. Best is trial 11 with value: 0.9264661804376062.\n"
     ]
    },
    {
     "name": "stderr",
     "output_type": "stream",
     "text": [
      "Best trial: 11. Best value: 0.926466:   3%|██▌                                                                             | 16/500 [00:03<02:33,  3.15it/s]"
     ]
    },
    {
     "name": "stdout",
     "output_type": "stream",
     "text": [
      "[I 2025-02-03 13:56:25,873] Trial 15 finished with value: 0.925766809871116 and parameters: {'learning_rate': 0.18507979843396796, 'max_depth': 32, 'min_child_weight': 5, 'subsample': 0.22390215039583705, 'colsample_bytree': 0.8692899549778327, 'gamma': 2.6802036325988975e-07, 'lambda': 0.005515830762953014, 'alpha': 0.001103393674322963, 'eta': 2.6029847274404876e-07, 'n_estimators': 4096, 'enable_categorical': True}. Best is trial 11 with value: 0.9264661804376062.\n"
     ]
    },
    {
     "name": "stderr",
     "output_type": "stream",
     "text": [
      "Best trial: 11. Best value: 0.926466:   3%|██▋                                                                             | 17/500 [00:04<04:12,  1.92it/s]"
     ]
    },
    {
     "name": "stdout",
     "output_type": "stream",
     "text": [
      "[I 2025-02-03 13:56:26,870] Trial 16 finished with value: 0.9140773304026376 and parameters: {'learning_rate': 0.1739076095256635, 'max_depth': 30, 'min_child_weight': 5, 'subsample': 0.20745774905311978, 'colsample_bytree': 0.21777699233798423, 'gamma': 1.3963302648417073e-07, 'lambda': 0.005680746856908468, 'alpha': 0.0012608714501503827, 'eta': 3.6567462206724192e-06, 'n_estimators': 4096, 'enable_categorical': True}. Best is trial 11 with value: 0.9264661804376062.\n"
     ]
    },
    {
     "name": "stderr",
     "output_type": "stream",
     "text": [
      "Best trial: 11. Best value: 0.926466:   4%|██▉                                                                             | 18/500 [00:05<03:50,  2.09it/s]"
     ]
    },
    {
     "name": "stdout",
     "output_type": "stream",
     "text": [
      "[I 2025-02-03 13:56:27,246] Trial 17 finished with value: 0.8797082625636927 and parameters: {'learning_rate': 0.14396101625593677, 'max_depth': 31, 'min_child_weight': 5, 'subsample': 0.06436278742144223, 'colsample_bytree': 0.02215519390362923, 'gamma': 1.3517490063308839e-08, 'lambda': 0.0012562777598968823, 'alpha': 0.001005132081550351, 'eta': 6.848755841307344e-08, 'n_estimators': 4096, 'enable_categorical': True}. Best is trial 11 with value: 0.9264661804376062.\n",
      "[I 2025-02-03 13:56:27,324] Trial 18 finished with value: 0.48396443201118994 and parameters: {'learning_rate': 0.11272196490504295, 'max_depth': 16, 'min_child_weight': 12, 'subsample': 0.0012838550127856295, 'colsample_bytree': 0.3514267009378585, 'gamma': 2.7872142181786036e-05, 'lambda': 0.34211270615783834, 'alpha': 0.034677608165482474, 'eta': 1.759863079599545e-06, 'n_estimators': 256, 'enable_categorical': True}. Best is trial 11 with value: 0.9264661804376062.\n"
     ]
    },
    {
     "name": "stderr",
     "output_type": "stream",
     "text": [
      "Best trial: 11. Best value: 0.926466:   4%|███▏                                                                            | 20/500 [00:05<02:56,  2.72it/s]"
     ]
    },
    {
     "name": "stdout",
     "output_type": "stream",
     "text": [
      "[I 2025-02-03 13:56:27,722] Trial 19 finished with value: 0.8886002597662104 and parameters: {'learning_rate': 0.3605915026510521, 'max_depth': 15, 'min_child_weight': 9, 'subsample': 0.3545710208129597, 'colsample_bytree': 0.0304232949122703, 'gamma': 2.968644108456691e-07, 'lambda': 0.006558972157388885, 'alpha': 0.0026100176874064023, 'eta': 7.640309579900539e-07, 'n_estimators': 1024, 'enable_categorical': True}. Best is trial 11 with value: 0.9264661804376062.\n"
     ]
    },
    {
     "name": "stderr",
     "output_type": "stream",
     "text": [
      "Best trial: 11. Best value: 0.926466:   4%|███▎                                                                            | 21/500 [00:05<02:42,  2.95it/s]"
     ]
    },
    {
     "name": "stdout",
     "output_type": "stream",
     "text": [
      "[I 2025-02-03 13:56:27,974] Trial 20 finished with value: 0.8950944150264761 and parameters: {'learning_rate': 0.21854011574038307, 'max_depth': 32, 'min_child_weight': 18, 'subsample': 0.04442974716447218, 'colsample_bytree': 0.12266565745310937, 'gamma': 0.012233974745686169, 'lambda': 0.043715604687866276, 'alpha': 0.02999488392560507, 'eta': 1.4606835245196825e-08, 'n_estimators': 5120, 'enable_categorical': True}. Best is trial 11 with value: 0.9264661804376062.\n"
     ]
    },
    {
     "name": "stderr",
     "output_type": "stream",
     "text": [
      "Best trial: 11. Best value: 0.926466:   5%|███▋                                                                            | 23/500 [00:06<02:21,  3.36it/s]"
     ]
    },
    {
     "name": "stdout",
     "output_type": "stream",
     "text": [
      "[I 2025-02-03 13:56:28,338] Trial 21 finished with value: 0.9235687880907184 and parameters: {'learning_rate': 0.49358305169428923, 'max_depth': 22, 'min_child_weight': 7, 'subsample': 0.6770837103980477, 'colsample_bytree': 0.8788458627356962, 'gamma': 3.0983066347982644e-06, 'lambda': 0.011618563896373396, 'alpha': 0.007499313200096119, 'eta': 1.3273779942395322e-07, 'n_estimators': 32, 'enable_categorical': True}. Best is trial 11 with value: 0.9264661804376062.\n",
      "[I 2025-02-03 13:56:28,508] Trial 22 finished with value: 0.9236686981716455 and parameters: {'learning_rate': 0.5532944616428409, 'max_depth': 18, 'min_child_weight': 13, 'subsample': 0.2862993824479831, 'colsample_bytree': 0.9994678546218579, 'gamma': 6.088109368162695e-06, 'lambda': 0.0023825843713801108, 'alpha': 0.002397638960020055, 'eta': 9.367643010509525e-08, 'n_estimators': 4096, 'enable_categorical': True}. Best is trial 11 with value: 0.9264661804376062.\n"
     ]
    },
    {
     "name": "stderr",
     "output_type": "stream",
     "text": [
      "Best trial: 11. Best value: 0.926466:   5%|███▊                                                                            | 24/500 [00:06<02:13,  3.56it/s]"
     ]
    },
    {
     "name": "stdout",
     "output_type": "stream",
     "text": [
      "[I 2025-02-03 13:56:28,745] Trial 23 finished with value: 0.910080927165551 and parameters: {'learning_rate': 0.9718226890920534, 'max_depth': 24, 'min_child_weight': 11, 'subsample': 0.5919830522377747, 'colsample_bytree': 0.45178865552044994, 'gamma': 5.978539303711189e-05, 'lambda': 0.03088973131655577, 'alpha': 0.0059726518704297715, 'eta': 3.333124564217756e-07, 'n_estimators': 32, 'enable_categorical': True}. Best is trial 11 with value: 0.9264661804376062.\n"
     ]
    },
    {
     "name": "stderr",
     "output_type": "stream",
     "text": [
      "Best trial: 11. Best value: 0.926466:   5%|████                                                                            | 25/500 [00:07<04:26,  1.78it/s]"
     ]
    },
    {
     "name": "stdout",
     "output_type": "stream",
     "text": [
      "[I 2025-02-03 13:56:30,005] Trial 24 finished with value: 0.926366270356679 and parameters: {'learning_rate': 0.09835168969636099, 'max_depth': 28, 'min_child_weight': 20, 'subsample': 0.9154689597931517, 'colsample_bytree': 0.497567061564867, 'gamma': 1.1562401833990184e-06, 'lambda': 0.2743194674848944, 'alpha': 0.03539105239884539, 'eta': 1.2201531151552915e-05, 'n_estimators': 256, 'enable_categorical': True}. Best is trial 11 with value: 0.9264661804376062.\n"
     ]
    },
    {
     "name": "stderr",
     "output_type": "stream",
     "text": [
      "Best trial: 11. Best value: 0.926466:   5%|████▏                                                                           | 26/500 [00:08<05:37,  1.41it/s]"
     ]
    },
    {
     "name": "stdout",
     "output_type": "stream",
     "text": [
      "[I 2025-02-03 13:56:31,087] Trial 25 finished with value: 0.9222699570386652 and parameters: {'learning_rate': 0.09414535035233704, 'max_depth': 29, 'min_child_weight': 5, 'subsample': 0.20128005045282857, 'colsample_bytree': 0.47341432284910645, 'gamma': 1.49209691817946e-07, 'lambda': 0.32885479215811436, 'alpha': 0.04534632240726765, 'eta': 1.0574833216669206e-05, 'n_estimators': 256, 'enable_categorical': True}. Best is trial 11 with value: 0.9264661804376062.\n"
     ]
    },
    {
     "name": "stderr",
     "output_type": "stream",
     "text": [
      "Best trial: 11. Best value: 0.926466:   5%|████▎                                                                           | 27/500 [00:10<06:43,  1.17it/s]"
     ]
    },
    {
     "name": "stdout",
     "output_type": "stream",
     "text": [
      "[I 2025-02-03 13:56:32,279] Trial 26 finished with value: 0.9084823658707164 and parameters: {'learning_rate': 0.08479937350482927, 'max_depth': 27, 'min_child_weight': 20, 'subsample': 0.997638007382307, 'colsample_bytree': 0.25113481792653625, 'gamma': 7.631488068009566e-07, 'lambda': 0.7670843262316924, 'alpha': 0.017519279552687193, 'eta': 1.524971237772563e-06, 'n_estimators': 256, 'enable_categorical': True}. Best is trial 11 with value: 0.9264661804376062.\n"
     ]
    },
    {
     "name": "stderr",
     "output_type": "stream",
     "text": [
      "Best trial: 11. Best value: 0.926466:   6%|████▍                                                                           | 28/500 [00:10<05:38,  1.39it/s]"
     ]
    },
    {
     "name": "stdout",
     "output_type": "stream",
     "text": [
      "[I 2025-02-03 13:56:32,674] Trial 27 finished with value: 0.9237686082525727 and parameters: {'learning_rate': 0.23181871439057833, 'max_depth': 25, 'min_child_weight': 20, 'subsample': 0.3976706084386142, 'colsample_bytree': 0.5968805190584932, 'gamma': 6.339460455766537e-08, 'lambda': 0.1806075714549651, 'alpha': 0.0015944666703926603, 'eta': 1.882880225139535e-05, 'n_estimators': 64, 'enable_categorical': True}. Best is trial 11 with value: 0.9264661804376062.\n"
     ]
    },
    {
     "name": "stderr",
     "output_type": "stream",
     "text": [
      "Best trial: 11. Best value: 0.926466:   6%|████▋                                                                           | 29/500 [00:10<04:53,  1.61it/s]"
     ]
    },
    {
     "name": "stdout",
     "output_type": "stream",
     "text": [
      "[I 2025-02-03 13:56:33,072] Trial 28 finished with value: 0.855729843141173 and parameters: {'learning_rate': 0.028459151171763362, 'max_depth': 32, 'min_child_weight': 20, 'subsample': 0.08503983282543086, 'colsample_bytree': 0.14299144145835013, 'gamma': 1.5167936852815164e-06, 'lambda': 0.0686133404712852, 'alpha': 0.004237986432153382, 'eta': 0.0002926221700751646, 'n_estimators': 512, 'enable_categorical': True}. Best is trial 11 with value: 0.9264661804376062.\n"
     ]
    },
    {
     "name": "stderr",
     "output_type": "stream",
     "text": [
      "Best trial: 11. Best value: 0.926466:   6%|████▊                                                                           | 30/500 [00:11<04:10,  1.87it/s]"
     ]
    },
    {
     "name": "stdout",
     "output_type": "stream",
     "text": [
      "[I 2025-02-03 13:56:33,395] Trial 29 finished with value: 0.48396443201118994 and parameters: {'learning_rate': 0.008443568843270084, 'max_depth': 28, 'min_child_weight': 18, 'subsample': 0.24559609537678476, 'colsample_bytree': 0.01615963550510425, 'gamma': 4.5291129154300736e-05, 'lambda': 1.3029963757944056, 'alpha': 0.3532386833331635, 'eta': 4.015732840115765e-08, 'n_estimators': 1536, 'enable_categorical': True}. Best is trial 11 with value: 0.9264661804376062.\n"
     ]
    },
    {
     "name": "stderr",
     "output_type": "stream",
     "text": [
      "Best trial: 11. Best value: 0.926466:   6%|████▉                                                                           | 31/500 [00:11<04:03,  1.92it/s]"
     ]
    },
    {
     "name": "stdout",
     "output_type": "stream",
     "text": [
      "[I 2025-02-03 13:56:33,883] Trial 30 finished with value: 0.8871016085523029 and parameters: {'learning_rate': 0.3409872103049413, 'max_depth': 23, 'min_child_weight': 9, 'subsample': 0.501250791884692, 'colsample_bytree': 0.04768991625500376, 'gamma': 2.1470088517234155e-07, 'lambda': 0.005441210345480332, 'alpha': 0.016177494829010083, 'eta': 0.002015246911126853, 'n_estimators': 1024, 'enable_categorical': True}. Best is trial 11 with value: 0.9264661804376062.\n"
     ]
    },
    {
     "name": "stderr",
     "output_type": "stream",
     "text": [
      "Best trial: 11. Best value: 0.926466:   6%|█████                                                                           | 32/500 [00:11<03:41,  2.11it/s]"
     ]
    },
    {
     "name": "stdout",
     "output_type": "stream",
     "text": [
      "[I 2025-02-03 13:56:34,248] Trial 31 finished with value: 0.9256668997901888 and parameters: {'learning_rate': 0.4492369453631976, 'max_depth': 19, 'min_child_weight': 11, 'subsample': 0.7405066109332789, 'colsample_bytree': 0.6121942103925263, 'gamma': 3.768572643555093e-06, 'lambda': 0.018141348459521974, 'alpha': 0.00901563240829189, 'eta': 1.3052116695933287e-07, 'n_estimators': 5120, 'enable_categorical': True}. Best is trial 11 with value: 0.9264661804376062.\n"
     ]
    },
    {
     "name": "stderr",
     "output_type": "stream",
     "text": [
      "Best trial: 11. Best value: 0.926466:   7%|█████▎                                                                          | 33/500 [00:12<04:36,  1.69it/s]"
     ]
    },
    {
     "name": "stdout",
     "output_type": "stream",
     "text": [
      "[I 2025-02-03 13:56:35,119] Trial 32 finished with value: 0.9195723848536317 and parameters: {'learning_rate': 0.1593619092828249, 'max_depth': 14, 'min_child_weight': 13, 'subsample': 0.640274924049371, 'colsample_bytree': 0.3351793112852936, 'gamma': 8.687522627674076e-07, 'lambda': 0.17343867821056222, 'alpha': 0.06924923346982478, 'eta': 9.333545649199953e-07, 'n_estimators': 5120, 'enable_categorical': True}. Best is trial 11 with value: 0.9264661804376062.\n"
     ]
    },
    {
     "name": "stderr",
     "output_type": "stream",
     "text": [
      "Best trial: 11. Best value: 0.926466:   7%|█████▍                                                                          | 34/500 [00:13<04:39,  1.67it/s]"
     ]
    },
    {
     "name": "stdout",
     "output_type": "stream",
     "text": [
      "[I 2025-02-03 13:56:35,733] Trial 33 finished with value: 0.9221700469577381 and parameters: {'learning_rate': 0.06982689426428101, 'max_depth': 19, 'min_child_weight': 19, 'subsample': 0.16674004027152906, 'colsample_bytree': 0.6442692383117334, 'gamma': 1.111413510841196e-05, 'lambda': 0.05452096849114197, 'alpha': 0.003744805169468319, 'eta': 3.7093192075107684e-08, 'n_estimators': 5120, 'enable_categorical': True}. Best is trial 11 with value: 0.9264661804376062.\n"
     ]
    },
    {
     "name": "stderr",
     "output_type": "stream",
     "text": [
      "Best trial: 11. Best value: 0.926466:   7%|█████▌                                                                          | 35/500 [00:13<04:12,  1.84it/s]"
     ]
    },
    {
     "name": "stdout",
     "output_type": "stream",
     "text": [
      "[I 2025-02-03 13:56:36,149] Trial 34 finished with value: 0.9156758916974723 and parameters: {'learning_rate': 0.35948576809790184, 'max_depth': 30, 'min_child_weight': 14, 'subsample': 0.3643373088748087, 'colsample_bytree': 0.2785278450723635, 'gamma': 1.8761783445080592e-06, 'lambda': 0.009171557461347329, 'alpha': 0.02127659665775573, 'eta': 3.5036293457139635e-06, 'n_estimators': 3096, 'enable_categorical': True}. Best is trial 11 with value: 0.9264661804376062.\n"
     ]
    },
    {
     "name": "stderr",
     "output_type": "stream",
     "text": [
      "Best trial: 11. Best value: 0.926466:   7%|█████▊                                                                          | 36/500 [00:16<08:34,  1.11s/it]"
     ]
    },
    {
     "name": "stdout",
     "output_type": "stream",
     "text": [
      "[I 2025-02-03 13:56:38,578] Trial 35 finished with value: 0.9234688780097912 and parameters: {'learning_rate': 0.033231355547921324, 'max_depth': 16, 'min_child_weight': 8, 'subsample': 0.9671269524286837, 'colsample_bytree': 0.5481082972248976, 'gamma': 0.0004917608659008487, 'lambda': 0.0034749334552491616, 'alpha': 0.0018043259580930802, 'eta': 0.8808790900229184, 'n_estimators': 768, 'enable_categorical': True}. Best is trial 11 with value: 0.9264661804376062.\n"
     ]
    },
    {
     "name": "stderr",
     "output_type": "stream",
     "text": [
      "Best trial: 11. Best value: 0.926466:   7%|█████▉                                                                          | 37/500 [00:16<06:44,  1.14it/s]"
     ]
    },
    {
     "name": "stdout",
     "output_type": "stream",
     "text": [
      "[I 2025-02-03 13:56:38,904] Trial 36 finished with value: 0.8801079028874014 and parameters: {'learning_rate': 0.12627315719980167, 'max_depth': 13, 'min_child_weight': 15, 'subsample': 0.2923394449557613, 'colsample_bytree': 0.10261345317386367, 'gamma': 5.188759220038716e-08, 'lambda': 0.021264045085748334, 'alpha': 0.23683323635597442, 'eta': 1.027415095836885e-08, 'n_estimators': 2048, 'enable_categorical': True}. Best is trial 11 with value: 0.9264661804376062.\n"
     ]
    },
    {
     "name": "stderr",
     "output_type": "stream",
     "text": [
      "Best trial: 11. Best value: 0.926466:   8%|██████▏                                                                         | 39/500 [00:17<04:11,  1.83it/s]"
     ]
    },
    {
     "name": "stdout",
     "output_type": "stream",
     "text": [
      "[I 2025-02-03 13:56:39,284] Trial 37 finished with value: 0.8926965730842242 and parameters: {'learning_rate': 0.6715105908157845, 'max_depth': 17, 'min_child_weight': 17, 'subsample': 0.5759704168290632, 'colsample_bytree': 0.052895580203577, 'gamma': 5.038772801671585e-07, 'lambda': 0.1471746990751639, 'alpha': 0.05203507815217034, 'eta': 4.3897205516582054e-05, 'n_estimators': 5120, 'enable_categorical': True}. Best is trial 11 with value: 0.9264661804376062.\n",
      "[I 2025-02-03 13:56:39,409] Trial 38 finished with value: 0.911279848136677 and parameters: {'learning_rate': 0.28472988605549426, 'max_depth': 26, 'min_child_weight': 10, 'subsample': 0.03835796084104714, 'colsample_bytree': 0.7187687489940148, 'gamma': 0.00011861928569549951, 'lambda': 0.003615561425739088, 'alpha': 0.01035513631345645, 'eta': 5.7033898308232815e-08, 'n_estimators': 256, 'enable_categorical': True}. Best is trial 11 with value: 0.9264661804376062.\n"
     ]
    },
    {
     "name": "stderr",
     "output_type": "stream",
     "text": [
      "Best trial: 11. Best value: 0.926466:   8%|██████▍                                                                         | 40/500 [00:17<03:20,  2.29it/s]"
     ]
    },
    {
     "name": "stdout",
     "output_type": "stream",
     "text": [
      "[I 2025-02-03 13:56:39,589] Trial 39 finished with value: 0.8448396443201119 and parameters: {'learning_rate': 0.05454646200513604, 'max_depth': 22, 'min_child_weight': 16, 'subsample': 0.45146480567811725, 'colsample_bytree': 0.008890599300979504, 'gamma': 0.8306859808244758, 'lambda': 0.02452007017428058, 'alpha': 0.6677158975190266, 'eta': 5.763008613970347e-07, 'n_estimators': 2048, 'enable_categorical': True}. Best is trial 11 with value: 0.9264661804376062.\n"
     ]
    },
    {
     "name": "stderr",
     "output_type": "stream",
     "text": [
      "Best trial: 11. Best value: 0.926466:   8%|██████▌                                                                         | 41/500 [00:17<02:51,  2.68it/s]"
     ]
    },
    {
     "name": "stdout",
     "output_type": "stream",
     "text": [
      "[I 2025-02-03 13:56:39,817] Trial 40 finished with value: 0.885902687581177 and parameters: {'learning_rate': 0.20749011789643584, 'max_depth': 9, 'min_child_weight': 7, 'subsample': 0.025824805397462215, 'colsample_bytree': 0.0010267625106955244, 'gamma': 1.988941397753861e-06, 'lambda': 0.001324060795216287, 'alpha': 0.09406112577209662, 'eta': 0.00013729645736530722, 'n_estimators': 4096, 'enable_categorical': True}. Best is trial 11 with value: 0.9264661804376062.\n"
     ]
    },
    {
     "name": "stderr",
     "output_type": "stream",
     "text": [
      "Best trial: 11. Best value: 0.926466:   8%|██████▋                                                                         | 42/500 [00:17<02:39,  2.87it/s]"
     ]
    },
    {
     "name": "stdout",
     "output_type": "stream",
     "text": [
      "[I 2025-02-03 13:56:40,107] Trial 41 finished with value: 0.9255669897092617 and parameters: {'learning_rate': 0.5089231100818034, 'max_depth': 19, 'min_child_weight': 11, 'subsample': 0.7655458114271286, 'colsample_bytree': 0.9842168872136436, 'gamma': 5.4895187718568155e-06, 'lambda': 0.014300266104773663, 'alpha': 0.00858034048721792, 'eta': 1.5503979232914862e-07, 'n_estimators': 32, 'enable_categorical': True}. Best is trial 11 with value: 0.9264661804376062.\n"
     ]
    },
    {
     "name": "stderr",
     "output_type": "stream",
     "text": [
      "Best trial: 43. Best value: 0.927465:   9%|███████                                                                         | 44/500 [00:18<02:01,  3.75it/s]"
     ]
    },
    {
     "name": "stdout",
     "output_type": "stream",
     "text": [
      "[I 2025-02-03 13:56:40,402] Trial 42 finished with value: 0.9154760715356179 and parameters: {'learning_rate': 0.7175309150750359, 'max_depth': 18, 'min_child_weight': 11, 'subsample': 0.6903822760552238, 'colsample_bytree': 0.42654881306278475, 'gamma': 5.137180902712579e-06, 'lambda': 0.01635005369472536, 'alpha': 0.006354471854299974, 'eta': 2.519314946341407e-08, 'n_estimators': 64, 'enable_categorical': True}. Best is trial 11 with value: 0.9264661804376062.\n",
      "[I 2025-02-03 13:56:40,515] Trial 43 finished with value: 0.9274652812468778 and parameters: {'learning_rate': 0.3805294671351384, 'max_depth': 6, 'min_child_weight': 11, 'subsample': 0.8124509402801272, 'colsample_bytree': 0.9800954611373481, 'gamma': 1.7910796514924506e-05, 'lambda': 0.008120009135932716, 'alpha': 0.011309030578514071, 'eta': 1.1202323237625997e-07, 'n_estimators': 128, 'enable_categorical': True}. Best is trial 43 with value: 0.9274652812468778.\n"
     ]
    },
    {
     "name": "stderr",
     "output_type": "stream",
     "text": [
      "Best trial: 43. Best value: 0.927465:   9%|███████▎                                                                        | 46/500 [00:18<01:46,  4.26it/s]"
     ]
    },
    {
     "name": "stdout",
     "output_type": "stream",
     "text": [
      "[I 2025-02-03 13:56:40,770] Trial 44 finished with value: 0.9105804775701868 and parameters: {'learning_rate': 0.361933247457057, 'max_depth': 6, 'min_child_weight': 6, 'subsample': 0.3703740746501667, 'colsample_bytree': 0.17656963063299674, 'gamma': 0.002387855654548501, 'lambda': 0.00716272003617379, 'alpha': 0.03037440128840931, 'eta': 0.0018366897244198987, 'n_estimators': 128, 'enable_categorical': True}. Best is trial 43 with value: 0.9274652812468778.\n",
      "[I 2025-02-03 13:56:40,938] Trial 45 finished with value: 0.9208712159056849 and parameters: {'learning_rate': 0.7988865743447084, 'max_depth': 10, 'min_child_weight': 11, 'subsample': 0.9264015124993259, 'colsample_bytree': 0.6526779612448894, 'gamma': 2.5304097928566542e-05, 'lambda': 0.0025321354816004423, 'alpha': 0.013450065455352114, 'eta': 1.83798331155538e-07, 'n_estimators': 128, 'enable_categorical': True}. Best is trial 43 with value: 0.9274652812468778.\n"
     ]
    },
    {
     "name": "stderr",
     "output_type": "stream",
     "text": [
      "Best trial: 43. Best value: 0.927465:   9%|███████▌                                                                        | 47/500 [00:18<01:53,  3.99it/s]"
     ]
    },
    {
     "name": "stdout",
     "output_type": "stream",
     "text": [
      "[I 2025-02-03 13:56:41,226] Trial 46 finished with value: 0.8892996303327005 and parameters: {'learning_rate': 0.4101952050245683, 'max_depth': 12, 'min_child_weight': 12, 'subsample': 0.12218389611808213, 'colsample_bytree': 0.0034151482729246753, 'gamma': 1.2495481721220588e-05, 'lambda': 0.003887774788520489, 'alpha': 0.0034471113307416347, 'eta': 7.333340101179121e-06, 'n_estimators': 128, 'enable_categorical': True}. Best is trial 43 with value: 0.9274652812468778.\n"
     ]
    },
    {
     "name": "stderr",
     "output_type": "stream",
     "text": [
      "Best trial: 43. Best value: 0.927465:  10%|███████▋                                                                        | 48/500 [00:19<01:51,  4.05it/s]"
     ]
    },
    {
     "name": "stdout",
     "output_type": "stream",
     "text": [
      "[I 2025-02-03 13:56:41,463] Trial 47 finished with value: 0.9053851533619742 and parameters: {'learning_rate': 0.1565286653849215, 'max_depth': 4, 'min_child_weight': 5, 'subsample': 0.013501417620650921, 'colsample_bytree': 0.31543626955691284, 'gamma': 7.487852924751049e-05, 'lambda': 0.04051571994958722, 'alpha': 0.02350685384251689, 'eta': 1.8271127949194986e-06, 'n_estimators': 1536, 'enable_categorical': True}. Best is trial 43 with value: 0.9274652812468778.\n"
     ]
    },
    {
     "name": "stderr",
     "output_type": "stream",
     "text": [
      "Best trial: 43. Best value: 0.927465:  10%|███████▊                                                                        | 49/500 [00:19<02:27,  3.06it/s]"
     ]
    },
    {
     "name": "stdout",
     "output_type": "stream",
     "text": [
      "[I 2025-02-03 13:56:41,979] Trial 48 finished with value: 0.9238685183334998 and parameters: {'learning_rate': 0.24101246660539277, 'max_depth': 28, 'min_child_weight': 11, 'subsample': 0.5204706996545028, 'colsample_bytree': 0.47216978493726364, 'gamma': 3.1893728493668807e-07, 'lambda': 0.009496807343106855, 'alpha': 4.594738741139474, 'eta': 1.8638491411495705e-08, 'n_estimators': 768, 'enable_categorical': True}. Best is trial 43 with value: 0.9274652812468778.\n"
     ]
    },
    {
     "name": "stderr",
     "output_type": "stream",
     "text": [
      "Best trial: 43. Best value: 0.927465:  10%|████████▏                                                                       | 51/500 [00:20<02:06,  3.54it/s]"
     ]
    },
    {
     "name": "stdout",
     "output_type": "stream",
     "text": [
      "[I 2025-02-03 13:56:42,338] Trial 49 finished with value: 0.7992806474173244 and parameters: {'learning_rate': 0.04037758760319163, 'max_depth': 30, 'min_child_weight': 20, 'subsample': 0.2664867058166626, 'colsample_bytree': 0.07496722454840761, 'gamma': 8.751483492812461e-07, 'lambda': 0.5971005570675832, 'alpha': 0.005592249778357521, 'eta': 2.3240791833140446e-05, 'n_estimators': 3096, 'enable_categorical': True}. Best is trial 43 with value: 0.9274652812468778.\n",
      "[I 2025-02-03 13:56:42,493] Trial 50 finished with value: 0.8818063742631631 and parameters: {'learning_rate': 0.5945528416986383, 'max_depth': 21, 'min_child_weight': 14, 'subsample': 0.006587935297039421, 'colsample_bytree': 0.0015998089553169493, 'gamma': 1.0517185338099057e-07, 'lambda': 3.1331499928833817, 'alpha': 0.010936433396167478, 'eta': 9.176602165318195e-08, 'n_estimators': 4096, 'enable_categorical': True}. Best is trial 43 with value: 0.9274652812468778.\n"
     ]
    },
    {
     "name": "stderr",
     "output_type": "stream",
     "text": [
      "Best trial: 43. Best value: 0.927465:  10%|████████▎                                                                       | 52/500 [00:20<02:09,  3.45it/s]"
     ]
    },
    {
     "name": "stdout",
     "output_type": "stream",
     "text": [
      "[I 2025-02-03 13:56:42,800] Trial 51 finished with value: 0.9249675292236986 and parameters: {'learning_rate': 0.531673321371028, 'max_depth': 20, 'min_child_weight': 11, 'subsample': 0.7171362644380718, 'colsample_bytree': 0.9258442857629056, 'gamma': 3.6394072718602975e-06, 'lambda': 0.014709666824671366, 'alpha': 0.007985394011564303, 'eta': 3.6656697196052907e-07, 'n_estimators': 32, 'enable_categorical': True}. Best is trial 43 with value: 0.9274652812468778.\n"
     ]
    },
    {
     "name": "stderr",
     "output_type": "stream",
     "text": [
      "Best trial: 43. Best value: 0.927465:  11%|████████▍                                                                       | 53/500 [00:21<02:39,  2.81it/s]"
     ]
    },
    {
     "name": "stdout",
     "output_type": "stream",
     "text": [
      "[I 2025-02-03 13:56:43,312] Trial 52 finished with value: 0.926965730842242 and parameters: {'learning_rate': 0.28195428625749236, 'max_depth': 19, 'min_child_weight': 11, 'subsample': 0.7547526755584413, 'colsample_bytree': 0.7236571596287341, 'gamma': 6.870472601590158e-06, 'lambda': 0.013884385297062938, 'alpha': 0.0019187122442496129, 'eta': 1.65781395474651e-07, 'n_estimators': 32, 'enable_categorical': True}. Best is trial 43 with value: 0.9274652812468778.\n"
     ]
    },
    {
     "name": "stderr",
     "output_type": "stream",
     "text": [
      "Best trial: 43. Best value: 0.927465:  11%|████████▋                                                                       | 54/500 [00:21<02:35,  2.86it/s]"
     ]
    },
    {
     "name": "stdout",
     "output_type": "stream",
     "text": [
      "[I 2025-02-03 13:56:43,645] Trial 53 finished with value: 0.9254670796283345 and parameters: {'learning_rate': 0.30851013509377406, 'max_depth': 16, 'min_child_weight': 11, 'subsample': 0.4660497890928361, 'colsample_bytree': 0.6990101369618998, 'gamma': 7.697618438089367e-06, 'lambda': 0.02664932624643934, 'alpha': 0.001877058930709838, 'eta': 5.3541869261413014e-08, 'n_estimators': 128, 'enable_categorical': True}. Best is trial 43 with value: 0.9274652812468778.\n"
     ]
    },
    {
     "name": "stderr",
     "output_type": "stream",
     "text": [
      "Best trial: 43. Best value: 0.927465:  11%|████████▊                                                                       | 55/500 [00:21<02:54,  2.55it/s]"
     ]
    },
    {
     "name": "stdout",
     "output_type": "stream",
     "text": [
      "[I 2025-02-03 13:56:44,139] Trial 54 finished with value: 0.926366270356679 and parameters: {'learning_rate': 0.19312999587804458, 'max_depth': 22, 'min_child_weight': 19, 'subsample': 0.7748219938411829, 'colsample_bytree': 0.7310439946203846, 'gamma': 2.3055519874151935e-05, 'lambda': 0.11519549333359179, 'alpha': 0.001155634319267617, 'eta': 2.6525939734209254e-07, 'n_estimators': 32, 'enable_categorical': True}. Best is trial 43 with value: 0.9274652812468778.\n"
     ]
    },
    {
     "name": "stderr",
     "output_type": "stream",
     "text": [
      "Best trial: 43. Best value: 0.927465:  11%|████████▉                                                                       | 56/500 [00:23<04:55,  1.50it/s]"
     ]
    },
    {
     "name": "stdout",
     "output_type": "stream",
     "text": [
      "[I 2025-02-03 13:56:45,438] Trial 55 finished with value: 0.9239684284144271 and parameters: {'learning_rate': 0.10997236685220546, 'max_depth': 24, 'min_child_weight': 19, 'subsample': 0.9736195555581366, 'colsample_bytree': 0.4198141717854569, 'gamma': 0.00017282714364240647, 'lambda': 0.11934593876309431, 'alpha': 0.002550009191674845, 'eta': 9.833606510851362e-07, 'n_estimators': 32, 'enable_categorical': True}. Best is trial 43 with value: 0.9274652812468778.\n",
      "[I 2025-02-03 13:56:45,504] Trial 56 finished with value: 0.48396443201118994 and parameters: {'learning_rate': 0.18856000696043318, 'max_depth': 21, 'min_child_weight': 15, 'subsample': 0.0016571853102382854, 'colsample_bytree': 0.7828794462409332, 'gamma': 3.628200179202762e-05, 'lambda': 0.08482270868349022, 'alpha': 0.0011886200345838872, 'eta': 3.6394312107432535e-07, 'n_estimators': 32, 'enable_categorical': True}. Best is trial 43 with value: 0.9274652812468778.\n"
     ]
    },
    {
     "name": "stderr",
     "output_type": "stream",
     "text": [
      "Best trial: 43. Best value: 0.927465:  12%|█████████▎                                                                      | 58/500 [00:23<03:44,  1.97it/s]"
     ]
    },
    {
     "name": "stdout",
     "output_type": "stream",
     "text": [
      "[I 2025-02-03 13:56:46,091] Trial 57 finished with value: 0.8968927964831651 and parameters: {'learning_rate': 0.06955242322895681, 'max_depth': 26, 'min_child_weight': 19, 'subsample': 0.1911604851287083, 'colsample_bytree': 0.20426026627980967, 'gamma': 1.7181257668153223e-05, 'lambda': 0.29131163876306454, 'alpha': 0.0010228864953818002, 'eta': 0.0217779644589424, 'n_estimators': 32, 'enable_categorical': True}. Best is trial 43 with value: 0.9274652812468778.\n"
     ]
    },
    {
     "name": "stderr",
     "output_type": "stream",
     "text": [
      "Best trial: 43. Best value: 0.927465:  12%|█████████▍                                                                      | 59/500 [00:24<04:43,  1.55it/s]"
     ]
    },
    {
     "name": "stdout",
     "output_type": "stream",
     "text": [
      "[I 2025-02-03 13:56:47,144] Trial 58 finished with value: 0.9255669897092617 and parameters: {'learning_rate': 0.0023294543681179917, 'max_depth': 31, 'min_child_weight': 5, 'subsample': 0.29895719189821696, 'colsample_bytree': 0.9999352878138597, 'gamma': 0.00032934161938990436, 'lambda': 0.617406637666655, 'alpha': 0.0015484032270890518, 'eta': 3.058589949521622e-06, 'n_estimators': 256, 'enable_categorical': True}. Best is trial 43 with value: 0.9274652812468778.\n"
     ]
    },
    {
     "name": "stderr",
     "output_type": "stream",
     "text": [
      "Best trial: 43. Best value: 0.927465:  12%|█████████▌                                                                      | 60/500 [00:25<05:35,  1.31it/s]"
     ]
    },
    {
     "name": "stdout",
     "output_type": "stream",
     "text": [
      "[I 2025-02-03 13:56:48,238] Trial 59 finished with value: 0.9247677090618444 and parameters: {'learning_rate': 0.12939512335762773, 'max_depth': 23, 'min_child_weight': 10, 'subsample': 0.5511703788651698, 'colsample_bytree': 0.5227091145265583, 'gamma': 4.650680122772945e-07, 'lambda': 0.0050519412618501005, 'alpha': 0.002690906253693237, 'eta': 2.3775412910744284e-07, 'n_estimators': 512, 'enable_categorical': True}. Best is trial 43 with value: 0.9274652812468778.\n"
     ]
    },
    {
     "name": "stderr",
     "output_type": "stream",
     "text": [
      "Best trial: 43. Best value: 0.927465:  12%|█████████▊                                                                      | 61/500 [00:26<04:31,  1.62it/s]"
     ]
    },
    {
     "name": "stdout",
     "output_type": "stream",
     "text": [
      "[I 2025-02-03 13:56:48,470] Trial 60 finished with value: 0.9139774203217105 and parameters: {'learning_rate': 0.26505949720878347, 'max_depth': 29, 'min_child_weight': 17, 'subsample': 0.0921135637172407, 'colsample_bytree': 0.3725111655835472, 'gamma': 1.6731704344270023e-06, 'lambda': 0.06283652182440445, 'alpha': 0.004942822807263351, 'eta': 2.3832360413009305e-08, 'n_estimators': 32, 'enable_categorical': True}. Best is trial 43 with value: 0.9274652812468778.\n"
     ]
    },
    {
     "name": "stderr",
     "output_type": "stream",
     "text": [
      "Best trial: 43. Best value: 0.927465:  12%|█████████▉                                                                      | 62/500 [00:26<03:57,  1.85it/s]"
     ]
    },
    {
     "name": "stdout",
     "output_type": "stream",
     "text": [
      "[I 2025-02-03 13:56:48,817] Trial 61 finished with value: 0.9241682485762813 and parameters: {'learning_rate': 0.450086871444838, 'max_depth': 19, 'min_child_weight': 11, 'subsample': 0.7654436097941879, 'colsample_bytree': 0.7265536832918063, 'gamma': 2.441394749393761e-06, 'lambda': 0.2134059165430757, 'alpha': 0.001957028257242973, 'eta': 1.1042962612244299e-07, 'n_estimators': 5120, 'enable_categorical': True}. Best is trial 43 with value: 0.9274652812468778.\n"
     ]
    },
    {
     "name": "stderr",
     "output_type": "stream",
     "text": [
      "Best trial: 43. Best value: 0.927465:  13%|██████████                                                                      | 63/500 [00:26<03:19,  2.19it/s]"
     ]
    },
    {
     "name": "stdout",
     "output_type": "stream",
     "text": [
      "[I 2025-02-03 13:56:49,061] Trial 62 finished with value: 0.9188730142871415 and parameters: {'learning_rate': 0.8388332361584514, 'max_depth': 17, 'min_child_weight': 19, 'subsample': 0.8078361649596575, 'colsample_bytree': 0.5552288076025341, 'gamma': 2.034736097328097e-05, 'lambda': 0.008122377779659134, 'alpha': 0.003402271878029649, 'eta': 7.341369286193958e-08, 'n_estimators': 1024, 'enable_categorical': True}. Best is trial 43 with value: 0.9274652812468778.\n"
     ]
    },
    {
     "name": "stderr",
     "output_type": "stream",
     "text": [
      "Best trial: 43. Best value: 0.927465:  13%|██████████▏                                                                     | 64/500 [00:27<03:22,  2.16it/s]"
     ]
    },
    {
     "name": "stdout",
     "output_type": "stream",
     "text": [
      "[I 2025-02-03 13:56:49,541] Trial 63 finished with value: 0.9273653711659506 and parameters: {'learning_rate': 0.21540687911405576, 'max_depth': 20, 'min_child_weight': 11, 'subsample': 0.6081049048579588, 'colsample_bytree': 0.7865659715790505, 'gamma': 8.661549343498702e-06, 'lambda': 0.04193752559783223, 'alpha': 0.0422179825743172, 'eta': 6.041726219106993e-07, 'n_estimators': 4096, 'enable_categorical': True}. Best is trial 43 with value: 0.9274652812468778.\n"
     ]
    },
    {
     "name": "stderr",
     "output_type": "stream",
     "text": [
      "Best trial: 64. Best value: 0.928364:  13%|██████████▍                                                                     | 65/500 [00:28<04:41,  1.55it/s]"
     ]
    },
    {
     "name": "stdout",
     "output_type": "stream",
     "text": [
      "[I 2025-02-03 13:56:50,631] Trial 64 finished with value: 0.9283644719752223 and parameters: {'learning_rate': 0.08782846328003914, 'max_depth': 22, 'min_child_weight': 8, 'subsample': 0.5946267212143614, 'colsample_bytree': 0.7530239775020183, 'gamma': 1.0130775499518832e-05, 'lambda': 0.04040112345588441, 'alpha': 0.06713650524708346, 'eta': 5.622163245258818e-07, 'n_estimators': 4096, 'enable_categorical': True}. Best is trial 64 with value: 0.9283644719752223.\n"
     ]
    },
    {
     "name": "stderr",
     "output_type": "stream",
     "text": [
      "Best trial: 64. Best value: 0.928364:  13%|██████████▌                                                                     | 66/500 [00:29<05:27,  1.33it/s]"
     ]
    },
    {
     "name": "stdout",
     "output_type": "stream",
     "text": [
      "[I 2025-02-03 13:56:51,642] Trial 65 finished with value: 0.9270656409231691 and parameters: {'learning_rate': 0.08354351176164448, 'max_depth': 22, 'min_child_weight': 8, 'subsample': 0.4124560779773949, 'colsample_bytree': 0.7693398300527378, 'gamma': 1.1597036170253666e-05, 'lambda': 0.10192868257570965, 'alpha': 0.13918583819256924, 'eta': 1.7108296529451378e-06, 'n_estimators': 4096, 'enable_categorical': True}. Best is trial 64 with value: 0.9283644719752223.\n"
     ]
    },
    {
     "name": "stderr",
     "output_type": "stream",
     "text": [
      "Best trial: 64. Best value: 0.928364:  13%|██████████▋                                                                     | 67/500 [00:30<06:52,  1.05it/s]"
     ]
    },
    {
     "name": "stdout",
     "output_type": "stream",
     "text": [
      "[I 2025-02-03 13:56:53,068] Trial 66 finished with value: 0.9052852432810471 and parameters: {'learning_rate': 0.024026689657604277, 'max_depth': 23, 'min_child_weight': 8, 'subsample': 0.4521555385810619, 'colsample_bytree': 0.2875458684070637, 'gamma': 1.0661556182455189e-05, 'lambda': 0.03786569457070925, 'alpha': 0.16981085135360352, 'eta': 1.5725362211741843e-06, 'n_estimators': 4096, 'enable_categorical': True}. Best is trial 64 with value: 0.9283644719752223.\n"
     ]
    },
    {
     "name": "stderr",
     "output_type": "stream",
     "text": [
      "Best trial: 64. Best value: 0.928364:  14%|██████████▉                                                                     | 68/500 [00:31<07:17,  1.01s/it]"
     ]
    },
    {
     "name": "stdout",
     "output_type": "stream",
     "text": [
      "[I 2025-02-03 13:56:54,218] Trial 67 finished with value: 0.9222699570386652 and parameters: {'learning_rate': 0.07499577274091006, 'max_depth': 20, 'min_child_weight': 8, 'subsample': 0.3265321160607775, 'colsample_bytree': 0.416854432489522, 'gamma': 4.787747487806745e-05, 'lambda': 0.04988189998277531, 'alpha': 0.12705905906139844, 'eta': 5.601683678315046e-06, 'n_estimators': 4096, 'enable_categorical': True}. Best is trial 64 with value: 0.9283644719752223.\n"
     ]
    },
    {
     "name": "stderr",
     "output_type": "stream",
     "text": [
      "Best trial: 64. Best value: 0.928364:  14%|███████████                                                                     | 69/500 [00:33<07:24,  1.03s/it]"
     ]
    },
    {
     "name": "stdout",
     "output_type": "stream",
     "text": [
      "[I 2025-02-03 13:56:55,292] Trial 68 finished with value: 0.9279648316515137 and parameters: {'learning_rate': 0.09498105462197734, 'max_depth': 24, 'min_child_weight': 8, 'subsample': 0.6049215823134643, 'colsample_bytree': 0.8087456465611189, 'gamma': 7.491894585484671e-06, 'lambda': 0.08548606253847384, 'alpha': 0.06452078050374262, 'eta': 9.043309655104667e-07, 'n_estimators': 4096, 'enable_categorical': True}. Best is trial 64 with value: 0.9283644719752223.\n"
     ]
    },
    {
     "name": "stderr",
     "output_type": "stream",
     "text": [
      "Best trial: 69. Best value: 0.928564:  14%|███████████▏                                                                    | 70/500 [00:34<08:51,  1.24s/it]"
     ]
    },
    {
     "name": "stdout",
     "output_type": "stream",
     "text": [
      "[I 2025-02-03 13:56:57,008] Trial 69 finished with value: 0.9285642921370766 and parameters: {'learning_rate': 0.05034799903272651, 'max_depth': 24, 'min_child_weight': 8, 'subsample': 0.5908684431486837, 'colsample_bytree': 0.7864859618042992, 'gamma': 0.00011278533797928357, 'lambda': 0.0745372657486418, 'alpha': 0.06402382191601898, 'eta': 9.75044155631713e-07, 'n_estimators': 4096, 'enable_categorical': True}. Best is trial 69 with value: 0.9285642921370766.\n"
     ]
    },
    {
     "name": "stderr",
     "output_type": "stream",
     "text": [
      "Best trial: 69. Best value: 0.928564:  14%|███████████▎                                                                    | 71/500 [00:36<10:27,  1.46s/it]"
     ]
    },
    {
     "name": "stdout",
     "output_type": "stream",
     "text": [
      "[I 2025-02-03 13:56:59,005] Trial 70 finished with value: 0.9271655510040964 and parameters: {'learning_rate': 0.015866071047687866, 'max_depth': 25, 'min_child_weight': 8, 'subsample': 0.6047829067670335, 'colsample_bytree': 0.8083814642305828, 'gamma': 0.0009604446876894947, 'lambda': 0.08047165766146826, 'alpha': 0.06733031829518549, 'eta': 2.539381232861577e-06, 'n_estimators': 4096, 'enable_categorical': True}. Best is trial 69 with value: 0.9285642921370766.\n"
     ]
    },
    {
     "name": "stderr",
     "output_type": "stream",
     "text": [
      "Best trial: 69. Best value: 0.928564:  14%|███████████▌                                                                    | 72/500 [00:38<10:43,  1.50s/it]"
     ]
    },
    {
     "name": "stdout",
     "output_type": "stream",
     "text": [
      "[I 2025-02-03 13:57:00,605] Trial 71 finished with value: 0.9266660005994605 and parameters: {'learning_rate': 0.015859085011092837, 'max_depth': 25, 'min_child_weight': 8, 'subsample': 0.41208019264012236, 'colsample_bytree': 0.8200510210475559, 'gamma': 0.005114610256713828, 'lambda': 0.08411471623829726, 'alpha': 0.07523350206907752, 'eta': 6.040419119817913e-07, 'n_estimators': 4096, 'enable_categorical': True}. Best is trial 69 with value: 0.9285642921370766.\n"
     ]
    },
    {
     "name": "stderr",
     "output_type": "stream",
     "text": [
      "Best trial: 69. Best value: 0.928564:  15%|███████████▋                                                                    | 73/500 [00:40<11:34,  1.63s/it]"
     ]
    },
    {
     "name": "stdout",
     "output_type": "stream",
     "text": [
      "[I 2025-02-03 13:57:02,518] Trial 72 finished with value: 0.9260665401138974 and parameters: {'learning_rate': 0.047193229528675135, 'max_depth': 25, 'min_child_weight': 8, 'subsample': 0.5837408685346955, 'colsample_bytree': 0.6079651145202483, 'gamma': 0.0006430710419384377, 'lambda': 0.07065702335280162, 'alpha': 0.04574596712756173, 'eta': 2.82537134742007e-06, 'n_estimators': 4096, 'enable_categorical': True}. Best is trial 69 with value: 0.9285642921370766.\n"
     ]
    },
    {
     "name": "stderr",
     "output_type": "stream",
     "text": [
      "Best trial: 69. Best value: 0.928564:  15%|███████████▊                                                                    | 74/500 [00:41<11:16,  1.59s/it]"
     ]
    },
    {
     "name": "stdout",
     "output_type": "stream",
     "text": [
      "[I 2025-02-03 13:57:04,016] Trial 73 finished with value: 0.9264661804376062 and parameters: {'learning_rate': 0.008271960330168816, 'max_depth': 22, 'min_child_weight': 8, 'subsample': 0.5828048171823358, 'colsample_bytree': 0.8323967486297271, 'gamma': 0.03509999468870606, 'lambda': 0.13937765413534642, 'alpha': 0.15406282850781128, 'eta': 1.0602262143583037e-06, 'n_estimators': 4096, 'enable_categorical': True}. Best is trial 69 with value: 0.9285642921370766.\n"
     ]
    },
    {
     "name": "stderr",
     "output_type": "stream",
     "text": [
      "Best trial: 69. Best value: 0.928564:  15%|████████████                                                                    | 75/500 [00:43<11:45,  1.66s/it]"
     ]
    },
    {
     "name": "stdout",
     "output_type": "stream",
     "text": [
      "[I 2025-02-03 13:57:05,844] Trial 74 finished with value: 0.9192726546108503 and parameters: {'learning_rate': 0.018654550271006626, 'max_depth': 23, 'min_child_weight': 8, 'subsample': 0.4050856903062094, 'colsample_bytree': 0.5044319881606613, 'gamma': 0.00164523808836512, 'lambda': 0.029020812372839364, 'alpha': 0.05938879150979449, 'eta': 5.429365204895896e-07, 'n_estimators': 4096, 'enable_categorical': True}. Best is trial 69 with value: 0.9285642921370766.\n"
     ]
    },
    {
     "name": "stderr",
     "output_type": "stream",
     "text": [
      "Best trial: 69. Best value: 0.928564:  15%|████████████▏                                                                   | 76/500 [00:44<10:33,  1.49s/it]"
     ]
    },
    {
     "name": "stdout",
     "output_type": "stream",
     "text": [
      "[I 2025-02-03 13:57:06,948] Trial 75 finished with value: 0.9041862323908483 and parameters: {'learning_rate': 0.01201783249847825, 'max_depth': 24, 'min_child_weight': 8, 'subsample': 0.24062925361308274, 'colsample_bytree': 0.3658572839619614, 'gamma': 8.853484575200806e-05, 'lambda': 0.05573297109394175, 'alpha': 0.21490480643945398, 'eta': 2.3957414124035753e-06, 'n_estimators': 4096, 'enable_categorical': True}. Best is trial 69 with value: 0.9285642921370766.\n"
     ]
    },
    {
     "name": "stderr",
     "output_type": "stream",
     "text": [
      "Best trial: 69. Best value: 0.928564:  15%|████████████▎                                                                   | 77/500 [00:46<10:54,  1.55s/it]"
     ]
    },
    {
     "name": "stdout",
     "output_type": "stream",
     "text": [
      "[I 2025-02-03 13:57:08,618] Trial 76 finished with value: 0.9282645618942952 and parameters: {'learning_rate': 0.06130309962269647, 'max_depth': 27, 'min_child_weight': 8, 'subsample': 0.6294999660560211, 'colsample_bytree': 0.7888715905198942, 'gamma': 0.00015467534933091546, 'lambda': 0.03582319798400961, 'alpha': 0.10361430482977153, 'eta': 5.698283090840922e-06, 'n_estimators': 4096, 'enable_categorical': True}. Best is trial 69 with value: 0.9285642921370766.\n"
     ]
    },
    {
     "name": "stderr",
     "output_type": "stream",
     "text": [
      "Best trial: 69. Best value: 0.928564:  16%|████████████▍                                                                   | 78/500 [00:47<09:21,  1.33s/it]"
     ]
    },
    {
     "name": "stdout",
     "output_type": "stream",
     "text": [
      "[I 2025-02-03 13:57:09,447] Trial 77 finished with value: 0.9005894694774703 and parameters: {'learning_rate': 0.03847380563788889, 'max_depth': 27, 'min_child_weight': 8, 'subsample': 0.15439742837866063, 'colsample_bytree': 0.23846129251042938, 'gamma': 0.00019362864258885707, 'lambda': 0.09326800655685558, 'alpha': 0.10480825172867766, 'eta': 5.780064056586151e-06, 'n_estimators': 4096, 'enable_categorical': True}. Best is trial 69 with value: 0.9285642921370766.\n"
     ]
    },
    {
     "name": "stderr",
     "output_type": "stream",
     "text": [
      "Best trial: 78. Best value: 0.929164:  16%|████████████▋                                                                   | 79/500 [00:47<08:00,  1.14s/it]"
     ]
    },
    {
     "name": "stdout",
     "output_type": "stream",
     "text": [
      "[I 2025-02-03 13:57:10,141] Trial 78 finished with value: 0.9291637526226396 and parameters: {'learning_rate': 0.0844245970463865, 'max_depth': 27, 'min_child_weight': 8, 'subsample': 0.3233695565163843, 'colsample_bytree': 0.9960125596790321, 'gamma': 0.0007850130934720882, 'lambda': 0.04571215341247694, 'alpha': 0.41398962183109206, 'eta': 6.832502007294971e-07, 'n_estimators': 4096, 'enable_categorical': True}. Best is trial 78 with value: 0.9291637526226396.\n"
     ]
    },
    {
     "name": "stderr",
     "output_type": "stream",
     "text": [
      "Best trial: 78. Best value: 0.929164:  16%|████████████▊                                                                   | 80/500 [00:48<07:41,  1.10s/it]"
     ]
    },
    {
     "name": "stdout",
     "output_type": "stream",
     "text": [
      "[I 2025-02-03 13:57:11,144] Trial 79 finished with value: 0.9253671695474074 and parameters: {'learning_rate': 0.05464757693447337, 'max_depth': 27, 'min_child_weight': 8, 'subsample': 0.32737057012790743, 'colsample_bytree': 0.582651479461682, 'gamma': 0.0010645529421772798, 'lambda': 0.03511035602058045, 'alpha': 0.43729491385841723, 'eta': 1.4212341016072443e-05, 'n_estimators': 4096, 'enable_categorical': True}. Best is trial 78 with value: 0.9291637526226396.\n"
     ]
    },
    {
     "name": "stderr",
     "output_type": "stream",
     "text": [
      "Best trial: 78. Best value: 0.929164:  16%|████████████▉                                                                   | 81/500 [00:50<08:01,  1.15s/it]"
     ]
    },
    {
     "name": "stdout",
     "output_type": "stream",
     "text": [
      "[I 2025-02-03 13:57:12,411] Trial 80 finished with value: 0.9286642022180038 and parameters: {'learning_rate': 0.06155942598410192, 'max_depth': 26, 'min_child_weight': 8, 'subsample': 0.4815905339408585, 'colsample_bytree': 0.9990607403118886, 'gamma': 0.00032297211781404664, 'lambda': 0.046911076894307804, 'alpha': 0.03699039856364739, 'eta': 8.688640612337446e-07, 'n_estimators': 4096, 'enable_categorical': True}. Best is trial 78 with value: 0.9291637526226396.\n"
     ]
    },
    {
     "name": "stderr",
     "output_type": "stream",
     "text": [
      "Best trial: 78. Best value: 0.929164:  16%|█████████████                                                                   | 82/500 [00:51<08:44,  1.26s/it]"
     ]
    },
    {
     "name": "stdout",
     "output_type": "stream",
     "text": [
      "[I 2025-02-03 13:57:13,913] Trial 81 finished with value: 0.9290638425417125 and parameters: {'learning_rate': 0.06192920000422324, 'max_depth': 25, 'min_child_weight': 8, 'subsample': 0.6350379193019886, 'colsample_bytree': 0.9436217237801056, 'gamma': 0.0004467836557332791, 'lambda': 0.04839335335562141, 'alpha': 0.04165538331816358, 'eta': 9.902353837373525e-07, 'n_estimators': 4096, 'enable_categorical': True}. Best is trial 78 with value: 0.9291637526226396.\n"
     ]
    },
    {
     "name": "stderr",
     "output_type": "stream",
     "text": [
      "Best trial: 78. Best value: 0.929164:  17%|█████████████▎                                                                  | 83/500 [00:53<09:00,  1.30s/it]"
     ]
    },
    {
     "name": "stdout",
     "output_type": "stream",
     "text": [
      "[I 2025-02-03 13:57:15,303] Trial 82 finished with value: 0.9290638425417125 and parameters: {'learning_rate': 0.06082208916427591, 'max_depth': 26, 'min_child_weight': 8, 'subsample': 0.5003854607374086, 'colsample_bytree': 0.9997635029104884, 'gamma': 0.00035067372558381045, 'lambda': 0.04643280516742662, 'alpha': 0.042616748874001846, 'eta': 7.980925330138152e-07, 'n_estimators': 4096, 'enable_categorical': True}. Best is trial 78 with value: 0.9291637526226396.\n"
     ]
    },
    {
     "name": "stderr",
     "output_type": "stream",
     "text": [
      "Best trial: 78. Best value: 0.929164:  17%|█████████████▍                                                                  | 84/500 [00:54<08:49,  1.27s/it]"
     ]
    },
    {
     "name": "stdout",
     "output_type": "stream",
     "text": [
      "[I 2025-02-03 13:57:16,523] Trial 83 finished with value: 0.9283644719752223 and parameters: {'learning_rate': 0.06255094166875522, 'max_depth': 26, 'min_child_weight': 8, 'subsample': 0.5173267707271786, 'colsample_bytree': 0.9851977285961543, 'gamma': 0.00029291730131167647, 'lambda': 0.021243463501829575, 'alpha': 0.024237031274851436, 'eta': 1.0859795414625078e-06, 'n_estimators': 4096, 'enable_categorical': True}. Best is trial 78 with value: 0.9291637526226396.\n"
     ]
    },
    {
     "name": "stderr",
     "output_type": "stream",
     "text": [
      "Best trial: 84. Best value: 0.929264:  17%|█████████████▌                                                                  | 85/500 [00:55<09:02,  1.31s/it]"
     ]
    },
    {
     "name": "stdout",
     "output_type": "stream",
     "text": [
      "[I 2025-02-03 13:57:17,907] Trial 84 finished with value: 0.9292636627035668 and parameters: {'learning_rate': 0.06175239705190918, 'max_depth': 26, 'min_child_weight': 8, 'subsample': 0.5175132891029417, 'colsample_bytree': 0.9612490818951802, 'gamma': 0.0003667378727629211, 'lambda': 0.047042251101385386, 'alpha': 0.02338444399937205, 'eta': 9.589285591691743e-07, 'n_estimators': 4096, 'enable_categorical': True}. Best is trial 84 with value: 0.9292636627035668.\n"
     ]
    },
    {
     "name": "stderr",
     "output_type": "stream",
     "text": [
      "Best trial: 84. Best value: 0.929264:  17%|█████████████▊                                                                  | 86/500 [00:57<09:38,  1.40s/it]"
     ]
    },
    {
     "name": "stdout",
     "output_type": "stream",
     "text": [
      "[I 2025-02-03 13:57:19,514] Trial 85 finished with value: 0.9264661804376062 and parameters: {'learning_rate': 0.06397866890610054, 'max_depth': 26, 'min_child_weight': 8, 'subsample': 0.48634715834728554, 'colsample_bytree': 0.6073603124855511, 'gamma': 0.0003269892776986978, 'lambda': 0.02077280793168864, 'alpha': 0.0217885408114076, 'eta': 1.1085294294485452e-06, 'n_estimators': 4096, 'enable_categorical': True}. Best is trial 84 with value: 0.9292636627035668.\n"
     ]
    },
    {
     "name": "stderr",
     "output_type": "stream",
     "text": [
      "Best trial: 84. Best value: 0.929264:  17%|█████████████▉                                                                  | 87/500 [00:58<09:44,  1.41s/it]"
     ]
    },
    {
     "name": "stdout",
     "output_type": "stream",
     "text": [
      "[I 2025-02-03 13:57:20,972] Trial 86 finished with value: 0.9282645618942952 and parameters: {'learning_rate': 0.02823880879975091, 'max_depth': 27, 'min_child_weight': 8, 'subsample': 0.3545558114939152, 'colsample_bytree': 0.9520746439212764, 'gamma': 0.00015489349459855907, 'lambda': 0.024142285134949378, 'alpha': 0.02869094555106293, 'eta': 4.216277871881165e-06, 'n_estimators': 4096, 'enable_categorical': True}. Best is trial 84 with value: 0.9292636627035668.\n"
     ]
    },
    {
     "name": "stderr",
     "output_type": "stream",
     "text": [
      "Best trial: 84. Best value: 0.929264:  18%|██████████████                                                                  | 88/500 [00:59<09:13,  1.34s/it]"
     ]
    },
    {
     "name": "stdout",
     "output_type": "stream",
     "text": [
      "[I 2025-02-03 13:57:22,145] Trial 87 finished with value: 0.9258667199520432 and parameters: {'learning_rate': 0.06181704250798354, 'max_depth': 29, 'min_child_weight': 8, 'subsample': 0.2822872191207729, 'colsample_bytree': 0.6604117926242967, 'gamma': 0.0031360503812184973, 'lambda': 0.05083952537818698, 'alpha': 0.03500533323388354, 'eta': 4.5289517610813896e-07, 'n_estimators': 4096, 'enable_categorical': True}. Best is trial 84 with value: 0.9292636627035668.\n"
     ]
    },
    {
     "name": "stderr",
     "output_type": "stream",
     "text": [
      "Best trial: 84. Best value: 0.929264:  18%|██████████████▏                                                                 | 89/500 [01:00<07:43,  1.13s/it]"
     ]
    },
    {
     "name": "stdout",
     "output_type": "stream",
     "text": [
      "[I 2025-02-03 13:57:22,773] Trial 88 finished with value: 0.9216704965531022 and parameters: {'learning_rate': 0.046007839962189774, 'max_depth': 26, 'min_child_weight': 18, 'subsample': 0.4766686495205126, 'colsample_bytree': 0.49548795049409206, 'gamma': 0.0005021491081404794, 'lambda': 0.03079905973148093, 'alpha': 1.6459521776182948, 'eta': 8.31492937064746e-06, 'n_estimators': 64, 'enable_categorical': True}. Best is trial 84 with value: 0.9292636627035668.\n"
     ]
    },
    {
     "name": "stderr",
     "output_type": "stream",
     "text": [
      "Best trial: 84. Best value: 0.929264:  18%|██████████████▍                                                                 | 90/500 [01:00<05:55,  1.15it/s]"
     ]
    },
    {
     "name": "stdout",
     "output_type": "stream",
     "text": [
      "[I 2025-02-03 13:57:23,032] Trial 89 finished with value: 0.779098811070037 and parameters: {'learning_rate': 0.035024660965857476, 'max_depth': 28, 'min_child_weight': 16, 'subsample': 0.06103118151812449, 'colsample_bytree': 0.02554427882465268, 'gamma': 0.0002977799657977507, 'lambda': 0.04714291077230989, 'alpha': 0.0245196466195843, 'eta': 1.298909137998402e-06, 'n_estimators': 4096, 'enable_categorical': True}. Best is trial 84 with value: 0.9292636627035668.\n"
     ]
    },
    {
     "name": "stderr",
     "output_type": "stream",
     "text": [
      "Best trial: 84. Best value: 0.929264:  18%|██████████████▌                                                                 | 91/500 [01:01<05:49,  1.17it/s]"
     ]
    },
    {
     "name": "stdout",
     "output_type": "stream",
     "text": [
      "[I 2025-02-03 13:57:23,853] Trial 90 finished with value: 0.9246677989809172 and parameters: {'learning_rate': 0.08659193388124481, 'max_depth': 26, 'min_child_weight': 9, 'subsample': 0.20705816699728857, 'colsample_bytree': 0.6436976151060716, 'gamma': 0.0007309435549791801, 'lambda': 0.06532494829877813, 'alpha': 0.015672887866456844, 'eta': 3.6234310218841384e-05, 'n_estimators': 4096, 'enable_categorical': True}. Best is trial 84 with value: 0.9292636627035668.\n"
     ]
    },
    {
     "name": "stderr",
     "output_type": "stream",
     "text": [
      "Best trial: 84. Best value: 0.929264:  18%|██████████████▋                                                                 | 92/500 [01:02<06:52,  1.01s/it]"
     ]
    },
    {
     "name": "stdout",
     "output_type": "stream",
     "text": [
      "[I 2025-02-03 13:57:25,229] Trial 91 finished with value: 0.9281646518133679 and parameters: {'learning_rate': 0.03067622585824323, 'max_depth': 27, 'min_child_weight': 8, 'subsample': 0.34560095755158554, 'colsample_bytree': 0.9973031852320446, 'gamma': 0.00019915513552515185, 'lambda': 0.026126530923486314, 'alpha': 0.027706964387390134, 'eta': 5.522107599494121e-06, 'n_estimators': 4096, 'enable_categorical': True}. Best is trial 84 with value: 0.9292636627035668.\n"
     ]
    },
    {
     "name": "stderr",
     "output_type": "stream",
     "text": [
      "Best trial: 84. Best value: 0.929264:  19%|██████████████▉                                                                 | 93/500 [01:04<08:10,  1.21s/it]"
     ]
    },
    {
     "name": "stdout",
     "output_type": "stream",
     "text": [
      "[I 2025-02-03 13:57:26,891] Trial 92 finished with value: 0.9281646518133679 and parameters: {'learning_rate': 0.023944240090798194, 'max_depth': 25, 'min_child_weight': 8, 'subsample': 0.5179019929731273, 'colsample_bytree': 0.8955066968618843, 'gamma': 0.00011240734136682937, 'lambda': 0.022505890248461217, 'alpha': 0.08806294492798662, 'eta': 3.6605330730780257e-06, 'n_estimators': 4096, 'enable_categorical': True}. Best is trial 84 with value: 0.9292636627035668.\n"
     ]
    },
    {
     "name": "stderr",
     "output_type": "stream",
     "text": [
      "Best trial: 84. Best value: 0.929264:  19%|███████████████                                                                 | 94/500 [01:05<08:19,  1.23s/it]"
     ]
    },
    {
     "name": "stdout",
     "output_type": "stream",
     "text": [
      "[I 2025-02-03 13:57:28,180] Trial 93 finished with value: 0.9277650114896593 and parameters: {'learning_rate': 0.057322280365363625, 'max_depth': 27, 'min_child_weight': 8, 'subsample': 0.384944977096639, 'colsample_bytree': 0.880791642752941, 'gamma': 0.0001326846810920816, 'lambda': 0.011770828795655731, 'alpha': 0.04331346845025825, 'eta': 8.14410643640151e-05, 'n_estimators': 2048, 'enable_categorical': True}. Best is trial 84 with value: 0.9292636627035668.\n"
     ]
    },
    {
     "name": "stderr",
     "output_type": "stream",
     "text": [
      "Best trial: 84. Best value: 0.929264:  19%|███████████████▏                                                                | 95/500 [01:07<08:54,  1.32s/it]"
     ]
    },
    {
     "name": "stdout",
     "output_type": "stream",
     "text": [
      "[I 2025-02-03 13:57:29,707] Trial 94 finished with value: 0.9243680687381357 and parameters: {'learning_rate': 0.04921725852477918, 'max_depth': 29, 'min_child_weight': 13, 'subsample': 0.6848839593826793, 'colsample_bytree': 0.5607646470908676, 'gamma': 0.001233689937578323, 'lambda': 0.03428751244789953, 'alpha': 0.05225825963720446, 'eta': 6.323751915579657e-07, 'n_estimators': 1536, 'enable_categorical': True}. Best is trial 84 with value: 0.9292636627035668.\n"
     ]
    },
    {
     "name": "stderr",
     "output_type": "stream",
     "text": [
      "Best trial: 84. Best value: 0.929264:  19%|███████████████▎                                                                | 96/500 [01:07<07:08,  1.06s/it]"
     ]
    },
    {
     "name": "stdout",
     "output_type": "stream",
     "text": [
      "[I 2025-02-03 13:57:30,166] Trial 95 finished with value: 0.9278649215705864 and parameters: {'learning_rate': 0.10723887168796743, 'max_depth': 28, 'min_child_weight': 6, 'subsample': 0.24635254626076883, 'colsample_bytree': 0.9862829584592973, 'gamma': 6.459584614497501e-05, 'lambda': 9.325504495684333, 'alpha': 0.7293492048100747, 'eta': 2.0172672224630336e-06, 'n_estimators': 4096, 'enable_categorical': True}. Best is trial 84 with value: 0.9292636627035668.\n"
     ]
    },
    {
     "name": "stderr",
     "output_type": "stream",
     "text": [
      "Best trial: 84. Best value: 0.929264:  19%|███████████████▌                                                                | 97/500 [01:10<10:00,  1.49s/it]"
     ]
    },
    {
     "name": "stdout",
     "output_type": "stream",
     "text": [
      "[I 2025-02-03 13:57:32,652] Trial 96 finished with value: 0.9208712159056849 and parameters: {'learning_rate': 0.04247383791192901, 'max_depth': 25, 'min_child_weight': 8, 'subsample': 0.8735190198313495, 'colsample_bytree': 0.4238014392326195, 'gamma': 0.00042951767295255043, 'lambda': 0.01784454590091336, 'alpha': 0.03407914387726675, 'eta': 3.093360029540552e-07, 'n_estimators': 768, 'enable_categorical': True}. Best is trial 84 with value: 0.9292636627035668.\n"
     ]
    },
    {
     "name": "stderr",
     "output_type": "stream",
     "text": [
      "Best trial: 84. Best value: 0.929264:  20%|███████████████▋                                                                | 98/500 [01:11<08:46,  1.31s/it]"
     ]
    },
    {
     "name": "stdout",
     "output_type": "stream",
     "text": [
      "[I 2025-02-03 13:57:33,542] Trial 97 finished with value: 0.9256668997901888 and parameters: {'learning_rate': 0.07966713806172636, 'max_depth': 24, 'min_child_weight': 12, 'subsample': 0.32252128546649994, 'colsample_bytree': 0.7001820964747184, 'gamma': 0.005232971549151239, 'lambda': 0.05750371490484893, 'alpha': 0.10666413250296537, 'eta': 7.494454782928112e-07, 'n_estimators': 4096, 'enable_categorical': True}. Best is trial 84 with value: 0.9292636627035668.\n"
     ]
    },
    {
     "name": "stderr",
     "output_type": "stream",
     "text": [
      "Best trial: 84. Best value: 0.929264:  20%|███████████████▊                                                                | 99/500 [01:12<09:09,  1.37s/it]"
     ]
    },
    {
     "name": "stdout",
     "output_type": "stream",
     "text": [
      "[I 2025-02-03 13:57:35,056] Trial 98 finished with value: 0.9277650114896593 and parameters: {'learning_rate': 0.02551199442450571, 'max_depth': 27, 'min_child_weight': 7, 'subsample': 0.3559243891708971, 'colsample_bytree': 0.8626144167587071, 'gamma': 0.0001663304103220892, 'lambda': 0.04164492960852802, 'alpha': 0.02763967476115145, 'eta': 4.020154309186774e-06, 'n_estimators': 3096, 'enable_categorical': True}. Best is trial 84 with value: 0.9292636627035668.\n"
     ]
    },
    {
     "name": "stderr",
     "output_type": "stream",
     "text": [
      "Best trial: 84. Best value: 0.929264:  20%|███████████████▊                                                               | 100/500 [01:13<07:21,  1.10s/it]"
     ]
    },
    {
     "name": "stdout",
     "output_type": "stream",
     "text": [
      "[I 2025-02-03 13:57:35,536] Trial 99 finished with value: 0.8812069137776002 and parameters: {'learning_rate': 0.13569542182344893, 'max_depth': 30, 'min_child_weight': 8, 'subsample': 0.434295345814277, 'colsample_bytree': 0.012499140283061788, 'gamma': 0.0006888313610590877, 'lambda': 0.03170318206847251, 'alpha': 0.02038310183564517, 'eta': 2.125211250141486e-07, 'n_estimators': 512, 'enable_categorical': True}. Best is trial 84 with value: 0.9292636627035668.\n"
     ]
    },
    {
     "name": "stderr",
     "output_type": "stream",
     "text": [
      "Best trial: 84. Best value: 0.929264:  20%|███████████████▉                                                               | 101/500 [01:14<06:54,  1.04s/it]"
     ]
    },
    {
     "name": "stdout",
     "output_type": "stream",
     "text": [
      "[I 2025-02-03 13:57:36,420] Trial 100 finished with value: 0.9253671695474074 and parameters: {'learning_rate': 0.06755783831280995, 'max_depth': 26, 'min_child_weight': 8, 'subsample': 0.17960438375103555, 'colsample_bytree': 0.671543607409438, 'gamma': 0.00023373097508934477, 'lambda': 0.023600790959414242, 'alpha': 0.07836538657291135, 'eta': 1.3083757491412604e-06, 'n_estimators': 4096, 'enable_categorical': True}. Best is trial 84 with value: 0.9292636627035668.\n"
     ]
    },
    {
     "name": "stderr",
     "output_type": "stream",
     "text": [
      "Best trial: 84. Best value: 0.929264:  20%|████████████████                                                               | 102/500 [01:15<08:15,  1.25s/it]"
     ]
    },
    {
     "name": "stdout",
     "output_type": "stream",
     "text": [
      "[I 2025-02-03 13:57:38,153] Trial 101 finished with value: 0.9282645618942952 and parameters: {'learning_rate': 0.03105461619239814, 'max_depth': 27, 'min_child_weight': 8, 'subsample': 0.5306190307595202, 'colsample_bytree': 0.9797933537707205, 'gamma': 0.0002469345431960322, 'lambda': 0.04643571091320365, 'alpha': 0.029240506830754753, 'eta': 4.873062431009609e-06, 'n_estimators': 4096, 'enable_categorical': True}. Best is trial 84 with value: 0.9292636627035668.\n"
     ]
    },
    {
     "name": "stderr",
     "output_type": "stream",
     "text": [
      "Best trial: 84. Best value: 0.929264:  21%|████████████████▎                                                              | 103/500 [01:17<09:02,  1.37s/it]"
     ]
    },
    {
     "name": "stdout",
     "output_type": "stream",
     "text": [
      "[I 2025-02-03 13:57:39,799] Trial 102 finished with value: 0.9284643820561495 and parameters: {'learning_rate': 0.037856563985374306, 'max_depth': 28, 'min_child_weight': 8, 'subsample': 0.5169423362170196, 'colsample_bytree': 0.9986924136383213, 'gamma': 0.0003990793026779624, 'lambda': 0.06815455460512311, 'alpha': 0.01816981743707657, 'eta': 8.742187767209592e-06, 'n_estimators': 4096, 'enable_categorical': True}. Best is trial 84 with value: 0.9292636627035668.\n"
     ]
    },
    {
     "name": "stderr",
     "output_type": "stream",
     "text": [
      "Best trial: 84. Best value: 0.929264:  21%|████████████████▍                                                              | 104/500 [01:18<07:15,  1.10s/it]"
     ]
    },
    {
     "name": "stdout",
     "output_type": "stream",
     "text": [
      "[I 2025-02-03 13:57:40,276] Trial 103 finished with value: 0.8023778599260666 and parameters: {'learning_rate': 0.04037279933582845, 'max_depth': 29, 'min_child_weight': 8, 'subsample': 0.6606800946550238, 'colsample_bytree': 0.04039195795038722, 'gamma': 0.0017322491144779449, 'lambda': 0.06444124815559184, 'alpha': 0.013475661127231597, 'eta': 4.104536056939311e-07, 'n_estimators': 4096, 'enable_categorical': True}. Best is trial 84 with value: 0.9292636627035668.\n"
     ]
    },
    {
     "name": "stderr",
     "output_type": "stream",
     "text": [
      "Best trial: 84. Best value: 0.929264:  21%|████████████████▌                                                              | 105/500 [01:19<07:50,  1.19s/it]"
     ]
    },
    {
     "name": "stdout",
     "output_type": "stream",
     "text": [
      "[I 2025-02-03 13:57:41,682] Trial 104 finished with value: 0.9278649215705864 and parameters: {'learning_rate': 0.057303505727636324, 'max_depth': 28, 'min_child_weight': 8, 'subsample': 0.4986598632215376, 'colsample_bytree': 0.7416868797451838, 'gamma': 0.0004084812619154248, 'lambda': 0.10822687326166547, 'alpha': 0.03693338763111597, 'eta': 1.849197212725433e-05, 'n_estimators': 1024, 'enable_categorical': True}. Best is trial 84 with value: 0.9292636627035668.\n"
     ]
    },
    {
     "name": "stderr",
     "output_type": "stream",
     "text": [
      "Best trial: 84. Best value: 0.929264:  21%|████████████████▋                                                              | 106/500 [01:21<09:08,  1.39s/it]"
     ]
    },
    {
     "name": "stdout",
     "output_type": "stream",
     "text": [
      "[I 2025-02-03 13:57:43,540] Trial 105 finished with value: 0.923368967928864 and parameters: {'learning_rate': 0.03462336693469474, 'max_depth': 26, 'min_child_weight': 14, 'subsample': 0.8689398922264043, 'colsample_bytree': 0.533458094057997, 'gamma': 8.328489117368855e-05, 'lambda': 0.03722256537437629, 'alpha': 0.05524415013510792, 'eta': 9.226471986958988e-06, 'n_estimators': 4096, 'enable_categorical': True}. Best is trial 84 with value: 0.9292636627035668.\n"
     ]
    },
    {
     "name": "stderr",
     "output_type": "stream",
     "text": [
      "Best trial: 84. Best value: 0.929264:  21%|████████████████▉                                                              | 107/500 [01:22<08:28,  1.29s/it]"
     ]
    },
    {
     "name": "stdout",
     "output_type": "stream",
     "text": [
      "[I 2025-02-03 13:57:44,611] Trial 106 finished with value: 0.9285642921370766 and parameters: {'learning_rate': 0.07390413304271479, 'max_depth': 24, 'min_child_weight': 15, 'subsample': 0.6919396228065945, 'colsample_bytree': 0.8508424181697035, 'gamma': 4.070100961274813e-05, 'lambda': 0.07509061959461565, 'alpha': 0.01653749795587182, 'eta': 2.238967277116151e-06, 'n_estimators': 4096, 'enable_categorical': True}. Best is trial 84 with value: 0.9292636627035668.\n"
     ]
    },
    {
     "name": "stderr",
     "output_type": "stream",
     "text": [
      "Best trial: 84. Best value: 0.929264:  22%|█████████████████                                                              | 108/500 [01:23<07:52,  1.21s/it]"
     ]
    },
    {
     "name": "stdout",
     "output_type": "stream",
     "text": [
      "[I 2025-02-03 13:57:45,605] Trial 107 finished with value: 0.9248676191427715 and parameters: {'learning_rate': 0.10623425866582192, 'max_depth': 25, 'min_child_weight': 15, 'subsample': 0.4435257797722958, 'colsample_bytree': 0.46209433188875215, 'gamma': 3.4565355746993745e-05, 'lambda': 0.07159650133597152, 'alpha': 0.01824306724923152, 'eta': 8.034382832258711e-07, 'n_estimators': 4096, 'enable_categorical': True}. Best is trial 84 with value: 0.9292636627035668.\n"
     ]
    },
    {
     "name": "stderr",
     "output_type": "stream",
     "text": [
      "Best trial: 84. Best value: 0.929264:  22%|█████████████████▏                                                             | 109/500 [01:24<07:34,  1.16s/it]"
     ]
    },
    {
     "name": "stdout",
     "output_type": "stream",
     "text": [
      "[I 2025-02-03 13:57:46,667] Trial 108 finished with value: 0.9261664501948247 and parameters: {'learning_rate': 0.09104845373004924, 'max_depth': 24, 'min_child_weight': 15, 'subsample': 0.6910777237309775, 'colsample_bytree': 0.6640525015911907, 'gamma': 5.543699760747047e-05, 'lambda': 0.1334199711930042, 'alpha': 0.015352632472382409, 'eta': 2.605843412732497e-06, 'n_estimators': 4096, 'enable_categorical': True}. Best is trial 84 with value: 0.9292636627035668.\n"
     ]
    },
    {
     "name": "stderr",
     "output_type": "stream",
     "text": [
      "Best trial: 84. Best value: 0.929264:  22%|█████████████████▍                                                             | 110/500 [01:25<07:10,  1.10s/it]"
     ]
    },
    {
     "name": "stdout",
     "output_type": "stream",
     "text": [
      "[I 2025-02-03 13:57:47,634] Trial 109 finished with value: 0.9280647417324408 and parameters: {'learning_rate': 0.07378541517274369, 'max_depth': 23, 'min_child_weight': 15, 'subsample': 0.6544388290038996, 'colsample_bytree': 0.8506086380836547, 'gamma': 0.0005369430869005998, 'lambda': 0.05511743258135906, 'alpha': 0.04125600497419326, 'eta': 1.7756719957450971e-06, 'n_estimators': 64, 'enable_categorical': True}. Best is trial 84 with value: 0.9292636627035668.\n"
     ]
    },
    {
     "name": "stderr",
     "output_type": "stream",
     "text": [
      "Best trial: 84. Best value: 0.929264:  22%|█████████████████▌                                                             | 111/500 [01:26<07:55,  1.22s/it]"
     ]
    },
    {
     "name": "stdout",
     "output_type": "stream",
     "text": [
      "[I 2025-02-03 13:57:49,135] Trial 110 finished with value: 0.9274652812468778 and parameters: {'learning_rate': 0.04655593544500573, 'max_depth': 28, 'min_child_weight': 17, 'subsample': 0.8352748871488909, 'colsample_bytree': 0.7641482996583215, 'gamma': 0.0009201986567570473, 'lambda': 0.07961053500883063, 'alpha': 0.012372222945705629, 'eta': 1.3074102002528107e-06, 'n_estimators': 4096, 'enable_categorical': True}. Best is trial 84 with value: 0.9292636627035668.\n"
     ]
    },
    {
     "name": "stderr",
     "output_type": "stream",
     "text": [
      "Best trial: 84. Best value: 0.929264:  22%|█████████████████▋                                                             | 112/500 [01:27<07:40,  1.19s/it]"
     ]
    },
    {
     "name": "stdout",
     "output_type": "stream",
     "text": [
      "[I 2025-02-03 13:57:50,236] Trial 111 finished with value: 0.9290638425417125 and parameters: {'learning_rate': 0.06197131198623783, 'max_depth': 26, 'min_child_weight': 8, 'subsample': 0.3733544073896104, 'colsample_bytree': 0.9088986642118678, 'gamma': 0.0001298940141271479, 'lambda': 0.028233565743458373, 'alpha': 0.04883980400411483, 'eta': 8.343722167342846e-07, 'n_estimators': 4096, 'enable_categorical': True}. Best is trial 84 with value: 0.9292636627035668.\n"
     ]
    },
    {
     "name": "stderr",
     "output_type": "stream",
     "text": [
      "Best trial: 84. Best value: 0.929264:  23%|█████████████████▊                                                             | 113/500 [01:29<07:51,  1.22s/it]"
     ]
    },
    {
     "name": "stdout",
     "output_type": "stream",
     "text": [
      "[I 2025-02-03 13:57:51,526] Trial 112 finished with value: 0.928764112298931 and parameters: {'learning_rate': 0.0631075884021376, 'max_depth': 25, 'min_child_weight': 10, 'subsample': 0.5815840524508028, 'colsample_bytree': 0.8368115590340247, 'gamma': 0.00027016218599726144, 'lambda': 0.2010070870961135, 'alpha': 0.0187579149501118, 'eta': 4.5087452478002635e-07, 'n_estimators': 4096, 'enable_categorical': True}. Best is trial 84 with value: 0.9292636627035668.\n"
     ]
    },
    {
     "name": "stderr",
     "output_type": "stream",
     "text": [
      "Best trial: 84. Best value: 0.929264:  23%|██████████████████▏                                                            | 115/500 [01:30<05:23,  1.19it/s]"
     ]
    },
    {
     "name": "stdout",
     "output_type": "stream",
     "text": [
      "[I 2025-02-03 13:57:52,412] Trial 113 finished with value: 0.9279648316515137 and parameters: {'learning_rate': 0.0740196050448075, 'max_depth': 25, 'min_child_weight': 18, 'subsample': 0.5362902022686149, 'colsample_bytree': 0.8772445211287474, 'gamma': 0.00010711391741483596, 'lambda': 0.1966711737720671, 'alpha': 0.019206377469657213, 'eta': 2.8829260602029086e-07, 'n_estimators': 4096, 'enable_categorical': True}. Best is trial 84 with value: 0.9292636627035668.\n",
      "[I 2025-02-03 13:57:52,607] Trial 114 finished with value: 0.8809071835348187 and parameters: {'learning_rate': 0.12650238244176978, 'max_depth': 23, 'min_child_weight': 10, 'subsample': 0.018558402626690965, 'colsample_bytree': 0.005263911977383352, 'gamma': 0.0002970556151078678, 'lambda': 0.14788169916708965, 'alpha': 0.024683712208780458, 'eta': 4.997663962447761e-07, 'n_estimators': 4096, 'enable_categorical': True}. Best is trial 84 with value: 0.9292636627035668.\n"
     ]
    },
    {
     "name": "stderr",
     "output_type": "stream",
     "text": [
      "Best trial: 84. Best value: 0.929264:  23%|██████████████████▎                                                            | 116/500 [01:30<04:47,  1.34it/s]"
     ]
    },
    {
     "name": "stdout",
     "output_type": "stream",
     "text": [
      "[I 2025-02-03 13:57:53,141] Trial 115 finished with value: 0.9220701368768108 and parameters: {'learning_rate': 0.052617643866717, 'max_depth': 24, 'min_child_weight': 13, 'subsample': 0.40710720329269073, 'colsample_bytree': 0.5744170118340144, 'gamma': 0.0014769525448758963, 'lambda': 0.41333362548256, 'alpha': 3.8051462797663587, 'eta': 7.701199594059487e-07, 'n_estimators': 4096, 'enable_categorical': True}. Best is trial 84 with value: 0.9292636627035668.\n"
     ]
    },
    {
     "name": "stderr",
     "output_type": "stream",
     "text": [
      "Best trial: 84. Best value: 0.929264:  23%|██████████████████▍                                                            | 117/500 [01:32<06:54,  1.08s/it]"
     ]
    },
    {
     "name": "stdout",
     "output_type": "stream",
     "text": [
      "[I 2025-02-03 13:57:54,998] Trial 116 finished with value: 0.9272654610850235 and parameters: {'learning_rate': 0.06629312126310137, 'max_depth': 26, 'min_child_weight': 10, 'subsample': 0.9950753425624718, 'colsample_bytree': 0.6918783224779276, 'gamma': 0.002106289546368993, 'lambda': 0.04510465092694022, 'alpha': 0.05022422533112433, 'eta': 2.023861191180681e-07, 'n_estimators': 2048, 'enable_categorical': True}. Best is trial 84 with value: 0.9292636627035668.\n"
     ]
    },
    {
     "name": "stderr",
     "output_type": "stream",
     "text": [
      "Best trial: 84. Best value: 0.929264:  24%|██████████████████▋                                                            | 118/500 [01:33<06:06,  1.04it/s]"
     ]
    },
    {
     "name": "stdout",
     "output_type": "stream",
     "text": [
      "[I 2025-02-03 13:57:55,674] Trial 117 finished with value: 0.9281646518133679 and parameters: {'learning_rate': 0.08385615245937376, 'max_depth': 25, 'min_child_weight': 10, 'subsample': 0.2844257598317933, 'colsample_bytree': 0.9977318615732889, 'gamma': 0.0004051966793796367, 'lambda': 0.2336459474181239, 'alpha': 0.009621932857865485, 'eta': 4.001330068216039e-07, 'n_estimators': 1536, 'enable_categorical': True}. Best is trial 84 with value: 0.9292636627035668.\n"
     ]
    },
    {
     "name": "stderr",
     "output_type": "stream",
     "text": [
      "Best trial: 84. Best value: 0.929264:  24%|██████████████████▊                                                            | 119/500 [01:34<06:19,  1.00it/s]"
     ]
    },
    {
     "name": "stdout",
     "output_type": "stream",
     "text": [
      "[I 2025-02-03 13:57:56,757] Trial 118 finished with value: 0.9259666300329703 and parameters: {'learning_rate': 0.09871906860371883, 'max_depth': 26, 'min_child_weight': 9, 'subsample': 0.520398910937553, 'colsample_bytree': 0.5987644993874267, 'gamma': 0.0037077402300163785, 'lambda': 0.16223525890700183, 'alpha': 0.03607960387112726, 'eta': 9.945713143718133e-07, 'n_estimators': 4096, 'enable_categorical': True}. Best is trial 84 with value: 0.9292636627035668.\n"
     ]
    },
    {
     "name": "stderr",
     "output_type": "stream",
     "text": [
      "Best trial: 84. Best value: 0.929264:  24%|██████████████████▉                                                            | 120/500 [01:35<05:43,  1.11it/s]"
     ]
    },
    {
     "name": "stdout",
     "output_type": "stream",
     "text": [
      "[I 2025-02-03 13:57:57,444] Trial 119 finished with value: 0.9271655510040964 and parameters: {'learning_rate': 0.15389467693078945, 'max_depth': 25, 'min_child_weight': 8, 'subsample': 0.7113156506905348, 'colsample_bytree': 0.8500273047134825, 'gamma': 0.0007523597193569764, 'lambda': 0.09868910860866996, 'alpha': 0.06714583029541221, 'eta': 1.9843511779981477e-06, 'n_estimators': 768, 'enable_categorical': True}. Best is trial 84 with value: 0.9292636627035668.\n"
     ]
    },
    {
     "name": "stderr",
     "output_type": "stream",
     "text": [
      "Best trial: 84. Best value: 0.929264:  24%|███████████████████                                                            | 121/500 [01:36<06:18,  1.00it/s]"
     ]
    },
    {
     "name": "stdout",
     "output_type": "stream",
     "text": [
      "[I 2025-02-03 13:57:58,667] Trial 120 finished with value: 0.9216704965531022 and parameters: {'learning_rate': 0.038120442625992526, 'max_depth': 22, 'min_child_weight': 16, 'subsample': 0.45572702048179287, 'colsample_bytree': 0.5150354054077841, 'gamma': 4.2849193880099904e-05, 'lambda': 0.028846958833960386, 'alpha': 0.014218748886848195, 'eta': 6.702775606343423e-07, 'n_estimators': 3096, 'enable_categorical': True}. Best is trial 84 with value: 0.9292636627035668.\n"
     ]
    },
    {
     "name": "stderr",
     "output_type": "stream",
     "text": [
      "Best trial: 84. Best value: 0.929264:  24%|███████████████████▎                                                           | 122/500 [01:38<07:25,  1.18s/it]"
     ]
    },
    {
     "name": "stdout",
     "output_type": "stream",
     "text": [
      "[I 2025-02-03 13:58:00,264] Trial 121 finished with value: 0.928764112298931 and parameters: {'learning_rate': 0.055722578172106116, 'max_depth': 26, 'min_child_weight': 8, 'subsample': 0.5834610180215765, 'colsample_bytree': 0.7809940530214544, 'gamma': 0.00013516944211508272, 'lambda': 0.03637311144403326, 'alpha': 0.08702498373955657, 'eta': 1.4110380739935712e-06, 'n_estimators': 4096, 'enable_categorical': True}. Best is trial 84 with value: 0.9292636627035668.\n"
     ]
    },
    {
     "name": "stderr",
     "output_type": "stream",
     "text": [
      "Best trial: 84. Best value: 0.929264:  25%|███████████████████▍                                                           | 123/500 [01:39<08:14,  1.31s/it]"
     ]
    },
    {
     "name": "stdout",
     "output_type": "stream",
     "text": [
      "[I 2025-02-03 13:58:01,888] Trial 122 finished with value: 0.9282645618942952 and parameters: {'learning_rate': 0.05279113137840138, 'max_depth': 26, 'min_child_weight': 8, 'subsample': 0.5768873626394806, 'colsample_bytree': 0.7547797275731283, 'gamma': 7.121364317656328e-05, 'lambda': 0.07406259483399785, 'alpha': 0.06051790304599224, 'eta': 1.4376409945967115e-06, 'n_estimators': 4096, 'enable_categorical': True}. Best is trial 84 with value: 0.9292636627035668.\n"
     ]
    },
    {
     "name": "stderr",
     "output_type": "stream",
     "text": [
      "Best trial: 84. Best value: 0.929264:  25%|███████████████████▌                                                           | 124/500 [01:41<09:26,  1.51s/it]"
     ]
    },
    {
     "name": "stdout",
     "output_type": "stream",
     "text": [
      "[I 2025-02-03 13:58:03,851] Trial 123 finished with value: 0.9282645618942952 and parameters: {'learning_rate': 0.04255202088777663, 'max_depth': 24, 'min_child_weight': 8, 'subsample': 0.7941681944448225, 'colsample_bytree': 0.8815959405024516, 'gamma': 0.00023056337675882063, 'lambda': 0.06206394837316349, 'alpha': 0.07810521177410978, 'eta': 9.435465615214606e-07, 'n_estimators': 4096, 'enable_categorical': True}. Best is trial 84 with value: 0.9292636627035668.\n"
     ]
    },
    {
     "name": "stderr",
     "output_type": "stream",
     "text": [
      "Best trial: 84. Best value: 0.929264:  25%|███████████████████▊                                                           | 125/500 [01:43<09:25,  1.51s/it]"
     ]
    },
    {
     "name": "stdout",
     "output_type": "stream",
     "text": [
      "[I 2025-02-03 13:58:05,363] Trial 124 finished with value: 0.9271655510040964 and parameters: {'learning_rate': 0.061480091163755156, 'max_depth': 28, 'min_child_weight': 8, 'subsample': 0.4789216202661465, 'colsample_bytree': 0.6281489394885659, 'gamma': 0.00010425403463239531, 'lambda': 0.018908290892776826, 'alpha': 0.022798965812328886, 'eta': 4.728452159219669e-07, 'n_estimators': 4096, 'enable_categorical': True}. Best is trial 84 with value: 0.9292636627035668.\n"
     ]
    },
    {
     "name": "stderr",
     "output_type": "stream",
     "text": [
      "Best trial: 84. Best value: 0.929264:  25%|███████████████████▉                                                           | 126/500 [01:44<08:48,  1.41s/it]"
     ]
    },
    {
     "name": "stdout",
     "output_type": "stream",
     "text": [
      "[I 2025-02-03 13:58:06,552] Trial 125 finished with value: 0.9282645618942952 and parameters: {'learning_rate': 0.07507575223709284, 'max_depth': 23, 'min_child_weight': 6, 'subsample': 0.39919288059873903, 'colsample_bytree': 0.7472819350041995, 'gamma': 0.00033847381812449127, 'lambda': 0.04177535546079445, 'alpha': 0.04468002772950797, 'eta': 1.5577974022046713e-07, 'n_estimators': 4096, 'enable_categorical': True}. Best is trial 84 with value: 0.9292636627035668.\n"
     ]
    },
    {
     "name": "stderr",
     "output_type": "stream",
     "text": [
      "Best trial: 84. Best value: 0.929264:  25%|████████████████████                                                           | 127/500 [01:46<09:19,  1.50s/it]"
     ]
    },
    {
     "name": "stdout",
     "output_type": "stream",
     "text": [
      "[I 2025-02-03 13:58:08,255] Trial 126 finished with value: 0.9289639324607853 and parameters: {'learning_rate': 0.04621496195008343, 'max_depth': 27, 'min_child_weight': 8, 'subsample': 0.5803408710645497, 'colsample_bytree': 0.8641280726757762, 'gamma': 0.0005672859841957722, 'lambda': 0.05405604974673307, 'alpha': 0.032595325705733785, 'eta': 2.4877220527051057e-06, 'n_estimators': 4096, 'enable_categorical': True}. Best is trial 84 with value: 0.9292636627035668.\n"
     ]
    },
    {
     "name": "stderr",
     "output_type": "stream",
     "text": [
      "Best trial: 84. Best value: 0.929264:  26%|████████████████████▏                                                          | 128/500 [01:47<09:37,  1.55s/it]"
     ]
    },
    {
     "name": "stdout",
     "output_type": "stream",
     "text": [
      "[I 2025-02-03 13:58:09,926] Trial 127 finished with value: 0.9271655510040964 and parameters: {'learning_rate': 0.04889602461067037, 'max_depth': 28, 'min_child_weight': 8, 'subsample': 0.5909857423002987, 'colsample_bytree': 0.6628162777022709, 'gamma': 0.000521802007558566, 'lambda': 0.1189646478215841, 'alpha': 0.09267234676130143, 'eta': 2.4132432202232166e-06, 'n_estimators': 512, 'enable_categorical': True}. Best is trial 84 with value: 0.9292636627035668.\n"
     ]
    },
    {
     "name": "stderr",
     "output_type": "stream",
     "text": [
      "Best trial: 84. Best value: 0.929264:  26%|████████████████████▍                                                          | 129/500 [01:49<09:44,  1.57s/it]"
     ]
    },
    {
     "name": "stdout",
     "output_type": "stream",
     "text": [
      "[I 2025-02-03 13:58:11,554] Trial 128 finished with value: 0.9240683384953542 and parameters: {'learning_rate': 0.11294427636502319, 'max_depth': 27, 'min_child_weight': 7, 'subsample': 0.7174342978990855, 'colsample_bytree': 0.4596274184121494, 'gamma': 0.00013484443694148566, 'lambda': 0.04957010931489996, 'alpha': 0.18836196727725868, 'eta': 3.4526231941009835e-06, 'n_estimators': 256, 'enable_categorical': True}. Best is trial 84 with value: 0.9292636627035668.\n"
     ]
    },
    {
     "name": "stderr",
     "output_type": "stream",
     "text": [
      "Best trial: 84. Best value: 0.929264:  26%|████████████████████▋                                                          | 131/500 [01:49<05:34,  1.10it/s]"
     ]
    },
    {
     "name": "stdout",
     "output_type": "stream",
     "text": [
      "[I 2025-02-03 13:58:11,960] Trial 129 finished with value: 0.8691177939854131 and parameters: {'learning_rate': 0.08729270813428282, 'max_depth': 24, 'min_child_weight': 12, 'subsample': 0.3325218649811583, 'colsample_bytree': 0.06847470530184756, 'gamma': 0.0011941911189571426, 'lambda': 0.05414216626805551, 'alpha': 0.12551118058228855, 'eta': 2.931788909453256e-07, 'n_estimators': 4096, 'enable_categorical': True}. Best is trial 84 with value: 0.9292636627035668.\n",
      "[I 2025-02-03 13:58:12,130] Trial 130 finished with value: 0.8845039464481966 and parameters: {'learning_rate': 0.03512889716974509, 'max_depth': 31, 'min_child_weight': 15, 'subsample': 0.004681576862849835, 'colsample_bytree': 0.39066846118902526, 'gamma': 0.0007183438614516334, 'lambda': 0.09739039942351979, 'alpha': 0.03915443859375805, 'eta': 0.0002879339395107419, 'n_estimators': 4096, 'enable_categorical': True}. Best is trial 84 with value: 0.9292636627035668.\n"
     ]
    },
    {
     "name": "stderr",
     "output_type": "stream",
     "text": [
      "Best trial: 84. Best value: 0.929264:  26%|████████████████████▊                                                          | 132/500 [01:51<06:39,  1.09s/it]"
     ]
    },
    {
     "name": "stdout",
     "output_type": "stream",
     "text": [
      "[I 2025-02-03 13:58:13,631] Trial 131 finished with value: 0.9283644719752223 and parameters: {'learning_rate': 0.05774901207692441, 'max_depth': 25, 'min_child_weight': 8, 'subsample': 0.6576182289678691, 'colsample_bytree': 0.9977052455983956, 'gamma': 0.00021987016060846822, 'lambda': 0.03415102574188627, 'alpha': 0.017344140900311996, 'eta': 1.3249546527543e-06, 'n_estimators': 4096, 'enable_categorical': True}. Best is trial 84 with value: 0.9292636627035668.\n"
     ]
    },
    {
     "name": "stderr",
     "output_type": "stream",
     "text": [
      "Best trial: 84. Best value: 0.929264:  27%|█████████████████████                                                          | 133/500 [01:52<06:55,  1.13s/it]"
     ]
    },
    {
     "name": "stdout",
     "output_type": "stream",
     "text": [
      "[I 2025-02-03 13:58:14,871] Trial 132 finished with value: 0.9277650114896593 and parameters: {'learning_rate': 0.06655678653639233, 'max_depth': 26, 'min_child_weight': 8, 'subsample': 0.502116228471176, 'colsample_bytree': 0.8090724354245696, 'gamma': 0.0003726889630006951, 'lambda': 0.04153315084168007, 'alpha': 0.03314394205044481, 'eta': 7.074451091473262e-07, 'n_estimators': 4096, 'enable_categorical': True}. Best is trial 84 with value: 0.9292636627035668.\n"
     ]
    },
    {
     "name": "stderr",
     "output_type": "stream",
     "text": [
      "Best trial: 84. Best value: 0.929264:  27%|█████████████████████▏                                                         | 134/500 [01:53<07:19,  1.20s/it]"
     ]
    },
    {
     "name": "stdout",
     "output_type": "stream",
     "text": [
      "[I 2025-02-03 13:58:16,235] Trial 133 finished with value: 0.9289639324607853 and parameters: {'learning_rate': 0.04541485884305389, 'max_depth': 25, 'min_child_weight': 8, 'subsample': 0.3879596447425247, 'colsample_bytree': 0.8837591406116668, 'gamma': 0.0002509988936594426, 'lambda': 0.02783234445160428, 'alpha': 0.025576669868556487, 'eta': 1.7782987865931302e-06, 'n_estimators': 4096, 'enable_categorical': True}. Best is trial 84 with value: 0.9292636627035668.\n"
     ]
    },
    {
     "name": "stderr",
     "output_type": "stream",
     "text": [
      "Best trial: 84. Best value: 0.929264:  27%|█████████████████████▎                                                         | 135/500 [01:55<07:37,  1.25s/it]"
     ]
    },
    {
     "name": "stdout",
     "output_type": "stream",
     "text": [
      "[I 2025-02-03 13:58:17,613] Trial 134 finished with value: 0.9283644719752223 and parameters: {'learning_rate': 0.044435081725359246, 'max_depth': 27, 'min_child_weight': 8, 'subsample': 0.40181070599387547, 'colsample_bytree': 0.8711347563457876, 'gamma': 2.709524841634481e-05, 'lambda': 0.027954141985846018, 'alpha': 0.05344134899366717, 'eta': 1.9723570346879912e-06, 'n_estimators': 4096, 'enable_categorical': True}. Best is trial 84 with value: 0.9292636627035668.\n"
     ]
    },
    {
     "name": "stderr",
     "output_type": "stream",
     "text": [
      "Best trial: 84. Best value: 0.929264:  27%|█████████████████████▍                                                         | 136/500 [01:56<07:07,  1.18s/it]"
     ]
    },
    {
     "name": "stdout",
     "output_type": "stream",
     "text": [
      "[I 2025-02-03 13:58:18,605] Trial 135 finished with value: 0.926965730842242 and parameters: {'learning_rate': 0.05121438742761274, 'max_depth': 25, 'min_child_weight': 10, 'subsample': 0.24919082128291925, 'colsample_bytree': 0.7291432800734566, 'gamma': 0.0001605082343328032, 'lambda': 0.058932683418752185, 'alpha': 0.028142196343468148, 'eta': 5.096015229931382e-07, 'n_estimators': 4096, 'enable_categorical': True}. Best is trial 84 with value: 0.9292636627035668.\n"
     ]
    },
    {
     "name": "stderr",
     "output_type": "stream",
     "text": [
      "Best trial: 84. Best value: 0.929264:  27%|█████████████████████▋                                                         | 137/500 [01:57<07:12,  1.19s/it]"
     ]
    },
    {
     "name": "stdout",
     "output_type": "stream",
     "text": [
      "[I 2025-02-03 13:58:19,836] Trial 136 finished with value: 0.9236686981716455 and parameters: {'learning_rate': 0.03948606448550083, 'max_depth': 25, 'min_child_weight': 20, 'subsample': 0.5795097195155616, 'colsample_bytree': 0.5605678064077244, 'gamma': 0.0005746235485649539, 'lambda': 0.07211578635593842, 'alpha': 0.018920500158584767, 'eta': 2.5896363994644893e-06, 'n_estimators': 1024, 'enable_categorical': True}. Best is trial 84 with value: 0.9292636627035668.\n"
     ]
    },
    {
     "name": "stderr",
     "output_type": "stream",
     "text": [
      "Best trial: 84. Best value: 0.929264:  28%|█████████████████████▊                                                         | 138/500 [01:58<06:32,  1.08s/it]"
     ]
    },
    {
     "name": "stdout",
     "output_type": "stream",
     "text": [
      "[I 2025-02-03 13:58:20,666] Trial 137 finished with value: 0.9276651014087322 and parameters: {'learning_rate': 0.07383237175798861, 'max_depth': 29, 'min_child_weight': 8, 'subsample': 0.2983701711463034, 'colsample_bytree': 0.8426369075274632, 'gamma': 7.936228802728001e-05, 'lambda': 0.035960755712127396, 'alpha': 0.04852242961943051, 'eta': 1.4030787259039817e-06, 'n_estimators': 5120, 'enable_categorical': True}. Best is trial 84 with value: 0.9292636627035668.\n"
     ]
    },
    {
     "name": "stderr",
     "output_type": "stream",
     "text": [
      "Best trial: 84. Best value: 0.929264:  28%|█████████████████████▉                                                         | 139/500 [01:59<07:22,  1.23s/it]"
     ]
    },
    {
     "name": "stdout",
     "output_type": "stream",
     "text": [
      "[I 2025-02-03 13:58:22,225] Trial 138 finished with value: 0.9210710360675393 and parameters: {'learning_rate': 0.0011427383898041025, 'max_depth': 27, 'min_child_weight': 8, 'subsample': 0.3672130332146586, 'colsample_bytree': 0.673862110945552, 'gamma': 0.000843264766399755, 'lambda': 0.04902913313481793, 'alpha': 0.05965488081486186, 'eta': 8.972558488180435e-07, 'n_estimators': 4096, 'enable_categorical': True}. Best is trial 84 with value: 0.9292636627035668.\n"
     ]
    },
    {
     "name": "stderr",
     "output_type": "stream",
     "text": [
      "Best trial: 84. Best value: 0.929264:  28%|██████████████████████                                                         | 140/500 [02:01<07:52,  1.31s/it]"
     ]
    },
    {
     "name": "stdout",
     "output_type": "stream",
     "text": [
      "[I 2025-02-03 13:58:23,741] Trial 139 finished with value: 0.9285642921370766 and parameters: {'learning_rate': 0.0548835195838781, 'max_depth': 23, 'min_child_weight': 14, 'subsample': 0.8567676748247598, 'colsample_bytree': 0.9969133527803832, 'gamma': 5.544174759130931e-05, 'lambda': 0.030184685248507086, 'alpha': 0.03802700830640182, 'eta': 3.091403629570679e-07, 'n_estimators': 4096, 'enable_categorical': True}. Best is trial 84 with value: 0.9292636627035668.\n"
     ]
    },
    {
     "name": "stderr",
     "output_type": "stream",
     "text": [
      "Best trial: 84. Best value: 0.929264:  28%|██████████████████████▎                                                        | 141/500 [02:03<08:16,  1.38s/it]"
     ]
    },
    {
     "name": "stdout",
     "output_type": "stream",
     "text": [
      "[I 2025-02-03 13:58:25,287] Trial 140 finished with value: 0.9282645618942952 and parameters: {'learning_rate': 0.053477689978874525, 'max_depth': 26, 'min_child_weight': 14, 'subsample': 0.8173158853850658, 'colsample_bytree': 0.9006917304605407, 'gamma': 5.396984374390382e-05, 'lambda': 0.027858115335658327, 'alpha': 0.007098635443059546, 'eta': 0.04155471392311512, 'n_estimators': 4096, 'enable_categorical': True}. Best is trial 84 with value: 0.9292636627035668.\n"
     ]
    },
    {
     "name": "stderr",
     "output_type": "stream",
     "text": [
      "Best trial: 84. Best value: 0.929264:  28%|██████████████████████▍                                                        | 142/500 [02:04<08:20,  1.40s/it]"
     ]
    },
    {
     "name": "stdout",
     "output_type": "stream",
     "text": [
      "[I 2025-02-03 13:58:26,723] Trial 141 finished with value: 0.9282645618942952 and parameters: {'learning_rate': 0.0455932266254105, 'max_depth': 24, 'min_child_weight': 14, 'subsample': 0.6483784906966302, 'colsample_bytree': 0.8160996821790929, 'gamma': 1.552558021493561e-05, 'lambda': 0.04262884030870848, 'alpha': 0.032605512538563045, 'eta': 3.275925550610603e-07, 'n_estimators': 4096, 'enable_categorical': True}. Best is trial 84 with value: 0.9292636627035668.\n"
     ]
    },
    {
     "name": "stderr",
     "output_type": "stream",
     "text": [
      "Best trial: 84. Best value: 0.929264:  29%|██████████████████████▌                                                        | 143/500 [02:07<11:11,  1.88s/it]"
     ]
    },
    {
     "name": "stdout",
     "output_type": "stream",
     "text": [
      "[I 2025-02-03 13:58:29,728] Trial 142 finished with value: 0.9264661804376062 and parameters: {'learning_rate': 0.028214215806769714, 'max_depth': 23, 'min_child_weight': 5, 'subsample': 0.8717524895027671, 'colsample_bytree': 0.7432839645008169, 'gamma': 3.495356257618234e-05, 'lambda': 0.033026337177672074, 'alpha': 0.04346597625343267, 'eta': 5.896993501308481e-07, 'n_estimators': 4096, 'enable_categorical': True}. Best is trial 84 with value: 0.9292636627035668.\n"
     ]
    },
    {
     "name": "stderr",
     "output_type": "stream",
     "text": [
      "Best trial: 84. Best value: 0.929264:  29%|██████████████████████▊                                                        | 144/500 [02:08<09:03,  1.53s/it]"
     ]
    },
    {
     "name": "stdout",
     "output_type": "stream",
     "text": [
      "[I 2025-02-03 13:58:30,432] Trial 143 finished with value: 0.9288640223798581 and parameters: {'learning_rate': 0.09540272228479864, 'max_depth': 24, 'min_child_weight': 14, 'subsample': 0.45098723877621105, 'colsample_bytree': 0.9966303059922277, 'gamma': 0.00010132871005371243, 'lambda': 0.0870477092003778, 'alpha': 0.02574773683276231, 'eta': 3.63853620261724e-07, 'n_estimators': 4096, 'enable_categorical': True}. Best is trial 84 with value: 0.9292636627035668.\n"
     ]
    },
    {
     "name": "stderr",
     "output_type": "stream",
     "text": [
      "Best trial: 84. Best value: 0.929264:  29%|██████████████████████▉                                                        | 145/500 [02:09<08:05,  1.37s/it]"
     ]
    },
    {
     "name": "stdout",
     "output_type": "stream",
     "text": [
      "[I 2025-02-03 13:58:31,424] Trial 144 finished with value: 0.9281646518133679 and parameters: {'learning_rate': 0.06189847699856404, 'max_depth': 24, 'min_child_weight': 17, 'subsample': 0.4625531872535348, 'colsample_bytree': 0.9294776073626613, 'gamma': 0.00022802897146243244, 'lambda': 0.06398359131755083, 'alpha': 0.023470169909508693, 'eta': 1.1220392918847908e-07, 'n_estimators': 4096, 'enable_categorical': True}. Best is trial 84 with value: 0.9292636627035668.\n"
     ]
    },
    {
     "name": "stderr",
     "output_type": "stream",
     "text": [
      "Best trial: 84. Best value: 0.929264:  29%|███████████████████████                                                        | 146/500 [02:10<07:23,  1.25s/it]"
     ]
    },
    {
     "name": "stdout",
     "output_type": "stream",
     "text": [
      "[I 2025-02-03 13:58:32,408] Trial 145 finished with value: 0.9285642921370766 and parameters: {'learning_rate': 0.07585789053921008, 'max_depth': 25, 'min_child_weight': 14, 'subsample': 0.7591784376592632, 'colsample_bytree': 0.973180312621449, 'gamma': 0.00010038826141453012, 'lambda': 0.08428669098376045, 'alpha': 0.02793164796640352, 'eta': 3.846068714743615e-07, 'n_estimators': 4096, 'enable_categorical': True}. Best is trial 84 with value: 0.9292636627035668.\n"
     ]
    },
    {
     "name": "stderr",
     "output_type": "stream",
     "text": [
      "Best trial: 84. Best value: 0.929264:  29%|███████████████████████▏                                                       | 147/500 [02:11<07:46,  1.32s/it]"
     ]
    },
    {
     "name": "stdout",
     "output_type": "stream",
     "text": [
      "[I 2025-02-03 13:58:33,891] Trial 146 finished with value: 0.9274652812468778 and parameters: {'learning_rate': 0.0773970491908143, 'max_depth': 25, 'min_child_weight': 14, 'subsample': 0.9185354637353282, 'colsample_bytree': 0.6319016727536205, 'gamma': 0.00011414636735294413, 'lambda': 0.12130602286619746, 'alpha': 0.030166029270182634, 'eta': 1.9606739424260943e-07, 'n_estimators': 64, 'enable_categorical': True}. Best is trial 84 with value: 0.9292636627035668.\n"
     ]
    },
    {
     "name": "stderr",
     "output_type": "stream",
     "text": [
      "Best trial: 84. Best value: 0.929264:  30%|███████████████████████▌                                                       | 149/500 [02:12<05:04,  1.15it/s]"
     ]
    },
    {
     "name": "stdout",
     "output_type": "stream",
     "text": [
      "[I 2025-02-03 13:58:34,735] Trial 147 finished with value: 0.9285642921370766 and parameters: {'learning_rate': 0.09648649457179331, 'max_depth': 23, 'min_child_weight': 14, 'subsample': 0.748684322577597, 'colsample_bytree': 0.995208144590922, 'gamma': 8.697826160515299e-05, 'lambda': 0.08707202936386484, 'alpha': 0.037221916735549164, 'eta': 3.7664450844289697e-07, 'n_estimators': 4096, 'enable_categorical': True}. Best is trial 84 with value: 0.9292636627035668.\n",
      "[I 2025-02-03 13:58:34,878] Trial 148 finished with value: 0.8591267858926965 and parameters: {'learning_rate': 0.0692747694931923, 'max_depth': 26, 'min_child_weight': 14, 'subsample': 0.00262950726993083, 'colsample_bytree': 0.8186526940612177, 'gamma': 0.00017813556907117037, 'lambda': 0.055586018068688445, 'alpha': 0.02687587904426922, 'eta': 8.003688270034982e-08, 'n_estimators': 128, 'enable_categorical': True}. Best is trial 84 with value: 0.9292636627035668.\n"
     ]
    },
    {
     "name": "stderr",
     "output_type": "stream",
     "text": [
      "Best trial: 84. Best value: 0.929264:  30%|███████████████████████▋                                                       | 150/500 [02:13<04:49,  1.21it/s]"
     ]
    },
    {
     "name": "stdout",
     "output_type": "stream",
     "text": [
      "[I 2025-02-03 13:58:35,612] Trial 149 finished with value: 0.9260665401138974 and parameters: {'learning_rate': 0.11154818321489682, 'max_depth': 24, 'min_child_weight': 14, 'subsample': 0.4274625818931524, 'colsample_bytree': 0.5805832449351293, 'gamma': 5.5863385682879605e-05, 'lambda': 0.016358834204490524, 'alpha': 0.3521151376018562, 'eta': 2.1460712016890834e-07, 'n_estimators': 4096, 'enable_categorical': True}. Best is trial 84 with value: 0.9292636627035668.\n"
     ]
    },
    {
     "name": "stderr",
     "output_type": "stream",
     "text": [
      "Best trial: 84. Best value: 0.929264:  30%|███████████████████████▊                                                       | 151/500 [02:13<03:46,  1.54it/s]"
     ]
    },
    {
     "name": "stdout",
     "output_type": "stream",
     "text": [
      "[I 2025-02-03 13:58:35,848] Trial 150 finished with value: 0.900989109801179 and parameters: {'learning_rate': 0.054016953724884915, 'max_depth': 25, 'min_child_weight': 10, 'subsample': 0.010694788514806042, 'colsample_bytree': 0.6884144336103826, 'gamma': 0.00013658413533631993, 'lambda': 0.02390077974384507, 'alpha': 0.03888117887437235, 'eta': 8.936942983881202e-07, 'n_estimators': 4096, 'enable_categorical': True}. Best is trial 84 with value: 0.9292636627035668.\n"
     ]
    },
    {
     "name": "stderr",
     "output_type": "stream",
     "text": [
      "Best trial: 84. Best value: 0.929264:  30%|████████████████████████                                                       | 152/500 [02:14<04:14,  1.37it/s]"
     ]
    },
    {
     "name": "stdout",
     "output_type": "stream",
     "text": [
      "[I 2025-02-03 13:58:36,768] Trial 151 finished with value: 0.9280647417324408 and parameters: {'learning_rate': 0.09340265648047166, 'max_depth': 23, 'min_child_weight': 14, 'subsample': 0.7386029906684891, 'colsample_bytree': 0.891369275721441, 'gamma': 8.47938260343311e-05, 'lambda': 0.08877928904819621, 'alpha': 0.020583052730257026, 'eta': 3.362798191922199e-07, 'n_estimators': 4096, 'enable_categorical': True}. Best is trial 84 with value: 0.9292636627035668.\n"
     ]
    },
    {
     "name": "stderr",
     "output_type": "stream",
     "text": [
      "Best trial: 84. Best value: 0.929264:  31%|████████████████████████▏                                                      | 153/500 [02:15<04:39,  1.24it/s]"
     ]
    },
    {
     "name": "stdout",
     "output_type": "stream",
     "text": [
      "[I 2025-02-03 13:58:37,750] Trial 152 finished with value: 0.9286642022180038 and parameters: {'learning_rate': 0.08113792387667138, 'max_depth': 23, 'min_child_weight': 14, 'subsample': 0.7865768183582024, 'colsample_bytree': 0.9835422461489921, 'gamma': 0.00010278560859060966, 'lambda': 0.07961984889374697, 'alpha': 0.03413533429697742, 'eta': 3.923916176830914e-07, 'n_estimators': 4096, 'enable_categorical': True}. Best is trial 84 with value: 0.9292636627035668.\n"
     ]
    },
    {
     "name": "stderr",
     "output_type": "stream",
     "text": [
      "Best trial: 84. Best value: 0.929264:  31%|████████████████████████▎                                                      | 154/500 [02:16<04:55,  1.17it/s]"
     ]
    },
    {
     "name": "stdout",
     "output_type": "stream",
     "text": [
      "[I 2025-02-03 13:58:38,713] Trial 153 finished with value: 0.927565191327805 and parameters: {'learning_rate': 0.07882167204750416, 'max_depth': 26, 'min_child_weight': 14, 'subsample': 0.6389749512180711, 'colsample_bytree': 0.7809115265137959, 'gamma': 3.748114718703672e-05, 'lambda': 0.07582409580448969, 'alpha': 0.03152715618328323, 'eta': 2.628640981836457e-07, 'n_estimators': 4096, 'enable_categorical': True}. Best is trial 84 with value: 0.9292636627035668.\n"
     ]
    },
    {
     "name": "stderr",
     "output_type": "stream",
     "text": [
      "Best trial: 84. Best value: 0.929264:  31%|████████████████████████▍                                                      | 155/500 [02:17<05:09,  1.12it/s]"
     ]
    },
    {
     "name": "stdout",
     "output_type": "stream",
     "text": [
      "[I 2025-02-03 13:58:39,710] Trial 154 finished with value: 0.9284643820561495 and parameters: {'learning_rate': 0.06615291322901726, 'max_depth': 21, 'min_child_weight': 14, 'subsample': 0.5605726697429263, 'colsample_bytree': 0.9959946873166924, 'gamma': 0.0002832336276847548, 'lambda': 0.10285736208548177, 'alpha': 0.052704529742140654, 'eta': 0.0006934188173337669, 'n_estimators': 4096, 'enable_categorical': True}. Best is trial 84 with value: 0.9292636627035668.\n"
     ]
    },
    {
     "name": "stderr",
     "output_type": "stream",
     "text": [
      "Best trial: 84. Best value: 0.929264:  31%|████████████████████████▋                                                      | 156/500 [02:18<06:14,  1.09s/it]"
     ]
    },
    {
     "name": "stdout",
     "output_type": "stream",
     "text": [
      "[I 2025-02-03 13:58:41,244] Trial 155 finished with value: 0.9273653711659506 and parameters: {'learning_rate': 0.05978272803378539, 'max_depth': 24, 'min_child_weight': 14, 'subsample': 0.8209564162051147, 'colsample_bytree': 0.7276251512053543, 'gamma': 0.00012805313026771595, 'lambda': 0.04900697467521879, 'alpha': 0.02525121250431282, 'eta': 4.7086871219508034e-07, 'n_estimators': 1536, 'enable_categorical': True}. Best is trial 84 with value: 0.9292636627035668.\n"
     ]
    },
    {
     "name": "stderr",
     "output_type": "stream",
     "text": [
      "Best trial: 84. Best value: 0.929264:  31%|████████████████████████▊                                                      | 157/500 [02:20<07:22,  1.29s/it]"
     ]
    },
    {
     "name": "stdout",
     "output_type": "stream",
     "text": [
      "[I 2025-02-03 13:58:43,002] Trial 156 finished with value: 0.928764112298931 and parameters: {'learning_rate': 0.04721236521914077, 'max_depth': 27, 'min_child_weight': 14, 'subsample': 0.9650736182767329, 'colsample_bytree': 0.8652745646084691, 'gamma': 0.00022141143005001095, 'lambda': 0.06279130501839815, 'alpha': 0.04523488495712257, 'eta': 1.424899204817716e-07, 'n_estimators': 2048, 'enable_categorical': True}. Best is trial 84 with value: 0.9292636627035668.\n"
     ]
    },
    {
     "name": "stderr",
     "output_type": "stream",
     "text": [
      "Best trial: 84. Best value: 0.929264:  32%|████████████████████████▉                                                      | 158/500 [02:21<06:38,  1.17s/it]"
     ]
    },
    {
     "name": "stdout",
     "output_type": "stream",
     "text": [
      "[I 2025-02-03 13:58:43,879] Trial 157 finished with value: 0.8709161754421021 and parameters: {'learning_rate': 0.04407746632950687, 'max_depth': 27, 'min_child_weight': 15, 'subsample': 0.9607912898549886, 'colsample_bytree': 0.11404979248862544, 'gamma': 0.0004888196931886106, 'lambda': 0.03901950568998734, 'alpha': 0.06814700269342104, 'eta': 5.069842836423504e-08, 'n_estimators': 2048, 'enable_categorical': True}. Best is trial 84 with value: 0.9292636627035668.\n"
     ]
    },
    {
     "name": "stderr",
     "output_type": "stream",
     "text": [
      "Best trial: 84. Best value: 0.929264:  32%|█████████████████████████                                                      | 159/500 [02:23<07:23,  1.30s/it]"
     ]
    },
    {
     "name": "stdout",
     "output_type": "stream",
     "text": [
      "[I 2025-02-03 13:58:45,497] Trial 158 finished with value: 0.927565191327805 and parameters: {'learning_rate': 0.04743581143102748, 'max_depth': 26, 'min_child_weight': 18, 'subsample': 0.9799044468617542, 'colsample_bytree': 0.8353698225565397, 'gamma': 0.00022277961213631819, 'lambda': 0.06069099873350901, 'alpha': 0.046548179099196896, 'eta': 1.728412152235636e-06, 'n_estimators': 2048, 'enable_categorical': True}. Best is trial 84 with value: 0.9292636627035668.\n"
     ]
    },
    {
     "name": "stderr",
     "output_type": "stream",
     "text": [
      "Best trial: 84. Best value: 0.929264:  32%|█████████████████████████▎                                                     | 160/500 [02:24<07:31,  1.33s/it]"
     ]
    },
    {
     "name": "stdout",
     "output_type": "stream",
     "text": [
      "[I 2025-02-03 13:58:46,884] Trial 159 finished with value: 0.9273653711659506 and parameters: {'learning_rate': 0.05523943466380576, 'max_depth': 27, 'min_child_weight': 14, 'subsample': 0.6287195118017979, 'colsample_bytree': 0.6480611590225608, 'gamma': 6.140398530036195e-05, 'lambda': 0.029777683702265172, 'alpha': 0.015416131923614254, 'eta': 1.1608587067791929e-07, 'n_estimators': 2048, 'enable_categorical': True}. Best is trial 84 with value: 0.9292636627035668.\n"
     ]
    },
    {
     "name": "stderr",
     "output_type": "stream",
     "text": [
      "Best trial: 84. Best value: 0.929264:  32%|█████████████████████████▍                                                     | 161/500 [02:26<07:34,  1.34s/it]"
     ]
    },
    {
     "name": "stdout",
     "output_type": "stream",
     "text": [
      "[I 2025-02-03 13:58:48,256] Trial 160 finished with value: 0.9243680687381357 and parameters: {'learning_rate': 0.08814214735636934, 'max_depth': 22, 'min_child_weight': 9, 'subsample': 0.49425220003517295, 'colsample_bytree': 0.5074607350008353, 'gamma': 0.00020610088096961577, 'lambda': 0.04898026550912162, 'alpha': 0.03856110954633573, 'eta': 7.533778081238791e-07, 'n_estimators': 2048, 'enable_categorical': True}. Best is trial 84 with value: 0.9292636627035668.\n"
     ]
    },
    {
     "name": "stderr",
     "output_type": "stream",
     "text": [
      "Best trial: 84. Best value: 0.929264:  32%|█████████████████████████▌                                                     | 162/500 [02:27<07:05,  1.26s/it]"
     ]
    },
    {
     "name": "stdout",
     "output_type": "stream",
     "text": [
      "[I 2025-02-03 13:58:49,323] Trial 161 finished with value: 0.9279648316515137 and parameters: {'learning_rate': 0.0772086568968972, 'max_depth': 25, 'min_child_weight': 14, 'subsample': 0.7402949199180626, 'colsample_bytree': 0.8810660982930072, 'gamma': 9.808925196319509e-05, 'lambda': 0.07875937139026289, 'alpha': 0.08111040701689944, 'eta': 1.117727403414294e-06, 'n_estimators': 4096, 'enable_categorical': True}. Best is trial 84 with value: 0.9292636627035668.\n"
     ]
    },
    {
     "name": "stderr",
     "output_type": "stream",
     "text": [
      "Best trial: 84. Best value: 0.929264:  33%|█████████████████████████▊                                                     | 163/500 [02:28<07:03,  1.26s/it]"
     ]
    },
    {
     "name": "stdout",
     "output_type": "stream",
     "text": [
      "[I 2025-02-03 13:58:50,574] Trial 162 finished with value: 0.9282645618942952 and parameters: {'learning_rate': 0.06773330374857045, 'max_depth': 25, 'min_child_weight': 14, 'subsample': 0.8368458468863165, 'colsample_bytree': 0.9954236783323593, 'gamma': 0.000332869064605181, 'lambda': 0.11346743096915765, 'alpha': 0.021724693597129172, 'eta': 4.5231321569262e-07, 'n_estimators': 768, 'enable_categorical': True}. Best is trial 84 with value: 0.9292636627035668.\n"
     ]
    },
    {
     "name": "stderr",
     "output_type": "stream",
     "text": [
      "Best trial: 84. Best value: 0.929264:  33%|█████████████████████████▉                                                     | 164/500 [02:29<07:10,  1.28s/it]"
     ]
    },
    {
     "name": "stdout",
     "output_type": "stream",
     "text": [
      "[I 2025-02-03 13:58:51,909] Trial 163 finished with value: 0.9281646518133679 and parameters: {'learning_rate': 0.050486278453849204, 'max_depth': 24, 'min_child_weight': 14, 'subsample': 0.5561959554651841, 'colsample_bytree': 0.7579571107449485, 'gamma': 0.0001462050183812003, 'lambda': 0.06275832103043114, 'alpha': 0.03131638889143186, 'eta': 6.817436473438496e-07, 'n_estimators': 4096, 'enable_categorical': True}. Best is trial 84 with value: 0.9292636627035668.\n"
     ]
    },
    {
     "name": "stderr",
     "output_type": "stream",
     "text": [
      "Best trial: 84. Best value: 0.929264:  33%|██████████████████████████                                                     | 165/500 [02:30<06:27,  1.16s/it]"
     ]
    },
    {
     "name": "stdout",
     "output_type": "stream",
     "text": [
      "[I 2025-02-03 13:58:52,779] Trial 164 finished with value: 0.9285642921370766 and parameters: {'learning_rate': 0.11479606275771607, 'max_depth': 26, 'min_child_weight': 8, 'subsample': 0.6524722082311143, 'colsample_bytree': 0.8661708698166479, 'gamma': 0.0005032627156384799, 'lambda': 0.09113768150440181, 'alpha': 0.04536718455402971, 'eta': 1.6272247372184284e-07, 'n_estimators': 3096, 'enable_categorical': True}. Best is trial 84 with value: 0.9292636627035668.\n"
     ]
    },
    {
     "name": "stderr",
     "output_type": "stream",
     "text": [
      "Best trial: 84. Best value: 0.929264:  33%|██████████████████████████▏                                                    | 166/500 [02:31<05:18,  1.05it/s]"
     ]
    },
    {
     "name": "stdout",
     "output_type": "stream",
     "text": [
      "[I 2025-02-03 13:58:53,263] Trial 165 finished with value: 0.8544310120891198 and parameters: {'learning_rate': 0.06498680499081605, 'max_depth': 27, 'min_child_weight': 6, 'subsample': 0.7500282474464014, 'colsample_bytree': 0.00192553857340852, 'gamma': 0.0002656342642304154, 'lambda': 0.03429407611799633, 'alpha': 0.011901450675185337, 'eta': 2.4303840566044654e-07, 'n_estimators': 4096, 'enable_categorical': True}. Best is trial 84 with value: 0.9292636627035668.\n"
     ]
    },
    {
     "name": "stderr",
     "output_type": "stream",
     "text": [
      "Best trial: 84. Best value: 0.929264:  33%|██████████████████████████▍                                                    | 167/500 [02:32<05:27,  1.02it/s]"
     ]
    },
    {
     "name": "stdout",
     "output_type": "stream",
     "text": [
      "[I 2025-02-03 13:58:54,309] Trial 166 finished with value: 0.9274652812468778 and parameters: {'learning_rate': 0.05763364044740448, 'max_depth': 23, 'min_child_weight': 16, 'subsample': 0.4328415854413958, 'colsample_bytree': 0.6973337444892371, 'gamma': 4.452370872613742e-05, 'lambda': 0.043305500289862145, 'alpha': 0.034381217659985176, 'eta': 1.2094400211873794e-06, 'n_estimators': 256, 'enable_categorical': True}. Best is trial 84 with value: 0.9292636627035668.\n"
     ]
    },
    {
     "name": "stderr",
     "output_type": "stream",
     "text": [
      "Best trial: 84. Best value: 0.929264:  34%|██████████████████████████▌                                                    | 168/500 [02:33<05:44,  1.04s/it]"
     ]
    },
    {
     "name": "stdout",
     "output_type": "stream",
     "text": [
      "[I 2025-02-03 13:58:55,479] Trial 167 finished with value: 0.927565191327805 and parameters: {'learning_rate': 0.035720391345131886, 'max_depth': 25, 'min_child_weight': 13, 'subsample': 0.3813934303749239, 'colsample_bytree': 0.8712029954693518, 'gamma': 8.152983635789703e-05, 'lambda': 0.05429674507218611, 'alpha': 0.02577629620961156, 'eta': 0.8529161065974226, 'n_estimators': 4096, 'enable_categorical': True}. Best is trial 84 with value: 0.9292636627035668.\n"
     ]
    },
    {
     "name": "stderr",
     "output_type": "stream",
     "text": [
      "Best trial: 84. Best value: 0.929264:  34%|██████████████████████████▋                                                    | 169/500 [02:34<06:21,  1.15s/it]"
     ]
    },
    {
     "name": "stdout",
     "output_type": "stream",
     "text": [
      "[I 2025-02-03 13:58:56,902] Trial 168 finished with value: 0.925766809871116 and parameters: {'learning_rate': 0.0815922269240181, 'max_depth': 26, 'min_child_weight': 8, 'subsample': 0.5544332336058796, 'colsample_bytree': 0.5899263807458212, 'gamma': 0.00016043855103580447, 'lambda': 0.1642850963462415, 'alpha': 0.05669555586527162, 'eta': 4.1432504584377844e-07, 'n_estimators': 4096, 'enable_categorical': True}. Best is trial 84 with value: 0.9292636627035668.\n"
     ]
    },
    {
     "name": "stderr",
     "output_type": "stream",
     "text": [
      "Best trial: 84. Best value: 0.929264:  34%|██████████████████████████▊                                                    | 170/500 [02:35<05:56,  1.08s/it]"
     ]
    },
    {
     "name": "stdout",
     "output_type": "stream",
     "text": [
      "[I 2025-02-03 13:58:57,806] Trial 169 finished with value: 0.927565191327805 and parameters: {'learning_rate': 0.043040454862453906, 'max_depth': 25, 'min_child_weight': 19, 'subsample': 0.6689483747468369, 'colsample_bytree': 0.7756606500876774, 'gamma': 0.0011190741095425873, 'lambda': 0.0702389065001728, 'alpha': 0.6055772424907951, 'eta': 3.3200495680691846e-06, 'n_estimators': 4096, 'enable_categorical': True}. Best is trial 84 with value: 0.9292636627035668.\n"
     ]
    },
    {
     "name": "stderr",
     "output_type": "stream",
     "text": [
      "Best trial: 84. Best value: 0.929264:  34%|███████████████████████████                                                    | 171/500 [02:37<06:52,  1.25s/it]"
     ]
    },
    {
     "name": "stdout",
     "output_type": "stream",
     "text": [
      "[I 2025-02-03 13:58:59,464] Trial 170 finished with value: 0.9279648316515137 and parameters: {'learning_rate': 0.07064663270465942, 'max_depth': 24, 'min_child_weight': 7, 'subsample': 0.9846790456012973, 'colsample_bytree': 0.9909083324830651, 'gamma': 0.00033368988836855273, 'lambda': 0.02057736601699881, 'alpha': 0.020278531313654313, 'eta': 6.334427545404148e-07, 'n_estimators': 512, 'enable_categorical': True}. Best is trial 84 with value: 0.9292636627035668.\n"
     ]
    },
    {
     "name": "stderr",
     "output_type": "stream",
     "text": [
      "Best trial: 84. Best value: 0.929264:  34%|███████████████████████████▏                                                   | 172/500 [02:38<06:11,  1.13s/it]"
     ]
    },
    {
     "name": "stdout",
     "output_type": "stream",
     "text": [
      "[I 2025-02-03 13:59:00,317] Trial 171 finished with value: 0.9286642022180038 and parameters: {'learning_rate': 0.09611713493160888, 'max_depth': 23, 'min_child_weight': 14, 'subsample': 0.7510098772724048, 'colsample_bytree': 0.9981472283811682, 'gamma': 0.00010539313387399353, 'lambda': 0.08868528800812157, 'alpha': 0.03891448066386706, 'eta': 3.6517504274089046e-07, 'n_estimators': 4096, 'enable_categorical': True}. Best is trial 84 with value: 0.9292636627035668.\n"
     ]
    },
    {
     "name": "stderr",
     "output_type": "stream",
     "text": [
      "Best trial: 84. Best value: 0.929264:  35%|███████████████████████████▎                                                   | 173/500 [02:39<06:03,  1.11s/it]"
     ]
    },
    {
     "name": "stdout",
     "output_type": "stream",
     "text": [
      "[I 2025-02-03 13:59:01,379] Trial 172 finished with value: 0.9278649215705864 and parameters: {'learning_rate': 0.08513577390749032, 'max_depth': 24, 'min_child_weight': 14, 'subsample': 0.7876600773765863, 'colsample_bytree': 0.8752433602953748, 'gamma': 0.00011626347798496402, 'lambda': 0.12545801015831126, 'alpha': 0.04160021670247935, 'eta': 1.4092354141229334e-07, 'n_estimators': 4096, 'enable_categorical': True}. Best is trial 84 with value: 0.9292636627035668.\n"
     ]
    },
    {
     "name": "stderr",
     "output_type": "stream",
     "text": [
      "Best trial: 84. Best value: 0.929264:  35%|███████████████████████████▍                                                   | 174/500 [02:39<05:27,  1.01s/it]"
     ]
    },
    {
     "name": "stdout",
     "output_type": "stream",
     "text": [
      "[I 2025-02-03 13:59:02,135] Trial 173 finished with value: 0.9278649215705864 and parameters: {'learning_rate': 0.1034162455063258, 'max_depth': 22, 'min_child_weight': 14, 'subsample': 0.46235559244098046, 'colsample_bytree': 0.7737143726221647, 'gamma': 7.164783899367767e-05, 'lambda': 0.08332001550556127, 'alpha': 0.026788549442226462, 'eta': 2.576489144271069e-07, 'n_estimators': 4096, 'enable_categorical': True}. Best is trial 84 with value: 0.9292636627035668.\n"
     ]
    },
    {
     "name": "stderr",
     "output_type": "stream",
     "text": [
      "Best trial: 84. Best value: 0.929264:  35%|███████████████████████████▋                                                   | 175/500 [02:40<05:23,  1.00it/s]"
     ]
    },
    {
     "name": "stdout",
     "output_type": "stream",
     "text": [
      "[I 2025-02-03 13:59:03,113] Trial 174 finished with value: 0.9260665401138974 and parameters: {'learning_rate': 0.1294933655145635, 'max_depth': 23, 'min_child_weight': 14, 'subsample': 0.8698042669461125, 'colsample_bytree': 0.661801869878746, 'gamma': 0.00020193249931945372, 'lambda': 0.10006489412494543, 'alpha': 0.03413901584915445, 'eta': 1.6765869968019943e-06, 'n_estimators': 4096, 'enable_categorical': True}. Best is trial 84 with value: 0.9292636627035668.\n"
     ]
    },
    {
     "name": "stderr",
     "output_type": "stream",
     "text": [
      "Best trial: 84. Best value: 0.929264:  35%|███████████████████████████▊                                                   | 176/500 [02:42<06:02,  1.12s/it]"
     ]
    },
    {
     "name": "stdout",
     "output_type": "stream",
     "text": [
      "[I 2025-02-03 13:59:04,516] Trial 175 finished with value: 0.9286642022180038 and parameters: {'learning_rate': 0.05903782855242218, 'max_depth': 26, 'min_child_weight': 8, 'subsample': 0.5946524324903508, 'colsample_bytree': 0.9959597614609366, 'gamma': 0.0006376467195047339, 'lambda': 0.07019236513517121, 'alpha': 0.05355220400166675, 'eta': 3.5355230906450124e-07, 'n_estimators': 1024, 'enable_categorical': True}. Best is trial 84 with value: 0.9292636627035668.\n"
     ]
    },
    {
     "name": "stderr",
     "output_type": "stream",
     "text": [
      "Best trial: 84. Best value: 0.929264:  35%|███████████████████████████▉                                                   | 177/500 [02:43<06:54,  1.28s/it]"
     ]
    },
    {
     "name": "stdout",
     "output_type": "stream",
     "text": [
      "[I 2025-02-03 13:59:06,186] Trial 176 finished with value: 0.9281646518133679 and parameters: {'learning_rate': 0.05074047842442111, 'max_depth': 26, 'min_child_weight': 8, 'subsample': 0.5886553657324803, 'colsample_bytree': 0.8413226585570674, 'gamma': 0.0006744542890683496, 'lambda': 0.0553976428581592, 'alpha': 0.06365859112088786, 'eta': 9.588800428985322e-07, 'n_estimators': 4096, 'enable_categorical': True}. Best is trial 84 with value: 0.9292636627035668.\n"
     ]
    },
    {
     "name": "stderr",
     "output_type": "stream",
     "text": [
      "Best trial: 84. Best value: 0.929264:  36%|████████████████████████████                                                   | 178/500 [02:45<06:51,  1.28s/it]"
     ]
    },
    {
     "name": "stdout",
     "output_type": "stream",
     "text": [
      "[I 2025-02-03 13:59:07,454] Trial 177 finished with value: 0.9285642921370766 and parameters: {'learning_rate': 0.05867501668119285, 'max_depth': 28, 'min_child_weight': 8, 'subsample': 0.5093710183712272, 'colsample_bytree': 0.9977743520091087, 'gamma': 0.0004189045287845939, 'lambda': 0.045007500687853745, 'alpha': 0.0873710285207048, 'eta': 5.242368398587476e-07, 'n_estimators': 128, 'enable_categorical': True}. Best is trial 84 with value: 0.9292636627035668.\n"
     ]
    },
    {
     "name": "stderr",
     "output_type": "stream",
     "text": [
      "Best trial: 84. Best value: 0.929264:  36%|████████████████████████████▎                                                  | 179/500 [02:46<06:52,  1.28s/it]"
     ]
    },
    {
     "name": "stdout",
     "output_type": "stream",
     "text": [
      "[I 2025-02-03 13:59:08,753] Trial 178 finished with value: 0.9279648316515137 and parameters: {'learning_rate': 0.04196116219143938, 'max_depth': 27, 'min_child_weight': 8, 'subsample': 0.3457330731483692, 'colsample_bytree': 0.7406397699593017, 'gamma': 0.0007987638058170258, 'lambda': 0.06762669033293336, 'alpha': 0.052279831966291816, 'eta': 8.536055888996384e-07, 'n_estimators': 1024, 'enable_categorical': True}. Best is trial 84 with value: 0.9292636627035668.\n"
     ]
    },
    {
     "name": "stderr",
     "output_type": "stream",
     "text": [
      "Best trial: 84. Best value: 0.929264:  36%|████████████████████████████▍                                                  | 180/500 [02:48<07:13,  1.36s/it]"
     ]
    },
    {
     "name": "stdout",
     "output_type": "stream",
     "text": [
      "[I 2025-02-03 13:59:10,272] Trial 179 finished with value: 0.9286642022180038 and parameters: {'learning_rate': 0.06133372343822643, 'max_depth': 26, 'min_child_weight': 8, 'subsample': 0.6716819359636829, 'colsample_bytree': 0.8701764017979422, 'gamma': 2.7555606291025874e-05, 'lambda': 0.03701744895823762, 'alpha': 0.04569743584293929, 'eta': 1.339777008924176e-06, 'n_estimators': 1024, 'enable_categorical': True}. Best is trial 84 with value: 0.9292636627035668.\n"
     ]
    },
    {
     "name": "stderr",
     "output_type": "stream",
     "text": [
      "Best trial: 84. Best value: 0.929264:  36%|████████████████████████████▌                                                  | 181/500 [02:48<05:25,  1.02s/it]"
     ]
    },
    {
     "name": "stdout",
     "output_type": "stream",
     "text": [
      "[I 2025-02-03 13:59:10,513] Trial 180 finished with value: 0.8735138375462084 and parameters: {'learning_rate': 0.0935956951419982, 'max_depth': 26, 'min_child_weight': 8, 'subsample': 0.046991418730857736, 'colsample_bytree': 0.018305728022005047, 'gamma': 0.14157261924094977, 'lambda': 0.03885251792608651, 'alpha': 0.0743789727596922, 'eta': 1.9341079879909977e-06, 'n_estimators': 1024, 'enable_categorical': True}. Best is trial 84 with value: 0.9292636627035668.\n"
     ]
    },
    {
     "name": "stderr",
     "output_type": "stream",
     "text": [
      "Best trial: 84. Best value: 0.929264:  36%|████████████████████████████▊                                                  | 182/500 [02:49<06:12,  1.17s/it]"
     ]
    },
    {
     "name": "stdout",
     "output_type": "stream",
     "text": [
      "[I 2025-02-03 13:59:12,034] Trial 181 finished with value: 0.9280647417324408 and parameters: {'learning_rate': 0.06131552701051964, 'max_depth': 27, 'min_child_weight': 8, 'subsample': 0.6829686525109977, 'colsample_bytree': 0.8569941365303982, 'gamma': 2.223588294728199e-05, 'lambda': 0.02933735780564159, 'alpha': 0.044903695140049486, 'eta': 1.1802090920351884e-06, 'n_estimators': 1024, 'enable_categorical': True}. Best is trial 84 with value: 0.9292636627035668.\n"
     ]
    },
    {
     "name": "stderr",
     "output_type": "stream",
     "text": [
      "Best trial: 84. Best value: 0.929264:  37%|████████████████████████████▉                                                  | 183/500 [02:51<06:57,  1.32s/it]"
     ]
    },
    {
     "name": "stdout",
     "output_type": "stream",
     "text": [
      "[I 2025-02-03 13:59:13,687] Trial 182 finished with value: 0.9285642921370766 and parameters: {'learning_rate': 0.04984116850576919, 'max_depth': 26, 'min_child_weight': 8, 'subsample': 0.583436638824929, 'colsample_bytree': 0.8710491719784108, 'gamma': 3.248274117595969e-05, 'lambda': 0.034841541520346915, 'alpha': 0.05677085649563403, 'eta': 5.686977270429997e-07, 'n_estimators': 1024, 'enable_categorical': True}. Best is trial 84 with value: 0.9292636627035668.\n"
     ]
    },
    {
     "name": "stderr",
     "output_type": "stream",
     "text": [
      "Best trial: 84. Best value: 0.929264:  37%|█████████████████████████████                                                  | 184/500 [02:52<07:02,  1.34s/it]"
     ]
    },
    {
     "name": "stdout",
     "output_type": "stream",
     "text": [
      "[I 2025-02-03 13:59:15,069] Trial 183 finished with value: 0.9276651014087322 and parameters: {'learning_rate': 0.06798536817602825, 'max_depth': 25, 'min_child_weight': 8, 'subsample': 0.4600372838444734, 'colsample_bytree': 0.7047211598968735, 'gamma': 5.924739668621308e-05, 'lambda': 0.025387782791059976, 'alpha': 0.040087592708926596, 'eta': 3.2385306855113484e-07, 'n_estimators': 1024, 'enable_categorical': True}. Best is trial 84 with value: 0.9292636627035668.\n"
     ]
    },
    {
     "name": "stderr",
     "output_type": "stream",
     "text": [
      "Best trial: 84. Best value: 0.929264:  37%|█████████████████████████████▏                                                 | 185/500 [02:54<07:17,  1.39s/it]"
     ]
    },
    {
     "name": "stdout",
     "output_type": "stream",
     "text": [
      "[I 2025-02-03 13:59:16,584] Trial 184 finished with value: 0.9280647417324408 and parameters: {'learning_rate': 0.054249572953217695, 'max_depth': 28, 'min_child_weight': 12, 'subsample': 0.6773319143185336, 'colsample_bytree': 0.7859677448408454, 'gamma': 0.00030342885664500467, 'lambda': 0.0495695195976604, 'alpha': 0.03514688900087802, 'eta': 2.4187797512829297e-06, 'n_estimators': 1024, 'enable_categorical': True}. Best is trial 84 with value: 0.9292636627035668.\n"
     ]
    },
    {
     "name": "stderr",
     "output_type": "stream",
     "text": [
      "Best trial: 84. Best value: 0.929264:  37%|█████████████████████████████▍                                                 | 186/500 [02:55<06:31,  1.25s/it]"
     ]
    },
    {
     "name": "stdout",
     "output_type": "stream",
     "text": [
      "[I 2025-02-03 13:59:17,497] Trial 185 finished with value: 0.9282645618942952 and parameters: {'learning_rate': 0.05923751848780894, 'max_depth': 27, 'min_child_weight': 20, 'subsample': 0.4084467926542628, 'colsample_bytree': 0.9908774284940635, 'gamma': 0.00015410512190779907, 'lambda': 0.06562647934783973, 'alpha': 0.05014911492576376, 'eta': 1.4506505875931953e-06, 'n_estimators': 5120, 'enable_categorical': True}. Best is trial 84 with value: 0.9292636627035668.\n"
     ]
    },
    {
     "name": "stderr",
     "output_type": "stream",
     "text": [
      "Best trial: 84. Best value: 0.929264:  37%|█████████████████████████████▌                                                 | 187/500 [02:56<07:06,  1.36s/it]"
     ]
    },
    {
     "name": "stdout",
     "output_type": "stream",
     "text": [
      "[I 2025-02-03 13:59:19,125] Trial 186 finished with value: 0.9262663602757518 and parameters: {'learning_rate': 0.04714152237009757, 'max_depth': 25, 'min_child_weight': 8, 'subsample': 0.5240189357511664, 'colsample_bytree': 0.6247807243707453, 'gamma': 0.0004791437327933053, 'lambda': 0.03945043978418141, 'alpha': 0.06430905940628105, 'eta': 7.731767561559873e-07, 'n_estimators': 1024, 'enable_categorical': True}. Best is trial 84 with value: 0.9292636627035668.\n"
     ]
    },
    {
     "name": "stderr",
     "output_type": "stream",
     "text": [
      "Best trial: 84. Best value: 0.929264:  38%|█████████████████████████████▋                                                 | 188/500 [02:57<06:29,  1.25s/it]"
     ]
    },
    {
     "name": "stdout",
     "output_type": "stream",
     "text": [
      "[I 2025-02-03 13:59:20,116] Trial 187 finished with value: 0.9280647417324408 and parameters: {'learning_rate': 0.072342965433383, 'max_depth': 24, 'min_child_weight': 15, 'subsample': 0.6146230347780451, 'colsample_bytree': 0.8916809675843181, 'gamma': 0.0010326270844795338, 'lambda': 0.05544561045129907, 'alpha': 0.031367365658088564, 'eta': 1.6198911247384422e-07, 'n_estimators': 4096, 'enable_categorical': True}. Best is trial 84 with value: 0.9292636627035668.\n"
     ]
    },
    {
     "name": "stderr",
     "output_type": "stream",
     "text": [
      "Best trial: 84. Best value: 0.929264:  38%|█████████████████████████████▊                                                 | 189/500 [03:00<08:00,  1.54s/it]"
     ]
    },
    {
     "name": "stdout",
     "output_type": "stream",
     "text": [
      "[I 2025-02-03 13:59:22,346] Trial 188 finished with value: 0.926965730842242 and parameters: {'learning_rate': 0.03274022811303437, 'max_depth': 26, 'min_child_weight': 10, 'subsample': 0.8832119565701829, 'colsample_bytree': 0.7608465379428113, 'gamma': 0.00024167480773449744, 'lambda': 0.030188679886278588, 'alpha': 0.01735993298193018, 'eta': 1.116172892333563e-06, 'n_estimators': 64, 'enable_categorical': True}. Best is trial 84 with value: 0.9292636627035668.\n"
     ]
    },
    {
     "name": "stderr",
     "output_type": "stream",
     "text": [
      "Best trial: 84. Best value: 0.929264:  38%|██████████████████████████████                                                 | 190/500 [03:01<08:19,  1.61s/it]"
     ]
    },
    {
     "name": "stdout",
     "output_type": "stream",
     "text": [
      "[I 2025-02-03 13:59:24,115] Trial 189 finished with value: 0.9261664501948247 and parameters: {'learning_rate': 0.038864946168474475, 'max_depth': 23, 'min_child_weight': 8, 'subsample': 0.7281271527014913, 'colsample_bytree': 0.6625094588766273, 'gamma': 4.676031713017913e-05, 'lambda': 0.3980796777525622, 'alpha': 0.11246147027490415, 'eta': 2.850312881020755e-07, 'n_estimators': 4096, 'enable_categorical': True}. Best is trial 84 with value: 0.9292636627035668.\n"
     ]
    },
    {
     "name": "stderr",
     "output_type": "stream",
     "text": [
      "Best trial: 84. Best value: 0.929264:  38%|██████████████████████████████▏                                                | 191/500 [03:02<07:15,  1.41s/it]"
     ]
    },
    {
     "name": "stdout",
     "output_type": "stream",
     "text": [
      "[I 2025-02-03 13:59:25,050] Trial 190 finished with value: 0.9291637526226396 and parameters: {'learning_rate': 0.08493793256080279, 'max_depth': 24, 'min_child_weight': 8, 'subsample': 0.5358015462937341, 'colsample_bytree': 0.990131701556667, 'gamma': 0.0005823626202095689, 'lambda': 0.25038988137812573, 'alpha': 0.022651966967678332, 'eta': 5.846719835103213e-07, 'n_estimators': 2048, 'enable_categorical': True}. Best is trial 84 with value: 0.9292636627035668.\n"
     ]
    },
    {
     "name": "stderr",
     "output_type": "stream",
     "text": [
      "Best trial: 84. Best value: 0.929264:  38%|██████████████████████████████▎                                                | 192/500 [03:03<06:30,  1.27s/it]"
     ]
    },
    {
     "name": "stdout",
     "output_type": "stream",
     "text": [
      "[I 2025-02-03 13:59:25,988] Trial 191 finished with value: 0.928764112298931 and parameters: {'learning_rate': 0.08380933486284632, 'max_depth': 24, 'min_child_weight': 8, 'subsample': 0.5416793392999886, 'colsample_bytree': 0.9871916443629449, 'gamma': 0.0005484833937659986, 'lambda': 0.2533830425985941, 'alpha': 0.023395692775366794, 'eta': 5.785855315182374e-07, 'n_estimators': 2048, 'enable_categorical': True}. Best is trial 84 with value: 0.9292636627035668.\n"
     ]
    },
    {
     "name": "stderr",
     "output_type": "stream",
     "text": [
      "Best trial: 84. Best value: 0.929264:  39%|██████████████████████████████▍                                                | 193/500 [03:04<05:54,  1.15s/it]"
     ]
    },
    {
     "name": "stdout",
     "output_type": "stream",
     "text": [
      "[I 2025-02-03 13:59:26,878] Trial 192 finished with value: 0.9286642022180038 and parameters: {'learning_rate': 0.09512756438968786, 'max_depth': 24, 'min_child_weight': 8, 'subsample': 0.5420528023577852, 'colsample_bytree': 0.8557591030690797, 'gamma': 0.0006121840976616596, 'lambda': 0.2540034561595526, 'alpha': 0.023278376524253113, 'eta': 7.577408422965721e-07, 'n_estimators': 2048, 'enable_categorical': True}. Best is trial 84 with value: 0.9292636627035668.\n"
     ]
    },
    {
     "name": "stderr",
     "output_type": "stream",
     "text": [
      "Best trial: 84. Best value: 0.929264:  39%|██████████████████████████████▋                                                | 194/500 [03:05<05:12,  1.02s/it]"
     ]
    },
    {
     "name": "stdout",
     "output_type": "stream",
     "text": [
      "[I 2025-02-03 13:59:27,591] Trial 193 finished with value: 0.9273653711659506 and parameters: {'learning_rate': 0.11371334226548666, 'max_depth': 24, 'min_child_weight': 8, 'subsample': 0.5013921565893827, 'colsample_bytree': 0.8769718942778594, 'gamma': 0.0006170591105096769, 'lambda': 0.34718941845703355, 'alpha': 0.022238062338508523, 'eta': 6.251663299346647e-07, 'n_estimators': 2048, 'enable_categorical': True}. Best is trial 84 with value: 0.9292636627035668.\n"
     ]
    },
    {
     "name": "stderr",
     "output_type": "stream",
     "text": [
      "Best trial: 84. Best value: 0.929264:  39%|██████████████████████████████▊                                                | 195/500 [03:06<04:49,  1.05it/s]"
     ]
    },
    {
     "name": "stdout",
     "output_type": "stream",
     "text": [
      "[I 2025-02-03 13:59:28,374] Trial 194 finished with value: 0.9284643820561495 and parameters: {'learning_rate': 0.09653219693831121, 'max_depth': 25, 'min_child_weight': 8, 'subsample': 0.38338793446637687, 'colsample_bytree': 0.8058924124561682, 'gamma': 0.0016825616279374453, 'lambda': 0.2628078736792967, 'alpha': 0.022218841434400897, 'eta': 5.056638004394467e-07, 'n_estimators': 2048, 'enable_categorical': True}. Best is trial 84 with value: 0.9292636627035668.\n"
     ]
    },
    {
     "name": "stderr",
     "output_type": "stream",
     "text": [
      "Best trial: 84. Best value: 0.929264:  39%|██████████████████████████████▉                                                | 196/500 [03:06<04:41,  1.08it/s]"
     ]
    },
    {
     "name": "stdout",
     "output_type": "stream",
     "text": [
      "[I 2025-02-03 13:59:29,239] Trial 195 finished with value: 0.9286642022180038 and parameters: {'learning_rate': 0.08497003231175801, 'max_depth': 26, 'min_child_weight': 8, 'subsample': 0.4415753766061724, 'colsample_bytree': 0.9925055906340046, 'gamma': 0.0009592013122434012, 'lambda': 0.23234357059470873, 'alpha': 0.027771750874905642, 'eta': 8.982194499918748e-07, 'n_estimators': 2048, 'enable_categorical': True}. Best is trial 84 with value: 0.9292636627035668.\n"
     ]
    },
    {
     "name": "stderr",
     "output_type": "stream",
     "text": [
      "Best trial: 84. Best value: 0.929264:  39%|███████████████████████████████▏                                               | 197/500 [03:07<04:32,  1.11it/s]"
     ]
    },
    {
     "name": "stdout",
     "output_type": "stream",
     "text": [
      "[I 2025-02-03 13:59:30,081] Trial 196 finished with value: 0.9286642022180038 and parameters: {'learning_rate': 0.08454402090427135, 'max_depth': 26, 'min_child_weight': 8, 'subsample': 0.42559219296451656, 'colsample_bytree': 0.9980297525626473, 'gamma': 0.0012151041943264495, 'lambda': 0.18611877273261535, 'alpha': 0.027162710924892013, 'eta': 8.094891187650932e-07, 'n_estimators': 2048, 'enable_categorical': True}. Best is trial 84 with value: 0.9292636627035668.\n"
     ]
    },
    {
     "name": "stderr",
     "output_type": "stream",
     "text": [
      "Best trial: 84. Best value: 0.929264:  40%|███████████████████████████████▎                                               | 198/500 [03:08<04:00,  1.25it/s]"
     ]
    },
    {
     "name": "stdout",
     "output_type": "stream",
     "text": [
      "[I 2025-02-03 13:59:30,639] Trial 197 finished with value: 0.9273653711659506 and parameters: {'learning_rate': 0.13898734481279337, 'max_depth': 27, 'min_child_weight': 8, 'subsample': 0.3116487237972923, 'colsample_bytree': 0.8658074915931259, 'gamma': 0.0021340227352464, 'lambda': 0.2532474749733587, 'alpha': 0.024235864808019068, 'eta': 4.934182728616389e-07, 'n_estimators': 2048, 'enable_categorical': True}. Best is trial 84 with value: 0.9292636627035668.\n"
     ]
    },
    {
     "name": "stderr",
     "output_type": "stream",
     "text": [
      "Best trial: 84. Best value: 0.929264:  40%|███████████████████████████████▍                                               | 199/500 [03:09<04:08,  1.21it/s]"
     ]
    },
    {
     "name": "stdout",
     "output_type": "stream",
     "text": [
      "[I 2025-02-03 13:59:31,529] Trial 198 finished with value: 0.9279648316515137 and parameters: {'learning_rate': 0.09532230297716043, 'max_depth': 26, 'min_child_weight': 8, 'subsample': 0.45488867131750016, 'colsample_bytree': 0.7242368675923428, 'gamma': 0.0008050347005913686, 'lambda': 0.282021963925642, 'alpha': 0.03126126988173404, 'eta': 1.4273712943923996e-06, 'n_estimators': 2048, 'enable_categorical': True}. Best is trial 84 with value: 0.9292636627035668.\n"
     ]
    },
    {
     "name": "stderr",
     "output_type": "stream",
     "text": [
      "Best trial: 84. Best value: 0.929264:  40%|███████████████████████████████▌                                               | 200/500 [03:10<04:05,  1.22it/s]"
     ]
    },
    {
     "name": "stdout",
     "output_type": "stream",
     "text": [
      "[I 2025-02-03 13:59:32,329] Trial 199 finished with value: 0.9289639324607853 and parameters: {'learning_rate': 0.08271621324149654, 'max_depth': 25, 'min_child_weight': 8, 'subsample': 0.3534676286555452, 'colsample_bytree': 0.9916979284015688, 'gamma': 0.0005684990232600907, 'lambda': 0.22046349640569074, 'alpha': 0.018455649262464256, 'eta': 7.281996857940018e-07, 'n_estimators': 2048, 'enable_categorical': True}. Best is trial 84 with value: 0.9292636627035668.\n"
     ]
    },
    {
     "name": "stderr",
     "output_type": "stream",
     "text": [
      "Best trial: 84. Best value: 0.929264:  40%|███████████████████████████████▊                                               | 201/500 [03:10<03:49,  1.30it/s]"
     ]
    },
    {
     "name": "stdout",
     "output_type": "stream",
     "text": [
      "[I 2025-02-03 13:59:32,982] Trial 200 finished with value: 0.9274652812468778 and parameters: {'learning_rate': 0.12032727226040169, 'max_depth': 25, 'min_child_weight': 8, 'subsample': 0.34844645568937377, 'colsample_bytree': 0.8734595651796065, 'gamma': 0.00045164990091132486, 'lambda': 0.4639396242831973, 'alpha': 0.014188799259762056, 'eta': 4.302645531744926e-07, 'n_estimators': 2048, 'enable_categorical': True}. Best is trial 84 with value: 0.9292636627035668.\n"
     ]
    },
    {
     "name": "stderr",
     "output_type": "stream",
     "text": [
      "Best trial: 84. Best value: 0.929264:  40%|███████████████████████████████▉                                               | 202/500 [03:11<04:04,  1.22it/s]"
     ]
    },
    {
     "name": "stdout",
     "output_type": "stream",
     "text": [
      "[I 2025-02-03 13:59:33,925] Trial 201 finished with value: 0.9288640223798581 and parameters: {'learning_rate': 0.08534965915639972, 'max_depth': 26, 'min_child_weight': 8, 'subsample': 0.5269926840313295, 'colsample_bytree': 0.997374968211933, 'gamma': 0.0006343482965204734, 'lambda': 0.19640525797684563, 'alpha': 0.018483974074951063, 'eta': 8.334005932675053e-07, 'n_estimators': 2048, 'enable_categorical': True}. Best is trial 84 with value: 0.9292636627035668.\n"
     ]
    },
    {
     "name": "stderr",
     "output_type": "stream",
     "text": [
      "Best trial: 84. Best value: 0.929264:  41%|████████████████████████████████                                               | 203/500 [03:12<04:09,  1.19it/s]"
     ]
    },
    {
     "name": "stdout",
     "output_type": "stream",
     "text": [
      "[I 2025-02-03 13:59:34,808] Trial 202 finished with value: 0.9286642022180038 and parameters: {'learning_rate': 0.1061080464207668, 'max_depth': 27, 'min_child_weight': 8, 'subsample': 0.5483447415071555, 'colsample_bytree': 0.8921510749238868, 'gamma': 0.0005778461641244173, 'lambda': 0.2046293205161377, 'alpha': 0.01876074653603821, 'eta': 6.702870077968285e-07, 'n_estimators': 2048, 'enable_categorical': True}. Best is trial 84 with value: 0.9292636627035668.\n"
     ]
    },
    {
     "name": "stderr",
     "output_type": "stream",
     "text": [
      "Best trial: 84. Best value: 0.929264:  41%|████████████████████████████████▏                                              | 204/500 [03:13<04:35,  1.07it/s]"
     ]
    },
    {
     "name": "stdout",
     "output_type": "stream",
     "text": [
      "[I 2025-02-03 13:59:35,952] Trial 203 finished with value: 0.9279648316515137 and parameters: {'learning_rate': 0.07605883541959009, 'max_depth': 25, 'min_child_weight': 8, 'subsample': 0.5089277089466806, 'colsample_bytree': 0.7888985331727221, 'gamma': 0.0003613969849080694, 'lambda': 0.3230477788196284, 'alpha': 0.016064493429640843, 'eta': 1.1372438506528946e-06, 'n_estimators': 2048, 'enable_categorical': True}. Best is trial 84 with value: 0.9292636627035668.\n"
     ]
    },
    {
     "name": "stderr",
     "output_type": "stream",
     "text": [
      "Best trial: 84. Best value: 0.929264:  41%|████████████████████████████████▍                                              | 205/500 [03:14<04:56,  1.00s/it]"
     ]
    },
    {
     "name": "stdout",
     "output_type": "stream",
     "text": [
      "[I 2025-02-03 13:59:37,127] Trial 204 finished with value: 0.9277650114896593 and parameters: {'learning_rate': 0.06724067543835123, 'max_depth': 25, 'min_child_weight': 8, 'subsample': 0.37965328825908734, 'colsample_bytree': 0.7287653826594436, 'gamma': 0.0005662743378785945, 'lambda': 0.20885930325346813, 'alpha': 0.020598085555882106, 'eta': 3.9432104174235414e-07, 'n_estimators': 2048, 'enable_categorical': True}. Best is trial 84 with value: 0.9292636627035668.\n"
     ]
    },
    {
     "name": "stderr",
     "output_type": "stream",
     "text": [
      "Best trial: 84. Best value: 0.929264:  41%|████████████████████████████████▌                                              | 206/500 [03:15<04:50,  1.01it/s]"
     ]
    },
    {
     "name": "stdout",
     "output_type": "stream",
     "text": [
      "[I 2025-02-03 13:59:38,083] Trial 205 finished with value: 0.9289639324607853 and parameters: {'learning_rate': 0.08652095733414546, 'max_depth': 26, 'min_child_weight': 8, 'subsample': 0.5845785114234762, 'colsample_bytree': 0.9861499418228304, 'gamma': 0.0003664981219172383, 'lambda': 0.1748604300466796, 'alpha': 0.012399674650031002, 'eta': 2.181478041383802e-07, 'n_estimators': 2048, 'enable_categorical': True}. Best is trial 84 with value: 0.9292636627035668.\n"
     ]
    },
    {
     "name": "stderr",
     "output_type": "stream",
     "text": [
      "Best trial: 84. Best value: 0.929264:  41%|████████████████████████████████▋                                              | 207/500 [03:17<05:16,  1.08s/it]"
     ]
    },
    {
     "name": "stdout",
     "output_type": "stream",
     "text": [
      "[I 2025-02-03 13:59:39,378] Trial 206 finished with value: 0.9283644719752223 and parameters: {'learning_rate': 0.07908977669968839, 'max_depth': 27, 'min_child_weight': 5, 'subsample': 0.6098287686301946, 'colsample_bytree': 0.9698809915135957, 'gamma': 0.00029845955409115246, 'lambda': 0.18864619330228846, 'alpha': 0.012239673883866058, 'eta': 2.4407155407245516e-07, 'n_estimators': 2048, 'enable_categorical': True}. Best is trial 84 with value: 0.9292636627035668.\n"
     ]
    },
    {
     "name": "stderr",
     "output_type": "stream",
     "text": [
      "Best trial: 84. Best value: 0.929264:  42%|████████████████████████████████▊                                              | 208/500 [03:18<05:11,  1.07s/it]"
     ]
    },
    {
     "name": "stdout",
     "output_type": "stream",
     "text": [
      "[I 2025-02-03 13:59:40,410] Trial 207 finished with value: 0.9281646518133679 and parameters: {'learning_rate': 0.06470324033841625, 'max_depth': 28, 'min_child_weight': 17, 'subsample': 0.45327218609245723, 'colsample_bytree': 0.9074858699813405, 'gamma': 0.0003854112595614502, 'lambda': 0.5062788561843776, 'alpha': 0.010553716124478371, 'eta': 1.9536877837110466e-07, 'n_estimators': 2048, 'enable_categorical': True}. Best is trial 84 with value: 0.9292636627035668.\n"
     ]
    },
    {
     "name": "stderr",
     "output_type": "stream",
     "text": [
      "Best trial: 84. Best value: 0.929264:  42%|█████████████████████████████████                                              | 209/500 [03:18<04:35,  1.06it/s]"
     ]
    },
    {
     "name": "stdout",
     "output_type": "stream",
     "text": [
      "[I 2025-02-03 13:59:41,079] Trial 208 finished with value: 0.9279648316515137 and parameters: {'learning_rate': 0.08477130745379086, 'max_depth': 26, 'min_child_weight': 8, 'subsample': 0.31818776424593775, 'colsample_bytree': 0.9949868353067326, 'gamma': 0.00022141956280431359, 'lambda': 0.1753380963323189, 'alpha': 2.169918782641319, 'eta': 7.962449054138017e-08, 'n_estimators': 2048, 'enable_categorical': True}. Best is trial 84 with value: 0.9292636627035668.\n"
     ]
    },
    {
     "name": "stderr",
     "output_type": "stream",
     "text": [
      "Best trial: 84. Best value: 0.929264:  42%|█████████████████████████████████▏                                             | 210/500 [03:20<04:59,  1.03s/it]"
     ]
    },
    {
     "name": "stdout",
     "output_type": "stream",
     "text": [
      "[I 2025-02-03 13:59:42,311] Trial 209 finished with value: 0.9283644719752223 and parameters: {'learning_rate': 0.06988111321477393, 'max_depth': 26, 'min_child_weight': 8, 'subsample': 0.6179906533378989, 'colsample_bytree': 0.9967643754734413, 'gamma': 0.0008484273565001944, 'lambda': 0.16369670713233936, 'alpha': 0.014210393230536664, 'eta': 3.417078846998385e-07, 'n_estimators': 2048, 'enable_categorical': True}. Best is trial 84 with value: 0.9292636627035668.\n"
     ]
    },
    {
     "name": "stderr",
     "output_type": "stream",
     "text": [
      "Best trial: 84. Best value: 0.929264:  42%|█████████████████████████████████▎                                             | 211/500 [03:21<04:51,  1.01s/it]"
     ]
    },
    {
     "name": "stdout",
     "output_type": "stream",
     "text": [
      "[I 2025-02-03 13:59:43,266] Trial 210 finished with value: 0.9272654610850235 and parameters: {'learning_rate': 0.10052324220527074, 'max_depth': 27, 'min_child_weight': 8, 'subsample': 0.5095118557163981, 'colsample_bytree': 0.7813973519548251, 'gamma': 0.0003745927606360885, 'lambda': 0.320849685733665, 'alpha': 0.039553437394601244, 'eta': 5.859946798806283e-07, 'n_estimators': 2048, 'enable_categorical': True}. Best is trial 84 with value: 0.9292636627035668.\n"
     ]
    },
    {
     "name": "stderr",
     "output_type": "stream",
     "text": [
      "Best trial: 84. Best value: 0.929264:  42%|█████████████████████████████████▍                                             | 212/500 [03:22<04:57,  1.03s/it]"
     ]
    },
    {
     "name": "stdout",
     "output_type": "stream",
     "text": [
      "[I 2025-02-03 13:59:44,356] Trial 211 finished with value: 0.9288640223798581 and parameters: {'learning_rate': 0.09487776903800292, 'max_depth': 24, 'min_child_weight': 8, 'subsample': 0.55483549047607, 'colsample_bytree': 0.8325023395048063, 'gamma': 0.0005286345576660026, 'lambda': 0.22029477135207137, 'alpha': 0.0236335665430112, 'eta': 7.328383610834395e-07, 'n_estimators': 2048, 'enable_categorical': True}. Best is trial 84 with value: 0.9292636627035668.\n"
     ]
    },
    {
     "name": "stderr",
     "output_type": "stream",
     "text": [
      "Best trial: 84. Best value: 0.929264:  43%|█████████████████████████████████▋                                             | 213/500 [03:23<04:51,  1.01s/it]"
     ]
    },
    {
     "name": "stdout",
     "output_type": "stream",
     "text": [
      "[I 2025-02-03 13:59:45,325] Trial 212 finished with value: 0.9266660005994605 and parameters: {'learning_rate': 0.08134968913272911, 'max_depth': 26, 'min_child_weight': 8, 'subsample': 0.26750865998532847, 'colsample_bytree': 0.6886681582002655, 'gamma': 0.00048405005010311374, 'lambda': 0.14275425596842992, 'alpha': 0.030732595971337692, 'eta': 1.4002483885655139e-06, 'n_estimators': 2048, 'enable_categorical': True}. Best is trial 84 with value: 0.9292636627035668.\n"
     ]
    },
    {
     "name": "stderr",
     "output_type": "stream",
     "text": [
      "Best trial: 84. Best value: 0.929264:  43%|█████████████████████████████████▊                                             | 214/500 [03:24<05:30,  1.16s/it]"
     ]
    },
    {
     "name": "stdout",
     "output_type": "stream",
     "text": [
      "[I 2025-02-03 13:59:46,815] Trial 213 finished with value: 0.9286642022180038 and parameters: {'learning_rate': 0.061548519218018974, 'max_depth': 25, 'min_child_weight': 8, 'subsample': 0.5548127842329097, 'colsample_bytree': 0.8065966844912666, 'gamma': 0.001340623160180075, 'lambda': 0.27868947441732456, 'alpha': 0.018544845780931518, 'eta': 4.1392001245382356e-07, 'n_estimators': 2048, 'enable_categorical': True}. Best is trial 84 with value: 0.9292636627035668.\n"
     ]
    },
    {
     "name": "stderr",
     "output_type": "stream",
     "text": [
      "Best trial: 84. Best value: 0.929264:  43%|█████████████████████████████████▉                                             | 215/500 [03:25<05:02,  1.06s/it]"
     ]
    },
    {
     "name": "stdout",
     "output_type": "stream",
     "text": [
      "[I 2025-02-03 13:59:47,656] Trial 214 finished with value: 0.9288640223798581 and parameters: {'learning_rate': 0.1179726258925248, 'max_depth': 25, 'min_child_weight': 8, 'subsample': 0.6498214862278684, 'colsample_bytree': 0.9978297684140345, 'gamma': 0.00020513178481643875, 'lambda': 0.22116382244672703, 'alpha': 0.023928733682526092, 'eta': 8.766190530417266e-07, 'n_estimators': 2048, 'enable_categorical': True}. Best is trial 84 with value: 0.9292636627035668.\n"
     ]
    },
    {
     "name": "stderr",
     "output_type": "stream",
     "text": [
      "Best trial: 84. Best value: 0.929264:  43%|██████████████████████████████████▏                                            | 216/500 [03:25<04:16,  1.11it/s]"
     ]
    },
    {
     "name": "stdout",
     "output_type": "stream",
     "text": [
      "[I 2025-02-03 13:59:48,182] Trial 215 finished with value: 0.927565191327805 and parameters: {'learning_rate': 0.1631441612550696, 'max_depth': 24, 'min_child_weight': 8, 'subsample': 0.4049474283205889, 'colsample_bytree': 0.9932081985975311, 'gamma': 0.00020227604404880718, 'lambda': 0.2157878527656593, 'alpha': 0.01668608217313319, 'eta': 7.39897923740049e-07, 'n_estimators': 2048, 'enable_categorical': True}. Best is trial 84 with value: 0.9292636627035668.\n"
     ]
    },
    {
     "name": "stderr",
     "output_type": "stream",
     "text": [
      "Best trial: 84. Best value: 0.929264:  43%|██████████████████████████████████▎                                            | 217/500 [03:26<04:16,  1.10it/s]"
     ]
    },
    {
     "name": "stdout",
     "output_type": "stream",
     "text": [
      "[I 2025-02-03 13:59:49,097] Trial 216 finished with value: 0.8896992706564092 and parameters: {'learning_rate': 0.14108856441144965, 'max_depth': 25, 'min_child_weight': 8, 'subsample': 0.4922137842249311, 'colsample_bytree': 0.14924705992347478, 'gamma': 0.00029541429377327527, 'lambda': 0.1516130113378669, 'alpha': 0.023664351506638384, 'eta': 2.184953896976621e-07, 'n_estimators': 2048, 'enable_categorical': True}. Best is trial 84 with value: 0.9292636627035668.\n"
     ]
    },
    {
     "name": "stderr",
     "output_type": "stream",
     "text": [
      "Best trial: 84. Best value: 0.929264:  44%|██████████████████████████████████▍                                            | 218/500 [03:27<03:53,  1.21it/s]"
     ]
    },
    {
     "name": "stdout",
     "output_type": "stream",
     "text": [
      "[I 2025-02-03 13:59:49,748] Trial 217 finished with value: 0.9278649215705864 and parameters: {'learning_rate': 0.11954183450992253, 'max_depth': 24, 'min_child_weight': 18, 'subsample': 0.5703519356209359, 'colsample_bytree': 0.9983563891511394, 'gamma': 0.000738493053435606, 'lambda': 0.23059600094902485, 'alpha': 0.020075735288303892, 'eta': 5.49677158643947e-07, 'n_estimators': 2048, 'enable_categorical': True}. Best is trial 84 with value: 0.9292636627035668.\n"
     ]
    },
    {
     "name": "stderr",
     "output_type": "stream",
     "text": [
      "Best trial: 84. Best value: 0.929264:  44%|██████████████████████████████████▌                                            | 219/500 [03:28<03:59,  1.18it/s]"
     ]
    },
    {
     "name": "stdout",
     "output_type": "stream",
     "text": [
      "[I 2025-02-03 13:59:50,650] Trial 218 finished with value: 0.9279648316515137 and parameters: {'learning_rate': 0.1015420515399026, 'max_depth': 14, 'min_child_weight': 9, 'subsample': 0.7316471858185789, 'colsample_bytree': 0.7699679629137824, 'gamma': 0.0001776391054608155, 'lambda': 0.287353808848728, 'alpha': 0.02678332847587089, 'eta': 8.982726282062757e-07, 'n_estimators': 1536, 'enable_categorical': True}. Best is trial 84 with value: 0.9292636627035668.\n"
     ]
    },
    {
     "name": "stderr",
     "output_type": "stream",
     "text": [
      "Best trial: 84. Best value: 0.929264:  44%|██████████████████████████████████▊                                            | 220/500 [03:28<03:08,  1.49it/s]"
     ]
    },
    {
     "name": "stdout",
     "output_type": "stream",
     "text": [
      "[I 2025-02-03 13:59:50,904] Trial 219 finished with value: 0.9117793985413128 and parameters: {'learning_rate': 0.08789652279096032, 'max_depth': 25, 'min_child_weight': 10, 'subsample': 0.02691045421930493, 'colsample_bytree': 0.8577165192659468, 'gamma': 0.0004168990131321244, 'lambda': 0.1789162372084525, 'alpha': 0.013017824040474043, 'eta': 3.0155953618216817e-07, 'n_estimators': 2048, 'enable_categorical': True}. Best is trial 84 with value: 0.9292636627035668.\n"
     ]
    },
    {
     "name": "stderr",
     "output_type": "stream",
     "text": [
      "Best trial: 84. Best value: 0.929264:  44%|██████████████████████████████████▉                                            | 221/500 [03:29<03:47,  1.23it/s]"
     ]
    },
    {
     "name": "stdout",
     "output_type": "stream",
     "text": [
      "[I 2025-02-03 13:59:52,056] Trial 220 finished with value: 0.9260665401138974 and parameters: {'learning_rate': 0.10732552170424542, 'max_depth': 27, 'min_child_weight': 8, 'subsample': 0.6314766361115619, 'colsample_bytree': 0.6747247026785248, 'gamma': 0.00027201052255181344, 'lambda': 0.12372641161393755, 'alpha': 0.03416543021751896, 'eta': 1.3290351953130805e-07, 'n_estimators': 768, 'enable_categorical': True}. Best is trial 84 with value: 0.9292636627035668.\n"
     ]
    },
    {
     "name": "stderr",
     "output_type": "stream",
     "text": [
      "Best trial: 84. Best value: 0.929264:  44%|███████████████████████████████████                                            | 222/500 [03:31<04:27,  1.04it/s]"
     ]
    },
    {
     "name": "stdout",
     "output_type": "stream",
     "text": [
      "[I 2025-02-03 13:59:53,362] Trial 221 finished with value: 0.9284643820561495 and parameters: {'learning_rate': 0.07120270799113468, 'max_depth': 26, 'min_child_weight': 8, 'subsample': 0.6696778134332712, 'colsample_bytree': 0.8692263316095278, 'gamma': 0.000627173130602555, 'lambda': 0.2077073601445929, 'alpha': 0.04721523783016144, 'eta': 1.8329068824303588e-06, 'n_estimators': 2048, 'enable_categorical': True}. Best is trial 84 with value: 0.9292636627035668.\n"
     ]
    },
    {
     "name": "stderr",
     "output_type": "stream",
     "text": [
      "Best trial: 84. Best value: 0.929264:  45%|███████████████████████████████████▏                                           | 223/500 [03:32<04:50,  1.05s/it]"
     ]
    },
    {
     "name": "stdout",
     "output_type": "stream",
     "text": [
      "[I 2025-02-03 13:59:54,613] Trial 222 finished with value: 0.928764112298931 and parameters: {'learning_rate': 0.0577405893934889, 'max_depth': 26, 'min_child_weight': 8, 'subsample': 0.47255164173028064, 'colsample_bytree': 0.8836438587453115, 'gamma': 1.2898114958275641e-08, 'lambda': 1.0040522739736033, 'alpha': 0.039516506008866796, 'eta': 1.0277459825331959e-06, 'n_estimators': 1024, 'enable_categorical': True}. Best is trial 84 with value: 0.9292636627035668.\n"
     ]
    },
    {
     "name": "stderr",
     "output_type": "stream",
     "text": [
      "Best trial: 84. Best value: 0.929264:  45%|███████████████████████████████████▍                                           | 224/500 [03:33<04:46,  1.04s/it]"
     ]
    },
    {
     "name": "stdout",
     "output_type": "stream",
     "text": [
      "[I 2025-02-03 13:59:55,630] Trial 223 finished with value: 0.9285642921370766 and parameters: {'learning_rate': 0.08060742000792094, 'max_depth': 25, 'min_child_weight': 8, 'subsample': 0.47151381547700744, 'colsample_bytree': 0.7745462941804208, 'gamma': 0.00015463630702585696, 'lambda': 1.8988364664578694, 'alpha': 0.03549999689615926, 'eta': 8.892927106600585e-07, 'n_estimators': 256, 'enable_categorical': True}. Best is trial 84 with value: 0.9292636627035668.\n"
     ]
    },
    {
     "name": "stderr",
     "output_type": "stream",
     "text": [
      "Best trial: 84. Best value: 0.929264:  45%|███████████████████████████████████▌                                           | 225/500 [03:34<04:42,  1.03s/it]"
     ]
    },
    {
     "name": "stdout",
     "output_type": "stream",
     "text": [
      "[I 2025-02-03 13:59:56,626] Trial 224 finished with value: 0.9284643820561495 and parameters: {'learning_rate': 0.057380946699804154, 'max_depth': 26, 'min_child_weight': 13, 'subsample': 0.40166361877281964, 'colsample_bytree': 0.9985114701876096, 'gamma': 0.0002744135670488447, 'lambda': 0.8059932933741305, 'alpha': 0.02759886759452893, 'eta': 4.916922691207199e-07, 'n_estimators': 512, 'enable_categorical': True}. Best is trial 84 with value: 0.9292636627035668.\n"
     ]
    },
    {
     "name": "stderr",
     "output_type": "stream",
     "text": [
      "Best trial: 84. Best value: 0.929264:  45%|███████████████████████████████████▋                                           | 226/500 [03:34<03:55,  1.16it/s]"
     ]
    },
    {
     "name": "stdout",
     "output_type": "stream",
     "text": [
      "[I 2025-02-03 13:59:57,101] Trial 225 finished with value: 0.861224897592167 and parameters: {'learning_rate': 0.07458707439212754, 'max_depth': 27, 'min_child_weight': 8, 'subsample': 0.5553948978291916, 'colsample_bytree': 0.008373443717986588, 'gamma': 7.342545958389661e-08, 'lambda': 0.14613527276840493, 'alpha': 0.022615415542652926, 'eta': 1.0201400259749807e-06, 'n_estimators': 3096, 'enable_categorical': True}. Best is trial 84 with value: 0.9292636627035668.\n"
     ]
    },
    {
     "name": "stderr",
     "output_type": "stream",
     "text": [
      "Best trial: 84. Best value: 0.929264:  45%|███████████████████████████████████▊                                           | 227/500 [03:35<03:44,  1.22it/s]"
     ]
    },
    {
     "name": "stdout",
     "output_type": "stream",
     "text": [
      "[I 2025-02-03 13:59:57,833] Trial 226 finished with value: 0.9278649215705864 and parameters: {'learning_rate': 0.09613427335650336, 'max_depth': 25, 'min_child_weight': 6, 'subsample': 0.46504935983754003, 'colsample_bytree': 0.8680438471415486, 'gamma': 0.0004388395295835087, 'lambda': 1.8431457802775795, 'alpha': 0.03154805176619567, 'eta': 6.431539401588279e-07, 'n_estimators': 2048, 'enable_categorical': True}. Best is trial 84 with value: 0.9292636627035668.\n"
     ]
    },
    {
     "name": "stderr",
     "output_type": "stream",
     "text": [
      "Best trial: 84. Best value: 0.929264:  46%|████████████████████████████████████                                           | 228/500 [03:35<03:09,  1.44it/s]"
     ]
    },
    {
     "name": "stdout",
     "output_type": "stream",
     "text": [
      "[I 2025-02-03 13:59:58,234] Trial 227 finished with value: 0.8800079928064741 and parameters: {'learning_rate': 0.12605529836426357, 'max_depth': 24, 'min_child_weight': 8, 'subsample': 0.3595365125161127, 'colsample_bytree': 0.0032795824959070017, 'gamma': 0.0010007693746543669, 'lambda': 2.3846364753497533, 'alpha': 0.04003189662396222, 'eta': 3.7194175328456955e-07, 'n_estimators': 2048, 'enable_categorical': True}. Best is trial 84 with value: 0.9292636627035668.\n"
     ]
    },
    {
     "name": "stderr",
     "output_type": "stream",
     "text": [
      "Best trial: 84. Best value: 0.929264:  46%|████████████████████████████████████▏                                          | 229/500 [03:36<03:25,  1.32it/s]"
     ]
    },
    {
     "name": "stdout",
     "output_type": "stream",
     "text": [
      "[I 2025-02-03 13:59:59,134] Trial 228 finished with value: 0.9262663602757518 and parameters: {'learning_rate': 0.0494503440426583, 'max_depth': 26, 'min_child_weight': 19, 'subsample': 0.6022018731866323, 'colsample_bytree': 0.7323730655447023, 'gamma': 0.0001982695212697629, 'lambda': 1.1114613241915816, 'alpha': 0.25880940457208723, 'eta': 1.1088170289718145e-06, 'n_estimators': 1024, 'enable_categorical': True}. Best is trial 84 with value: 0.9292636627035668.\n"
     ]
    },
    {
     "name": "stderr",
     "output_type": "stream",
     "text": [
      "Best trial: 84. Best value: 0.929264:  46%|████████████████████████████████████▎                                          | 230/500 [03:38<03:55,  1.14it/s]"
     ]
    },
    {
     "name": "stdout",
     "output_type": "stream",
     "text": [
      "[I 2025-02-03 14:00:00,280] Trial 229 finished with value: 0.9285642921370766 and parameters: {'learning_rate': 0.06591963342241715, 'max_depth': 28, 'min_child_weight': 16, 'subsample': 0.7943048465918902, 'colsample_bytree': 0.8767686848970466, 'gamma': 0.0005996553704193849, 'lambda': 0.3656764627579641, 'alpha': 0.017995777136228797, 'eta': 1.7796616554115123e-06, 'n_estimators': 5120, 'enable_categorical': True}. Best is trial 84 with value: 0.9292636627035668.\n"
     ]
    },
    {
     "name": "stderr",
     "output_type": "stream",
     "text": [
      "Best trial: 84. Best value: 0.929264:  46%|████████████████████████████████████▍                                          | 231/500 [03:39<04:24,  1.02it/s]"
     ]
    },
    {
     "name": "stdout",
     "output_type": "stream",
     "text": [
      "[I 2025-02-03 14:00:01,514] Trial 230 finished with value: 0.9273653711659506 and parameters: {'learning_rate': 0.08696327754272654, 'max_depth': 25, 'min_child_weight': 8, 'subsample': 0.5012224866561166, 'colsample_bytree': 0.6355105854686447, 'gamma': 1.576189854789531e-08, 'lambda': 0.11066232819189498, 'alpha': 0.00937468799165711, 'eta': 6.366691186358541e-07, 'n_estimators': 4096, 'enable_categorical': True}. Best is trial 84 with value: 0.9292636627035668.\n"
     ]
    },
    {
     "name": "stderr",
     "output_type": "stream",
     "text": [
      "Best trial: 84. Best value: 0.929264:  46%|████████████████████████████████████▋                                          | 232/500 [03:40<05:17,  1.19s/it]"
     ]
    },
    {
     "name": "stdout",
     "output_type": "stream",
     "text": [
      "[I 2025-02-03 14:00:03,174] Trial 231 finished with value: 0.9282645618942952 and parameters: {'learning_rate': 0.0575511159865335, 'max_depth': 26, 'min_child_weight': 8, 'subsample': 0.6906678434436, 'colsample_bytree': 0.8849962070699926, 'gamma': 0.01719010020020719, 'lambda': 0.04067183458752934, 'alpha': 0.042702435975041184, 'eta': 1.3522463602061966e-06, 'n_estimators': 1024, 'enable_categorical': True}. Best is trial 84 with value: 0.9292636627035668.\n"
     ]
    },
    {
     "name": "stderr",
     "output_type": "stream",
     "text": [
      "Best trial: 84. Best value: 0.929264:  47%|████████████████████████████████████▊                                          | 233/500 [03:41<05:06,  1.15s/it]"
     ]
    },
    {
     "name": "stdout",
     "output_type": "stream",
     "text": [
      "[I 2025-02-03 14:00:04,236] Trial 232 finished with value: 0.9278649215705864 and parameters: {'learning_rate': 0.06261285271578088, 'max_depth': 27, 'min_child_weight': 8, 'subsample': 0.6330808542974413, 'colsample_bytree': 0.8565013307155608, 'gamma': 0.00013093536728973884, 'lambda': 3.6022391095096493, 'alpha': 0.04838366400306755, 'eta': 0.003313443659283682, 'n_estimators': 1024, 'enable_categorical': True}. Best is trial 84 with value: 0.9292636627035668.\n"
     ]
    },
    {
     "name": "stderr",
     "output_type": "stream",
     "text": [
      "Best trial: 84. Best value: 0.929264:  47%|████████████████████████████████████▉                                          | 234/500 [03:42<04:53,  1.10s/it]"
     ]
    },
    {
     "name": "stdout",
     "output_type": "stream",
     "text": [
      "[I 2025-02-03 14:00:05,236] Trial 233 finished with value: 0.928764112298931 and parameters: {'learning_rate': 0.07304348393842154, 'max_depth': 26, 'min_child_weight': 8, 'subsample': 0.42734968098188103, 'colsample_bytree': 0.9946757412950554, 'gamma': 0.0003513490873340001, 'lambda': 0.05096685531496302, 'alpha': 0.025430276842764398, 'eta': 1.1545086648562722e-06, 'n_estimators': 1024, 'enable_categorical': True}. Best is trial 84 with value: 0.9292636627035668.\n"
     ]
    },
    {
     "name": "stderr",
     "output_type": "stream",
     "text": [
      "Best trial: 84. Best value: 0.929264:  47%|█████████████████████████████████████▏                                         | 235/500 [03:44<04:47,  1.08s/it]"
     ]
    },
    {
     "name": "stdout",
     "output_type": "stream",
     "text": [
      "[I 2025-02-03 14:00:06,275] Trial 234 finished with value: 0.9288640223798581 and parameters: {'learning_rate': 0.07566514218429363, 'max_depth': 25, 'min_child_weight': 7, 'subsample': 0.43112791722167265, 'colsample_bytree': 0.9073681956014769, 'gamma': 0.00032544225813387675, 'lambda': 0.04871302054198334, 'alpha': 0.024831584622400104, 'eta': 8.001660621800902e-07, 'n_estimators': 2048, 'enable_categorical': True}. Best is trial 84 with value: 0.9292636627035668.\n"
     ]
    },
    {
     "name": "stderr",
     "output_type": "stream",
     "text": [
      "Best trial: 84. Best value: 0.929264:  47%|█████████████████████████████████████▎                                         | 236/500 [03:44<04:18,  1.02it/s]"
     ]
    },
    {
     "name": "stdout",
     "output_type": "stream",
     "text": [
      "[I 2025-02-03 14:00:07,013] Trial 235 finished with value: 0.9282645618942952 and parameters: {'learning_rate': 0.07582396839581113, 'max_depth': 25, 'min_child_weight': 7, 'subsample': 0.41580140719919223, 'colsample_bytree': 0.9997558679648473, 'gamma': 0.0003245541620558081, 'lambda': 5.380224988729721, 'alpha': 0.024302050312990656, 'eta': 8.837660260874821e-07, 'n_estimators': 2048, 'enable_categorical': True}. Best is trial 84 with value: 0.9292636627035668.\n"
     ]
    },
    {
     "name": "stderr",
     "output_type": "stream",
     "text": [
      "Best trial: 84. Best value: 0.929264:  47%|█████████████████████████████████████▍                                         | 237/500 [03:45<04:03,  1.08it/s]"
     ]
    },
    {
     "name": "stdout",
     "output_type": "stream",
     "text": [
      "[I 2025-02-03 14:00:07,812] Trial 236 finished with value: 0.9272654610850235 and parameters: {'learning_rate': 0.09573437721810038, 'max_depth': 24, 'min_child_weight': 7, 'subsample': 0.31523993841234826, 'colsample_bytree': 0.7766695764921696, 'gamma': 0.00026365143074881715, 'lambda': 0.04596336693586775, 'alpha': 0.020434820879451806, 'eta': 2.512678017567598e-06, 'n_estimators': 2048, 'enable_categorical': True}. Best is trial 84 with value: 0.9292636627035668.\n"
     ]
    },
    {
     "name": "stderr",
     "output_type": "stream",
     "text": [
      "Best trial: 84. Best value: 0.929264:  48%|█████████████████████████████████████▌                                         | 238/500 [03:46<04:03,  1.07it/s]"
     ]
    },
    {
     "name": "stdout",
     "output_type": "stream",
     "text": [
      "[I 2025-02-03 14:00:08,753] Trial 237 finished with value: 0.9282645618942952 and parameters: {'learning_rate': 0.08529549186193634, 'max_depth': 23, 'min_child_weight': 7, 'subsample': 0.3722374410397128, 'colsample_bytree': 0.7889788635862679, 'gamma': 0.0004077995664412524, 'lambda': 0.050785497654814236, 'alpha': 0.027821362762724094, 'eta': 7.176857202371272e-07, 'n_estimators': 2048, 'enable_categorical': True}. Best is trial 84 with value: 0.9292636627035668.\n"
     ]
    },
    {
     "name": "stderr",
     "output_type": "stream",
     "text": [
      "Best trial: 84. Best value: 0.929264:  48%|█████████████████████████████████████▊                                         | 239/500 [03:47<03:47,  1.14it/s]"
     ]
    },
    {
     "name": "stdout",
     "output_type": "stream",
     "text": [
      "[I 2025-02-03 14:00:09,493] Trial 238 finished with value: 0.9279648316515137 and parameters: {'learning_rate': 0.10850170555349922, 'max_depth': 25, 'min_child_weight': 8, 'subsample': 0.47138324400496173, 'colsample_bytree': 0.9988772966054001, 'gamma': 0.00018213521269851404, 'lambda': 0.2297811993068997, 'alpha': 0.015216233205489897, 'eta': 0.00017685757600630997, 'n_estimators': 32, 'enable_categorical': True}. Best is trial 84 with value: 0.9292636627035668.\n"
     ]
    },
    {
     "name": "stderr",
     "output_type": "stream",
     "text": [
      "Best trial: 84. Best value: 0.929264:  48%|█████████████████████████████████████▉                                         | 240/500 [03:48<03:48,  1.14it/s]"
     ]
    },
    {
     "name": "stdout",
     "output_type": "stream",
     "text": [
      "[I 2025-02-03 14:00:10,384] Trial 239 finished with value: 0.9277650114896593 and parameters: {'learning_rate': 0.07286153544169614, 'max_depth': 26, 'min_child_weight': 12, 'subsample': 0.39884537361499767, 'colsample_bytree': 0.865095324320345, 'gamma': 0.000107677339775794, 'lambda': 0.0612433235650601, 'alpha': 0.02385009161211765, 'eta': 1.13246486502432e-06, 'n_estimators': 2048, 'enable_categorical': True}. Best is trial 84 with value: 0.9292636627035668.\n"
     ]
    },
    {
     "name": "stderr",
     "output_type": "stream",
     "text": [
      "Best trial: 84. Best value: 0.929264:  48%|██████████████████████████████████████                                         | 241/500 [03:49<03:50,  1.12it/s]"
     ]
    },
    {
     "name": "stdout",
     "output_type": "stream",
     "text": [
      "[I 2025-02-03 14:00:11,304] Trial 240 finished with value: 0.9271655510040964 and parameters: {'learning_rate': 0.06999924246558187, 'max_depth': 24, 'min_child_weight': 20, 'subsample': 0.43462569534176304, 'colsample_bytree': 0.6852020291884746, 'gamma': 0.0003869490375730381, 'lambda': 0.04611720566273963, 'alpha': 0.03118289475310849, 'eta': 5.264614646827497e-07, 'n_estimators': 4096, 'enable_categorical': True}. Best is trial 84 with value: 0.9292636627035668.\n"
     ]
    },
    {
     "name": "stderr",
     "output_type": "stream",
     "text": [
      "Best trial: 84. Best value: 0.929264:  48%|██████████████████████████████████████▏                                        | 242/500 [03:50<04:43,  1.10s/it]"
     ]
    },
    {
     "name": "stdout",
     "output_type": "stream",
     "text": [
      "[I 2025-02-03 14:00:12,889] Trial 241 finished with value: 0.9291637526226396 and parameters: {'learning_rate': 0.04961459711333443, 'max_depth': 26, 'min_child_weight': 8, 'subsample': 0.5376090551869963, 'colsample_bytree': 0.9924086675690617, 'gamma': 0.0006882310813394802, 'lambda': 0.059238530593126865, 'alpha': 0.01999964951106649, 'eta': 3.814427448667274e-07, 'n_estimators': 1024, 'enable_categorical': True}. Best is trial 84 with value: 0.9292636627035668.\n"
     ]
    },
    {
     "name": "stderr",
     "output_type": "stream",
     "text": [
      "Best trial: 84. Best value: 0.929264:  49%|██████████████████████████████████████▍                                        | 243/500 [03:52<05:19,  1.24s/it]"
     ]
    },
    {
     "name": "stdout",
     "output_type": "stream",
     "text": [
      "[I 2025-02-03 14:00:14,471] Trial 242 finished with value: 0.9281646518133679 and parameters: {'learning_rate': 0.048011727376976586, 'max_depth': 26, 'min_child_weight': 8, 'subsample': 0.5143432434386984, 'colsample_bytree': 0.8895348667433072, 'gamma': 0.00048193405800405083, 'lambda': 0.05499419272200421, 'alpha': 0.019730458958199172, 'eta': 7.771728004183145e-07, 'n_estimators': 128, 'enable_categorical': True}. Best is trial 84 with value: 0.9292636627035668.\n"
     ]
    },
    {
     "name": "stderr",
     "output_type": "stream",
     "text": [
      "Best trial: 84. Best value: 0.929264:  49%|██████████████████████████████████████▌                                        | 244/500 [03:53<05:53,  1.38s/it]"
     ]
    },
    {
     "name": "stdout",
     "output_type": "stream",
     "text": [
      "[I 2025-02-03 14:00:16,169] Trial 243 finished with value: 0.9282645618942952 and parameters: {'learning_rate': 0.052039350558528014, 'max_depth': 25, 'min_child_weight': 7, 'subsample': 0.5492852718977029, 'colsample_bytree': 0.8834383844936401, 'gamma': 0.00025775796006172256, 'lambda': 0.06048508116258489, 'alpha': 0.017375589898038012, 'eta': 4.596511412802118e-07, 'n_estimators': 1024, 'enable_categorical': True}. Best is trial 84 with value: 0.9292636627035668.\n"
     ]
    },
    {
     "name": "stderr",
     "output_type": "stream",
     "text": [
      "Best trial: 84. Best value: 0.929264:  49%|██████████████████████████████████████▋                                        | 245/500 [03:55<06:05,  1.43s/it]"
     ]
    },
    {
     "name": "stdout",
     "output_type": "stream",
     "text": [
      "[I 2025-02-03 14:00:17,726] Trial 244 finished with value: 0.9277650114896593 and parameters: {'learning_rate': 0.04331553112347756, 'max_depth': 27, 'min_child_weight': 8, 'subsample': 0.46725369777005493, 'colsample_bytree': 0.7685730554860257, 'gamma': 0.0008040021725774085, 'lambda': 0.04501839013286593, 'alpha': 0.022586344064866003, 'eta': 9.708966567378475e-07, 'n_estimators': 4096, 'enable_categorical': True}. Best is trial 84 with value: 0.9292636627035668.\n"
     ]
    },
    {
     "name": "stderr",
     "output_type": "stream",
     "text": [
      "Best trial: 84. Best value: 0.929264:  49%|██████████████████████████████████████▊                                        | 246/500 [03:56<05:54,  1.40s/it]"
     ]
    },
    {
     "name": "stdout",
     "output_type": "stream",
     "text": [
      "[I 2025-02-03 14:00:19,034] Trial 245 finished with value: 0.9255669897092617 and parameters: {'learning_rate': 0.004418261332458248, 'max_depth': 26, 'min_child_weight': 8, 'subsample': 0.3499694177103887, 'colsample_bytree': 0.9151205216012196, 'gamma': 0.000594734774786579, 'lambda': 0.2552602886650457, 'alpha': 0.027307762250920856, 'eta': 1.848808566910968e-06, 'n_estimators': 2048, 'enable_categorical': True}. Best is trial 84 with value: 0.9292636627035668.\n"
     ]
    },
    {
     "name": "stderr",
     "output_type": "stream",
     "text": [
      "Best trial: 84. Best value: 0.929264:  49%|███████████████████████████████████████                                        | 247/500 [03:57<05:16,  1.25s/it]"
     ]
    },
    {
     "name": "stdout",
     "output_type": "stream",
     "text": [
      "[I 2025-02-03 14:00:19,941] Trial 246 finished with value: 0.9292636627035668 and parameters: {'learning_rate': 0.0873945870180715, 'max_depth': 25, 'min_child_weight': 8, 'subsample': 0.535450995333585, 'colsample_bytree': 0.9985789975066646, 'gamma': 0.00032689218432657274, 'lambda': 0.18820414835609006, 'alpha': 0.034096611886089465, 'eta': 2.5358643108609434e-07, 'n_estimators': 64, 'enable_categorical': True}. Best is trial 84 with value: 0.9292636627035668.\n"
     ]
    },
    {
     "name": "stderr",
     "output_type": "stream",
     "text": [
      "Best trial: 84. Best value: 0.929264:  50%|███████████████████████████████████████▏                                       | 248/500 [03:58<05:02,  1.20s/it]"
     ]
    },
    {
     "name": "stdout",
     "output_type": "stream",
     "text": [
      "[I 2025-02-03 14:00:21,029] Trial 247 finished with value: 0.9288640223798581 and parameters: {'learning_rate': 0.08069550682032814, 'max_depth': 25, 'min_child_weight': 8, 'subsample': 0.4242214628717213, 'colsample_bytree': 0.7583733918221317, 'gamma': 0.00035290748107596125, 'lambda': 0.18212186108982553, 'alpha': 0.03216088625444295, 'eta': 1.7890710963626375e-07, 'n_estimators': 2048, 'enable_categorical': True}. Best is trial 84 with value: 0.9292636627035668.\n"
     ]
    },
    {
     "name": "stderr",
     "output_type": "stream",
     "text": [
      "Best trial: 84. Best value: 0.929264:  50%|███████████████████████████████████████▎                                       | 249/500 [04:00<05:04,  1.21s/it]"
     ]
    },
    {
     "name": "stdout",
     "output_type": "stream",
     "text": [
      "[I 2025-02-03 14:00:22,274] Trial 248 finished with value: 0.9285642921370766 and parameters: {'learning_rate': 0.06607468307522095, 'max_depth': 25, 'min_child_weight': 8, 'subsample': 0.42494522001885054, 'colsample_bytree': 0.7478412028430468, 'gamma': 0.0003508841078710588, 'lambda': 0.17338233240375475, 'alpha': 0.0200795167642633, 'eta': 9.331858380689624e-08, 'n_estimators': 2048, 'enable_categorical': True}. Best is trial 84 with value: 0.9292636627035668.\n"
     ]
    },
    {
     "name": "stderr",
     "output_type": "stream",
     "text": [
      "Best trial: 84. Best value: 0.929264:  50%|███████████████████████████████████████▌                                       | 250/500 [04:00<04:35,  1.10s/it]"
     ]
    },
    {
     "name": "stdout",
     "output_type": "stream",
     "text": [
      "[I 2025-02-03 14:00:23,120] Trial 249 finished with value: 0.9274652812468778 and parameters: {'learning_rate': 0.07893226267672025, 'max_depth': 26, 'min_child_weight': 8, 'subsample': 0.28317471122355853, 'colsample_bytree': 0.7985642451083561, 'gamma': 0.0004649961297407471, 'lambda': 0.18377826734866232, 'alpha': 0.02591346431336137, 'eta': 2.396326321017348e-07, 'n_estimators': 64, 'enable_categorical': True}. Best is trial 84 with value: 0.9292636627035668.\n"
     ]
    },
    {
     "name": "stderr",
     "output_type": "stream",
     "text": [
      "Best trial: 84. Best value: 0.929264:  50%|███████████████████████████████████████▋                                       | 251/500 [04:02<04:47,  1.15s/it]"
     ]
    },
    {
     "name": "stdout",
     "output_type": "stream",
     "text": [
      "[I 2025-02-03 14:00:24,389] Trial 250 finished with value: 0.9254670796283345 and parameters: {'learning_rate': 0.0547801353217731, 'max_depth': 27, 'min_child_weight': 8, 'subsample': 0.35929177456154476, 'colsample_bytree': 0.5886425395407684, 'gamma': 0.0009263187337628506, 'lambda': 0.2100954341011505, 'alpha': 0.029708429592577967, 'eta': 1.4618858314604468e-06, 'n_estimators': 64, 'enable_categorical': True}. Best is trial 84 with value: 0.9292636627035668.\n"
     ]
    },
    {
     "name": "stderr",
     "output_type": "stream",
     "text": [
      "Best trial: 84. Best value: 0.929264:  50%|███████████████████████████████████████▊                                       | 252/500 [04:03<04:34,  1.11s/it]"
     ]
    },
    {
     "name": "stdout",
     "output_type": "stream",
     "text": [
      "[I 2025-02-03 14:00:25,388] Trial 251 finished with value: 0.9270656409231691 and parameters: {'learning_rate': 0.08942148546262538, 'max_depth': 25, 'min_child_weight': 8, 'subsample': 0.5053263461546484, 'colsample_bytree': 0.7000391915068499, 'gamma': 0.0002719262139696491, 'lambda': 0.30712036180317287, 'alpha': 0.017474073594164436, 'eta': 1.6698907331821994e-07, 'n_estimators': 2048, 'enable_categorical': True}. Best is trial 84 with value: 0.9292636627035668.\n"
     ]
    },
    {
     "name": "stderr",
     "output_type": "stream",
     "text": [
      "Best trial: 84. Best value: 0.929264:  51%|███████████████████████████████████████▉                                       | 253/500 [04:04<04:32,  1.10s/it]"
     ]
    },
    {
     "name": "stdout",
     "output_type": "stream",
     "text": [
      "[I 2025-02-03 14:00:26,483] Trial 252 finished with value: 0.9289639324607853 and parameters: {'learning_rate': 0.0668620516953739, 'max_depth': 26, 'min_child_weight': 8, 'subsample': 0.4388684771291389, 'colsample_bytree': 0.8655676665427223, 'gamma': 0.001427804132828671, 'lambda': 0.24874058235021804, 'alpha': 0.02332987818053618, 'eta': 6.384117666562145e-07, 'n_estimators': 2048, 'enable_categorical': True}. Best is trial 84 with value: 0.9292636627035668.\n"
     ]
    },
    {
     "name": "stderr",
     "output_type": "stream",
     "text": [
      "Best trial: 84. Best value: 0.929264:  51%|████████████████████████████████████████▏                                      | 254/500 [04:05<04:17,  1.05s/it]"
     ]
    },
    {
     "name": "stdout",
     "output_type": "stream",
     "text": [
      "[I 2025-02-03 14:00:27,395] Trial 253 finished with value: 0.9272654610850235 and parameters: {'learning_rate': 0.07144475368267318, 'max_depth': 25, 'min_child_weight': 8, 'subsample': 0.4190122989679385, 'colsample_bytree': 0.8105693327595689, 'gamma': 0.0014864802736977293, 'lambda': 0.23479687829102908, 'alpha': 1.0877401371980044, 'eta': 5.779761604544021e-07, 'n_estimators': 64, 'enable_categorical': True}. Best is trial 84 with value: 0.9292636627035668.\n"
     ]
    },
    {
     "name": "stderr",
     "output_type": "stream",
     "text": [
      "Best trial: 84. Best value: 0.929264:  51%|████████████████████████████████████████▎                                      | 255/500 [04:05<03:47,  1.08it/s]"
     ]
    },
    {
     "name": "stdout",
     "output_type": "stream",
     "text": [
      "[I 2025-02-03 14:00:28,047] Trial 254 finished with value: 0.9284643820561495 and parameters: {'learning_rate': 0.10645535412401454, 'max_depth': 26, 'min_child_weight': 8, 'subsample': 0.33245118564311743, 'colsample_bytree': 0.8622834945232032, 'gamma': 0.0013226924751176933, 'lambda': 0.27850484742280884, 'alpha': 0.014287908066476254, 'eta': 1.788760789657732e-07, 'n_estimators': 2048, 'enable_categorical': True}. Best is trial 84 with value: 0.9292636627035668.\n"
     ]
    },
    {
     "name": "stderr",
     "output_type": "stream",
     "text": [
      "Best trial: 84. Best value: 0.929264:  51%|████████████████████████████████████████▍                                      | 256/500 [04:07<04:19,  1.06s/it]"
     ]
    },
    {
     "name": "stdout",
     "output_type": "stream",
     "text": [
      "[I 2025-02-03 14:00:29,427] Trial 255 finished with value: 0.9270656409231691 and parameters: {'learning_rate': 0.06262764326172149, 'max_depth': 27, 'min_child_weight': 10, 'subsample': 0.5366598860187639, 'colsample_bytree': 0.6876588536746192, 'gamma': 0.0027181056591676902, 'lambda': 0.16904894692300576, 'alpha': 0.021945646839103508, 'eta': 2.6623855075299123e-07, 'n_estimators': 2048, 'enable_categorical': True}. Best is trial 84 with value: 0.9292636627035668.\n"
     ]
    },
    {
     "name": "stderr",
     "output_type": "stream",
     "text": [
      "Best trial: 84. Best value: 0.929264:  51%|████████████████████████████████████████▌                                      | 257/500 [04:08<04:01,  1.01it/s]"
     ]
    },
    {
     "name": "stdout",
     "output_type": "stream",
     "text": [
      "[I 2025-02-03 14:00:30,261] Trial 256 finished with value: 0.9280647417324408 and parameters: {'learning_rate': 0.08301717303755206, 'max_depth': 25, 'min_child_weight': 8, 'subsample': 0.3782573547250017, 'colsample_bytree': 0.8953554440477666, 'gamma': 0.0007876701314871215, 'lambda': 0.14947913826210804, 'alpha': 0.02435247705665141, 'eta': 7.053593458515917e-07, 'n_estimators': 2048, 'enable_categorical': True}. Best is trial 84 with value: 0.9292636627035668.\n"
     ]
    },
    {
     "name": "stderr",
     "output_type": "stream",
     "text": [
      "Best trial: 84. Best value: 0.929264:  52%|████████████████████████████████████████▊                                      | 258/500 [04:09<04:29,  1.11s/it]"
     ]
    },
    {
     "name": "stdout",
     "output_type": "stream",
     "text": [
      "[I 2025-02-03 14:00:31,655] Trial 257 finished with value: 0.9280647417324408 and parameters: {'learning_rate': 0.05351404400297205, 'max_depth': 26, 'min_child_weight': 8, 'subsample': 0.4392764995549309, 'colsample_bytree': 0.7712368298141004, 'gamma': 0.0005522288465918356, 'lambda': 0.19885452125585149, 'alpha': 0.016065179420483314, 'eta': 1.1507534006874587e-06, 'n_estimators': 64, 'enable_categorical': True}. Best is trial 84 with value: 0.9292636627035668.\n"
     ]
    },
    {
     "name": "stderr",
     "output_type": "stream",
     "text": [
      "Best trial: 84. Best value: 0.929264:  52%|████████████████████████████████████████▉                                      | 259/500 [04:09<03:23,  1.19it/s]"
     ]
    },
    {
     "name": "stdout",
     "output_type": "stream",
     "text": [
      "[I 2025-02-03 14:00:31,864] Trial 258 finished with value: 0.9126785892696573 and parameters: {'learning_rate': 0.04429397524041162, 'max_depth': 3, 'min_child_weight': 5, 'subsample': 0.5277098335285575, 'colsample_bytree': 0.6067849389621461, 'gamma': 0.0004237906523608782, 'lambda': 0.34127412339871704, 'alpha': 0.019769516821292334, 'eta': 5.431802123874635e-07, 'n_estimators': 2048, 'enable_categorical': True}. Best is trial 84 with value: 0.9292636627035668.\n"
     ]
    },
    {
     "name": "stderr",
     "output_type": "stream",
     "text": [
      "Best trial: 84. Best value: 0.929264:  52%|█████████████████████████████████████████                                      | 260/500 [04:09<02:45,  1.45it/s]"
     ]
    },
    {
     "name": "stdout",
     "output_type": "stream",
     "text": [
      "[I 2025-02-03 14:00:32,192] Trial 259 finished with value: 0.8618243580777301 and parameters: {'learning_rate': 0.07267354617194166, 'max_depth': 24, 'min_child_weight': 8, 'subsample': 0.0910658742874584, 'colsample_bytree': 0.03831753189335801, 'gamma': 0.0009891829339210212, 'lambda': 0.23127503425164722, 'alpha': 0.03270615608876369, 'eta': 1.1888580719900552e-07, 'n_estimators': 2048, 'enable_categorical': True}. Best is trial 84 with value: 0.9292636627035668.\n"
     ]
    },
    {
     "name": "stderr",
     "output_type": "stream",
     "text": [
      "Best trial: 84. Best value: 0.929264:  52%|█████████████████████████████████████████▏                                     | 261/500 [04:10<02:57,  1.34it/s]"
     ]
    },
    {
     "name": "stdout",
     "output_type": "stream",
     "text": [
      "[I 2025-02-03 14:00:33,066] Trial 260 finished with value: 0.9284643820561495 and parameters: {'learning_rate': 0.09180301499070904, 'max_depth': 25, 'min_child_weight': 8, 'subsample': 0.46771955667003107, 'colsample_bytree': 0.9986077343003078, 'gamma': 0.0002067716809780788, 'lambda': 0.2532329303674548, 'alpha': 0.026182982274338858, 'eta': 3.124249708492363e-07, 'n_estimators': 2048, 'enable_categorical': True}. Best is trial 84 with value: 0.9292636627035668.\n"
     ]
    },
    {
     "name": "stderr",
     "output_type": "stream",
     "text": [
      "Best trial: 84. Best value: 0.929264:  52%|█████████████████████████████████████████▍                                     | 262/500 [04:11<02:47,  1.42it/s]"
     ]
    },
    {
     "name": "stdout",
     "output_type": "stream",
     "text": [
      "[I 2025-02-03 14:00:33,670] Trial 261 finished with value: 0.9277650114896593 and parameters: {'learning_rate': 0.1225824490094199, 'max_depth': 26, 'min_child_weight': 17, 'subsample': 0.5749967484987026, 'colsample_bytree': 0.8812476193802934, 'gamma': 0.0006489400078887137, 'lambda': 0.1895471854641376, 'alpha': 0.02121142376463661, 'eta': 1.596654202364197e-06, 'n_estimators': 2048, 'enable_categorical': True}. Best is trial 84 with value: 0.9292636627035668.\n",
      "[I 2025-02-03 14:00:33,756] Trial 262 finished with value: 0.48396443201118994 and parameters: {'learning_rate': 0.06697199414461279, 'max_depth': 27, 'min_child_weight': 8, 'subsample': 0.0010177890679138738, 'colsample_bytree': 0.7232043150017756, 'gamma': 0.0017798530681696397, 'lambda': 0.1428568838570781, 'alpha': 0.011015156946523032, 'eta': 1.0047414781683575e-06, 'n_estimators': 1024, 'enable_categorical': True}. Best is trial 84 with value: 0.9292636627035668.\n"
     ]
    },
    {
     "name": "stderr",
     "output_type": "stream",
     "text": [
      "Best trial: 84. Best value: 0.929264:  53%|█████████████████████████████████████████▋                                     | 264/500 [04:12<02:47,  1.41it/s]"
     ]
    },
    {
     "name": "stdout",
     "output_type": "stream",
     "text": [
      "[I 2025-02-03 14:00:35,105] Trial 263 finished with value: 0.928764112298931 and parameters: {'learning_rate': 0.056093073135433116, 'max_depth': 26, 'min_child_weight': 8, 'subsample': 0.4179717402277147, 'colsample_bytree': 0.7933998937805974, 'gamma': 0.00031030903876861135, 'lambda': 0.034771200473663, 'alpha': 0.030546175990272418, 'eta': 3.080689644180021e-06, 'n_estimators': 2048, 'enable_categorical': True}. Best is trial 84 with value: 0.9292636627035668.\n"
     ]
    },
    {
     "name": "stderr",
     "output_type": "stream",
     "text": [
      "Best trial: 84. Best value: 0.929264:  53%|█████████████████████████████████████████▊                                     | 265/500 [04:13<02:31,  1.55it/s]"
     ]
    },
    {
     "name": "stdout",
     "output_type": "stream",
     "text": [
      "[I 2025-02-03 14:00:35,557] Trial 264 finished with value: 0.8695174343091218 and parameters: {'learning_rate': 0.08736681258935987, 'max_depth': 24, 'min_child_weight': 8, 'subsample': 0.4887353071729302, 'colsample_bytree': 0.0012606553799671045, 'gamma': 0.0002030934816342577, 'lambda': 0.29065346838320816, 'alpha': 0.01617614013960792, 'eta': 4.457368456050215e-07, 'n_estimators': 1536, 'enable_categorical': True}. Best is trial 84 with value: 0.9292636627035668.\n"
     ]
    },
    {
     "name": "stderr",
     "output_type": "stream",
     "text": [
      "Best trial: 84. Best value: 0.929264:  53%|██████████████████████████████████████████                                     | 266/500 [04:13<02:18,  1.69it/s]"
     ]
    },
    {
     "name": "stdout",
     "output_type": "stream",
     "text": [
      "[I 2025-02-03 14:00:35,991] Trial 265 finished with value: 0.8633230092916375 and parameters: {'learning_rate': 0.07601082184738475, 'max_depth': 25, 'min_child_weight': 8, 'subsample': 0.2973483944307008, 'colsample_bytree': 0.09097871807733325, 'gamma': 0.0004914459634874012, 'lambda': 0.4017064501604612, 'alpha': 0.023834530385561662, 'eta': 2.106810920785623e-07, 'n_estimators': 2048, 'enable_categorical': True}. Best is trial 84 with value: 0.9292636627035668.\n"
     ]
    },
    {
     "name": "stderr",
     "output_type": "stream",
     "text": [
      "Best trial: 84. Best value: 0.929264:  53%|██████████████████████████████████████████▏                                    | 267/500 [04:14<02:22,  1.63it/s]"
     ]
    },
    {
     "name": "stdout",
     "output_type": "stream",
     "text": [
      "[I 2025-02-03 14:00:36,666] Trial 266 finished with value: 0.9288640223798581 and parameters: {'learning_rate': 0.10335735092136988, 'max_depth': 27, 'min_child_weight': 8, 'subsample': 0.37679716093017374, 'colsample_bytree': 0.993728383587375, 'gamma': 0.0007436064509443373, 'lambda': 0.22628648232375959, 'alpha': 0.03416281307030001, 'eta': 8.203878931197363e-07, 'n_estimators': 768, 'enable_categorical': True}. Best is trial 84 with value: 0.9292636627035668.\n"
     ]
    },
    {
     "name": "stderr",
     "output_type": "stream",
     "text": [
      "Best trial: 84. Best value: 0.929264:  54%|██████████████████████████████████████████▎                                    | 268/500 [04:14<02:13,  1.74it/s]"
     ]
    },
    {
     "name": "stdout",
     "output_type": "stream",
     "text": [
      "[I 2025-02-03 14:00:37,144] Trial 267 finished with value: 0.9256668997901888 and parameters: {'learning_rate': 0.11020743201926841, 'max_depth': 28, 'min_child_weight': 18, 'subsample': 0.2354717114627801, 'colsample_bytree': 0.8959209093528074, 'gamma': 0.0010140362340026318, 'lambda': 0.20105166329698362, 'alpha': 0.035118680768013895, 'eta': 6.963585119660622e-07, 'n_estimators': 256, 'enable_categorical': True}. Best is trial 84 with value: 0.9292636627035668.\n"
     ]
    },
    {
     "name": "stderr",
     "output_type": "stream",
     "text": [
      "Best trial: 84. Best value: 0.929264:  54%|██████████████████████████████████████████▌                                    | 269/500 [04:15<01:58,  1.94it/s]"
     ]
    },
    {
     "name": "stdout",
     "output_type": "stream",
     "text": [
      "[I 2025-02-03 14:00:37,508] Trial 268 finished with value: 0.9206713957438305 and parameters: {'learning_rate': 0.14703342698668723, 'max_depth': 27, 'min_child_weight': 8, 'subsample': 0.11325756701819607, 'colsample_bytree': 0.6403109854974669, 'gamma': 0.0007708614262473411, 'lambda': 0.24991885173372855, 'alpha': 0.03720445139662243, 'eta': 4.09216652705906e-07, 'n_estimators': 768, 'enable_categorical': True}. Best is trial 84 with value: 0.9292636627035668.\n"
     ]
    },
    {
     "name": "stderr",
     "output_type": "stream",
     "text": [
      "Best trial: 84. Best value: 0.929264:  54%|██████████████████████████████████████████▋                                    | 270/500 [04:15<01:58,  1.93it/s]"
     ]
    },
    {
     "name": "stdout",
     "output_type": "stream",
     "text": [
      "[I 2025-02-03 14:00:38,030] Trial 269 finished with value: 0.9265660905185333 and parameters: {'learning_rate': 0.09860350201562403, 'max_depth': 28, 'min_child_weight': 10, 'subsample': 0.35442005190243986, 'colsample_bytree': 0.8046667385985857, 'gamma': 0.5371848147791528, 'lambda': 0.6627472981251351, 'alpha': 0.012576046278155766, 'eta': 6.997724916493912e-07, 'n_estimators': 768, 'enable_categorical': True}. Best is trial 84 with value: 0.9292636627035668.\n"
     ]
    },
    {
     "name": "stderr",
     "output_type": "stream",
     "text": [
      "Best trial: 84. Best value: 0.929264:  54%|██████████████████████████████████████████▊                                    | 271/500 [04:17<03:26,  1.11it/s]"
     ]
    },
    {
     "name": "stdout",
     "output_type": "stream",
     "text": [
      "[I 2025-02-03 14:00:39,855] Trial 270 finished with value: 0.9282645618942952 and parameters: {'learning_rate': 0.0391069979941899, 'max_depth': 27, 'min_child_weight': 7, 'subsample': 0.5869414633091448, 'colsample_bytree': 0.8853387858144138, 'gamma': 0.0013152503846294505, 'lambda': 0.15097447230066297, 'alpha': 0.029985497703240903, 'eta': 6.0633541490492e-08, 'n_estimators': 768, 'enable_categorical': True}. Best is trial 84 with value: 0.9292636627035668.\n"
     ]
    },
    {
     "name": "stderr",
     "output_type": "stream",
     "text": [
      "Best trial: 84. Best value: 0.929264:  54%|██████████████████████████████████████████▉                                    | 272/500 [04:18<03:02,  1.25it/s]"
     ]
    },
    {
     "name": "stdout",
     "output_type": "stream",
     "text": [
      "[I 2025-02-03 14:00:40,413] Trial 271 finished with value: 0.9274652812468778 and parameters: {'learning_rate': 0.11853457824135423, 'max_depth': 24, 'min_child_weight': 8, 'subsample': 0.3839042584796621, 'colsample_bytree': 0.9997663544589667, 'gamma': 0.0006985012056467572, 'lambda': 1.0599766884365158, 'alpha': 0.019048924563704092, 'eta': 2.929146189780986e-07, 'n_estimators': 768, 'enable_categorical': True}. Best is trial 84 with value: 0.9292636627035668.\n"
     ]
    },
    {
     "name": "stderr",
     "output_type": "stream",
     "text": [
      "Best trial: 84. Best value: 0.929264:  55%|███████████████████████████████████████████▏                                   | 273/500 [04:19<03:46,  1.00it/s]"
     ]
    },
    {
     "name": "stdout",
     "output_type": "stream",
     "text": [
      "[I 2025-02-03 14:00:41,878] Trial 272 finished with value: 0.9274652812468778 and parameters: {'learning_rate': 0.045138700455562536, 'max_depth': 25, 'min_child_weight': 9, 'subsample': 0.5240882060418708, 'colsample_bytree': 0.6979901928702146, 'gamma': 0.00016014215506914744, 'lambda': 0.30235681789016167, 'alpha': 0.03875499893047812, 'eta': 5.176904179906172e-07, 'n_estimators': 512, 'enable_categorical': True}. Best is trial 84 with value: 0.9292636627035668.\n"
     ]
    },
    {
     "name": "stderr",
     "output_type": "stream",
     "text": [
      "Best trial: 84. Best value: 0.929264:  55%|███████████████████████████████████████████▎                                   | 274/500 [04:21<04:24,  1.17s/it]"
     ]
    },
    {
     "name": "stdout",
     "output_type": "stream",
     "text": [
      "[I 2025-02-03 14:00:43,455] Trial 273 finished with value: 0.9285642921370766 and parameters: {'learning_rate': 0.062355969976437504, 'max_depth': 26, 'min_child_weight': 8, 'subsample': 0.6227606891114792, 'colsample_bytree': 0.8114985811617224, 'gamma': 0.0004898678067662439, 'lambda': 0.2068918601102763, 'alpha': 0.029747232719245387, 'eta': 2.1433038040266825e-06, 'n_estimators': 64, 'enable_categorical': True}. Best is trial 84 with value: 0.9292636627035668.\n"
     ]
    },
    {
     "name": "stderr",
     "output_type": "stream",
     "text": [
      "Best trial: 84. Best value: 0.929264:  55%|███████████████████████████████████████████▍                                   | 275/500 [04:21<03:41,  1.02it/s]"
     ]
    },
    {
     "name": "stdout",
     "output_type": "stream",
     "text": [
      "[I 2025-02-03 14:00:44,003] Trial 274 finished with value: 0.9267659106803876 and parameters: {'learning_rate': 0.10154508278314972, 'max_depth': 24, 'min_child_weight': 13, 'subsample': 0.32453978104160247, 'colsample_bytree': 0.8835673214985326, 'gamma': 0.0002429638424749122, 'lambda': 0.16386613612448944, 'alpha': 0.02219526046617151, 'eta': 7.884194196829352e-07, 'n_estimators': 3096, 'enable_categorical': True}. Best is trial 84 with value: 0.9292636627035668.\n"
     ]
    },
    {
     "name": "stderr",
     "output_type": "stream",
     "text": [
      "Best trial: 84. Best value: 0.929264:  55%|███████████████████████████████████████████▌                                   | 276/500 [04:22<03:39,  1.02it/s]"
     ]
    },
    {
     "name": "stdout",
     "output_type": "stream",
     "text": [
      "[I 2025-02-03 14:00:44,973] Trial 275 finished with value: 0.928764112298931 and parameters: {'learning_rate': 0.050443316276991945, 'max_depth': 11, 'min_child_weight': 6, 'subsample': 0.43204015821594394, 'colsample_bytree': 0.9971429263076778, 'gamma': 0.00038226618093224995, 'lambda': 0.13092808726011324, 'alpha': 0.04431294878785414, 'eta': 1.2930919531826848e-07, 'n_estimators': 2048, 'enable_categorical': True}. Best is trial 84 with value: 0.9292636627035668.\n"
     ]
    },
    {
     "name": "stderr",
     "output_type": "stream",
     "text": [
      "Best trial: 84. Best value: 0.929264:  55%|███████████████████████████████████████████▊                                   | 277/500 [04:23<03:05,  1.21it/s]"
     ]
    },
    {
     "name": "stdout",
     "output_type": "stream",
     "text": [
      "[I 2025-02-03 14:00:45,451] Trial 276 finished with value: 0.9277650114896593 and parameters: {'learning_rate': 0.08558963338764289, 'max_depth': 8, 'min_child_weight': 11, 'subsample': 0.4828907477450991, 'colsample_bytree': 0.714249539494614, 'gamma': 0.0011016723628296523, 'lambda': 0.4822860472357922, 'alpha': 0.14556302414132988, 'eta': 1.302966525704631e-06, 'n_estimators': 2048, 'enable_categorical': True}. Best is trial 84 with value: 0.9292636627035668.\n"
     ]
    },
    {
     "name": "stderr",
     "output_type": "stream",
     "text": [
      "Best trial: 84. Best value: 0.929264:  56%|███████████████████████████████████████████▉                                   | 278/500 [04:24<03:49,  1.03s/it]"
     ]
    },
    {
     "name": "stdout",
     "output_type": "stream",
     "text": [
      "[I 2025-02-03 14:00:46,960] Trial 277 finished with value: 0.9253671695474074 and parameters: {'learning_rate': 0.08124632661076339, 'max_depth': 29, 'min_child_weight': 8, 'subsample': 0.5500019498425662, 'colsample_bytree': 0.5534566783379511, 'gamma': 0.0023486886371469574, 'lambda': 0.2187215488949672, 'alpha': 0.017711949571557667, 'eta': 3.802023609610706e-07, 'n_estimators': 2048, 'enable_categorical': True}. Best is trial 84 with value: 0.9292636627035668.\n"
     ]
    },
    {
     "name": "stderr",
     "output_type": "stream",
     "text": [
      "Best trial: 84. Best value: 0.929264:  56%|████████████████████████████████████████████                                   | 279/500 [04:25<03:44,  1.02s/it]"
     ]
    },
    {
     "name": "stdout",
     "output_type": "stream",
     "text": [
      "[I 2025-02-03 14:00:47,934] Trial 278 finished with value: 0.9270656409231691 and parameters: {'learning_rate': 0.05979884466344565, 'max_depth': 27, 'min_child_weight': 16, 'subsample': 0.37804746261997585, 'colsample_bytree': 0.7849056054440509, 'gamma': 0.0005221963234543308, 'lambda': 0.026299657697833583, 'alpha': 0.03433561816633465, 'eta': 8.837428951430612e-07, 'n_estimators': 768, 'enable_categorical': True}. Best is trial 84 with value: 0.9292636627035668.\n"
     ]
    },
    {
     "name": "stderr",
     "output_type": "stream",
     "text": [
      "Best trial: 84. Best value: 0.929264:  56%|████████████████████████████████████████████▏                                  | 280/500 [04:26<03:05,  1.18it/s]"
     ]
    },
    {
     "name": "stdout",
     "output_type": "stream",
     "text": [
      "[I 2025-02-03 14:00:48,379] Trial 279 finished with value: 0.92456788889999 and parameters: {'learning_rate': 0.09194241774941835, 'max_depth': 25, 'min_child_weight': 8, 'subsample': 0.07633833090088207, 'colsample_bytree': 0.8885504968599607, 'gamma': 0.0002823425646170303, 'lambda': 0.33529799817375133, 'alpha': 0.027072009335496427, 'eta': 2.4002141318925717e-07, 'n_estimators': 2048, 'enable_categorical': True}. Best is trial 84 with value: 0.9292636627035668.\n"
     ]
    },
    {
     "name": "stderr",
     "output_type": "stream",
     "text": [
      "Best trial: 84. Best value: 0.929264:  56%|████████████████████████████████████████████▍                                  | 281/500 [04:27<03:33,  1.02it/s]"
     ]
    },
    {
     "name": "stdout",
     "output_type": "stream",
     "text": [
      "[I 2025-02-03 14:00:49,665] Trial 280 finished with value: 0.9286642022180038 and parameters: {'learning_rate': 0.06700560001993372, 'max_depth': 28, 'min_child_weight': 8, 'subsample': 0.650539646900818, 'colsample_bytree': 0.9998717868479031, 'gamma': 0.0007175829424136139, 'lambda': 0.0391539057311293, 'alpha': 0.02148762192226814, 'eta': 5.987181412784741e-07, 'n_estimators': 5120, 'enable_categorical': True}. Best is trial 84 with value: 0.9292636627035668.\n"
     ]
    },
    {
     "name": "stderr",
     "output_type": "stream",
     "text": [
      "Best trial: 84. Best value: 0.929264:  56%|████████████████████████████████████████████▌                                  | 282/500 [04:28<04:04,  1.12s/it]"
     ]
    },
    {
     "name": "stdout",
     "output_type": "stream",
     "text": [
      "[I 2025-02-03 14:00:51,120] Trial 281 finished with value: 0.9278649215705864 and parameters: {'learning_rate': 0.05197854602652752, 'max_depth': 26, 'min_child_weight': 8, 'subsample': 0.46898951614808804, 'colsample_bytree': 0.6838969968180915, 'gamma': 0.00015536567141164224, 'lambda': 0.24735626311057096, 'alpha': 0.04003935476690599, 'eta': 1.8686103115650796e-06, 'n_estimators': 32, 'enable_categorical': True}. Best is trial 84 with value: 0.9292636627035668.\n"
     ]
    },
    {
     "name": "stderr",
     "output_type": "stream",
     "text": [
      "Best trial: 84. Best value: 0.929264:  57%|████████████████████████████████████████████▋                                  | 283/500 [04:29<03:20,  1.08it/s]"
     ]
    },
    {
     "name": "stdout",
     "output_type": "stream",
     "text": [
      "[I 2025-02-03 14:00:51,583] Trial 282 finished with value: 0.92456788889999 and parameters: {'learning_rate': 0.10636117447716974, 'max_depth': 25, 'min_child_weight': 19, 'subsample': 0.2883521152505145, 'colsample_bytree': 0.7754013970971935, 'gamma': 0.0003549715858900082, 'lambda': 0.18501322999587105, 'alpha': 5.880427534968972, 'eta': 1.042005965200028e-06, 'n_estimators': 128, 'enable_categorical': True}. Best is trial 84 with value: 0.9292636627035668.\n"
     ]
    },
    {
     "name": "stderr",
     "output_type": "stream",
     "text": [
      "Best trial: 84. Best value: 0.929264:  57%|████████████████████████████████████████████▊                                  | 284/500 [04:30<03:05,  1.16it/s]"
     ]
    },
    {
     "name": "stdout",
     "output_type": "stream",
     "text": [
      "[I 2025-02-03 14:00:52,291] Trial 283 finished with value: 0.9278649215705864 and parameters: {'learning_rate': 0.13579933880642991, 'max_depth': 26, 'min_child_weight': 8, 'subsample': 0.5740541004314241, 'colsample_bytree': 0.8723009830655455, 'gamma': 0.00023444656003626983, 'lambda': 0.28253012499625885, 'alpha': 0.014593511793352196, 'eta': 4.6431249072550965e-07, 'n_estimators': 2048, 'enable_categorical': True}. Best is trial 84 with value: 0.9292636627035668.\n"
     ]
    },
    {
     "name": "stderr",
     "output_type": "stream",
     "text": [
      "Best trial: 84. Best value: 0.929264:  57%|█████████████████████████████████████████████                                  | 285/500 [04:31<03:17,  1.09it/s]"
     ]
    },
    {
     "name": "stdout",
     "output_type": "stream",
     "text": [
      "[I 2025-02-03 14:00:53,343] Trial 284 finished with value: 0.9267659106803876 and parameters: {'learning_rate': 0.07688148390702108, 'max_depth': 25, 'min_child_weight': 12, 'subsample': 0.3970904141913828, 'colsample_bytree': 0.6124334292142106, 'gamma': 3.184744338151921e-08, 'lambda': 0.03464535436329782, 'alpha': 0.027278524359852438, 'eta': 6.726187763244694e-07, 'n_estimators': 4096, 'enable_categorical': True}. Best is trial 84 with value: 0.9292636627035668.\n"
     ]
    },
    {
     "name": "stderr",
     "output_type": "stream",
     "text": [
      "Best trial: 84. Best value: 0.929264:  57%|█████████████████████████████████████████████▏                                 | 286/500 [04:32<03:22,  1.06it/s]"
     ]
    },
    {
     "name": "stdout",
     "output_type": "stream",
     "text": [
      "[I 2025-02-03 14:00:54,354] Trial 285 finished with value: 0.9272654610850235 and parameters: {'learning_rate': 0.05859944502500509, 'max_depth': 27, 'min_child_weight': 20, 'subsample': 0.4980407735596227, 'colsample_bytree': 0.8786929851781065, 'gamma': 0.0005635118382124596, 'lambda': 0.02309136849111882, 'alpha': 0.05297253002338399, 'eta': 1.719178993748359e-07, 'n_estimators': 2048, 'enable_categorical': True}. Best is trial 84 with value: 0.9292636627035668.\n"
     ]
    },
    {
     "name": "stderr",
     "output_type": "stream",
     "text": [
      "Best trial: 84. Best value: 0.929264:  57%|█████████████████████████████████████████████▎                                 | 287/500 [04:33<04:12,  1.18s/it]"
     ]
    },
    {
     "name": "stdout",
     "output_type": "stream",
     "text": [
      "[I 2025-02-03 14:00:56,098] Trial 286 finished with value: 0.9289639324607853 and parameters: {'learning_rate': 0.047603744251519635, 'max_depth': 24, 'min_child_weight': 8, 'subsample': 0.6701597236179164, 'colsample_bytree': 0.9983507608051811, 'gamma': 0.0015444061626711163, 'lambda': 0.16870187833872902, 'alpha': 0.03398309781991787, 'eta': 2.9734253293028037e-07, 'n_estimators': 4096, 'enable_categorical': True}. Best is trial 84 with value: 0.9292636627035668.\n"
     ]
    },
    {
     "name": "stderr",
     "output_type": "stream",
     "text": [
      "Best trial: 84. Best value: 0.929264:  58%|█████████████████████████████████████████████▌                                 | 288/500 [04:35<04:38,  1.31s/it]"
     ]
    },
    {
     "name": "stdout",
     "output_type": "stream",
     "text": [
      "[I 2025-02-03 14:00:57,713] Trial 287 finished with value: 0.9290638425417125 and parameters: {'learning_rate': 0.04213374432173828, 'max_depth': 24, 'min_child_weight': 8, 'subsample': 0.6977961236246799, 'colsample_bytree': 0.9893382945154836, 'gamma': 0.0018832449874382846, 'lambda': 0.16675131399843537, 'alpha': 0.19535981549427608, 'eta': 2.3357355540961412e-07, 'n_estimators': 4096, 'enable_categorical': True}. Best is trial 84 with value: 0.9292636627035668.\n"
     ]
    },
    {
     "name": "stderr",
     "output_type": "stream",
     "text": [
      "Best trial: 84. Best value: 0.929264:  58%|█████████████████████████████████████████████▋                                 | 289/500 [04:37<04:59,  1.42s/it]"
     ]
    },
    {
     "name": "stdout",
     "output_type": "stream",
     "text": [
      "[I 2025-02-03 14:00:59,380] Trial 288 finished with value: 0.9268658207613149 and parameters: {'learning_rate': 0.03392048185988995, 'max_depth': 24, 'min_child_weight': 8, 'subsample': 0.6801371366250943, 'colsample_bytree': 0.7632031255778403, 'gamma': 0.0017817388684300637, 'lambda': 0.13172165223707893, 'alpha': 0.19764031687157405, 'eta': 1.1328839571976143e-07, 'n_estimators': 4096, 'enable_categorical': True}. Best is trial 84 with value: 0.9292636627035668.\n"
     ]
    },
    {
     "name": "stderr",
     "output_type": "stream",
     "text": [
      "Best trial: 84. Best value: 0.929264:  58%|█████████████████████████████████████████████▊                                 | 290/500 [04:38<04:47,  1.37s/it]"
     ]
    },
    {
     "name": "stdout",
     "output_type": "stream",
     "text": [
      "[I 2025-02-03 14:01:00,629] Trial 289 finished with value: 0.9288640223798581 and parameters: {'learning_rate': 0.0376491038549258, 'max_depth': 23, 'min_child_weight': 8, 'subsample': 0.6981091999159925, 'colsample_bytree': 0.9966415716513072, 'gamma': 0.0015941980034369797, 'lambda': 0.18702235919970023, 'alpha': 0.5063873257810052, 'eta': 2.1486714086015748e-07, 'n_estimators': 4096, 'enable_categorical': True}. Best is trial 84 with value: 0.9292636627035668.\n"
     ]
    },
    {
     "name": "stderr",
     "output_type": "stream",
     "text": [
      "Best trial: 84. Best value: 0.929264:  58%|█████████████████████████████████████████████▉                                 | 291/500 [04:39<04:24,  1.27s/it]"
     ]
    },
    {
     "name": "stdout",
     "output_type": "stream",
     "text": [
      "[I 2025-02-03 14:01:01,658] Trial 290 finished with value: 0.9278649215705864 and parameters: {'learning_rate': 0.03795259515373904, 'max_depth': 23, 'min_child_weight': 8, 'subsample': 0.7021161976696826, 'colsample_bytree': 0.8047884643499431, 'gamma': 0.004806657769284512, 'lambda': 0.178552010848062, 'alpha': 1.0226937739157898, 'eta': 2.4710119768847456e-07, 'n_estimators': 4096, 'enable_categorical': True}. Best is trial 84 with value: 0.9292636627035668.\n"
     ]
    },
    {
     "name": "stderr",
     "output_type": "stream",
     "text": [
      "Best trial: 84. Best value: 0.929264:  58%|██████████████████████████████████████████████▏                                | 292/500 [04:40<04:31,  1.30s/it]"
     ]
    },
    {
     "name": "stdout",
     "output_type": "stream",
     "text": [
      "[I 2025-02-03 14:01:03,046] Trial 291 finished with value: 0.9288640223798581 and parameters: {'learning_rate': 0.04017767997631181, 'max_depth': 24, 'min_child_weight': 8, 'subsample': 0.627854522048269, 'colsample_bytree': 0.9845130371842419, 'gamma': 0.0018441294170500006, 'lambda': 0.1544632459661863, 'alpha': 0.3081087533322639, 'eta': 3.146068902421785e-07, 'n_estimators': 4096, 'enable_categorical': True}. Best is trial 84 with value: 0.9292636627035668.\n"
     ]
    },
    {
     "name": "stderr",
     "output_type": "stream",
     "text": [
      "Best trial: 84. Best value: 0.929264:  59%|██████████████████████████████████████████████▎                                | 293/500 [04:42<04:32,  1.32s/it]"
     ]
    },
    {
     "name": "stdout",
     "output_type": "stream",
     "text": [
      "[I 2025-02-03 14:01:04,399] Trial 292 finished with value: 0.9285642921370766 and parameters: {'learning_rate': 0.03504233105415078, 'max_depth': 24, 'min_child_weight': 8, 'subsample': 0.7558000860478293, 'colsample_bytree': 0.9965040620239975, 'gamma': 0.0021522622531012924, 'lambda': 0.15541148809811675, 'alpha': 0.4446224538591403, 'eta': 2.9850141308280713e-07, 'n_estimators': 4096, 'enable_categorical': True}. Best is trial 84 with value: 0.9292636627035668.\n"
     ]
    },
    {
     "name": "stderr",
     "output_type": "stream",
     "text": [
      "Best trial: 84. Best value: 0.929264:  59%|██████████████████████████████████████████████▍                                | 294/500 [04:43<04:25,  1.29s/it]"
     ]
    },
    {
     "name": "stdout",
     "output_type": "stream",
     "text": [
      "[I 2025-02-03 14:01:05,626] Trial 293 finished with value: 0.9286642022180038 and parameters: {'learning_rate': 0.040853642520555775, 'max_depth': 24, 'min_child_weight': 8, 'subsample': 0.625562681013382, 'colsample_bytree': 0.9915581951677963, 'gamma': 0.003093337026681015, 'lambda': 0.11571561122046206, 'alpha': 0.4884279425644728, 'eta': 1.6652063985412076e-07, 'n_estimators': 4096, 'enable_categorical': True}. Best is trial 84 with value: 0.9292636627035668.\n"
     ]
    },
    {
     "name": "stderr",
     "output_type": "stream",
     "text": [
      "Best trial: 84. Best value: 0.929264:  59%|██████████████████████████████████████████████▌                                | 295/500 [04:44<04:31,  1.32s/it]"
     ]
    },
    {
     "name": "stdout",
     "output_type": "stream",
     "text": [
      "[I 2025-02-03 14:01:07,028] Trial 294 finished with value: 0.9280647417324408 and parameters: {'learning_rate': 0.02881810336021536, 'max_depth': 23, 'min_child_weight': 8, 'subsample': 0.7279492351465052, 'colsample_bytree': 0.995113796161859, 'gamma': 0.0015589798629211584, 'lambda': 0.16583078582103455, 'alpha': 0.3522469949924268, 'eta': 2.3274017463998244e-07, 'n_estimators': 4096, 'enable_categorical': True}. Best is trial 84 with value: 0.9292636627035668.\n"
     ]
    },
    {
     "name": "stderr",
     "output_type": "stream",
     "text": [
      "Best trial: 84. Best value: 0.929264:  59%|██████████████████████████████████████████████▊                                | 296/500 [04:45<04:19,  1.27s/it]"
     ]
    },
    {
     "name": "stdout",
     "output_type": "stream",
     "text": [
      "[I 2025-02-03 14:01:08,187] Trial 295 finished with value: 0.9274652812468778 and parameters: {'learning_rate': 0.04044758309187487, 'max_depth': 24, 'min_child_weight': 8, 'subsample': 0.6352295619045927, 'colsample_bytree': 0.8777605049951903, 'gamma': 0.0029260436516017, 'lambda': 0.21806677517120893, 'alpha': 0.6110725043822969, 'eta': 3.3008736598178756e-07, 'n_estimators': 4096, 'enable_categorical': True}. Best is trial 84 with value: 0.9292636627035668.\n"
     ]
    },
    {
     "name": "stderr",
     "output_type": "stream",
     "text": [
      "Best trial: 84. Best value: 0.929264:  59%|██████████████████████████████████████████████▉                                | 297/500 [04:46<03:13,  1.05it/s]"
     ]
    },
    {
     "name": "stdout",
     "output_type": "stream",
     "text": [
      "[I 2025-02-03 14:01:08,393] Trial 296 finished with value: 0.8916974722749526 and parameters: {'learning_rate': 0.03220885318120107, 'max_depth': 24, 'min_child_weight': 10, 'subsample': 0.007082253598716074, 'colsample_bytree': 0.8867243357550639, 'gamma': 0.00424895755540992, 'lambda': 0.1947140146853808, 'alpha': 0.3396911888378642, 'eta': 3.1270149901925e-07, 'n_estimators': 4096, 'enable_categorical': True}. Best is trial 84 with value: 0.9292636627035668.\n"
     ]
    },
    {
     "name": "stderr",
     "output_type": "stream",
     "text": [
      "Best trial: 84. Best value: 0.929264:  60%|███████████████████████████████████████████████                                | 298/500 [04:47<03:26,  1.02s/it]"
     ]
    },
    {
     "name": "stdout",
     "output_type": "stream",
     "text": [
      "[I 2025-02-03 14:01:09,571] Trial 297 finished with value: 0.9285642921370766 and parameters: {'learning_rate': 0.044802953098463015, 'max_depth': 23, 'min_child_weight': 7, 'subsample': 0.6033861232000832, 'colsample_bytree': 0.9977299951566864, 'gamma': 0.0014373477814185066, 'lambda': 0.14380437189764544, 'alpha': 0.6151285198959665, 'eta': 1.9439193505378144e-07, 'n_estimators': 4096, 'enable_categorical': True}. Best is trial 84 with value: 0.9292636627035668.\n"
     ]
    },
    {
     "name": "stderr",
     "output_type": "stream",
     "text": [
      "Best trial: 84. Best value: 0.929264:  60%|███████████████████████████████████████████████▏                               | 299/500 [04:48<04:02,  1.21s/it]"
     ]
    },
    {
     "name": "stdout",
     "output_type": "stream",
     "text": [
      "[I 2025-02-03 14:01:11,215] Trial 298 finished with value: 0.9278649215705864 and parameters: {'learning_rate': 0.0459503026814946, 'max_depth': 25, 'min_child_weight': 8, 'subsample': 0.7838622352101593, 'colsample_bytree': 0.7174063493356455, 'gamma': 0.0020460997190347775, 'lambda': 0.17412622642512834, 'alpha': 0.27505478536261935, 'eta': 4.024462932781769e-07, 'n_estimators': 4096, 'enable_categorical': True}. Best is trial 84 with value: 0.9292636627035668.\n"
     ]
    },
    {
     "name": "stderr",
     "output_type": "stream",
     "text": [
      "Best trial: 84. Best value: 0.929264:  60%|███████████████████████████████████████████████▍                               | 300/500 [04:50<04:31,  1.36s/it]"
     ]
    },
    {
     "name": "stdout",
     "output_type": "stream",
     "text": [
      "[I 2025-02-03 14:01:12,924] Trial 299 finished with value: 0.9276651014087322 and parameters: {'learning_rate': 0.0390097978101005, 'max_depth': 25, 'min_child_weight': 5, 'subsample': 0.5499025064952457, 'colsample_bytree': 0.8240189336789636, 'gamma': 0.006644608830488824, 'lambda': 0.13309578923421406, 'alpha': 0.2387013755324355, 'eta': 3.9832916326154035e-07, 'n_estimators': 4096, 'enable_categorical': True}. Best is trial 84 with value: 0.9292636627035668.\n"
     ]
    },
    {
     "name": "stderr",
     "output_type": "stream",
     "text": [
      "Best trial: 84. Best value: 0.929264:  60%|███████████████████████████████████████████████▌                               | 301/500 [04:51<03:44,  1.13s/it]"
     ]
    },
    {
     "name": "stdout",
     "output_type": "stream",
     "text": [
      "[I 2025-02-03 14:01:13,513] Trial 300 finished with value: 0.9232690578479369 and parameters: {'learning_rate': 0.03502451630446502, 'max_depth': 24, 'min_child_weight': 8, 'subsample': 0.1400435636723917, 'colsample_bytree': 0.7738210126595059, 'gamma': 0.0012177647315595502, 'lambda': 0.21150159361970103, 'alpha': 0.686575555546776, 'eta': 2.2460268794757797e-07, 'n_estimators': 4096, 'enable_categorical': True}. Best is trial 84 with value: 0.9292636627035668.\n"
     ]
    },
    {
     "name": "stderr",
     "output_type": "stream",
     "text": [
      "Best trial: 84. Best value: 0.929264:  60%|███████████████████████████████████████████████▋                               | 302/500 [04:52<03:55,  1.19s/it]"
     ]
    },
    {
     "name": "stdout",
     "output_type": "stream",
     "text": [
      "[I 2025-02-03 14:01:14,846] Trial 301 finished with value: 0.9282645618942952 and parameters: {'learning_rate': 0.029857957345640274, 'max_depth': 25, 'min_child_weight': 8, 'subsample': 0.6750209902990064, 'colsample_bytree': 0.8872333214139804, 'gamma': 0.001001201860752404, 'lambda': 0.1677507621552848, 'alpha': 0.3971462820448973, 'eta': 9.072218902331372e-08, 'n_estimators': 4096, 'enable_categorical': True}. Best is trial 84 with value: 0.9292636627035668.\n"
     ]
    },
    {
     "name": "stderr",
     "output_type": "stream",
     "text": [
      "Best trial: 84. Best value: 0.929264:  61%|███████████████████████████████████████████████▊                               | 303/500 [04:53<03:36,  1.10s/it]"
     ]
    },
    {
     "name": "stdout",
     "output_type": "stream",
     "text": [
      "[I 2025-02-03 14:01:15,735] Trial 302 finished with value: 0.9236686981716455 and parameters: {'learning_rate': 0.02290862619445794, 'max_depth': 22, 'min_child_weight': 8, 'subsample': 0.34602455095588336, 'colsample_bytree': 0.6744229523720324, 'gamma': 0.0021619265454072335, 'lambda': 0.1030381539833148, 'alpha': 0.5174888645055743, 'eta': 4.889736919367392e-07, 'n_estimators': 64, 'enable_categorical': True}. Best is trial 84 with value: 0.9292636627035668.\n"
     ]
    },
    {
     "name": "stderr",
     "output_type": "stream",
     "text": [
      "Best trial: 84. Best value: 0.929264:  61%|████████████████████████████████████████████████                               | 304/500 [04:54<03:03,  1.07it/s]"
     ]
    },
    {
     "name": "stdout",
     "output_type": "stream",
     "text": [
      "[I 2025-02-03 14:01:16,285] Trial 303 finished with value: 0.927565191327805 and parameters: {'learning_rate': 0.1207198903776557, 'max_depth': 24, 'min_child_weight': 17, 'subsample': 0.5263651679032529, 'colsample_bytree': 0.885354226317715, 'gamma': 0.0011685252375969958, 'lambda': 0.2122956788821688, 'alpha': 0.33939632361621924, 'eta': 1.6061941915834005e-07, 'n_estimators': 4096, 'enable_categorical': True}. Best is trial 84 with value: 0.9292636627035668.\n"
     ]
    },
    {
     "name": "stderr",
     "output_type": "stream",
     "text": [
      "Best trial: 84. Best value: 0.929264:  61%|████████████████████████████████████████████████▏                              | 305/500 [04:54<03:00,  1.08it/s]"
     ]
    },
    {
     "name": "stdout",
     "output_type": "stream",
     "text": [
      "[I 2025-02-03 14:01:17,195] Trial 304 finished with value: 0.9272654610850235 and parameters: {'learning_rate': 0.047570393199762064, 'max_depth': 23, 'min_child_weight': 8, 'subsample': 0.44060140905960554, 'colsample_bytree': 0.7681485127135002, 'gamma': 0.0008450345932752369, 'lambda': 0.24985659795303242, 'alpha': 0.8488892912301734, 'eta': 2.813080780449285e-07, 'n_estimators': 4096, 'enable_categorical': True}. Best is trial 84 with value: 0.9292636627035668.\n"
     ]
    },
    {
     "name": "stderr",
     "output_type": "stream",
     "text": [
      "Best trial: 84. Best value: 0.929264:  61%|████████████████████████████████████████████████▎                              | 306/500 [04:55<02:49,  1.15it/s]"
     ]
    },
    {
     "name": "stdout",
     "output_type": "stream",
     "text": [
      "[I 2025-02-03 14:01:17,939] Trial 305 finished with value: 0.9288640223798581 and parameters: {'learning_rate': 0.09684918856074214, 'max_depth': 25, 'min_child_weight': 8, 'subsample': 0.6343102213015253, 'colsample_bytree': 0.8880947189587213, 'gamma': 0.0018296769762180904, 'lambda': 0.1398054336426361, 'alpha': 0.531156085220117, 'eta': 4.677483576923113e-07, 'n_estimators': 4096, 'enable_categorical': True}. Best is trial 84 with value: 0.9292636627035668.\n"
     ]
    },
    {
     "name": "stderr",
     "output_type": "stream",
     "text": [
      "Best trial: 84. Best value: 0.929264:  61%|████████████████████████████████████████████████▌                              | 307/500 [04:56<02:19,  1.39it/s]"
     ]
    },
    {
     "name": "stdout",
     "output_type": "stream",
     "text": [
      "[I 2025-02-03 14:01:18,311] Trial 306 finished with value: 0.8719152762513738 and parameters: {'learning_rate': 0.09425598510308277, 'max_depth': 25, 'min_child_weight': 8, 'subsample': 0.8417483984087037, 'colsample_bytree': 0.06470324381122629, 'gamma': 0.0037361829417826824, 'lambda': 0.112810904724455, 'alpha': 0.503393768181756, 'eta': 3.683150605746258e-05, 'n_estimators': 4096, 'enable_categorical': True}. Best is trial 84 with value: 0.9292636627035668.\n"
     ]
    },
    {
     "name": "stderr",
     "output_type": "stream",
     "text": [
      "Best trial: 84. Best value: 0.929264:  62%|████████████████████████████████████████████████▋                              | 308/500 [04:56<02:18,  1.38it/s]"
     ]
    },
    {
     "name": "stdout",
     "output_type": "stream",
     "text": [
      "[I 2025-02-03 14:01:19,039] Trial 307 finished with value: 0.9286642022180038 and parameters: {'learning_rate': 0.10581721498937292, 'max_depth': 24, 'min_child_weight': 8, 'subsample': 0.6754447471901852, 'colsample_bytree': 0.9862829480374579, 'gamma': 0.003010815343843028, 'lambda': 0.1459091542885478, 'alpha': 0.3257022963329998, 'eta': 6.029999374920123e-07, 'n_estimators': 768, 'enable_categorical': True}. Best is trial 84 with value: 0.9292636627035668.\n"
     ]
    },
    {
     "name": "stderr",
     "output_type": "stream",
     "text": [
      "Best trial: 84. Best value: 0.929264:  62%|████████████████████████████████████████████████▊                              | 309/500 [04:57<01:49,  1.74it/s]"
     ]
    },
    {
     "name": "stdout",
     "output_type": "stream",
     "text": [
      "[I 2025-02-03 14:01:19,265] Trial 308 finished with value: 0.9273653711659506 and parameters: {'learning_rate': 0.11954506258177228, 'max_depth': 5, 'min_child_weight': 8, 'subsample': 0.5796837451487836, 'colsample_bytree': 0.8929696994067338, 'gamma': 0.0015618696285017997, 'lambda': 0.12687833354106176, 'alpha': 0.39383280316669644, 'eta': 3.0888932914045803e-07, 'n_estimators': 1536, 'enable_categorical': True}. Best is trial 84 with value: 0.9292636627035668.\n"
     ]
    },
    {
     "name": "stderr",
     "output_type": "stream",
     "text": [
      "Best trial: 84. Best value: 0.929264:  62%|████████████████████████████████████████████████▉                              | 310/500 [04:57<02:11,  1.45it/s]"
     ]
    },
    {
     "name": "stdout",
     "output_type": "stream",
     "text": [
      "[I 2025-02-03 14:01:20,228] Trial 309 finished with value: 0.9280647417324408 and parameters: {'learning_rate': 0.09448157673619939, 'max_depth': 25, 'min_child_weight': 8, 'subsample': 0.40207649000480616, 'colsample_bytree': 0.7147774649132309, 'gamma': 0.0019311103409509207, 'lambda': 0.1751451566835863, 'alpha': 0.03155056378879671, 'eta': 4.923295527105358e-07, 'n_estimators': 4096, 'enable_categorical': True}. Best is trial 84 with value: 0.9292636627035668.\n"
     ]
    },
    {
     "name": "stderr",
     "output_type": "stream",
     "text": [
      "Best trial: 84. Best value: 0.929264:  62%|█████████████████████████████████████████████████▏                             | 311/500 [04:58<01:51,  1.69it/s]"
     ]
    },
    {
     "name": "stdout",
     "output_type": "stream",
     "text": [
      "[I 2025-02-03 14:01:20,589] Trial 310 finished with value: 0.8809071835348187 and parameters: {'learning_rate': 0.13775281675107826, 'max_depth': 23, 'min_child_weight': 8, 'subsample': 0.2610630374368577, 'colsample_bytree': 0.01212276659799854, 'gamma': 0.001329893099250172, 'lambda': 0.14660545197104893, 'alpha': 0.5459323190560603, 'eta': 8.06578750094823e-07, 'n_estimators': 4096, 'enable_categorical': True}. Best is trial 84 with value: 0.9292636627035668.\n"
     ]
    },
    {
     "name": "stderr",
     "output_type": "stream",
     "text": [
      "Best trial: 84. Best value: 0.929264:  62%|█████████████████████████████████████████████████▎                             | 312/500 [04:59<02:01,  1.55it/s]"
     ]
    },
    {
     "name": "stdout",
     "output_type": "stream",
     "text": [
      "[I 2025-02-03 14:01:21,356] Trial 311 finished with value: 0.9292636627035668 and parameters: {'learning_rate': 0.07967759212520266, 'max_depth': 24, 'min_child_weight': 8, 'subsample': 0.4846186888877062, 'colsample_bytree': 0.9999266295388536, 'gamma': 0.0008456433843703784, 'lambda': 0.19109863637768584, 'alpha': 0.43520061985607666, 'eta': 0.0005230765566100135, 'n_estimators': 3096, 'enable_categorical': True}. Best is trial 84 with value: 0.9292636627035668.\n"
     ]
    },
    {
     "name": "stderr",
     "output_type": "stream",
     "text": [
      "Best trial: 84. Best value: 0.929264:  63%|█████████████████████████████████████████████████▍                             | 313/500 [04:59<02:05,  1.49it/s]"
     ]
    },
    {
     "name": "stdout",
     "output_type": "stream",
     "text": [
      "[I 2025-02-03 14:01:22,083] Trial 312 finished with value: 0.9286642022180038 and parameters: {'learning_rate': 0.07564489182912267, 'max_depth': 24, 'min_child_weight': 8, 'subsample': 0.3218879973247169, 'colsample_bytree': 0.9833087375911682, 'gamma': 0.0009022567282575727, 'lambda': 0.24879432279967897, 'alpha': 0.41893864461122143, 'eta': 0.00013660600408099826, 'n_estimators': 3096, 'enable_categorical': True}. Best is trial 84 with value: 0.9292636627035668.\n"
     ]
    },
    {
     "name": "stderr",
     "output_type": "stream",
     "text": [
      "Best trial: 84. Best value: 0.929264:  63%|█████████████████████████████████████████████████▌                             | 314/500 [05:00<02:28,  1.25it/s]"
     ]
    },
    {
     "name": "stdout",
     "output_type": "stream",
     "text": [
      "[I 2025-02-03 14:01:23,187] Trial 313 finished with value: 0.9283644719752223 and parameters: {'learning_rate': 0.042949335309200025, 'max_depth': 22, 'min_child_weight': 8, 'subsample': 0.4706177454504459, 'colsample_bytree': 0.9944551747288328, 'gamma': 0.0007341189036646155, 'lambda': 0.20004122483015116, 'alpha': 0.43029723244957113, 'eta': 0.0064439769543925985, 'n_estimators': 3096, 'enable_categorical': True}. Best is trial 84 with value: 0.9292636627035668.\n"
     ]
    },
    {
     "name": "stderr",
     "output_type": "stream",
     "text": [
      "Best trial: 84. Best value: 0.929264:  63%|█████████████████████████████████████████████████▊                             | 315/500 [05:02<02:43,  1.13it/s]"
     ]
    },
    {
     "name": "stdout",
     "output_type": "stream",
     "text": [
      "[I 2025-02-03 14:01:24,271] Trial 314 finished with value: 0.9283644719752223 and parameters: {'learning_rate': 0.05139284014613039, 'max_depth': 23, 'min_child_weight': 8, 'subsample': 0.37988354840733796, 'colsample_bytree': 0.7990748940552976, 'gamma': 0.0010384266460400958, 'lambda': 0.30185179159356024, 'alpha': 0.3050281541583412, 'eta': 0.0008783163268316357, 'n_estimators': 256, 'enable_categorical': True}. Best is trial 84 with value: 0.9292636627035668.\n"
     ]
    },
    {
     "name": "stderr",
     "output_type": "stream",
     "text": [
      "Best trial: 84. Best value: 0.929264:  63%|█████████████████████████████████████████████████▉                             | 316/500 [05:02<02:39,  1.15it/s]"
     ]
    },
    {
     "name": "stdout",
     "output_type": "stream",
     "text": [
      "[I 2025-02-03 14:01:25,100] Trial 315 finished with value: 0.9280647417324408 and parameters: {'learning_rate': 0.08249131308313234, 'max_depth': 24, 'min_child_weight': 9, 'subsample': 0.5071025517053186, 'colsample_bytree': 0.8128403364076039, 'gamma': 0.0007029964916919551, 'lambda': 0.23447426398127152, 'alpha': 0.4055418406435215, 'eta': 8.642623585151853e-05, 'n_estimators': 512, 'enable_categorical': True}. Best is trial 84 with value: 0.9292636627035668.\n"
     ]
    },
    {
     "name": "stderr",
     "output_type": "stream",
     "text": [
      "Best trial: 84. Best value: 0.929264:  63%|██████████████████████████████████████████████████                             | 317/500 [05:03<02:50,  1.08it/s]"
     ]
    },
    {
     "name": "stdout",
     "output_type": "stream",
     "text": [
      "[I 2025-02-03 14:01:26,174] Trial 316 finished with value: 0.9271655510040964 and parameters: {'learning_rate': 0.07002401336791902, 'max_depth': 23, 'min_child_weight': 7, 'subsample': 0.447904378045444, 'colsample_bytree': 0.6352266266279157, 'gamma': 0.0004633671963269374, 'lambda': 0.181057164443841, 'alpha': 0.7624209616767053, 'eta': 2.0328546654172377e-07, 'n_estimators': 3096, 'enable_categorical': True}. Best is trial 84 with value: 0.9292636627035668.\n"
     ]
    },
    {
     "name": "stderr",
     "output_type": "stream",
     "text": [
      "Best trial: 84. Best value: 0.929264:  64%|██████████████████████████████████████████████████▍                            | 319/500 [05:05<02:10,  1.39it/s]"
     ]
    },
    {
     "name": "stdout",
     "output_type": "stream",
     "text": [
      "[I 2025-02-03 14:01:27,223] Trial 317 finished with value: 0.9281646518133679 and parameters: {'learning_rate': 0.03896089061438862, 'max_depth': 26, 'min_child_weight': 18, 'subsample': 0.5272129437975872, 'colsample_bytree': 0.994696565378773, 'gamma': 0.0010727049131660565, 'lambda': 0.21132668739080002, 'alpha': 0.18735063710904976, 'eta': 1.317253959661142e-07, 'n_estimators': 3096, 'enable_categorical': True}. Best is trial 84 with value: 0.9292636627035668.\n",
      "[I 2025-02-03 14:01:27,376] Trial 318 finished with value: 0.8613248076730942 and parameters: {'learning_rate': 0.0663945110217089, 'max_depth': 25, 'min_child_weight': 11, 'subsample': 0.00239117081254059, 'colsample_bytree': 0.8924232057558675, 'gamma': 0.0006618224791813173, 'lambda': 0.28575572329033777, 'alpha': 0.025186425286948987, 'eta': 8.01358782871786e-07, 'n_estimators': 3096, 'enable_categorical': True}. Best is trial 84 with value: 0.9292636627035668.\n"
     ]
    },
    {
     "name": "stderr",
     "output_type": "stream",
     "text": [
      "Best trial: 84. Best value: 0.929264:  64%|██████████████████████████████████████████████████▌                            | 320/500 [05:05<01:40,  1.80it/s]"
     ]
    },
    {
     "name": "stdout",
     "output_type": "stream",
     "text": [
      "[I 2025-02-03 14:01:27,545] Trial 319 finished with value: 0.9086821860325707 and parameters: {'learning_rate': 0.18668862468545053, 'max_depth': 24, 'min_child_weight': 8, 'subsample': 0.016375793399386357, 'colsample_bytree': 0.754999706443149, 'gamma': 0.0003745505373130076, 'lambda': 0.10055003548220662, 'alpha': 0.03167646907495898, 'eta': 0.0003292392358761378, 'n_estimators': 64, 'enable_categorical': True}. Best is trial 84 with value: 0.9292636627035668.\n"
     ]
    },
    {
     "name": "stderr",
     "output_type": "stream",
     "text": [
      "Best trial: 84. Best value: 0.929264:  64%|██████████████████████████████████████████████████▋                            | 321/500 [05:06<01:48,  1.66it/s]"
     ]
    },
    {
     "name": "stdout",
     "output_type": "stream",
     "text": [
      "[I 2025-02-03 14:01:28,260] Trial 320 finished with value: 0.926965730842242 and parameters: {'learning_rate': 0.08519403003720226, 'max_depth': 26, 'min_child_weight': 16, 'subsample': 0.3447781385828234, 'colsample_bytree': 0.8650254437737419, 'gamma': 0.0008411464693110559, 'lambda': 0.159929651248668, 'alpha': 0.018994907615949366, 'eta': 1.4108665906045582e-06, 'n_estimators': 5120, 'enable_categorical': True}. Best is trial 84 with value: 0.9292636627035668.\n"
     ]
    },
    {
     "name": "stderr",
     "output_type": "stream",
     "text": [
      "Best trial: 84. Best value: 0.929264:  64%|██████████████████████████████████████████████████▉                            | 322/500 [05:06<01:50,  1.61it/s]"
     ]
    },
    {
     "name": "stdout",
     "output_type": "stream",
     "text": [
      "[I 2025-02-03 14:01:28,920] Trial 321 finished with value: 0.9284643820561495 and parameters: {'learning_rate': 0.10920663964780493, 'max_depth': 25, 'min_child_weight': 8, 'subsample': 0.43419809148906885, 'colsample_bytree': 0.9956479317111564, 'gamma': 0.0015322592988470654, 'lambda': 0.36063369483794316, 'alpha': 0.024740542017162248, 'eta': 0.00048241019888209044, 'n_estimators': 32, 'enable_categorical': True}. Best is trial 84 with value: 0.9292636627035668.\n"
     ]
    },
    {
     "name": "stderr",
     "output_type": "stream",
     "text": [
      "Best trial: 84. Best value: 0.929264:  65%|███████████████████████████████████████████████████                            | 323/500 [05:08<02:28,  1.19it/s]"
     ]
    },
    {
     "name": "stdout",
     "output_type": "stream",
     "text": [
      "[I 2025-02-03 14:01:30,266] Trial 322 finished with value: 0.9280647417324408 and parameters: {'learning_rate': 0.050518874480403646, 'max_depth': 24, 'min_child_weight': 13, 'subsample': 0.5919830040962496, 'colsample_bytree': 0.6965943054825343, 'gamma': 0.006410094141026292, 'lambda': 0.18815527508830246, 'alpha': 0.015413284334867315, 'eta': 2.637365565229704e-05, 'n_estimators': 128, 'enable_categorical': True}. Best is trial 84 with value: 0.9292636627035668.\n"
     ]
    },
    {
     "name": "stderr",
     "output_type": "stream",
     "text": [
      "Best trial: 84. Best value: 0.929264:  65%|███████████████████████████████████████████████████▏                           | 324/500 [05:09<03:06,  1.06s/it]"
     ]
    },
    {
     "name": "stdout",
     "output_type": "stream",
     "text": [
      "[I 2025-02-03 14:01:31,835] Trial 323 finished with value: 0.9274652812468778 and parameters: {'learning_rate': 0.07531276212501711, 'max_depth': 25, 'min_child_weight': 6, 'subsample': 0.7850811629827685, 'colsample_bytree': 0.8145015280954715, 'gamma': 0.0005614018951889314, 'lambda': 0.23917900525039915, 'alpha': 0.033743953648961184, 'eta': 3.844611309639647e-07, 'n_estimators': 768, 'enable_categorical': True}. Best is trial 84 with value: 0.9292636627035668.\n"
     ]
    },
    {
     "name": "stderr",
     "output_type": "stream",
     "text": [
      "Best trial: 84. Best value: 0.929264:  65%|███████████████████████████████████████████████████▎                           | 325/500 [05:11<03:31,  1.21s/it]"
     ]
    },
    {
     "name": "stdout",
     "output_type": "stream",
     "text": [
      "[I 2025-02-03 14:01:33,393] Trial 324 finished with value: 0.9276651014087322 and parameters: {'learning_rate': 0.026305174582860403, 'max_depth': 27, 'min_child_weight': 8, 'subsample': 0.39783507325704154, 'colsample_bytree': 0.8843997682373352, 'gamma': 0.00044798714928274345, 'lambda': 0.0010943172644867624, 'alpha': 0.01961593876293536, 'eta': 9.470081424825788e-07, 'n_estimators': 2048, 'enable_categorical': True}. Best is trial 84 with value: 0.9292636627035668.\n"
     ]
    },
    {
     "name": "stderr",
     "output_type": "stream",
     "text": [
      "Best trial: 84. Best value: 0.929264:  65%|███████████████████████████████████████████████████▌                           | 326/500 [05:12<03:18,  1.14s/it]"
     ]
    },
    {
     "name": "stdout",
     "output_type": "stream",
     "text": [
      "[I 2025-02-03 14:01:34,388] Trial 325 finished with value: 0.9252672594664801 and parameters: {'learning_rate': 0.06443793730371768, 'max_depth': 26, 'min_child_weight': 8, 'subsample': 0.2176928618160316, 'colsample_bytree': 0.6097695350148149, 'gamma': 0.0013093596257811222, 'lambda': 0.05446725071878358, 'alpha': 0.02920058093200816, 'eta': 5.88860531390148e-07, 'n_estimators': 4096, 'enable_categorical': True}. Best is trial 84 with value: 0.9292636627035668.\n"
     ]
    },
    {
     "name": "stderr",
     "output_type": "stream",
     "text": [
      "Best trial: 84. Best value: 0.929264:  65%|███████████████████████████████████████████████████▋                           | 327/500 [05:13<03:10,  1.10s/it]"
     ]
    },
    {
     "name": "stdout",
     "output_type": "stream",
     "text": [
      "[I 2025-02-03 14:01:35,395] Trial 326 finished with value: 0.9277650114896593 and parameters: {'learning_rate': 0.03215331397186088, 'max_depth': 26, 'min_child_weight': 19, 'subsample': 0.5090727277927074, 'colsample_bytree': 0.9970142238027482, 'gamma': 0.002567546883586626, 'lambda': 0.0435095114433386, 'alpha': 0.2781478356313449, 'eta': 0.07228662124597286, 'n_estimators': 2048, 'enable_categorical': True}. Best is trial 84 with value: 0.9292636627035668.\n"
     ]
    },
    {
     "name": "stderr",
     "output_type": "stream",
     "text": [
      "Best trial: 84. Best value: 0.929264:  66%|███████████████████████████████████████████████████▊                           | 328/500 [05:13<02:53,  1.01s/it]"
     ]
    },
    {
     "name": "stdout",
     "output_type": "stream",
     "text": [
      "[I 2025-02-03 14:01:36,186] Trial 327 finished with value: 0.9264661804376062 and parameters: {'learning_rate': 0.08737955778947991, 'max_depth': 21, 'min_child_weight': 8, 'subsample': 0.29640067119332936, 'colsample_bytree': 0.7701901350720644, 'gamma': 0.0008161623517197802, 'lambda': 0.11759877051114544, 'alpha': 0.00805520891876477, 'eta': 2.561870641768816e-07, 'n_estimators': 4096, 'enable_categorical': True}. Best is trial 84 with value: 0.9292636627035668.\n"
     ]
    },
    {
     "name": "stderr",
     "output_type": "stream",
     "text": [
      "Best trial: 84. Best value: 0.929264:  66%|███████████████████████████████████████████████████▉                           | 329/500 [05:15<03:26,  1.21s/it]"
     ]
    },
    {
     "name": "stdout",
     "output_type": "stream",
     "text": [
      "[I 2025-02-03 14:01:37,866] Trial 328 finished with value: 0.928764112298931 and parameters: {'learning_rate': 0.056305633676776205, 'max_depth': 25, 'min_child_weight': 8, 'subsample': 0.7382009822893293, 'colsample_bytree': 0.8741779165092306, 'gamma': 0.00036024261283366444, 'lambda': 0.17658746718647755, 'alpha': 0.01311265513181151, 'eta': 0.0007943032513303285, 'n_estimators': 3096, 'enable_categorical': True}. Best is trial 84 with value: 0.9292636627035668.\n"
     ]
    },
    {
     "name": "stderr",
     "output_type": "stream",
     "text": [
      "Best trial: 84. Best value: 0.929264:  66%|████████████████████████████████████████████████████▏                          | 330/500 [05:17<03:47,  1.34s/it]"
     ]
    },
    {
     "name": "stdout",
     "output_type": "stream",
     "text": [
      "[I 2025-02-03 14:01:39,494] Trial 329 finished with value: 0.9281646518133679 and parameters: {'learning_rate': 0.043824890803036295, 'max_depth': 24, 'min_child_weight': 8, 'subsample': 0.6069106072824207, 'colsample_bytree': 0.9954402712444766, 'gamma': 0.0005523479253860635, 'lambda': 0.2823666538453127, 'alpha': 0.022693684734557983, 'eta': 1.3707288868201069e-06, 'n_estimators': 64, 'enable_categorical': True}. Best is trial 84 with value: 0.9292636627035668.\n"
     ]
    },
    {
     "name": "stderr",
     "output_type": "stream",
     "text": [
      "Best trial: 84. Best value: 0.929264:  66%|████████████████████████████████████████████████████▎                          | 331/500 [05:18<03:34,  1.27s/it]"
     ]
    },
    {
     "name": "stdout",
     "output_type": "stream",
     "text": [
      "[I 2025-02-03 14:01:40,607] Trial 330 finished with value: 0.9015885702867419 and parameters: {'learning_rate': 0.10294325301270642, 'max_depth': 27, 'min_child_weight': 8, 'subsample': 0.45695803897934767, 'colsample_bytree': 0.19639801512642882, 'gamma': 0.00031578441557899645, 'lambda': 0.07460014085736937, 'alpha': 0.0374610501046665, 'eta': 0.003000936498782023, 'n_estimators': 4096, 'enable_categorical': True}. Best is trial 84 with value: 0.9292636627035668.\n"
     ]
    },
    {
     "name": "stderr",
     "output_type": "stream",
     "text": [
      "Best trial: 84. Best value: 0.929264:  66%|████████████████████████████████████████████████████▍                          | 332/500 [05:19<03:31,  1.26s/it]"
     ]
    },
    {
     "name": "stdout",
     "output_type": "stream",
     "text": [
      "[I 2025-02-03 14:01:41,837] Trial 331 finished with value: 0.9279648316515137 and parameters: {'learning_rate': 0.07785900489921393, 'max_depth': 23, 'min_child_weight': 8, 'subsample': 0.366828253844937, 'colsample_bytree': 0.6969303423509479, 'gamma': 0.0010568770338983534, 'lambda': 0.22997364161942854, 'alpha': 0.02793589038197973, 'eta': 7.594795735678998e-07, 'n_estimators': 2048, 'enable_categorical': True}. Best is trial 84 with value: 0.9292636627035668.\n"
     ]
    },
    {
     "name": "stderr",
     "output_type": "stream",
     "text": [
      "Best trial: 84. Best value: 0.929264:  67%|████████████████████████████████████████████████████▌                          | 333/500 [05:20<03:21,  1.21s/it]"
     ]
    },
    {
     "name": "stdout",
     "output_type": "stream",
     "text": [
      "[I 2025-02-03 14:01:42,933] Trial 332 finished with value: 0.9285642921370766 and parameters: {'learning_rate': 0.0672701340810425, 'max_depth': 17, 'min_child_weight': 8, 'subsample': 0.5501822460718069, 'colsample_bytree': 0.9985409568384547, 'gamma': 0.0006796893024122116, 'lambda': 0.030638666213068246, 'alpha': 0.2494955447114324, 'eta': 0.0018488694574656705, 'n_estimators': 4096, 'enable_categorical': True}. Best is trial 84 with value: 0.9292636627035668.\n"
     ]
    },
    {
     "name": "stderr",
     "output_type": "stream",
     "text": [
      "Best trial: 84. Best value: 0.929264:  67%|████████████████████████████████████████████████████▊                          | 334/500 [05:22<03:38,  1.32s/it]"
     ]
    },
    {
     "name": "stdout",
     "output_type": "stream",
     "text": [
      "[I 2025-02-03 14:01:44,498] Trial 333 finished with value: 0.927565191327805 and parameters: {'learning_rate': 0.03623337556842422, 'max_depth': 26, 'min_child_weight': 12, 'subsample': 0.6951744202961797, 'colsample_bytree': 0.7985351907242726, 'gamma': 0.000430710394768642, 'lambda': 0.017301324725207096, 'alpha': 0.21848246008986894, 'eta': 4.323603897021406e-08, 'n_estimators': 2048, 'enable_categorical': True}. Best is trial 84 with value: 0.9292636627035668.\n"
     ]
    },
    {
     "name": "stderr",
     "output_type": "stream",
     "text": [
      "Best trial: 84. Best value: 0.929264:  67%|████████████████████████████████████████████████████▉                          | 335/500 [05:23<03:09,  1.15s/it]"
     ]
    },
    {
     "name": "stdout",
     "output_type": "stream",
     "text": [
      "[I 2025-02-03 14:01:45,266] Trial 334 finished with value: 0.9276651014087322 and parameters: {'learning_rate': 0.09154415051438373, 'max_depth': 25, 'min_child_weight': 20, 'subsample': 0.4732362271393774, 'colsample_bytree': 0.8112751327943938, 'gamma': 0.00025149219974043266, 'lambda': 0.19543457743960693, 'alpha': 0.016509625114125258, 'eta': 3.4581162041701465e-07, 'n_estimators': 4096, 'enable_categorical': True}. Best is trial 84 with value: 0.9292636627035668.\n"
     ]
    },
    {
     "name": "stderr",
     "output_type": "stream",
     "text": [
      "Best trial: 84. Best value: 0.929264:  67%|█████████████████████████████████████████████████████                          | 336/500 [05:23<02:30,  1.09it/s]"
     ]
    },
    {
     "name": "stdout",
     "output_type": "stream",
     "text": [
      "[I 2025-02-03 14:01:45,631] Trial 335 finished with value: 0.9081826356279349 and parameters: {'learning_rate': 0.05089122526950885, 'max_depth': 24, 'min_child_weight': 15, 'subsample': 0.03193781244758223, 'colsample_bytree': 0.540002838096617, 'gamma': 0.0016162752814991813, 'lambda': 0.16215479687950193, 'alpha': 0.010373047332986555, 'eta': 7.545397404585208e-08, 'n_estimators': 1536, 'enable_categorical': True}. Best is trial 84 with value: 0.9292636627035668.\n"
     ]
    },
    {
     "name": "stderr",
     "output_type": "stream",
     "text": [
      "Best trial: 84. Best value: 0.929264:  67%|█████████████████████████████████████████████████████▏                         | 337/500 [05:24<02:22,  1.15it/s]"
     ]
    },
    {
     "name": "stdout",
     "output_type": "stream",
     "text": [
      "[I 2025-02-03 14:01:46,401] Trial 336 finished with value: 0.9273653711659506 and parameters: {'learning_rate': 0.11534250832136168, 'max_depth': 18, 'min_child_weight': 8, 'subsample': 0.4159121588679582, 'colsample_bytree': 0.8695168410343932, 'gamma': 0.002262159455707482, 'lambda': 0.13291277130021592, 'alpha': 0.020934318738967683, 'eta': 2.1478918327599946e-06, 'n_estimators': 2048, 'enable_categorical': True}. Best is trial 84 with value: 0.9292636627035668.\n"
     ]
    },
    {
     "name": "stderr",
     "output_type": "stream",
     "text": [
      "Best trial: 84. Best value: 0.929264:  68%|█████████████████████████████████████████████████████▍                         | 338/500 [05:25<02:58,  1.10s/it]"
     ]
    },
    {
     "name": "stdout",
     "output_type": "stream",
     "text": [
      "[I 2025-02-03 14:01:48,042] Trial 337 finished with value: 0.9279648316515137 and parameters: {'learning_rate': 0.060104080163290476, 'max_depth': 26, 'min_child_weight': 8, 'subsample': 0.554604419943127, 'colsample_bytree': 0.6997696782189766, 'gamma': 0.0007763154669148282, 'lambda': 0.05996279005208212, 'alpha': 0.024863862012011663, 'eta': 1.7057095146344024e-07, 'n_estimators': 4096, 'enable_categorical': True}. Best is trial 84 with value: 0.9292636627035668.\n"
     ]
    },
    {
     "name": "stderr",
     "output_type": "stream",
     "text": [
      "Best trial: 84. Best value: 0.929264:  68%|█████████████████████████████████████████████████████▌                         | 339/500 [05:26<03:00,  1.12s/it]"
     ]
    },
    {
     "name": "stdout",
     "output_type": "stream",
     "text": [
      "[I 2025-02-03 14:01:49,198] Trial 338 finished with value: 0.9284643820561495 and parameters: {'learning_rate': 0.07947026954477222, 'max_depth': 25, 'min_child_weight': 8, 'subsample': 0.6683531556320439, 'colsample_bytree': 0.8750122883101171, 'gamma': 0.0001955092042675482, 'lambda': 0.24429434883773513, 'alpha': 0.1585497259008717, 'eta': 6.010762750703585e-07, 'n_estimators': 256, 'enable_categorical': True}. Best is trial 84 with value: 0.9292636627035668.\n"
     ]
    },
    {
     "name": "stderr",
     "output_type": "stream",
     "text": [
      "Best trial: 84. Best value: 0.929264:  68%|█████████████████████████████████████████████████████▋                         | 340/500 [05:27<02:15,  1.18it/s]"
     ]
    },
    {
     "name": "stdout",
     "output_type": "stream",
     "text": [
      "[I 2025-02-03 14:01:49,402] Trial 339 finished with value: 0.8983914476970727 and parameters: {'learning_rate': 0.07046846594166627, 'max_depth': 27, 'min_child_weight': 7, 'subsample': 0.005605997694566559, 'colsample_bytree': 0.99621088308627, 'gamma': 0.0004987822981592572, 'lambda': 0.32352339947573217, 'alpha': 0.033566381698490716, 'eta': 6.282878852019798e-05, 'n_estimators': 2048, 'enable_categorical': True}. Best is trial 84 with value: 0.9292636627035668.\n"
     ]
    },
    {
     "name": "stderr",
     "output_type": "stream",
     "text": [
      "Best trial: 84. Best value: 0.929264:  68%|█████████████████████████████████████████████████████▉                         | 341/500 [05:28<02:48,  1.06s/it]"
     ]
    },
    {
     "name": "stdout",
     "output_type": "stream",
     "text": [
      "[I 2025-02-03 14:01:50,962] Trial 340 finished with value: 0.9280647417324408 and parameters: {'learning_rate': 0.042255409184584494, 'max_depth': 24, 'min_child_weight': 5, 'subsample': 0.3262377731032092, 'colsample_bytree': 0.7552058509285211, 'gamma': 0.00034918450977891325, 'lambda': 0.09340251610263561, 'alpha': 0.027973598662729676, 'eta': 1.1668986566584017e-06, 'n_estimators': 768, 'enable_categorical': True}. Best is trial 84 with value: 0.9292636627035668.\n"
     ]
    },
    {
     "name": "stderr",
     "output_type": "stream",
     "text": [
      "Best trial: 84. Best value: 0.929264:  68%|██████████████████████████████████████████████████████                         | 342/500 [05:29<02:56,  1.12s/it]"
     ]
    },
    {
     "name": "stdout",
     "output_type": "stream",
     "text": [
      "[I 2025-02-03 14:01:52,212] Trial 341 finished with value: 0.9264661804376062 and parameters: {'learning_rate': 0.09158482429804816, 'max_depth': 25, 'min_child_weight': 8, 'subsample': 0.4912332228670352, 'colsample_bytree': 0.6233833424913228, 'gamma': 0.0011925063399338739, 'lambda': 0.043139450995637964, 'alpha': 0.04346643898054804, 'eta': 2.5604934283312214e-07, 'n_estimators': 4096, 'enable_categorical': True}. Best is trial 84 with value: 0.9292636627035668.\n"
     ]
    },
    {
     "name": "stderr",
     "output_type": "stream",
     "text": [
      "Best trial: 84. Best value: 0.929264:  69%|██████████████████████████████████████████████████████▏                        | 343/500 [05:30<02:16,  1.15it/s]"
     ]
    },
    {
     "name": "stdout",
     "output_type": "stream",
     "text": [
      "[I 2025-02-03 14:01:52,507] Trial 342 finished with value: 0.9194724747727046 and parameters: {'learning_rate': 0.1262883462118183, 'max_depth': 26, 'min_child_weight': 8, 'subsample': 0.05127260660321173, 'colsample_bytree': 0.878071022038006, 'gamma': 0.0006132916783451125, 'lambda': 0.15964243608618323, 'alpha': 0.4395863180700642, 'eta': 1.6291992331168877e-08, 'n_estimators': 512, 'enable_categorical': True}. Best is trial 84 with value: 0.9292636627035668.\n"
     ]
    },
    {
     "name": "stderr",
     "output_type": "stream",
     "text": [
      "Best trial: 84. Best value: 0.929264:  69%|██████████████████████████████████████████████████████▎                        | 344/500 [05:31<02:42,  1.04s/it]"
     ]
    },
    {
     "name": "stdout",
     "output_type": "stream",
     "text": [
      "[I 2025-02-03 14:01:53,949] Trial 343 finished with value: 0.9280647417324408 and parameters: {'learning_rate': 0.05613109654543123, 'max_depth': 23, 'min_child_weight': 17, 'subsample': 0.8588889191156076, 'colsample_bytree': 0.7905423939590184, 'gamma': 0.00013758233882927713, 'lambda': 0.20416759307230503, 'alpha': 0.019012624932405093, 'eta': 4.754844223028097e-07, 'n_estimators': 4096, 'enable_categorical': True}. Best is trial 84 with value: 0.9292636627035668.\n"
     ]
    },
    {
     "name": "stderr",
     "output_type": "stream",
     "text": [
      "Best trial: 84. Best value: 0.929264:  69%|██████████████████████████████████████████████████████▌                        | 345/500 [05:32<02:18,  1.12it/s]"
     ]
    },
    {
     "name": "stdout",
     "output_type": "stream",
     "text": [
      "[I 2025-02-03 14:01:54,491] Trial 344 finished with value: 0.9282645618942952 and parameters: {'learning_rate': 0.15861819657527979, 'max_depth': 15, 'min_child_weight': 8, 'subsample': 0.610705390220277, 'colsample_bytree': 0.8885309925552679, 'gamma': 0.0009948536808113437, 'lambda': 0.38259056625093724, 'alpha': 0.03757963092501168, 'eta': 3.97154027937613e-06, 'n_estimators': 2048, 'enable_categorical': True}. Best is trial 84 with value: 0.9292636627035668.\n"
     ]
    },
    {
     "name": "stderr",
     "output_type": "stream",
     "text": [
      "Best trial: 84. Best value: 0.929264:  69%|██████████████████████████████████████████████████████▋                        | 346/500 [05:32<01:45,  1.46it/s]"
     ]
    },
    {
     "name": "stdout",
     "output_type": "stream",
     "text": [
      "[I 2025-02-03 14:01:54,696] Trial 345 finished with value: 0.48396443201118994 and parameters: {'learning_rate': 0.0033717989840332543, 'max_depth': 24, 'min_child_weight': 8, 'subsample': 0.0129308090627006, 'colsample_bytree': 0.029023277046945604, 'gamma': 0.00029631413633860945, 'lambda': 0.052780508003758324, 'alpha': 0.31008164292884577, 'eta': 8.450891980529323e-07, 'n_estimators': 4096, 'enable_categorical': True}. Best is trial 84 with value: 0.9292636627035668.\n"
     ]
    },
    {
     "name": "stderr",
     "output_type": "stream",
     "text": [
      "Best trial: 84. Best value: 0.929264:  69%|██████████████████████████████████████████████████████▊                        | 347/500 [05:32<01:26,  1.78it/s]"
     ]
    },
    {
     "name": "stdout",
     "output_type": "stream",
     "text": [
      "[I 2025-02-03 14:01:54,971] Trial 346 finished with value: 0.9024877610150864 and parameters: {'learning_rate': 0.04802024789261354, 'max_depth': 28, 'min_child_weight': 8, 'subsample': 0.008752573663042433, 'colsample_bytree': 0.7150761375796927, 'gamma': 0.0034181210855956713, 'lambda': 0.27790208162727026, 'alpha': 0.022667185342457437, 'eta': 3.4668521765708814e-07, 'n_estimators': 2048, 'enable_categorical': True}. Best is trial 84 with value: 0.9292636627035668.\n"
     ]
    },
    {
     "name": "stderr",
     "output_type": "stream",
     "text": [
      "Best trial: 84. Best value: 0.929264:  70%|██████████████████████████████████████████████████████▉                        | 348/500 [05:33<01:41,  1.49it/s]"
     ]
    },
    {
     "name": "stdout",
     "output_type": "stream",
     "text": [
      "[I 2025-02-03 14:01:55,889] Trial 347 finished with value: 0.9283644719752223 and parameters: {'learning_rate': 0.07999261265894228, 'max_depth': 25, 'min_child_weight': 8, 'subsample': 0.3792184903748971, 'colsample_bytree': 0.996718386293101, 'gamma': 0.00046063249758150886, 'lambda': 0.12724755273321411, 'alpha': 0.029270218939721572, 'eta': 1.382401569788826e-07, 'n_estimators': 64, 'enable_categorical': True}. Best is trial 84 with value: 0.9292636627035668.\n"
     ]
    },
    {
     "name": "stderr",
     "output_type": "stream",
     "text": [
      "Best trial: 84. Best value: 0.929264:  70%|███████████████████████████████████████████████████████▏                       | 349/500 [05:34<02:08,  1.18it/s]"
     ]
    },
    {
     "name": "stdout",
     "output_type": "stream",
     "text": [
      "[I 2025-02-03 14:01:57,163] Trial 348 finished with value: 0.928764112298931 and parameters: {'learning_rate': 0.06531135027225142, 'max_depth': 27, 'min_child_weight': 8, 'subsample': 0.44084417154235145, 'colsample_bytree': 0.8750216054348279, 'gamma': 0.0014829218876241156, 'lambda': 0.01278735088766808, 'alpha': 0.013457167166299563, 'eta': 2.0052062397576134e-07, 'n_estimators': 4096, 'enable_categorical': True}. Best is trial 84 with value: 0.9292636627035668.\n"
     ]
    },
    {
     "name": "stderr",
     "output_type": "stream",
     "text": [
      "Best trial: 84. Best value: 0.929264:  70%|███████████████████████████████████████████████████████▎                       | 350/500 [05:35<02:12,  1.13it/s]"
     ]
    },
    {
     "name": "stdout",
     "output_type": "stream",
     "text": [
      "[I 2025-02-03 14:01:58,121] Trial 349 finished with value: 0.9267659106803876 and parameters: {'learning_rate': 0.10394870792052893, 'max_depth': 26, 'min_child_weight': 8, 'subsample': 0.7170609866389539, 'colsample_bytree': 0.7749263417399923, 'gamma': 0.0007805714978450529, 'lambda': 0.07263719190387079, 'alpha': 0.5231787042964636, 'eta': 1.6272404104809626e-06, 'n_estimators': 5120, 'enable_categorical': True}. Best is trial 84 with value: 0.9292636627035668.\n"
     ]
    },
    {
     "name": "stderr",
     "output_type": "stream",
     "text": [
      "Best trial: 84. Best value: 0.929264:  70%|███████████████████████████████████████████████████████▍                       | 351/500 [05:37<02:44,  1.10s/it]"
     ]
    },
    {
     "name": "stdout",
     "output_type": "stream",
     "text": [
      "[I 2025-02-03 14:01:59,740] Trial 350 finished with value: 0.9284643820561495 and parameters: {'learning_rate': 0.036985851454167475, 'max_depth': 26, 'min_child_weight': 8, 'subsample': 0.5385962720554347, 'colsample_bytree': 0.9933829684768545, 'gamma': 0.0001979089813194886, 'lambda': 0.21528024790384387, 'alpha': 0.016857989081236816, 'eta': 6.145749532536674e-07, 'n_estimators': 3096, 'enable_categorical': True}. Best is trial 84 with value: 0.9292636627035668.\n"
     ]
    },
    {
     "name": "stderr",
     "output_type": "stream",
     "text": [
      "Best trial: 84. Best value: 0.929264:  70%|███████████████████████████████████████████████████████▌                       | 352/500 [05:37<02:05,  1.18it/s]"
     ]
    },
    {
     "name": "stdout",
     "output_type": "stream",
     "text": [
      "[I 2025-02-03 14:01:59,982] Trial 351 finished with value: 0.910680387651114 and parameters: {'learning_rate': 0.09621221166591092, 'max_depth': 25, 'min_child_weight': 8, 'subsample': 0.020469590810991527, 'colsample_bytree': 0.6708785575914447, 'gamma': 0.00029177663543632177, 'lambda': 0.021204355428774174, 'alpha': 0.04760244002288661, 'eta': 1.0017362001950577e-07, 'n_estimators': 2048, 'enable_categorical': True}. Best is trial 84 with value: 0.9292636627035668.\n"
     ]
    },
    {
     "name": "stderr",
     "output_type": "stream",
     "text": [
      "Best trial: 84. Best value: 0.929264:  71%|███████████████████████████████████████████████████████▊                       | 353/500 [05:38<02:08,  1.14it/s]"
     ]
    },
    {
     "name": "stdout",
     "output_type": "stream",
     "text": [
      "[I 2025-02-03 14:02:00,930] Trial 352 finished with value: 0.9279648316515137 and parameters: {'learning_rate': 0.07251480443434863, 'max_depth': 28, 'min_child_weight': 18, 'subsample': 0.6193849807170719, 'colsample_bytree': 0.8605255584929131, 'gamma': 0.0006224169935698957, 'lambda': 0.16419849260287095, 'alpha': 0.034302552830167456, 'eta': 9.666135694733861e-07, 'n_estimators': 4096, 'enable_categorical': True}. Best is trial 84 with value: 0.9292636627035668.\n"
     ]
    },
    {
     "name": "stderr",
     "output_type": "stream",
     "text": [
      "Best trial: 84. Best value: 0.929264:  71%|███████████████████████████████████████████████████████▉                       | 354/500 [05:40<02:33,  1.05s/it]"
     ]
    },
    {
     "name": "stdout",
     "output_type": "stream",
     "text": [
      "[I 2025-02-03 14:02:02,395] Trial 353 finished with value: 0.9278649215705864 and parameters: {'learning_rate': 0.05538315238856562, 'max_depth': 29, 'min_child_weight': 9, 'subsample': 0.4935398042220886, 'colsample_bytree': 0.7811075469156216, 'gamma': 0.00042725455293888555, 'lambda': 0.03472972641112496, 'alpha': 0.02526295209424703, 'eta': 3.7509188762701494e-07, 'n_estimators': 32, 'enable_categorical': True}. Best is trial 84 with value: 0.9292636627035668.\n"
     ]
    },
    {
     "name": "stderr",
     "output_type": "stream",
     "text": [
      "Best trial: 84. Best value: 0.929264:  71%|████████████████████████████████████████████████████████                       | 355/500 [05:41<02:41,  1.11s/it]"
     ]
    },
    {
     "name": "stdout",
     "output_type": "stream",
     "text": [
      "[I 2025-02-03 14:02:03,649] Trial 354 finished with value: 0.9276651014087322 and parameters: {'learning_rate': 0.04527988663459707, 'max_depth': 24, 'min_child_weight': 11, 'subsample': 0.41440911301435734, 'colsample_bytree': 0.8915021458893894, 'gamma': 0.0021985379271430394, 'lambda': 0.04816232429607556, 'alpha': 0.022273487932259833, 'eta': 2.6210691665480332e-06, 'n_estimators': 4096, 'enable_categorical': True}. Best is trial 84 with value: 0.9292636627035668.\n"
     ]
    },
    {
     "name": "stderr",
     "output_type": "stream",
     "text": [
      "Best trial: 84. Best value: 0.929264:  71%|████████████████████████████████████████████████████████▏                      | 356/500 [05:42<02:47,  1.16s/it]"
     ]
    },
    {
     "name": "stdout",
     "output_type": "stream",
     "text": [
      "[I 2025-02-03 14:02:04,920] Trial 355 finished with value: 0.9252672594664801 and parameters: {'learning_rate': 0.0010293245539132858, 'max_depth': 22, 'min_child_weight': 7, 'subsample': 0.36356035894020244, 'colsample_bytree': 0.9960081136542563, 'gamma': 0.0008115725906633015, 'lambda': 0.2601152843781603, 'alpha': 0.03050471453692015, 'eta': 6.035166449889245e-07, 'n_estimators': 128, 'enable_categorical': True}. Best is trial 84 with value: 0.9292636627035668.\n"
     ]
    },
    {
     "name": "stderr",
     "output_type": "stream",
     "text": [
      "Best trial: 84. Best value: 0.929264:  71%|████████████████████████████████████████████████████████▍                      | 357/500 [05:45<03:37,  1.52s/it]"
     ]
    },
    {
     "name": "stdout",
     "output_type": "stream",
     "text": [
      "[I 2025-02-03 14:02:07,273] Trial 356 finished with value: 0.9200719352582676 and parameters: {'learning_rate': 0.0012903161695001042, 'max_depth': 25, 'min_child_weight': 8, 'subsample': 0.818083397092982, 'colsample_bytree': 0.5988215874090307, 'gamma': 0.0013349658206602603, 'lambda': 0.1933432422968757, 'alpha': 0.019117301896981007, 'eta': 1.1762415219010298e-06, 'n_estimators': 2048, 'enable_categorical': True}. Best is trial 84 with value: 0.9292636627035668.\n"
     ]
    },
    {
     "name": "stderr",
     "output_type": "stream",
     "text": [
      "Best trial: 84. Best value: 0.929264:  72%|████████████████████████████████████████████████████████▌                      | 358/500 [05:46<03:13,  1.36s/it]"
     ]
    },
    {
     "name": "stdout",
     "output_type": "stream",
     "text": [
      "[I 2025-02-03 14:02:08,264] Trial 357 finished with value: 0.9272654610850235 and parameters: {'learning_rate': 0.08537188836277805, 'max_depth': 27, 'min_child_weight': 13, 'subsample': 0.5600789490591274, 'colsample_bytree': 0.7127645938615039, 'gamma': 0.00018808349680923014, 'lambda': 0.026899437479434466, 'alpha': 0.04100060808634649, 'eta': 2.3317737373073728e-07, 'n_estimators': 4096, 'enable_categorical': True}. Best is trial 84 with value: 0.9292636627035668.\n"
     ]
    },
    {
     "name": "stderr",
     "output_type": "stream",
     "text": [
      "Best trial: 84. Best value: 0.929264:  72%|████████████████████████████████████████████████████████▋                      | 359/500 [05:47<02:57,  1.26s/it]"
     ]
    },
    {
     "name": "stdout",
     "output_type": "stream",
     "text": [
      "[I 2025-02-03 14:02:09,291] Trial 358 finished with value: 0.9288640223798581 and parameters: {'learning_rate': 0.06371671295687914, 'max_depth': 24, 'min_child_weight': 8, 'subsample': 0.3013111977440756, 'colsample_bytree': 0.9971694307350415, 'gamma': 0.00034667592848135534, 'lambda': 0.0397803129795203, 'alpha': 0.05550736034325318, 'eta': 4.495221064552104e-07, 'n_estimators': 2048, 'enable_categorical': True}. Best is trial 84 with value: 0.9292636627035668.\n"
     ]
    },
    {
     "name": "stderr",
     "output_type": "stream",
     "text": [
      "Best trial: 84. Best value: 0.929264:  72%|████████████████████████████████████████████████████████▉                      | 360/500 [05:47<02:23,  1.02s/it]"
     ]
    },
    {
     "name": "stdout",
     "output_type": "stream",
     "text": [
      "[I 2025-02-03 14:02:09,762] Trial 359 finished with value: 0.8769107802977321 and parameters: {'learning_rate': 0.10941331858240469, 'max_depth': 26, 'min_child_weight': 8, 'subsample': 0.676450810532238, 'colsample_bytree': 0.006137722661236165, 'gamma': 0.0005714178781814224, 'lambda': 0.10902650824750663, 'alpha': 0.025739623737950943, 'eta': 7.466239024305117e-07, 'n_estimators': 768, 'enable_categorical': True}. Best is trial 84 with value: 0.9292636627035668.\n"
     ]
    },
    {
     "name": "stderr",
     "output_type": "stream",
     "text": [
      "Best trial: 84. Best value: 0.929264:  72%|█████████████████████████████████████████████████████████                      | 361/500 [05:48<02:18,  1.01it/s]"
     ]
    },
    {
     "name": "stdout",
     "output_type": "stream",
     "text": [
      "[I 2025-02-03 14:02:10,690] Trial 360 finished with value: 0.927565191327805 and parameters: {'learning_rate': 0.05141936076663977, 'max_depth': 23, 'min_child_weight': 16, 'subsample': 0.4690538657028397, 'colsample_bytree': 0.8167226665127378, 'gamma': 0.001006284938174593, 'lambda': 0.06381467468178326, 'alpha': 0.35537057459878646, 'eta': 3.063730152699542e-07, 'n_estimators': 4096, 'enable_categorical': True}. Best is trial 84 with value: 0.9292636627035668.\n"
     ]
    },
    {
     "name": "stderr",
     "output_type": "stream",
     "text": [
      "Best trial: 84. Best value: 0.929264:  72%|█████████████████████████████████████████████████████████▏                     | 362/500 [05:49<02:12,  1.04it/s]"
     ]
    },
    {
     "name": "stdout",
     "output_type": "stream",
     "text": [
      "[I 2025-02-03 14:02:11,570] Trial 361 finished with value: 0.9276651014087322 and parameters: {'learning_rate': 0.07477659771938795, 'max_depth': 25, 'min_child_weight': 8, 'subsample': 0.2669894234125929, 'colsample_bytree': 0.9994814633292645, 'gamma': 0.0001272147352222034, 'lambda': 0.15124981393342768, 'alpha': 0.015311480983065997, 'eta': 1.5534730848089783e-06, 'n_estimators': 2048, 'enable_categorical': True}. Best is trial 84 with value: 0.9292636627035668.\n"
     ]
    },
    {
     "name": "stderr",
     "output_type": "stream",
     "text": [
      "Best trial: 84. Best value: 0.929264:  73%|█████████████████████████████████████████████████████████▎                     | 363/500 [05:50<02:31,  1.11s/it]"
     ]
    },
    {
     "name": "stdout",
     "output_type": "stream",
     "text": [
      "[I 2025-02-03 14:02:13,020] Trial 362 finished with value: 0.9153761614546908 and parameters: {'learning_rate': 0.09070385175911215, 'max_depth': 26, 'min_child_weight': 8, 'subsample': 0.5346642516582304, 'colsample_bytree': 0.2959953689538005, 'gamma': 0.0002450400259324619, 'lambda': 0.23594417757675443, 'alpha': 0.02142632216703776, 'eta': 8.788936847830815e-07, 'n_estimators': 4096, 'enable_categorical': True}. Best is trial 84 with value: 0.9292636627035668.\n"
     ]
    },
    {
     "name": "stderr",
     "output_type": "stream",
     "text": [
      "Best trial: 84. Best value: 0.929264:  73%|█████████████████████████████████████████████████████████▌                     | 364/500 [05:51<02:27,  1.09s/it]"
     ]
    },
    {
     "name": "stdout",
     "output_type": "stream",
     "text": [
      "[I 2025-02-03 14:02:14,063] Trial 363 finished with value: 0.926366270356679 and parameters: {'learning_rate': 0.03855448206859382, 'max_depth': 24, 'min_child_weight': 19, 'subsample': 0.4045328509647281, 'colsample_bytree': 0.8631068743343853, 'gamma': 0.0018096850095542802, 'lambda': 0.0019554223687078846, 'alpha': 0.03239629923453708, 'eta': 0.27580401107219066, 'n_estimators': 64, 'enable_categorical': True}. Best is trial 84 with value: 0.9292636627035668.\n"
     ]
    },
    {
     "name": "stderr",
     "output_type": "stream",
     "text": [
      "Best trial: 84. Best value: 0.929264:  73%|█████████████████████████████████████████████████████████▋                     | 365/500 [05:52<02:10,  1.04it/s]"
     ]
    },
    {
     "name": "stdout",
     "output_type": "stream",
     "text": [
      "[I 2025-02-03 14:02:14,737] Trial 364 finished with value: 0.9276651014087322 and parameters: {'learning_rate': 0.1262316539852241, 'max_depth': 25, 'min_child_weight': 8, 'subsample': 0.6248052879734135, 'colsample_bytree': 0.7387047513618192, 'gamma': 0.0004363113912829903, 'lambda': 0.1883089327817161, 'alpha': 0.4658765205436207, 'eta': 4.848619124459259e-07, 'n_estimators': 4096, 'enable_categorical': True}. Best is trial 84 with value: 0.9292636627035668.\n"
     ]
    },
    {
     "name": "stderr",
     "output_type": "stream",
     "text": [
      "Best trial: 84. Best value: 0.929264:  73%|█████████████████████████████████████████████████████████▊                     | 366/500 [05:53<02:21,  1.05s/it]"
     ]
    },
    {
     "name": "stdout",
     "output_type": "stream",
     "text": [
      "[I 2025-02-03 14:02:15,996] Trial 365 finished with value: 0.9277650114896593 and parameters: {'learning_rate': 0.031162263048273266, 'max_depth': 27, 'min_child_weight': 8, 'subsample': 0.33736285888739714, 'colsample_bytree': 0.8497110486281088, 'gamma': 0.002727978717323723, 'lambda': 0.3312628993864304, 'alpha': 0.027051870084210772, 'eta': 1.736784582630942e-07, 'n_estimators': 2048, 'enable_categorical': True}. Best is trial 84 with value: 0.9292636627035668.\n"
     ]
    },
    {
     "name": "stderr",
     "output_type": "stream",
     "text": [
      "Best trial: 84. Best value: 0.929264:  73%|█████████████████████████████████████████████████████████▉                     | 367/500 [05:55<02:42,  1.22s/it]"
     ]
    },
    {
     "name": "stdout",
     "output_type": "stream",
     "text": [
      "[I 2025-02-03 14:02:17,609] Trial 366 finished with value: 0.9267659106803876 and parameters: {'learning_rate': 0.05974159136055554, 'max_depth': 26, 'min_child_weight': 12, 'subsample': 0.7557459707292579, 'colsample_bytree': 0.680605847197564, 'gamma': 0.000928090639846552, 'lambda': 0.1325462818492485, 'alpha': 0.01203348741824179, 'eta': 3.6983646733194324e-07, 'n_estimators': 3096, 'enable_categorical': True}. Best is trial 84 with value: 0.9292636627035668.\n"
     ]
    },
    {
     "name": "stderr",
     "output_type": "stream",
     "text": [
      "Best trial: 84. Best value: 0.929264:  74%|██████████████████████████████████████████████████████████▏                    | 368/500 [05:56<02:32,  1.15s/it]"
     ]
    },
    {
     "name": "stdout",
     "output_type": "stream",
     "text": [
      "[I 2025-02-03 14:02:18,600] Trial 367 finished with value: 0.9282645618942952 and parameters: {'learning_rate': 0.08140041149294676, 'max_depth': 28, 'min_child_weight': 8, 'subsample': 0.4893940826272188, 'colsample_bytree': 0.8583319991773267, 'gamma': 0.0005988146294816085, 'lambda': 0.04988777938706662, 'alpha': 0.12780992527435817, 'eta': 1.1970289165641877e-06, 'n_estimators': 4096, 'enable_categorical': True}. Best is trial 84 with value: 0.9292636627035668.\n"
     ]
    },
    {
     "name": "stderr",
     "output_type": "stream",
     "text": [
      "Best trial: 84. Best value: 0.929264:  74%|██████████████████████████████████████████████████████████▎                    | 369/500 [05:57<02:13,  1.02s/it]"
     ]
    },
    {
     "name": "stdout",
     "output_type": "stream",
     "text": [
      "[I 2025-02-03 14:02:19,299] Trial 368 finished with value: 0.9276651014087322 and parameters: {'learning_rate': 0.10030081587864965, 'max_depth': 24, 'min_child_weight': 20, 'subsample': 0.5813650695217212, 'colsample_bytree': 0.8877698118218901, 'gamma': 0.00030972067241529877, 'lambda': 0.1730388609370392, 'alpha': 0.006470422696620928, 'eta': 6.447194039455696e-07, 'n_estimators': 2048, 'enable_categorical': True}. Best is trial 84 with value: 0.9292636627035668.\n"
     ]
    },
    {
     "name": "stderr",
     "output_type": "stream",
     "text": [
      "Best trial: 84. Best value: 0.929264:  74%|██████████████████████████████████████████████████████████▍                    | 370/500 [05:57<02:09,  1.00it/s]"
     ]
    },
    {
     "name": "stdout",
     "output_type": "stream",
     "text": [
      "[I 2025-02-03 14:02:20,248] Trial 369 finished with value: 0.9288640223798581 and parameters: {'learning_rate': 0.044063704487219885, 'max_depth': 23, 'min_child_weight': 8, 'subsample': 0.4275792713486161, 'colsample_bytree': 0.9964842726591376, 'gamma': 9.099850794083985e-05, 'lambda': 0.2245272877933382, 'alpha': 0.6700060583069622, 'eta': 2.6820663928280284e-07, 'n_estimators': 1536, 'enable_categorical': True}. Best is trial 84 with value: 0.9292636627035668.\n"
     ]
    },
    {
     "name": "stderr",
     "output_type": "stream",
     "text": [
      "Best trial: 84. Best value: 0.929264:  74%|██████████████████████████████████████████████████████████▌                    | 371/500 [05:58<01:47,  1.20it/s]"
     ]
    },
    {
     "name": "stdout",
     "output_type": "stream",
     "text": [
      "[I 2025-02-03 14:02:20,711] Trial 370 finished with value: 0.8566290338695174 and parameters: {'learning_rate': 0.06865466015170257, 'max_depth': 25, 'min_child_weight': 6, 'subsample': 0.6734062766515136, 'colsample_bytree': 0.04892418996393285, 'gamma': 0.0012484856376215236, 'lambda': 0.09133996287466288, 'alpha': 0.037162044710323194, 'eta': 1.181051591020255e-07, 'n_estimators': 4096, 'enable_categorical': True}. Best is trial 84 with value: 0.9292636627035668.\n"
     ]
    },
    {
     "name": "stderr",
     "output_type": "stream",
     "text": [
      "Best trial: 84. Best value: 0.929264:  74%|██████████████████████████████████████████████████████████▊                    | 372/500 [06:00<02:39,  1.24s/it]"
     ]
    },
    {
     "name": "stdout",
     "output_type": "stream",
     "text": [
      "[I 2025-02-03 14:02:22,901] Trial 371 finished with value: 0.9279648316515137 and parameters: {'learning_rate': 0.05181806443059115, 'max_depth': 27, 'min_child_weight': 8, 'subsample': 0.8930743535334554, 'colsample_bytree': 0.7691687779458131, 'gamma': 0.0001672945035142923, 'lambda': 0.031880276127881996, 'alpha': 0.01760352051146047, 'eta': 1.7958197502485179e-06, 'n_estimators': 2048, 'enable_categorical': True}. Best is trial 84 with value: 0.9292636627035668.\n"
     ]
    },
    {
     "name": "stderr",
     "output_type": "stream",
     "text": [
      "Best trial: 84. Best value: 0.929264:  75%|██████████████████████████████████████████████████████████▉                    | 373/500 [06:02<02:45,  1.30s/it]"
     ]
    },
    {
     "name": "stdout",
     "output_type": "stream",
     "text": [
      "[I 2025-02-03 14:02:24,351] Trial 372 finished with value: 0.9254670796283345 and parameters: {'learning_rate': 0.0763077655851939, 'max_depth': 26, 'min_child_weight': 8, 'subsample': 0.504560601934045, 'colsample_bytree': 0.5212577521755593, 'gamma': 0.00040251269861007837, 'lambda': 0.27580682849458127, 'alpha': 0.046456713994869406, 'eta': 9.211790212830691e-07, 'n_estimators': 4096, 'enable_categorical': True}. Best is trial 84 with value: 0.9292636627035668.\n"
     ]
    },
    {
     "name": "stderr",
     "output_type": "stream",
     "text": [
      "Best trial: 84. Best value: 0.929264:  75%|███████████████████████████████████████████████████████████                    | 374/500 [06:03<02:30,  1.20s/it]"
     ]
    },
    {
     "name": "stdout",
     "output_type": "stream",
     "text": [
      "[I 2025-02-03 14:02:25,293] Trial 373 finished with value: 0.9279648316515137 and parameters: {'learning_rate': 0.060737594534215955, 'max_depth': 24, 'min_child_weight': 15, 'subsample': 0.36558355595860986, 'colsample_bytree': 0.8806942597447581, 'gamma': 0.0007175101039002343, 'lambda': 0.03943530896321587, 'alpha': 0.023308502497848754, 'eta': 5.986617404441149e-07, 'n_estimators': 768, 'enable_categorical': True}. Best is trial 84 with value: 0.9292636627035668.\n"
     ]
    },
    {
     "name": "stderr",
     "output_type": "stream",
     "text": [
      "Best trial: 84. Best value: 0.929264:  75%|███████████████████████████████████████████████████████████▎                   | 375/500 [06:04<02:27,  1.18s/it]"
     ]
    },
    {
     "name": "stdout",
     "output_type": "stream",
     "text": [
      "[I 2025-02-03 14:02:26,423] Trial 374 finished with value: 0.926965730842242 and parameters: {'learning_rate': 0.09490823904854026, 'max_depth': 25, 'min_child_weight': 8, 'subsample': 0.570411592039734, 'colsample_bytree': 0.6337975463390672, 'gamma': 0.0002579505914660686, 'lambda': 0.06215910725827824, 'alpha': 0.03139757564908881, 'eta': 4.265473308934332e-07, 'n_estimators': 256, 'enable_categorical': True}. Best is trial 84 with value: 0.9292636627035668.\n"
     ]
    },
    {
     "name": "stderr",
     "output_type": "stream",
     "text": [
      "Best trial: 84. Best value: 0.929264:  75%|███████████████████████████████████████████████████████████▍                   | 376/500 [06:04<01:55,  1.08it/s]"
     ]
    },
    {
     "name": "stdout",
     "output_type": "stream",
     "text": [
      "[I 2025-02-03 14:02:26,779] Trial 375 finished with value: 0.8784094315116395 and parameters: {'learning_rate': 0.11591710291894745, 'max_depth': 25, 'min_child_weight': 7, 'subsample': 0.45863990045694475, 'colsample_bytree': 0.004138080201922289, 'gamma': 0.0005352801275434214, 'lambda': 0.0808059495672589, 'alpha': 0.8598659011270383, 'eta': 2.175808475236613e-07, 'n_estimators': 512, 'enable_categorical': True}. Best is trial 84 with value: 0.9292636627035668.\n"
     ]
    },
    {
     "name": "stderr",
     "output_type": "stream",
     "text": [
      "Best trial: 84. Best value: 0.929264:  75%|███████████████████████████████████████████████████████████▌                   | 377/500 [06:04<01:34,  1.31it/s]"
     ]
    },
    {
     "name": "stdout",
     "output_type": "stream",
     "text": [
      "[I 2025-02-03 14:02:27,162] Trial 376 finished with value: 0.8071735438105705 and parameters: {'learning_rate': 0.0418319526151905, 'max_depth': 23, 'min_child_weight': 5, 'subsample': 0.7218739307208468, 'colsample_bytree': 0.019630949128822364, 'gamma': 0.0010684495293432992, 'lambda': 0.158853068254414, 'alpha': 0.3810149468816599, 'eta': 0.0012116625539279136, 'n_estimators': 2048, 'enable_categorical': True}. Best is trial 84 with value: 0.9292636627035668.\n"
     ]
    },
    {
     "name": "stderr",
     "output_type": "stream",
     "text": [
      "Best trial: 84. Best value: 0.929264:  76%|███████████████████████████████████████████████████████████▋                   | 378/500 [06:05<01:43,  1.18it/s]"
     ]
    },
    {
     "name": "stdout",
     "output_type": "stream",
     "text": [
      "[I 2025-02-03 14:02:28,207] Trial 377 finished with value: 0.9280647417324408 and parameters: {'learning_rate': 0.08302504886365736, 'max_depth': 26, 'min_child_weight': 8, 'subsample': 0.3959632556204778, 'colsample_bytree': 0.7628805281740405, 'gamma': 0.0018117415958131126, 'lambda': 0.20531443429875476, 'alpha': 0.019997574010595955, 'eta': 1.1729143911061201e-06, 'n_estimators': 4096, 'enable_categorical': True}. Best is trial 84 with value: 0.9292636627035668.\n"
     ]
    },
    {
     "name": "stderr",
     "output_type": "stream",
     "text": [
      "Best trial: 84. Best value: 0.929264:  76%|███████████████████████████████████████████████████████████▉                   | 379/500 [06:06<01:37,  1.25it/s]"
     ]
    },
    {
     "name": "stdout",
     "output_type": "stream",
     "text": [
      "[I 2025-02-03 14:02:28,899] Trial 378 finished with value: 0.9274652812468778 and parameters: {'learning_rate': 0.14143820774183363, 'max_depth': 24, 'min_child_weight': 8, 'subsample': 0.6188738329940282, 'colsample_bytree': 0.8667586978659821, 'gamma': 0.00039637180828368994, 'lambda': 0.12086749057421514, 'alpha': 0.03957745235779886, 'eta': 0.0001573699436957002, 'n_estimators': 4096, 'enable_categorical': True}. Best is trial 84 with value: 0.9292636627035668.\n"
     ]
    },
    {
     "name": "stderr",
     "output_type": "stream",
     "text": [
      "Best trial: 84. Best value: 0.929264:  76%|████████████████████████████████████████████████████████████                   | 380/500 [06:07<01:48,  1.11it/s]"
     ]
    },
    {
     "name": "stdout",
     "output_type": "stream",
     "text": [
      "[I 2025-02-03 14:02:30,042] Trial 379 finished with value: 0.9283644719752223 and parameters: {'learning_rate': 0.06823906936742917, 'max_depth': 26, 'min_child_weight': 8, 'subsample': 0.5409792487553993, 'colsample_bytree': 0.9966140024465358, 'gamma': 0.0006308061882365708, 'lambda': 0.239126448310018, 'alpha': 0.02638018288327535, 'eta': 7.374898676045223e-07, 'n_estimators': 2048, 'enable_categorical': True}. Best is trial 84 with value: 0.9292636627035668.\n"
     ]
    },
    {
     "name": "stderr",
     "output_type": "stream",
     "text": [
      "Best trial: 84. Best value: 0.929264:  76%|████████████████████████████████████████████████████████████▏                  | 381/500 [06:08<01:29,  1.33it/s]"
     ]
    },
    {
     "name": "stdout",
     "output_type": "stream",
     "text": [
      "[I 2025-02-03 14:02:30,431] Trial 380 finished with value: 0.9205714856629034 and parameters: {'learning_rate': 0.03433710505855446, 'max_depth': 25, 'min_child_weight': 8, 'subsample': 0.3129267288392118, 'colsample_bytree': 0.7612052653099022, 'gamma': 0.0001860244480176195, 'lambda': 0.04503357205243981, 'alpha': 9.55521667435532, 'eta': 3.1520291193483335e-07, 'n_estimators': 4096, 'enable_categorical': True}. Best is trial 84 with value: 0.9292636627035668.\n"
     ]
    },
    {
     "name": "stderr",
     "output_type": "stream",
     "text": [
      "Best trial: 84. Best value: 0.929264:  76%|████████████████████████████████████████████████████████████▎                  | 382/500 [06:09<01:38,  1.19it/s]"
     ]
    },
    {
     "name": "stdout",
     "output_type": "stream",
     "text": [
      "[I 2025-02-03 14:02:31,474] Trial 381 finished with value: 0.9272654610850235 and parameters: {'learning_rate': 0.048953537835734764, 'max_depth': 27, 'min_child_weight': 17, 'subsample': 0.4482648351809689, 'colsample_bytree': 0.8828027521231591, 'gamma': 0.003670052021576145, 'lambda': 0.3013788355807028, 'alpha': 0.009184605455421749, 'eta': 0.009723667951259726, 'n_estimators': 64, 'enable_categorical': True}. Best is trial 84 with value: 0.9292636627035668.\n"
     ]
    },
    {
     "name": "stderr",
     "output_type": "stream",
     "text": [
      "Best trial: 84. Best value: 0.929264:  77%|████████████████████████████████████████████████████████████▌                  | 383/500 [06:11<02:16,  1.17s/it]"
     ]
    },
    {
     "name": "stdout",
     "output_type": "stream",
     "text": [
      "[I 2025-02-03 14:02:33,415] Trial 382 finished with value: 0.926366270356679 and parameters: {'learning_rate': 0.05623036292158646, 'max_depth': 24, 'min_child_weight': 8, 'subsample': 0.7967732996005842, 'colsample_bytree': 0.6613214892617731, 'gamma': 0.0002751259005231929, 'lambda': 0.17804269361280475, 'alpha': 0.06291513576828585, 'eta': 2.4048493812936326e-06, 'n_estimators': 5120, 'enable_categorical': True}. Best is trial 84 with value: 0.9292636627035668.\n"
     ]
    },
    {
     "name": "stderr",
     "output_type": "stream",
     "text": [
      "Best trial: 84. Best value: 0.929264:  77%|████████████████████████████████████████████████████████████▋                  | 384/500 [06:12<02:05,  1.08s/it]"
     ]
    },
    {
     "name": "stdout",
     "output_type": "stream",
     "text": [
      "[I 2025-02-03 14:02:34,299] Trial 383 finished with value: 0.9273653711659506 and parameters: {'learning_rate': 0.08577402289812226, 'max_depth': 26, 'min_child_weight': 8, 'subsample': 0.49507749792294925, 'colsample_bytree': 0.7848700704625576, 'gamma': 0.000861944793152427, 'lambda': 0.13869540996947505, 'alpha': 0.2944453783923169, 'eta': 5.221300647902826e-07, 'n_estimators': 2048, 'enable_categorical': True}. Best is trial 84 with value: 0.9292636627035668.\n"
     ]
    },
    {
     "name": "stderr",
     "output_type": "stream",
     "text": [
      "Best trial: 84. Best value: 0.929264:  77%|████████████████████████████████████████████████████████████▊                  | 385/500 [06:12<01:57,  1.02s/it]"
     ]
    },
    {
     "name": "stdout",
     "output_type": "stream",
     "text": [
      "[I 2025-02-03 14:02:35,171] Trial 384 finished with value: 0.9281646518133679 and parameters: {'learning_rate': 0.10733021129291062, 'max_depth': 27, 'min_child_weight': 8, 'subsample': 0.629516739093317, 'colsample_bytree': 0.8945721751270468, 'gamma': 0.010374459320358919, 'lambda': 0.4258659968352997, 'alpha': 0.033885430326076424, 'eta': 1.5355590939197555e-07, 'n_estimators': 3096, 'enable_categorical': True}. Best is trial 84 with value: 0.9292636627035668.\n"
     ]
    },
    {
     "name": "stderr",
     "output_type": "stream",
     "text": [
      "Best trial: 84. Best value: 0.929264:  77%|████████████████████████████████████████████████████████████▉                  | 386/500 [06:13<01:56,  1.02s/it]"
     ]
    },
    {
     "name": "stdout",
     "output_type": "stream",
     "text": [
      "[I 2025-02-03 14:02:36,199] Trial 385 finished with value: 0.9285642921370766 and parameters: {'learning_rate': 0.0715968827266004, 'max_depth': 25, 'min_child_weight': 8, 'subsample': 0.3704956336623566, 'colsample_bytree': 0.9996321469305077, 'gamma': 0.00011889438207373207, 'lambda': 0.024422753750003308, 'alpha': 0.015709044545220555, 'eta': 8.553413556223915e-07, 'n_estimators': 4096, 'enable_categorical': True}. Best is trial 84 with value: 0.9292636627035668.\n"
     ]
    },
    {
     "name": "stderr",
     "output_type": "stream",
     "text": [
      "Best trial: 84. Best value: 0.929264:  77%|█████████████████████████████████████████████████████████████▏                 | 387/500 [06:15<02:00,  1.06s/it]"
     ]
    },
    {
     "name": "stdout",
     "output_type": "stream",
     "text": [
      "[I 2025-02-03 14:02:37,358] Trial 386 finished with value: 0.9272654610850235 and parameters: {'learning_rate': 0.06321840682175338, 'max_depth': 24, 'min_child_weight': 8, 'subsample': 0.5487055992729082, 'colsample_bytree': 0.7216161213501036, 'gamma': 0.0014072275117791942, 'lambda': 0.213943338967618, 'alpha': 0.5708350995807514, 'eta': 0.0004593990004115177, 'n_estimators': 32, 'enable_categorical': True}. Best is trial 84 with value: 0.9292636627035668.\n"
     ]
    },
    {
     "name": "stderr",
     "output_type": "stream",
     "text": [
      "Best trial: 84. Best value: 0.929264:  78%|█████████████████████████████████████████████████████████████▎                 | 388/500 [06:15<01:49,  1.02it/s]"
     ]
    },
    {
     "name": "stdout",
     "output_type": "stream",
     "text": [
      "[I 2025-02-03 14:02:38,136] Trial 387 finished with value: 0.9282645618942952 and parameters: {'learning_rate': 0.09554423678833768, 'max_depth': 25, 'min_child_weight': 9, 'subsample': 0.4280132998635286, 'colsample_bytree': 0.994340623928816, 'gamma': 0.0004735620823597882, 'lambda': 0.0532981531564492, 'alpha': 0.02211278838775903, 'eta': 3.6465749322663356e-07, 'n_estimators': 2048, 'enable_categorical': True}. Best is trial 84 with value: 0.9292636627035668.\n"
     ]
    },
    {
     "name": "stderr",
     "output_type": "stream",
     "text": [
      "Best trial: 84. Best value: 0.929264:  78%|█████████████████████████████████████████████████████████████▍                 | 389/500 [06:17<02:16,  1.23s/it]"
     ]
    },
    {
     "name": "stdout",
     "output_type": "stream",
     "text": [
      "[I 2025-02-03 14:02:39,945] Trial 388 finished with value: 0.9260665401138974 and parameters: {'learning_rate': 0.054044621492619106, 'max_depth': 26, 'min_child_weight': 8, 'subsample': 0.6968035631959362, 'colsample_bytree': 0.5930943851610321, 'gamma': 0.002523978067335782, 'lambda': 0.2676279893976389, 'alpha': 0.027206537551598946, 'eta': 1.5528649702427196e-06, 'n_estimators': 4096, 'enable_categorical': True}. Best is trial 84 with value: 0.9292636627035668.\n"
     ]
    },
    {
     "name": "stderr",
     "output_type": "stream",
     "text": [
      "Best trial: 84. Best value: 0.929264:  78%|█████████████████████████████████████████████████████████████▌                 | 390/500 [06:18<02:09,  1.18s/it]"
     ]
    },
    {
     "name": "stdout",
     "output_type": "stream",
     "text": [
      "[I 2025-02-03 14:02:41,021] Trial 389 finished with value: 0.9284643820561495 and parameters: {'learning_rate': 0.08140370757594216, 'max_depth': 23, 'min_child_weight': 8, 'subsample': 0.49696677348536866, 'colsample_bytree': 0.8067529693321361, 'gamma': 0.0003329186918176238, 'lambda': 0.18862571307322595, 'alpha': 0.018736719821938464, 'eta': 2.1643479052422459e-07, 'n_estimators': 128, 'enable_categorical': True}. Best is trial 84 with value: 0.9292636627035668.\n"
     ]
    },
    {
     "name": "stderr",
     "output_type": "stream",
     "text": [
      "Best trial: 84. Best value: 0.929264:  78%|█████████████████████████████████████████████████████████████▊                 | 391/500 [06:19<02:06,  1.16s/it]"
     ]
    },
    {
     "name": "stdout",
     "output_type": "stream",
     "text": [
      "[I 2025-02-03 14:02:42,143] Trial 390 finished with value: 0.9276651014087322 and parameters: {'learning_rate': 0.04312132622047595, 'max_depth': 25, 'min_child_weight': 11, 'subsample': 0.33023221006439357, 'colsample_bytree': 0.8872564255813687, 'gamma': 0.000823920572131775, 'lambda': 0.06960139091821096, 'alpha': 0.03122314252672176, 'eta': 5.587938184728747e-07, 'n_estimators': 1024, 'enable_categorical': True}. Best is trial 84 with value: 0.9292636627035668.\n"
     ]
    },
    {
     "name": "stderr",
     "output_type": "stream",
     "text": [
      "Best trial: 84. Best value: 0.929264:  78%|█████████████████████████████████████████████████████████████▉                 | 392/500 [06:21<02:09,  1.20s/it]"
     ]
    },
    {
     "name": "stdout",
     "output_type": "stream",
     "text": [
      "[I 2025-02-03 14:02:43,435] Trial 391 finished with value: 0.9272654610850235 and parameters: {'learning_rate': 0.03762136293776307, 'max_depth': 26, 'min_child_weight': 18, 'subsample': 0.5973922927807402, 'colsample_bytree': 0.7951228316293937, 'gamma': 0.0002162145905759557, 'lambda': 0.10662683015895656, 'alpha': 0.0472485347116265, 'eta': 1.0879690013245264e-06, 'n_estimators': 4096, 'enable_categorical': True}. Best is trial 84 with value: 0.9292636627035668.\n"
     ]
    },
    {
     "name": "stderr",
     "output_type": "stream",
     "text": [
      "Best trial: 84. Best value: 0.929264:  79%|██████████████████████████████████████████████████████████████                 | 393/500 [06:22<01:59,  1.12s/it]"
     ]
    },
    {
     "name": "stdout",
     "output_type": "stream",
     "text": [
      "[I 2025-02-03 14:02:44,351] Trial 392 finished with value: 0.9277650114896593 and parameters: {'learning_rate': 0.07341599615985746, 'max_depth': 22, 'min_child_weight': 8, 'subsample': 0.4275302862613392, 'colsample_bytree': 0.9973959828540615, 'gamma': 7.778980258717181e-05, 'lambda': 0.3370268288381096, 'alpha': 0.03785836360304278, 'eta': 1.289472301136665e-05, 'n_estimators': 2048, 'enable_categorical': True}. Best is trial 84 with value: 0.9292636627035668.\n"
     ]
    },
    {
     "name": "stderr",
     "output_type": "stream",
     "text": [
      "Best trial: 84. Best value: 0.929264:  79%|██████████████████████████████████████████████████████████████▎                | 394/500 [06:23<02:09,  1.22s/it]"
     ]
    },
    {
     "name": "stdout",
     "output_type": "stream",
     "text": [
      "[I 2025-02-03 14:02:45,805] Trial 393 finished with value: 0.9271655510040964 and parameters: {'learning_rate': 0.10451272552845836, 'max_depth': 27, 'min_child_weight': 7, 'subsample': 0.9827219284045448, 'colsample_bytree': 0.6945017373547576, 'gamma': 0.0005289144346982683, 'lambda': 0.1470347091135363, 'alpha': 0.02370633296352579, 'eta': 2.967207004684235e-07, 'n_estimators': 768, 'enable_categorical': True}. Best is trial 84 with value: 0.9292636627035668.\n"
     ]
    },
    {
     "name": "stderr",
     "output_type": "stream",
     "text": [
      "Best trial: 84. Best value: 0.929264:  79%|██████████████████████████████████████████████████████████████▍                | 395/500 [06:24<02:05,  1.20s/it]"
     ]
    },
    {
     "name": "stdout",
     "output_type": "stream",
     "text": [
      "[I 2025-02-03 14:02:46,955] Trial 394 finished with value: 0.9282645618942952 and parameters: {'learning_rate': 0.04851827797649934, 'max_depth': 28, 'min_child_weight': 8, 'subsample': 0.2762788395876011, 'colsample_bytree': 0.8787307604761883, 'gamma': 0.0013548671550144263, 'lambda': 0.033493327083816186, 'alpha': 0.013909548077947458, 'eta': 7.295138345010507e-07, 'n_estimators': 4096, 'enable_categorical': True}. Best is trial 84 with value: 0.9292636627035668.\n"
     ]
    },
    {
     "name": "stderr",
     "output_type": "stream",
     "text": [
      "Best trial: 84. Best value: 0.929264:  79%|██████████████████████████████████████████████████████████████▌                | 396/500 [06:25<01:50,  1.07s/it]"
     ]
    },
    {
     "name": "stdout",
     "output_type": "stream",
     "text": [
      "[I 2025-02-03 14:02:47,716] Trial 395 finished with value: 0.9280647417324408 and parameters: {'learning_rate': 0.08977753676888377, 'max_depth': 23, 'min_child_weight': 13, 'subsample': 0.52625615990345, 'colsample_bytree': 0.8798009451047523, 'gamma': 0.00014816619068097782, 'lambda': 0.22618555589163764, 'alpha': 0.45284776464639986, 'eta': 4.4733500726301747e-07, 'n_estimators': 2048, 'enable_categorical': True}. Best is trial 84 with value: 0.9292636627035668.\n"
     ]
    },
    {
     "name": "stderr",
     "output_type": "stream",
     "text": [
      "Best trial: 84. Best value: 0.929264:  79%|██████████████████████████████████████████████████████████████▋                | 397/500 [06:26<01:52,  1.09s/it]"
     ]
    },
    {
     "name": "stdout",
     "output_type": "stream",
     "text": [
      "[I 2025-02-03 14:02:48,862] Trial 396 finished with value: 0.8797082625636927 and parameters: {'learning_rate': 0.06193475160426729, 'max_depth': 24, 'min_child_weight': 6, 'subsample': 0.8057599490033704, 'colsample_bytree': 0.14918560312829665, 'gamma': 0.00035955754376242494, 'lambda': 0.04326505937004331, 'alpha': 0.017438672581810772, 'eta': 1.2348147892154162e-07, 'n_estimators': 4096, 'enable_categorical': True}. Best is trial 84 with value: 0.9292636627035668.\n"
     ]
    },
    {
     "name": "stderr",
     "output_type": "stream",
     "text": [
      "Best trial: 84. Best value: 0.929264:  80%|██████████████████████████████████████████████████████████████▉                | 398/500 [06:27<01:55,  1.14s/it]"
     ]
    },
    {
     "name": "stdout",
     "output_type": "stream",
     "text": [
      "[I 2025-02-03 14:02:50,104] Trial 397 finished with value: 0.9264661804376062 and parameters: {'learning_rate': 0.027473510804288857, 'max_depth': 25, 'min_child_weight': 16, 'subsample': 0.7033215842341831, 'colsample_bytree': 0.7686162698599363, 'gamma': 0.000721454857791548, 'lambda': 0.16908401373250778, 'alpha': 0.2397341057167326, 'eta': 1.9784721539890387e-06, 'n_estimators': 2048, 'enable_categorical': True}. Best is trial 84 with value: 0.9292636627035668.\n"
     ]
    },
    {
     "name": "stderr",
     "output_type": "stream",
     "text": [
      "Best trial: 84. Best value: 0.929264:  80%|███████████████████████████████████████████████████████████████                | 399/500 [06:28<01:51,  1.11s/it]"
     ]
    },
    {
     "name": "stdout",
     "output_type": "stream",
     "text": [
      "[I 2025-02-03 14:02:51,141] Trial 398 finished with value: 0.9254670796283345 and parameters: {'learning_rate': 0.11764657830496976, 'max_depth': 26, 'min_child_weight': 8, 'subsample': 0.37126057578131816, 'colsample_bytree': 0.6325925654770214, 'gamma': 0.001872694239526039, 'lambda': 0.010065069514808647, 'alpha': 0.02872451530964543, 'eta': 1.1840054654071171e-06, 'n_estimators': 4096, 'enable_categorical': True}. Best is trial 84 with value: 0.9292636627035668.\n"
     ]
    },
    {
     "name": "stderr",
     "output_type": "stream",
     "text": [
      "Best trial: 84. Best value: 0.929264:  80%|███████████████████████████████████████████████████████████████▏               | 400/500 [06:29<01:46,  1.06s/it]"
     ]
    },
    {
     "name": "stdout",
     "output_type": "stream",
     "text": [
      "[I 2025-02-03 14:02:52,107] Trial 399 finished with value: 0.927565191327805 and parameters: {'learning_rate': 0.07238402313027299, 'max_depth': 25, 'min_child_weight': 19, 'subsample': 0.624331086038963, 'colsample_bytree': 0.8839203076300262, 'gamma': 0.001096900387771006, 'lambda': 0.053060067118880956, 'alpha': 0.011132574746054438, 'eta': 2.6197783938860105e-07, 'n_estimators': 4096, 'enable_categorical': True}. Best is trial 84 with value: 0.9292636627035668.\n"
     ]
    },
    {
     "name": "stderr",
     "output_type": "stream",
     "text": [
      "Best trial: 84. Best value: 0.929264:  80%|███████████████████████████████████████████████████████████████▎               | 401/500 [06:31<01:52,  1.14s/it]"
     ]
    },
    {
     "name": "stdout",
     "output_type": "stream",
     "text": [
      "[I 2025-02-03 14:02:53,422] Trial 400 finished with value: 0.9282645618942952 and parameters: {'learning_rate': 0.05543486296645067, 'max_depth': 20, 'min_child_weight': 8, 'subsample': 0.4622127272437003, 'colsample_bytree': 0.9899722630663719, 'gamma': 0.0005046940901172352, 'lambda': 0.01958550271883745, 'alpha': 0.023161869706880965, 'eta': 7.320999921834048e-07, 'n_estimators': 2048, 'enable_categorical': True}. Best is trial 84 with value: 0.9292636627035668.\n"
     ]
    },
    {
     "name": "stderr",
     "output_type": "stream",
     "text": [
      "Best trial: 84. Best value: 0.929264:  80%|███████████████████████████████████████████████████████████████▌               | 402/500 [06:32<02:11,  1.34s/it]"
     ]
    },
    {
     "name": "stdout",
     "output_type": "stream",
     "text": [
      "[I 2025-02-03 14:02:55,235] Trial 401 finished with value: 0.9255669897092617 and parameters: {'learning_rate': 0.010014606917873503, 'max_depth': 24, 'min_child_weight': 8, 'subsample': 0.5629900242348274, 'colsample_bytree': 0.7113501444279119, 'gamma': 0.0002455624794184685, 'lambda': 0.19440219564775021, 'alpha': 0.05436896380986977, 'eta': 9.193770840134812e-08, 'n_estimators': 3096, 'enable_categorical': True}. Best is trial 84 with value: 0.9292636627035668.\n"
     ]
    },
    {
     "name": "stderr",
     "output_type": "stream",
     "text": [
      "Best trial: 84. Best value: 0.929264:  81%|███████████████████████████████████████████████████████████████▋               | 403/500 [06:33<01:56,  1.20s/it]"
     ]
    },
    {
     "name": "stdout",
     "output_type": "stream",
     "text": [
      "[I 2025-02-03 14:02:56,113] Trial 402 finished with value: 0.9286642022180038 and parameters: {'learning_rate': 0.08668623062237846, 'max_depth': 27, 'min_child_weight': 8, 'subsample': 0.40003074320161236, 'colsample_bytree': 0.873634633765415, 'gamma': 0.0007655418185738871, 'lambda': 0.25413863748483867, 'alpha': 0.03552688911156108, 'eta': 3.1571101440621e-06, 'n_estimators': 64, 'enable_categorical': True}. Best is trial 84 with value: 0.9292636627035668.\n"
     ]
    },
    {
     "name": "stderr",
     "output_type": "stream",
     "text": [
      "Best trial: 84. Best value: 0.929264:  81%|███████████████████████████████████████████████████████████████▊               | 404/500 [06:35<02:04,  1.29s/it]"
     ]
    },
    {
     "name": "stdout",
     "output_type": "stream",
     "text": [
      "[I 2025-02-03 14:02:57,618] Trial 403 finished with value: 0.9286642022180038 and parameters: {'learning_rate': 0.046378893378896634, 'max_depth': 26, 'min_child_weight': 8, 'subsample': 0.484834259831389, 'colsample_bytree': 0.9935982989379717, 'gamma': 0.0003750573758242708, 'lambda': 0.08538292989178724, 'alpha': 0.02087242901183245, 'eta': 4.683915595806503e-07, 'n_estimators': 1536, 'enable_categorical': True}. Best is trial 84 with value: 0.9292636627035668.\n"
     ]
    },
    {
     "name": "stderr",
     "output_type": "stream",
     "text": [
      "Best trial: 84. Best value: 0.929264:  81%|███████████████████████████████████████████████████████████████▉               | 405/500 [06:36<01:50,  1.16s/it]"
     ]
    },
    {
     "name": "stdout",
     "output_type": "stream",
     "text": [
      "[I 2025-02-03 14:02:58,481] Trial 404 finished with value: 0.9267659106803876 and parameters: {'learning_rate': 0.0634202440269728, 'max_depth': 24, 'min_child_weight': 12, 'subsample': 0.2438727017218199, 'colsample_bytree': 0.7684199300397183, 'gamma': 0.0005351394804479332, 'lambda': 0.02904094875781188, 'alpha': 0.02793515225591423, 'eta': 1.886384326309679e-07, 'n_estimators': 4096, 'enable_categorical': True}. Best is trial 84 with value: 0.9292636627035668.\n"
     ]
    },
    {
     "name": "stderr",
     "output_type": "stream",
     "text": [
      "Best trial: 84. Best value: 0.929264:  81%|████████████████████████████████████████████████████████████████▏              | 406/500 [06:37<01:47,  1.14s/it]"
     ]
    },
    {
     "name": "stdout",
     "output_type": "stream",
     "text": [
      "[I 2025-02-03 14:02:59,563] Trial 405 finished with value: 0.9276651014087322 and parameters: {'learning_rate': 0.10095900213759364, 'max_depth': 25, 'min_child_weight': 8, 'subsample': 0.7203383809756586, 'colsample_bytree': 0.7813418835020757, 'gamma': 0.0010564115869851607, 'lambda': 0.06126139984137239, 'alpha': 0.041824834264619005, 'eta': 3.158404277219519e-07, 'n_estimators': 2048, 'enable_categorical': True}. Best is trial 84 with value: 0.9292636627035668.\n"
     ]
    },
    {
     "name": "stderr",
     "output_type": "stream",
     "text": [
      "Best trial: 84. Best value: 0.929264:  81%|████████████████████████████████████████████████████████████████▎              | 407/500 [06:37<01:25,  1.08it/s]"
     ]
    },
    {
     "name": "stdout",
     "output_type": "stream",
     "text": [
      "[I 2025-02-03 14:02:59,978] Trial 406 finished with value: 0.9255669897092617 and parameters: {'learning_rate': 0.1355020064510318, 'max_depth': 28, 'min_child_weight': 20, 'subsample': 0.33080100652595645, 'colsample_bytree': 0.8690488759755434, 'gamma': 0.0002514083452970343, 'lambda': 0.12880016142303455, 'alpha': 0.015325042203857348, 'eta': 1.0522918773470753e-06, 'n_estimators': 1024, 'enable_categorical': True}. Best is trial 84 with value: 0.9292636627035668.\n"
     ]
    },
    {
     "name": "stderr",
     "output_type": "stream",
     "text": [
      "Best trial: 84. Best value: 0.929264:  82%|████████████████████████████████████████████████████████████████▍              | 408/500 [06:38<01:21,  1.12it/s]"
     ]
    },
    {
     "name": "stdout",
     "output_type": "stream",
     "text": [
      "[I 2025-02-03 14:03:00,795] Trial 407 finished with value: 0.9256668997901888 and parameters: {'learning_rate': 0.07860119973256752, 'max_depth': 13, 'min_child_weight': 8, 'subsample': 0.18589156284093136, 'colsample_bytree': 0.6410409247697813, 'gamma': 0.0025299981722530156, 'lambda': 0.14622056365676459, 'alpha': 0.03131577039753891, 'eta': 5.857411723403483e-07, 'n_estimators': 4096, 'enable_categorical': True}. Best is trial 84 with value: 0.9292636627035668.\n"
     ]
    },
    {
     "name": "stderr",
     "output_type": "stream",
     "text": [
      "Best trial: 84. Best value: 0.929264:  82%|████████████████████████████████████████████████████████████████▌              | 409/500 [06:40<01:43,  1.14s/it]"
     ]
    },
    {
     "name": "stdout",
     "output_type": "stream",
     "text": [
      "[I 2025-02-03 14:03:02,505] Trial 408 finished with value: 0.9285642921370766 and parameters: {'learning_rate': 0.039680117956027536, 'max_depth': 30, 'min_child_weight': 8, 'subsample': 0.604269031400705, 'colsample_bytree': 0.998900385641473, 'gamma': 0.00016600804918151258, 'lambda': 0.21939207285858855, 'alpha': 0.019892116948681565, 'eta': 5.81716437803072e-06, 'n_estimators': 2048, 'enable_categorical': True}. Best is trial 84 with value: 0.9292636627035668.\n"
     ]
    },
    {
     "name": "stderr",
     "output_type": "stream",
     "text": [
      "Best trial: 84. Best value: 0.929264:  82%|████████████████████████████████████████████████████████████████▊              | 410/500 [06:41<01:39,  1.11s/it]"
     ]
    },
    {
     "name": "stdout",
     "output_type": "stream",
     "text": [
      "[I 2025-02-03 14:03:03,537] Trial 409 finished with value: 0.9229693276051554 and parameters: {'learning_rate': 0.03470892700834925, 'max_depth': 23, 'min_child_weight': 15, 'subsample': 0.5234643538742382, 'colsample_bytree': 0.5603286702770146, 'gamma': 0.0014445423008344746, 'lambda': 0.0370839484622292, 'alpha': 0.3753761971297107, 'eta': 1.5525704961963542e-06, 'n_estimators': 256, 'enable_categorical': True}. Best is trial 84 with value: 0.9292636627035668.\n"
     ]
    },
    {
     "name": "stderr",
     "output_type": "stream",
     "text": [
      "Best trial: 410. Best value: 0.929364:  82%|████████████████████████████████████████████████████████████████              | 411/500 [06:42<01:42,  1.15s/it]"
     ]
    },
    {
     "name": "stdout",
     "output_type": "stream",
     "text": [
      "[I 2025-02-03 14:03:04,808] Trial 410 finished with value: 0.929363572784494 and parameters: {'learning_rate': 0.06639197561140248, 'max_depth': 26, 'min_child_weight': 8, 'subsample': 0.42691534910536266, 'colsample_bytree': 0.8070978748047901, 'gamma': 0.0006453810007407459, 'lambda': 0.1854567183257992, 'alpha': 0.025256802180717654, 'eta': 8.31120945724503e-07, 'n_estimators': 768, 'enable_categorical': True}. Best is trial 410 with value: 0.929363572784494.\n"
     ]
    },
    {
     "name": "stderr",
     "output_type": "stream",
     "text": [
      "Best trial: 410. Best value: 0.929364:  82%|████████████████████████████████████████████████████████████████▎             | 412/500 [06:43<01:45,  1.19s/it]"
     ]
    },
    {
     "name": "stdout",
     "output_type": "stream",
     "text": [
      "[I 2025-02-03 14:03:06,093] Trial 411 finished with value: 0.9240683384953542 and parameters: {'learning_rate': 0.0657893402521878, 'max_depth': 26, 'min_child_weight': 8, 'subsample': 0.4052231700973288, 'colsample_bytree': 0.4704255883430304, 'gamma': 0.058358728116586836, 'lambda': 0.30438218104694975, 'alpha': 0.02368544317187528, 'eta': 8.716617464100474e-07, 'n_estimators': 768, 'enable_categorical': True}. Best is trial 410 with value: 0.929363572784494.\n"
     ]
    },
    {
     "name": "stderr",
     "output_type": "stream",
     "text": [
      "Best trial: 410. Best value: 0.929364:  83%|████████████████████████████████████████████████████████████████▍             | 413/500 [06:44<01:42,  1.18s/it]"
     ]
    },
    {
     "name": "stdout",
     "output_type": "stream",
     "text": [
      "[I 2025-02-03 14:03:07,237] Trial 412 finished with value: 0.927565191327805 and parameters: {'learning_rate': 0.07235317997151525, 'max_depth': 27, 'min_child_weight': 8, 'subsample': 0.35724312339991093, 'colsample_bytree': 0.7271594335060205, 'gamma': 0.0006502399887068924, 'lambda': 0.25887068361591226, 'alpha': 0.026284437079705028, 'eta': 1.6085239592982834e-06, 'n_estimators': 768, 'enable_categorical': True}. Best is trial 410 with value: 0.929363572784494.\n"
     ]
    },
    {
     "name": "stderr",
     "output_type": "stream",
     "text": [
      "Best trial: 410. Best value: 0.929364:  83%|████████████████████████████████████████████████████████████████▌             | 414/500 [06:46<01:44,  1.21s/it]"
     ]
    },
    {
     "name": "stdout",
     "output_type": "stream",
     "text": [
      "[I 2025-02-03 14:03:08,536] Trial 413 finished with value: 0.9266660005994605 and parameters: {'learning_rate': 0.08883723848332911, 'max_depth': 27, 'min_child_weight': 5, 'subsample': 0.43088116095274726, 'colsample_bytree': 0.6644770969173421, 'gamma': 0.000406203721597244, 'lambda': 0.19049165481510916, 'alpha': 0.033934163834519, 'eta': 7.403727635882348e-07, 'n_estimators': 768, 'enable_categorical': True}. Best is trial 410 with value: 0.929363572784494.\n"
     ]
    },
    {
     "name": "stderr",
     "output_type": "stream",
     "text": [
      "Best trial: 410. Best value: 0.929364:  83%|████████████████████████████████████████████████████████████████▋             | 415/500 [06:47<01:43,  1.22s/it]"
     ]
    },
    {
     "name": "stdout",
     "output_type": "stream",
     "text": [
      "[I 2025-02-03 14:03:09,771] Trial 414 finished with value: 0.9047856928764112 and parameters: {'learning_rate': 0.05696324086046975, 'max_depth': 26, 'min_child_weight': 7, 'subsample': 0.30919770218514914, 'colsample_bytree': 0.2541456350079103, 'gamma': 0.00030162632555295573, 'lambda': 0.05006894568568862, 'alpha': 0.017719322421018507, 'eta': 1.0751708571959422e-06, 'n_estimators': 768, 'enable_categorical': True}. Best is trial 410 with value: 0.929363572784494.\n"
     ]
    },
    {
     "name": "stderr",
     "output_type": "stream",
     "text": [
      "Best trial: 410. Best value: 0.929364:  83%|████████████████████████████████████████████████████████████████▉             | 416/500 [06:47<01:23,  1.01it/s]"
     ]
    },
    {
     "name": "stdout",
     "output_type": "stream",
     "text": [
      "[I 2025-02-03 14:03:10,232] Trial 415 finished with value: 0.8834049355579978 and parameters: {'learning_rate': 0.1662131853578353, 'max_depth': 26, 'min_child_weight': 8, 'subsample': 0.46040853013784117, 'colsample_bytree': 0.00951166729349679, 'gamma': 0.0006410490400745122, 'lambda': 0.21204538030118336, 'alpha': 0.04264484033439912, 'eta': 5.229908087270423e-07, 'n_estimators': 768, 'enable_categorical': True}. Best is trial 410 with value: 0.929363572784494.\n"
     ]
    },
    {
     "name": "stderr",
     "output_type": "stream",
     "text": [
      "Best trial: 410. Best value: 0.929364:  83%|█████████████████████████████████████████████████████████████████             | 417/500 [06:48<01:21,  1.02it/s]"
     ]
    },
    {
     "name": "stdout",
     "output_type": "stream",
     "text": [
      "[I 2025-02-03 14:03:11,175] Trial 416 finished with value: 0.9283644719752223 and parameters: {'learning_rate': 0.07574269992983776, 'max_depth': 27, 'min_child_weight': 14, 'subsample': 0.3717571276693336, 'colsample_bytree': 0.811439574655196, 'gamma': 0.0004295085127718509, 'lambda': 0.0650018980086581, 'alpha': 0.025949130211867448, 'eta': 8.978432321286069e-07, 'n_estimators': 768, 'enable_categorical': True}. Best is trial 410 with value: 0.929363572784494.\n"
     ]
    },
    {
     "name": "stderr",
     "output_type": "stream",
     "text": [
      "Best trial: 410. Best value: 0.929364:  84%|█████████████████████████████████████████████████████████████████▏            | 418/500 [06:50<01:27,  1.06s/it]"
     ]
    },
    {
     "name": "stdout",
     "output_type": "stream",
     "text": [
      "[I 2025-02-03 14:03:12,435] Trial 417 finished with value: 0.9276651014087322 and parameters: {'learning_rate': 0.06408855978705527, 'max_depth': 32, 'min_child_weight': 8, 'subsample': 0.4573000135189561, 'colsample_bytree': 0.8665633334465851, 'gamma': 0.0008573323249448069, 'lambda': 0.04352808583387844, 'alpha': 0.021947171560323848, 'eta': 2.576339255090456e-06, 'n_estimators': 512, 'enable_categorical': True}. Best is trial 410 with value: 0.929363572784494.\n"
     ]
    },
    {
     "name": "stderr",
     "output_type": "stream",
     "text": [
      "Best trial: 410. Best value: 0.929364:  84%|█████████████████████████████████████████████████████████████████▎            | 419/500 [06:51<01:22,  1.02s/it]"
     ]
    },
    {
     "name": "stdout",
     "output_type": "stream",
     "text": [
      "[I 2025-02-03 14:03:13,348] Trial 418 finished with value: 0.9279648316515137 and parameters: {'learning_rate': 0.09596772157352881, 'max_depth': 25, 'min_child_weight': 8, 'subsample': 0.5333367653395975, 'colsample_bytree': 0.7824227827624469, 'gamma': 0.0001983053518786814, 'lambda': 0.3102476208910326, 'alpha': 0.09734560454029846, 'eta': 6.369375928097612e-07, 'n_estimators': 2048, 'enable_categorical': True}. Best is trial 410 with value: 0.929363572784494.\n"
     ]
    },
    {
     "name": "stderr",
     "output_type": "stream",
     "text": [
      "Best trial: 410. Best value: 0.929364:  84%|█████████████████████████████████████████████████████████████████▌            | 420/500 [06:51<01:09,  1.14it/s]"
     ]
    },
    {
     "name": "stdout",
     "output_type": "stream",
     "text": [
      "[I 2025-02-03 14:03:13,885] Trial 419 finished with value: 0.9232690578479369 and parameters: {'learning_rate': 0.08124321579392209, 'max_depth': 26, 'min_child_weight': 8, 'subsample': 0.07072781089721314, 'colsample_bytree': 0.6929247428631967, 'gamma': 0.0003089056050344272, 'lambda': 0.3703739172803937, 'alpha': 0.03062278181258047, 'eta': 4.100320685219805e-07, 'n_estimators': 2048, 'enable_categorical': True}. Best is trial 410 with value: 0.929363572784494.\n"
     ]
    },
    {
     "name": "stderr",
     "output_type": "stream",
     "text": [
      "Best trial: 410. Best value: 0.929364:  84%|█████████████████████████████████████████████████████████████████▋            | 421/500 [06:52<01:04,  1.23it/s]"
     ]
    },
    {
     "name": "stdout",
     "output_type": "stream",
     "text": [
      "[I 2025-02-03 14:03:14,567] Trial 420 finished with value: 0.9272654610850235 and parameters: {'learning_rate': 0.11560900147776626, 'max_depth': 28, 'min_child_weight': 8, 'subsample': 0.4051877046640065, 'colsample_bytree': 0.8832303698542628, 'gamma': 0.0005845461682146487, 'lambda': 0.16979939458983903, 'alpha': 0.005000128569665519, 'eta': 6.174706663114371e-08, 'n_estimators': 768, 'enable_categorical': True}. Best is trial 410 with value: 0.929363572784494.\n"
     ]
    },
    {
     "name": "stderr",
     "output_type": "stream",
     "text": [
      "Best trial: 410. Best value: 0.929364:  84%|█████████████████████████████████████████████████████████████████▊            | 422/500 [06:53<01:04,  1.22it/s]"
     ]
    },
    {
     "name": "stdout",
     "output_type": "stream",
     "text": [
      "[I 2025-02-03 14:03:15,399] Trial 421 finished with value: 0.9272654610850235 and parameters: {'learning_rate': 0.05390919490574086, 'max_depth': 25, 'min_child_weight': 17, 'subsample': 0.2855622625594117, 'colsample_bytree': 0.9956327031526427, 'gamma': 0.00011649416501409791, 'lambda': 0.014861575253624068, 'alpha': 0.07517317919635723, 'eta': 1.5194911558587354e-06, 'n_estimators': 5120, 'enable_categorical': True}. Best is trial 410 with value: 0.929363572784494.\n"
     ]
    },
    {
     "name": "stderr",
     "output_type": "stream",
     "text": [
      "Best trial: 410. Best value: 0.929364:  85%|█████████████████████████████████████████████████████████████████▉            | 423/500 [06:54<01:09,  1.11it/s]"
     ]
    },
    {
     "name": "stdout",
     "output_type": "stream",
     "text": [
      "[I 2025-02-03 14:03:16,483] Trial 422 finished with value: 0.9289639324607853 and parameters: {'learning_rate': 0.0702226495303647, 'max_depth': 26, 'min_child_weight': 8, 'subsample': 0.4965480743892049, 'colsample_bytree': 0.999625306586368, 'gamma': 0.0010535512021672886, 'lambda': 0.07679911725204194, 'alpha': 0.050170977656718116, 'eta': 9.471106496659147e-07, 'n_estimators': 32, 'enable_categorical': True}. Best is trial 410 with value: 0.929363572784494.\n"
     ]
    },
    {
     "name": "stderr",
     "output_type": "stream",
     "text": [
      "Best trial: 410. Best value: 0.929364:  85%|██████████████████████████████████████████████████████████████████▏           | 424/500 [06:55<01:20,  1.06s/it]"
     ]
    },
    {
     "name": "stdout",
     "output_type": "stream",
     "text": [
      "[I 2025-02-03 14:03:17,909] Trial 423 finished with value: 0.9266660005994605 and parameters: {'learning_rate': 0.0695783560735105, 'max_depth': 26, 'min_child_weight': 8, 'subsample': 0.47045627073057594, 'colsample_bytree': 0.5822525505419522, 'gamma': 0.0009247418290019842, 'lambda': 0.07109276905853666, 'alpha': 0.06955647654259695, 'eta': 1.0942470686726908e-06, 'n_estimators': 32, 'enable_categorical': True}. Best is trial 410 with value: 0.929363572784494.\n"
     ]
    },
    {
     "name": "stderr",
     "output_type": "stream",
     "text": [
      "Best trial: 410. Best value: 0.929364:  85%|██████████████████████████████████████████████████████████████████▎           | 425/500 [06:56<01:20,  1.08s/it]"
     ]
    },
    {
     "name": "stdout",
     "output_type": "stream",
     "text": [
      "[I 2025-02-03 14:03:19,029] Trial 424 finished with value: 0.9279648316515137 and parameters: {'learning_rate': 0.06173060847155562, 'max_depth': 27, 'min_child_weight': 8, 'subsample': 0.3406239766682376, 'colsample_bytree': 0.7984112019479798, 'gamma': 0.0004550933547318346, 'lambda': 0.0799931559898775, 'alpha': 0.04832017082312268, 'eta': 1.8113934202574228e-06, 'n_estimators': 32, 'enable_categorical': True}. Best is trial 410 with value: 0.929363572784494.\n"
     ]
    },
    {
     "name": "stderr",
     "output_type": "stream",
     "text": [
      "Best trial: 410. Best value: 0.929364:  85%|██████████████████████████████████████████████████████████████████▍           | 426/500 [06:57<01:13,  1.00it/s]"
     ]
    },
    {
     "name": "stdout",
     "output_type": "stream",
     "text": [
      "[I 2025-02-03 14:03:19,841] Trial 425 finished with value: 0.9282645618942952 and parameters: {'learning_rate': 0.08129747659328544, 'max_depth': 27, 'min_child_weight': 18, 'subsample': 0.4013261044426478, 'colsample_bytree': 0.8182549393276198, 'gamma': 0.0006715714979101504, 'lambda': 0.09565941534804503, 'alpha': 0.06334186631584374, 'eta': 1.2592011635583824e-06, 'n_estimators': 64, 'enable_categorical': True}. Best is trial 410 with value: 0.929363572784494.\n"
     ]
    },
    {
     "name": "stderr",
     "output_type": "stream",
     "text": [
      "Best trial: 410. Best value: 0.929364:  85%|██████████████████████████████████████████████████████████████████▌           | 427/500 [06:59<01:22,  1.13s/it]"
     ]
    },
    {
     "name": "stdout",
     "output_type": "stream",
     "text": [
      "[I 2025-02-03 14:03:21,296] Trial 426 finished with value: 0.9264661804376062 and parameters: {'learning_rate': 0.0690541678983827, 'max_depth': 26, 'min_child_weight': 8, 'subsample': 0.5171713789207535, 'colsample_bytree': 0.6927660376002182, 'gamma': 0.0003378119244504615, 'lambda': 0.05359023928397708, 'alpha': 0.05026427641435179, 'eta': 6.901755465106966e-07, 'n_estimators': 32, 'enable_categorical': True}. Best is trial 410 with value: 0.929363572784494.\n"
     ]
    },
    {
     "name": "stderr",
     "output_type": "stream",
     "text": [
      "Best trial: 410. Best value: 0.929364:  86%|██████████████████████████████████████████████████████████████████▊           | 428/500 [06:59<01:15,  1.04s/it]"
     ]
    },
    {
     "name": "stdout",
     "output_type": "stream",
     "text": [
      "[I 2025-02-03 14:03:22,131] Trial 427 finished with value: 0.9282645618942952 and parameters: {'learning_rate': 0.09819091706280998, 'max_depth': 28, 'min_child_weight': 9, 'subsample': 0.4444444971502786, 'colsample_bytree': 0.886057862624302, 'gamma': 0.0009630015731932479, 'lambda': 0.058269830419396026, 'alpha': 0.040292570943310735, 'eta': 9.291959741779083e-07, 'n_estimators': 32, 'enable_categorical': True}. Best is trial 410 with value: 0.929363572784494.\n"
     ]
    },
    {
     "name": "stderr",
     "output_type": "stream",
     "text": [
      "Best trial: 410. Best value: 0.929364:  86%|██████████████████████████████████████████████████████████████████▉           | 429/500 [07:00<01:09,  1.02it/s]"
     ]
    },
    {
     "name": "stdout",
     "output_type": "stream",
     "text": [
      "[I 2025-02-03 14:03:22,947] Trial 428 finished with value: 0.9280647417324408 and parameters: {'learning_rate': 0.08684314263448778, 'max_depth': 26, 'min_child_weight': 14, 'subsample': 0.5588566594915376, 'colsample_bytree': 0.8905419728927517, 'gamma': 0.00020473579285191026, 'lambda': 0.07464118339350626, 'alpha': 0.03529102551913645, 'eta': 0.00021200003232313907, 'n_estimators': 2048, 'enable_categorical': True}. Best is trial 410 with value: 0.929363572784494.\n"
     ]
    },
    {
     "name": "stderr",
     "output_type": "stream",
     "text": [
      "Best trial: 410. Best value: 0.929364:  86%|███████████████████████████████████████████████████████████████████           | 430/500 [07:01<00:57,  1.22it/s]"
     ]
    },
    {
     "name": "stdout",
     "output_type": "stream",
     "text": [
      "[I 2025-02-03 14:03:23,406] Trial 429 finished with value: 0.8614247177540214 and parameters: {'learning_rate': 0.07436548482891404, 'max_depth': 27, 'min_child_weight': 8, 'subsample': 0.3859849362551901, 'colsample_bytree': 0.0021128333318778856, 'gamma': 0.000442700899236261, 'lambda': 0.10067735465745067, 'alpha': 0.043948536314443405, 'eta': 2.4271466122471804e-06, 'n_estimators': 3096, 'enable_categorical': True}. Best is trial 410 with value: 0.929363572784494.\n"
     ]
    },
    {
     "name": "stderr",
     "output_type": "stream",
     "text": [
      "Best trial: 410. Best value: 0.929364:  86%|███████████████████████████████████████████████████████████████████▏          | 431/500 [07:02<01:03,  1.08it/s]"
     ]
    },
    {
     "name": "stdout",
     "output_type": "stream",
     "text": [
      "[I 2025-02-03 14:03:24,579] Trial 430 finished with value: 0.9291637526226396 and parameters: {'learning_rate': 0.06451234226092567, 'max_depth': 25, 'min_child_weight': 8, 'subsample': 0.490620033479479, 'colsample_bytree': 0.9996452115847002, 'gamma': 0.0005959516671597857, 'lambda': 0.04079574434757127, 'alpha': 0.05419704336131316, 'eta': 7.530705324378967e-07, 'n_estimators': 2048, 'enable_categorical': True}. Best is trial 410 with value: 0.929363572784494.\n"
     ]
    },
    {
     "name": "stderr",
     "output_type": "stream",
     "text": [
      "Best trial: 410. Best value: 0.929364:  86%|███████████████████████████████████████████████████████████████████▍          | 432/500 [07:03<00:58,  1.17it/s]"
     ]
    },
    {
     "name": "stdout",
     "output_type": "stream",
     "text": [
      "[I 2025-02-03 14:03:25,270] Trial 431 finished with value: 0.9267659106803876 and parameters: {'learning_rate': 0.05813706670184592, 'max_depth': 25, 'min_child_weight': 13, 'subsample': 0.4771285632218686, 'colsample_bytree': 0.7309310748629704, 'gamma': 0.00024281951268057287, 'lambda': 0.03532184651701509, 'alpha': 2.050933593539935, 'eta': 5.210105082993698e-07, 'n_estimators': 32, 'enable_categorical': True}. Best is trial 410 with value: 0.929363572784494.\n"
     ]
    },
    {
     "name": "stderr",
     "output_type": "stream",
     "text": [
      "Best trial: 410. Best value: 0.929364:  87%|███████████████████████████████████████████████████████████████████▌          | 433/500 [07:03<00:56,  1.18it/s]"
     ]
    },
    {
     "name": "stdout",
     "output_type": "stream",
     "text": [
      "[I 2025-02-03 14:03:26,097] Trial 432 finished with value: 0.8806074532920372 and parameters: {'learning_rate': 0.06253909348678627, 'max_depth': 25, 'min_child_weight': 11, 'subsample': 0.5742077371464427, 'colsample_bytree': 0.11594323572384387, 'gamma': 0.000565605848182715, 'lambda': 0.029541072453006263, 'alpha': 0.06210347768223507, 'eta': 1.4314962143213097e-06, 'n_estimators': 2048, 'enable_categorical': True}. Best is trial 410 with value: 0.929363572784494.\n"
     ]
    },
    {
     "name": "stderr",
     "output_type": "stream",
     "text": [
      "Best trial: 410. Best value: 0.929364:  87%|███████████████████████████████████████████████████████████████████▋          | 434/500 [07:05<01:07,  1.02s/it]"
     ]
    },
    {
     "name": "stdout",
     "output_type": "stream",
     "text": [
      "[I 2025-02-03 14:03:27,525] Trial 433 finished with value: 0.9291637526226396 and parameters: {'learning_rate': 0.05510130993813196, 'max_depth': 25, 'min_child_weight': 8, 'subsample': 0.5165446824736302, 'colsample_bytree': 0.9973495294654486, 'gamma': 7.207108864029681e-05, 'lambda': 0.04429803691679232, 'alpha': 0.0572189078512612, 'eta': 7.140360911776282e-07, 'n_estimators': 2048, 'enable_categorical': True}. Best is trial 410 with value: 0.929363572784494.\n"
     ]
    },
    {
     "name": "stderr",
     "output_type": "stream",
     "text": [
      "Best trial: 410. Best value: 0.929364:  87%|███████████████████████████████████████████████████████████████████▊          | 435/500 [07:06<01:08,  1.06s/it]"
     ]
    },
    {
     "name": "stdout",
     "output_type": "stream",
     "text": [
      "[I 2025-02-03 14:03:28,663] Trial 434 finished with value: 0.9290638425417125 and parameters: {'learning_rate': 0.05142430082465788, 'max_depth': 25, 'min_child_weight': 16, 'subsample': 0.5111270163649927, 'colsample_bytree': 0.9960897093124127, 'gamma': 0.00010016109636320731, 'lambda': 0.03906973953152042, 'alpha': 0.08139566573742942, 'eta': 7.355214933137447e-07, 'n_estimators': 2048, 'enable_categorical': True}. Best is trial 410 with value: 0.929363572784494.\n"
     ]
    },
    {
     "name": "stderr",
     "output_type": "stream",
     "text": [
      "Best trial: 410. Best value: 0.929364:  87%|████████████████████████████████████████████████████████████████████          | 436/500 [07:07<01:11,  1.12s/it]"
     ]
    },
    {
     "name": "stdout",
     "output_type": "stream",
     "text": [
      "[I 2025-02-03 14:03:29,935] Trial 435 finished with value: 0.9280647417324408 and parameters: {'learning_rate': 0.05069262743775272, 'max_depth': 26, 'min_child_weight': 16, 'subsample': 0.629589372790853, 'colsample_bytree': 0.8941626673780007, 'gamma': 5.672082636424949e-05, 'lambda': 0.0493725157121596, 'alpha': 0.06955788688650563, 'eta': 6.501419785959347e-07, 'n_estimators': 32, 'enable_categorical': True}. Best is trial 410 with value: 0.929363572784494.\n"
     ]
    },
    {
     "name": "stderr",
     "output_type": "stream",
     "text": [
      "Best trial: 410. Best value: 0.929364:  87%|████████████████████████████████████████████████████████████████████▏         | 437/500 [07:08<01:11,  1.14s/it]"
     ]
    },
    {
     "name": "stdout",
     "output_type": "stream",
     "text": [
      "[I 2025-02-03 14:03:31,113] Trial 436 finished with value: 0.9284643820561495 and parameters: {'learning_rate': 0.048050621426853235, 'max_depth': 25, 'min_child_weight': 16, 'subsample': 0.5287157793411571, 'colsample_bytree': 0.8944270437864442, 'gamma': 9.510269536809981e-05, 'lambda': 0.038838338767697426, 'alpha': 0.08388020535622343, 'eta': 1.235348737120659e-06, 'n_estimators': 2048, 'enable_categorical': True}. Best is trial 410 with value: 0.929363572784494.\n"
     ]
    },
    {
     "name": "stderr",
     "output_type": "stream",
     "text": [
      "Best trial: 410. Best value: 0.929364:  88%|████████████████████████████████████████████████████████████████████▎         | 438/500 [07:10<01:16,  1.23s/it]"
     ]
    },
    {
     "name": "stdout",
     "output_type": "stream",
     "text": [
      "[I 2025-02-03 14:03:32,564] Trial 437 finished with value: 0.9285642921370766 and parameters: {'learning_rate': 0.05402755724557264, 'max_depth': 26, 'min_child_weight': 8, 'subsample': 0.5850148770021427, 'colsample_bytree': 0.9835150626039132, 'gamma': 6.920395229396945e-05, 'lambda': 0.02467946363140757, 'alpha': 0.05689246386525266, 'eta': 8.370085890955525e-07, 'n_estimators': 2048, 'enable_categorical': True}. Best is trial 410 with value: 0.929363572784494.\n"
     ]
    },
    {
     "name": "stderr",
     "output_type": "stream",
     "text": [
      "Best trial: 410. Best value: 0.929364:  88%|████████████████████████████████████████████████████████████████████▍         | 439/500 [07:12<01:24,  1.38s/it]"
     ]
    },
    {
     "name": "stdout",
     "output_type": "stream",
     "text": [
      "[I 2025-02-03 14:03:34,283] Trial 438 finished with value: 0.9282645618942952 and parameters: {'learning_rate': 0.05447116886895307, 'max_depth': 25, 'min_child_weight': 6, 'subsample': 0.5251220469851514, 'colsample_bytree': 0.810557108625341, 'gamma': 4.955406425515338e-05, 'lambda': 0.032294763009849535, 'alpha': 0.060164243554808476, 'eta': 4.5736476715728623e-07, 'n_estimators': 2048, 'enable_categorical': True}. Best is trial 410 with value: 0.929363572784494.\n"
     ]
    },
    {
     "name": "stderr",
     "output_type": "stream",
     "text": [
      "Best trial: 410. Best value: 0.929364:  88%|████████████████████████████████████████████████████████████████████▋         | 440/500 [07:13<01:21,  1.36s/it]"
     ]
    },
    {
     "name": "stdout",
     "output_type": "stream",
     "text": [
      "[I 2025-02-03 14:03:35,609] Trial 439 finished with value: 0.929363572784494 and parameters: {'learning_rate': 0.04920180255299827, 'max_depth': 29, 'min_child_weight': 16, 'subsample': 0.6632778305758708, 'colsample_bytree': 0.9914494600636852, 'gamma': 0.0001417982459839398, 'lambda': 0.040533446714919805, 'alpha': 0.054465713406948335, 'eta': 6.230775694305399e-07, 'n_estimators': 2048, 'enable_categorical': True}. Best is trial 410 with value: 0.929363572784494.\n"
     ]
    },
    {
     "name": "stderr",
     "output_type": "stream",
     "text": [
      "Best trial: 410. Best value: 0.929364:  88%|████████████████████████████████████████████████████████████████████▊         | 441/500 [07:14<01:19,  1.35s/it]"
     ]
    },
    {
     "name": "stdout",
     "output_type": "stream",
     "text": [
      "[I 2025-02-03 14:03:36,933] Trial 440 finished with value: 0.9278649215705864 and parameters: {'learning_rate': 0.04994847903328601, 'max_depth': 30, 'min_child_weight': 16, 'subsample': 0.6698247047441824, 'colsample_bytree': 0.8938834635381502, 'gamma': 0.00010727828710216662, 'lambda': 0.04004126884149934, 'alpha': 0.07254946942639129, 'eta': 5.541434971760275e-07, 'n_estimators': 128, 'enable_categorical': True}. Best is trial 410 with value: 0.929363572784494.\n"
     ]
    },
    {
     "name": "stderr",
     "output_type": "stream",
     "text": [
      "Best trial: 410. Best value: 0.929364:  88%|████████████████████████████████████████████████████████████████████▉         | 442/500 [07:15<01:15,  1.29s/it]"
     ]
    },
    {
     "name": "stdout",
     "output_type": "stream",
     "text": [
      "[I 2025-02-03 14:03:38,095] Trial 441 finished with value: 0.9286642022180038 and parameters: {'learning_rate': 0.04558868562071848, 'max_depth': 29, 'min_child_weight': 16, 'subsample': 0.49478528489486634, 'colsample_bytree': 0.9988135698448735, 'gamma': 7.459750948072432e-05, 'lambda': 0.03455996682532777, 'alpha': 0.08636152193694298, 'eta': 4.6206220790181767e-07, 'n_estimators': 1024, 'enable_categorical': True}. Best is trial 410 with value: 0.929363572784494.\n"
     ]
    },
    {
     "name": "stderr",
     "output_type": "stream",
     "text": [
      "Best trial: 410. Best value: 0.929364:  89%|█████████████████████████████████████████████████████████████████████         | 443/500 [07:17<01:11,  1.26s/it]"
     ]
    },
    {
     "name": "stdout",
     "output_type": "stream",
     "text": [
      "[I 2025-02-03 14:03:39,274] Trial 442 finished with value: 0.9282645618942952 and parameters: {'learning_rate': 0.058048828475166694, 'max_depth': 26, 'min_child_weight': 16, 'subsample': 0.5798079286221507, 'colsample_bytree': 0.7755194489563723, 'gamma': 6.0346938256271065e-05, 'lambda': 0.039752139529458816, 'alpha': 0.10621153195072659, 'eta': 6.787102091365685e-07, 'n_estimators': 2048, 'enable_categorical': True}. Best is trial 410 with value: 0.929363572784494.\n"
     ]
    },
    {
     "name": "stderr",
     "output_type": "stream",
     "text": [
      "Best trial: 410. Best value: 0.929364:  89%|█████████████████████████████████████████████████████████████████████▎        | 444/500 [07:17<01:01,  1.09s/it]"
     ]
    },
    {
     "name": "stdout",
     "output_type": "stream",
     "text": [
      "[I 2025-02-03 14:03:39,967] Trial 443 finished with value: 0.9279648316515137 and parameters: {'learning_rate': 0.058392173618144284, 'max_depth': 9, 'min_child_weight': 16, 'subsample': 0.8375247523128196, 'colsample_bytree': 0.8732776191621923, 'gamma': 7.999586818479825e-05, 'lambda': 0.030094080287629915, 'alpha': 0.05175866548531422, 'eta': 4.122963551321412e-06, 'n_estimators': 2048, 'enable_categorical': True}. Best is trial 410 with value: 0.929363572784494.\n"
     ]
    },
    {
     "name": "stderr",
     "output_type": "stream",
     "text": [
      "Best trial: 410. Best value: 0.929364:  89%|█████████████████████████████████████████████████████████████████████▍        | 445/500 [07:18<01:00,  1.10s/it]"
     ]
    },
    {
     "name": "stdout",
     "output_type": "stream",
     "text": [
      "[I 2025-02-03 14:03:41,092] Trial 444 finished with value: 0.9285642921370766 and parameters: {'learning_rate': 0.04903836324121329, 'max_depth': 24, 'min_child_weight': 16, 'subsample': 0.48943820836259744, 'colsample_bytree': 0.9986579338532219, 'gamma': 0.0001034033185639063, 'lambda': 0.05882057727062817, 'alpha': 0.06956670901492495, 'eta': 3.9574616539149825e-07, 'n_estimators': 2048, 'enable_categorical': True}. Best is trial 410 with value: 0.929363572784494.\n"
     ]
    },
    {
     "name": "stderr",
     "output_type": "stream",
     "text": [
      "Best trial: 410. Best value: 0.929364:  89%|█████████████████████████████████████████████████████████████████████▌        | 446/500 [07:19<00:58,  1.09s/it]"
     ]
    },
    {
     "name": "stdout",
     "output_type": "stream",
     "text": [
      "[I 2025-02-03 14:03:42,152] Trial 445 finished with value: 0.9291637526226396 and parameters: {'learning_rate': 0.06433718643190856, 'max_depth': 29, 'min_child_weight': 16, 'subsample': 0.6426211528753245, 'colsample_bytree': 0.9999734594666998, 'gamma': 4.237741042514368e-05, 'lambda': 0.04268565463315821, 'alpha': 0.054050122460038014, 'eta': 1.0328467464663566e-08, 'n_estimators': 32, 'enable_categorical': True}. Best is trial 410 with value: 0.929363572784494.\n"
     ]
    },
    {
     "name": "stderr",
     "output_type": "stream",
     "text": [
      "Best trial: 410. Best value: 0.929364:  89%|█████████████████████████████████████████████████████████████████████▋        | 447/500 [07:21<00:57,  1.09s/it]"
     ]
    },
    {
     "name": "stdout",
     "output_type": "stream",
     "text": [
      "[I 2025-02-03 14:03:43,250] Trial 446 finished with value: 0.9292636627035668 and parameters: {'learning_rate': 0.06435012349550608, 'max_depth': 28, 'min_child_weight': 16, 'subsample': 0.6454905014683585, 'colsample_bytree': 0.9964569397062475, 'gamma': 3.83008155060863e-05, 'lambda': 0.04673732481774513, 'alpha': 0.06034800326828319, 'eta': 5.7192616591863766e-05, 'n_estimators': 32, 'enable_categorical': True}. Best is trial 410 with value: 0.929363572784494.\n"
     ]
    },
    {
     "name": "stderr",
     "output_type": "stream",
     "text": [
      "Best trial: 410. Best value: 0.929364:  90%|█████████████████████████████████████████████████████████████████████▉        | 448/500 [07:22<00:58,  1.13s/it]"
     ]
    },
    {
     "name": "stdout",
     "output_type": "stream",
     "text": [
      "[I 2025-02-03 14:03:44,458] Trial 447 finished with value: 0.9284643820561495 and parameters: {'learning_rate': 0.06190546080408883, 'max_depth': 30, 'min_child_weight': 16, 'subsample': 0.7619940932511815, 'colsample_bytree': 0.8708823246400186, 'gamma': 2.8525889058253448e-05, 'lambda': 0.04658173986306886, 'alpha': 0.05768778739679636, 'eta': 1.5581088768529984e-05, 'n_estimators': 32, 'enable_categorical': True}. Best is trial 410 with value: 0.929363572784494.\n"
     ]
    },
    {
     "name": "stderr",
     "output_type": "stream",
     "text": [
      "Best trial: 410. Best value: 0.929364:  90%|██████████████████████████████████████████████████████████████████████        | 449/500 [07:23<01:00,  1.19s/it]"
     ]
    },
    {
     "name": "stdout",
     "output_type": "stream",
     "text": [
      "[I 2025-02-03 14:03:45,802] Trial 448 finished with value: 0.9283644719752223 and parameters: {'learning_rate': 0.053107127209432885, 'max_depth': 29, 'min_child_weight': 16, 'subsample': 0.6945968591103724, 'colsample_bytree': 0.7909695944702924, 'gamma': 6.0259642592932655e-05, 'lambda': 0.04267112897382392, 'alpha': 0.08417723359957276, 'eta': 0.0012277965774328825, 'n_estimators': 32, 'enable_categorical': True}. Best is trial 410 with value: 0.929363572784494.\n"
     ]
    },
    {
     "name": "stderr",
     "output_type": "stream",
     "text": [
      "Best trial: 410. Best value: 0.929364:  90%|██████████████████████████████████████████████████████████████████████▏       | 450/500 [07:25<01:04,  1.29s/it]"
     ]
    },
    {
     "name": "stdout",
     "output_type": "stream",
     "text": [
      "[I 2025-02-03 14:03:47,326] Trial 449 finished with value: 0.9290638425417125 and parameters: {'learning_rate': 0.04583689953128822, 'max_depth': 31, 'min_child_weight': 16, 'subsample': 0.8260896160575927, 'colsample_bytree': 0.999935164553863, 'gamma': 1.4341955267226782e-05, 'lambda': 0.025902928228399676, 'alpha': 0.05658815941492861, 'eta': 2.1996958607614927e-08, 'n_estimators': 32, 'enable_categorical': True}. Best is trial 410 with value: 0.929363572784494.\n"
     ]
    },
    {
     "name": "stderr",
     "output_type": "stream",
     "text": [
      "Best trial: 410. Best value: 0.929364:  90%|██████████████████████████████████████████████████████████████████████▎       | 451/500 [07:26<01:05,  1.34s/it]"
     ]
    },
    {
     "name": "stdout",
     "output_type": "stream",
     "text": [
      "[I 2025-02-03 14:03:48,795] Trial 450 finished with value: 0.9282645618942952 and parameters: {'learning_rate': 0.04480961153486332, 'max_depth': 30, 'min_child_weight': 16, 'subsample': 0.7658776256460373, 'colsample_bytree': 0.8922982298667386, 'gamma': 1.2500266597905504e-05, 'lambda': 0.026765543416633668, 'alpha': 0.05911898218002654, 'eta': 1.517071727223067e-08, 'n_estimators': 32, 'enable_categorical': True}. Best is trial 410 with value: 0.929363572784494.\n"
     ]
    },
    {
     "name": "stderr",
     "output_type": "stream",
     "text": [
      "Best trial: 410. Best value: 0.929364:  90%|██████████████████████████████████████████████████████████████████████▌       | 452/500 [07:28<01:06,  1.39s/it]"
     ]
    },
    {
     "name": "stdout",
     "output_type": "stream",
     "text": [
      "[I 2025-02-03 14:03:50,296] Trial 451 finished with value: 0.9282645618942952 and parameters: {'learning_rate': 0.046313897358033165, 'max_depth': 29, 'min_child_weight': 16, 'subsample': 0.8305129887673506, 'colsample_bytree': 0.9908870550742087, 'gamma': 4.26102174820847e-05, 'lambda': 0.021602680301829436, 'alpha': 0.0928797090928357, 'eta': 0.00011057779876022194, 'n_estimators': 32, 'enable_categorical': True}. Best is trial 410 with value: 0.929363572784494.\n"
     ]
    },
    {
     "name": "stderr",
     "output_type": "stream",
     "text": [
      "Best trial: 410. Best value: 0.929364:  91%|██████████████████████████████████████████████████████████████████████▋       | 453/500 [07:28<00:52,  1.11s/it]"
     ]
    },
    {
     "name": "stdout",
     "output_type": "stream",
     "text": [
      "[I 2025-02-03 14:03:50,755] Trial 452 finished with value: 0.8359476471175942 and parameters: {'learning_rate': 0.052161011058378184, 'max_depth': 31, 'min_child_weight': 16, 'subsample': 0.8475957506655484, 'colsample_bytree': 0.08801384805208168, 'gamma': 3.5513951394282356e-05, 'lambda': 0.03457221616466894, 'alpha': 0.0708394765749245, 'eta': 4.571370074003441e-08, 'n_estimators': 32, 'enable_categorical': True}. Best is trial 410 with value: 0.929363572784494.\n"
     ]
    },
    {
     "name": "stderr",
     "output_type": "stream",
     "text": [
      "Best trial: 410. Best value: 0.929364:  91%|██████████████████████████████████████████████████████████████████████▊       | 454/500 [07:29<00:54,  1.19s/it]"
     ]
    },
    {
     "name": "stdout",
     "output_type": "stream",
     "text": [
      "[I 2025-02-03 14:03:52,131] Trial 453 finished with value: 0.9283644719752223 and parameters: {'learning_rate': 0.04292583935317343, 'max_depth': 29, 'min_child_weight': 16, 'subsample': 0.6760178238156199, 'colsample_bytree': 0.9954461875102556, 'gamma': 1.9494125655813744e-05, 'lambda': 0.02854298339358451, 'alpha': 0.05479206322570051, 'eta': 1.0544733156697845e-08, 'n_estimators': 32, 'enable_categorical': True}. Best is trial 410 with value: 0.929363572784494.\n"
     ]
    },
    {
     "name": "stderr",
     "output_type": "stream",
     "text": [
      "Best trial: 410. Best value: 0.929364:  91%|██████████████████████████████████████████████████████████████████████▉       | 455/500 [07:30<00:43,  1.03it/s]"
     ]
    },
    {
     "name": "stdout",
     "output_type": "stream",
     "text": [
      "[I 2025-02-03 14:03:52,602] Trial 454 finished with value: 0.8513337995803777 and parameters: {'learning_rate': 0.06168750093712042, 'max_depth': 32, 'min_child_weight': 16, 'subsample': 0.8245306352180288, 'colsample_bytree': 0.038661198348350474, 'gamma': 3.498269341435037e-05, 'lambda': 0.02404022618850525, 'alpha': 0.05220351067427078, 'eta': 2.3343176558648966e-08, 'n_estimators': 32, 'enable_categorical': True}. Best is trial 410 with value: 0.929363572784494.\n"
     ]
    },
    {
     "name": "stderr",
     "output_type": "stream",
     "text": [
      "Best trial: 410. Best value: 0.929364:  91%|███████████████████████████████████████████████████████████████████████▏      | 456/500 [07:31<00:51,  1.16s/it]"
     ]
    },
    {
     "name": "stdout",
     "output_type": "stream",
     "text": [
      "[I 2025-02-03 14:03:54,200] Trial 455 finished with value: 0.9264661804376062 and parameters: {'learning_rate': 0.054145640827430154, 'max_depth': 29, 'min_child_weight': 16, 'subsample': 0.9340208423222326, 'colsample_bytree': 0.6751290608192115, 'gamma': 2.3690852803094058e-05, 'lambda': 0.043408194036151045, 'alpha': 0.07048228317412124, 'eta': 0.00042429396507852194, 'n_estimators': 32, 'enable_categorical': True}. Best is trial 410 with value: 0.929363572784494.\n"
     ]
    },
    {
     "name": "stderr",
     "output_type": "stream",
     "text": [
      "Best trial: 410. Best value: 0.929364:  91%|███████████████████████████████████████████████████████████████████████▎      | 457/500 [07:33<00:52,  1.23s/it]"
     ]
    },
    {
     "name": "stdout",
     "output_type": "stream",
     "text": [
      "[I 2025-02-03 14:03:55,585] Trial 456 finished with value: 0.9277650114896593 and parameters: {'learning_rate': 0.04716253355805167, 'max_depth': 32, 'min_child_weight': 16, 'subsample': 0.734563706225467, 'colsample_bytree': 0.7936931604822901, 'gamma': 3.02068943192032e-05, 'lambda': 0.03756233093734456, 'alpha': 0.11688496835943765, 'eta': 2.7055264338911237e-08, 'n_estimators': 32, 'enable_categorical': True}. Best is trial 410 with value: 0.929363572784494.\n"
     ]
    },
    {
     "name": "stderr",
     "output_type": "stream",
     "text": [
      "Best trial: 410. Best value: 0.929364:  92%|███████████████████████████████████████████████████████████████████████▍      | 458/500 [07:34<00:52,  1.25s/it]"
     ]
    },
    {
     "name": "stdout",
     "output_type": "stream",
     "text": [
      "[I 2025-02-03 14:03:56,887] Trial 457 finished with value: 0.9280647417324408 and parameters: {'learning_rate': 0.062215058324435274, 'max_depth': 29, 'min_child_weight': 16, 'subsample': 0.9570712559208915, 'colsample_bytree': 0.9993801407920722, 'gamma': 4.7735639578551525e-06, 'lambda': 0.0311654161348963, 'alpha': 0.060649209373251224, 'eta': 2.4115791587422512e-08, 'n_estimators': 32, 'enable_categorical': True}. Best is trial 410 with value: 0.929363572784494.\n"
     ]
    },
    {
     "name": "stderr",
     "output_type": "stream",
     "text": [
      "Best trial: 410. Best value: 0.929364:  92%|███████████████████████████████████████████████████████████████████████▌      | 459/500 [07:35<00:51,  1.27s/it]"
     ]
    },
    {
     "name": "stdout",
     "output_type": "stream",
     "text": [
      "[I 2025-02-03 14:03:58,190] Trial 458 finished with value: 0.9284643820561495 and parameters: {'learning_rate': 0.05621939841889799, 'max_depth': 30, 'min_child_weight': 16, 'subsample': 0.6605763047160269, 'colsample_bytree': 0.8112436125099415, 'gamma': 7.134071131859007e-05, 'lambda': 0.04703556037695113, 'alpha': 0.05047214259844039, 'eta': 1.5324142387391833e-08, 'n_estimators': 32, 'enable_categorical': True}. Best is trial 410 with value: 0.929363572784494.\n"
     ]
    },
    {
     "name": "stderr",
     "output_type": "stream",
     "text": [
      "Best trial: 410. Best value: 0.929364:  92%|███████████████████████████████████████████████████████████████████████▊      | 460/500 [07:36<00:39,  1.01it/s]"
     ]
    },
    {
     "name": "stdout",
     "output_type": "stream",
     "text": [
      "[I 2025-02-03 14:03:58,530] Trial 459 finished with value: 0.9095813767609152 and parameters: {'learning_rate': 0.04118550388983383, 'max_depth': 28, 'min_child_weight': 16, 'subsample': 0.03465846024621444, 'colsample_bytree': 0.709049034698041, 'gamma': 2.4094352697360738e-05, 'lambda': 0.01970766819012959, 'alpha': 0.08058595979326597, 'eta': 0.0028329745512535756, 'n_estimators': 32, 'enable_categorical': True}. Best is trial 410 with value: 0.929363572784494.\n"
     ]
    },
    {
     "name": "stderr",
     "output_type": "stream",
     "text": [
      "Best trial: 410. Best value: 0.929364:  92%|███████████████████████████████████████████████████████████████████████▉      | 461/500 [07:37<00:40,  1.04s/it]"
     ]
    },
    {
     "name": "stdout",
     "output_type": "stream",
     "text": [
      "[I 2025-02-03 14:03:59,689] Trial 460 finished with value: 0.9288640223798581 and parameters: {'learning_rate': 0.06218275656374897, 'max_depth': 28, 'min_child_weight': 16, 'subsample': 0.6230128752269793, 'colsample_bytree': 0.8631449119211718, 'gamma': 1.1552662756081617e-05, 'lambda': 0.037667112181793076, 'alpha': 0.0498970887779193, 'eta': 1.7726722315151517e-08, 'n_estimators': 32, 'enable_categorical': True}. Best is trial 410 with value: 0.929363572784494.\n"
     ]
    },
    {
     "name": "stderr",
     "output_type": "stream",
     "text": [
      "Best trial: 410. Best value: 0.929364:  92%|████████████████████████████████████████████████████████████████████████      | 462/500 [07:38<00:42,  1.12s/it]"
     ]
    },
    {
     "name": "stdout",
     "output_type": "stream",
     "text": [
      "[I 2025-02-03 14:04:01,004] Trial 461 finished with value: 0.9282645618942952 and parameters: {'learning_rate': 0.04846306202103648, 'max_depth': 31, 'min_child_weight': 16, 'subsample': 0.6481726534356776, 'colsample_bytree': 0.8797076699288249, 'gamma': 1.953602803493049e-05, 'lambda': 0.025954699762560592, 'alpha': 0.061462283818397044, 'eta': 2.115069546424387e-08, 'n_estimators': 32, 'enable_categorical': True}. Best is trial 410 with value: 0.929363572784494.\n"
     ]
    },
    {
     "name": "stderr",
     "output_type": "stream",
     "text": [
      "Best trial: 410. Best value: 0.929364:  93%|████████████████████████████████████████████████████████████████████████▏     | 463/500 [07:39<00:42,  1.14s/it]"
     ]
    },
    {
     "name": "stdout",
     "output_type": "stream",
     "text": [
      "[I 2025-02-03 14:04:02,197] Trial 462 finished with value: 0.9280647417324408 and parameters: {'learning_rate': 0.06751724475497432, 'max_depth': 27, 'min_child_weight': 16, 'subsample': 0.7618157605032656, 'colsample_bytree': 0.7443200429599703, 'gamma': 9.394647395722927e-06, 'lambda': 0.049747002947165816, 'alpha': 0.04847609487085905, 'eta': 1.178153260269406e-08, 'n_estimators': 32, 'enable_categorical': True}. Best is trial 410 with value: 0.929363572784494.\n"
     ]
    },
    {
     "name": "stderr",
     "output_type": "stream",
     "text": [
      "Best trial: 410. Best value: 0.929364:  93%|████████████████████████████████████████████████████████████████████████▍     | 464/500 [07:41<00:42,  1.17s/it]"
     ]
    },
    {
     "name": "stdout",
     "output_type": "stream",
     "text": [
      "[I 2025-02-03 14:04:03,424] Trial 463 finished with value: 0.9260665401138974 and parameters: {'learning_rate': 0.05297388610311354, 'max_depth': 31, 'min_child_weight': 16, 'subsample': 0.5735477309141276, 'colsample_bytree': 0.6388367624595707, 'gamma': 1.446651184985116e-05, 'lambda': 0.033052841748957236, 'alpha': 0.0756389295053852, 'eta': 3.664264222166689e-08, 'n_estimators': 32, 'enable_categorical': True}. Best is trial 410 with value: 0.929363572784494.\n"
     ]
    },
    {
     "name": "stderr",
     "output_type": "stream",
     "text": [
      "Best trial: 410. Best value: 0.929364:  93%|████████████████████████████████████████████████████████████████████████▌     | 465/500 [07:42<00:42,  1.20s/it]"
     ]
    },
    {
     "name": "stdout",
     "output_type": "stream",
     "text": [
      "[I 2025-02-03 14:04:04,704] Trial 464 finished with value: 0.928764112298931 and parameters: {'learning_rate': 0.06525982747669157, 'max_depth': 30, 'min_child_weight': 16, 'subsample': 0.8943989880669876, 'colsample_bytree': 0.8877483622886355, 'gamma': 4.6935929366276364e-05, 'lambda': 0.0574103985466783, 'alpha': 0.06196966526211778, 'eta': 2.964893456117627e-06, 'n_estimators': 32, 'enable_categorical': True}. Best is trial 410 with value: 0.929363572784494.\n"
     ]
    },
    {
     "name": "stderr",
     "output_type": "stream",
     "text": [
      "Best trial: 410. Best value: 0.929364:  93%|████████████████████████████████████████████████████████████████████████▋     | 466/500 [07:43<00:41,  1.22s/it]"
     ]
    },
    {
     "name": "stdout",
     "output_type": "stream",
     "text": [
      "[I 2025-02-03 14:04:05,980] Trial 465 finished with value: 0.928764112298931 and parameters: {'learning_rate': 0.043716277047462684, 'max_depth': 31, 'min_child_weight': 16, 'subsample': 0.5955964539924196, 'colsample_bytree': 0.9980216650137727, 'gamma': 0.00014531408814404042, 'lambda': 0.04380986598573759, 'alpha': 0.09272778551334754, 'eta': 3.08843562887842e-08, 'n_estimators': 1536, 'enable_categorical': True}. Best is trial 410 with value: 0.929363572784494.\n"
     ]
    },
    {
     "name": "stderr",
     "output_type": "stream",
     "text": [
      "Best trial: 410. Best value: 0.929364:  93%|████████████████████████████████████████████████████████████████████████▊     | 467/500 [07:45<00:43,  1.33s/it]"
     ]
    },
    {
     "name": "stdout",
     "output_type": "stream",
     "text": [
      "[I 2025-02-03 14:04:07,540] Trial 466 finished with value: 0.9282645618942952 and parameters: {'learning_rate': 0.05562115372495762, 'max_depth': 28, 'min_child_weight': 12, 'subsample': 0.7316463126480569, 'colsample_bytree': 0.7726558059682631, 'gamma': 3.577049177546499e-05, 'lambda': 0.03715652879277024, 'alpha': 0.04759689106519114, 'eta': 8.73111604049986e-06, 'n_estimators': 32, 'enable_categorical': True}. Best is trial 410 with value: 0.929363572784494.\n"
     ]
    },
    {
     "name": "stderr",
     "output_type": "stream",
     "text": [
      "Best trial: 410. Best value: 0.929364:  94%|█████████████████████████████████████████████████████████████████████████     | 468/500 [07:46<00:39,  1.24s/it]"
     ]
    },
    {
     "name": "stdout",
     "output_type": "stream",
     "text": [
      "[I 2025-02-03 14:04:08,580] Trial 467 finished with value: 0.9285642921370766 and parameters: {'learning_rate': 0.06801962020257557, 'max_depth': 29, 'min_child_weight': 16, 'subsample': 0.6459285865464774, 'colsample_bytree': 0.8756580018778123, 'gamma': 7.169414514615819e-06, 'lambda': 0.054369404930141155, 'alpha': 0.045346803259227124, 'eta': 4.470831296456822e-05, 'n_estimators': 64, 'enable_categorical': True}. Best is trial 410 with value: 0.929363572784494.\n"
     ]
    },
    {
     "name": "stderr",
     "output_type": "stream",
     "text": [
      "Best trial: 410. Best value: 0.929364:  94%|█████████████████████████████████████████████████████████████████████████▏    | 469/500 [07:47<00:37,  1.20s/it]"
     ]
    },
    {
     "name": "stdout",
     "output_type": "stream",
     "text": [
      "[I 2025-02-03 14:04:09,679] Trial 468 finished with value: 0.9270656409231691 and parameters: {'learning_rate': 0.04803576568644486, 'max_depth': 29, 'min_child_weight': 19, 'subsample': 0.5148670045271708, 'colsample_bytree': 0.781065154229237, 'gamma': 9.063218499341472e-05, 'lambda': 0.027578008471213604, 'alpha': 0.0625844136455586, 'eta': 1.0719673143605338e-08, 'n_estimators': 3096, 'enable_categorical': True}. Best is trial 410 with value: 0.929363572784494.\n"
     ]
    },
    {
     "name": "stderr",
     "output_type": "stream",
     "text": [
      "Best trial: 410. Best value: 0.929364:  94%|█████████████████████████████████████████████████████████████████████████▍    | 471/500 [07:48<00:24,  1.18it/s]"
     ]
    },
    {
     "name": "stdout",
     "output_type": "stream",
     "text": [
      "[I 2025-02-03 14:04:10,716] Trial 469 finished with value: 0.9285642921370766 and parameters: {'learning_rate': 0.058231326152666595, 'max_depth': 30, 'min_child_weight': 20, 'subsample': 0.5822334025915709, 'colsample_bytree': 0.9897275553561178, 'gamma': 0.00013714012923745698, 'lambda': 0.06353111607443226, 'alpha': 0.0768370293608664, 'eta': 0.005052524418698778, 'n_estimators': 32, 'enable_categorical': True}. Best is trial 410 with value: 0.929363572784494.\n",
      "[I 2025-02-03 14:04:10,860] Trial 470 finished with value: 0.6029573383954441 and parameters: {'learning_rate': 0.06905950069137083, 'max_depth': 27, 'min_child_weight': 16, 'subsample': 0.0025318325963103855, 'colsample_bytree': 0.8820447833945183, 'gamma': 4.724831358461635e-05, 'lambda': 0.04267113081560306, 'alpha': 0.0548078806183321, 'eta': 1.0819546194177695e-08, 'n_estimators': 1024, 'enable_categorical': True}. Best is trial 410 with value: 0.929363572784494.\n"
     ]
    },
    {
     "name": "stderr",
     "output_type": "stream",
     "text": [
      "Best trial: 410. Best value: 0.929364:  94%|█████████████████████████████████████████████████████████████████████████▋    | 472/500 [07:48<00:17,  1.59it/s]"
     ]
    },
    {
     "name": "stdout",
     "output_type": "stream",
     "text": [
      "[I 2025-02-03 14:04:10,983] Trial 471 finished with value: 0.48396443201118994 and parameters: {'learning_rate': 0.04041279930239153, 'max_depth': 31, 'min_child_weight': 16, 'subsample': 0.0019669693178480914, 'colsample_bytree': 0.9979849079275713, 'gamma': 0.0001345071626174842, 'lambda': 0.0320144981586883, 'alpha': 0.04342431797412074, 'eta': 1.907420197686191e-06, 'n_estimators': 512, 'enable_categorical': True}. Best is trial 410 with value: 0.929363572784494.\n"
     ]
    },
    {
     "name": "stderr",
     "output_type": "stream",
     "text": [
      "Best trial: 410. Best value: 0.929364:  95%|█████████████████████████████████████████████████████████████████████████▊    | 473/500 [07:50<00:23,  1.17it/s]"
     ]
    },
    {
     "name": "stdout",
     "output_type": "stream",
     "text": [
      "[I 2025-02-03 14:04:12,356] Trial 472 finished with value: 0.9173743630732341 and parameters: {'learning_rate': 0.05398802517616082, 'max_depth': 29, 'min_child_weight': 16, 'subsample': 0.74613919857747, 'colsample_bytree': 0.3440157825087919, 'gamma': 5.5229105726549154e-05, 'lambda': 0.048398466346615716, 'alpha': 0.10128906796784579, 'eta': 0.0002705214594504792, 'n_estimators': 64, 'enable_categorical': True}. Best is trial 410 with value: 0.929363572784494.\n"
     ]
    },
    {
     "name": "stderr",
     "output_type": "stream",
     "text": [
      "Best trial: 410. Best value: 0.929364:  95%|█████████████████████████████████████████████████████████████████████████▉    | 474/500 [07:51<00:25,  1.01it/s]"
     ]
    },
    {
     "name": "stdout",
     "output_type": "stream",
     "text": [
      "[I 2025-02-03 14:04:13,672] Trial 473 finished with value: 0.9265660905185333 and parameters: {'learning_rate': 0.06575954544687033, 'max_depth': 28, 'min_child_weight': 10, 'subsample': 0.4765261807176625, 'colsample_bytree': 0.6660291054816097, 'gamma': 1.230297142279138e-06, 'lambda': 0.04025388973722534, 'alpha': 0.05634441927930114, 'eta': 1.295443670576137e-06, 'n_estimators': 256, 'enable_categorical': True}. Best is trial 410 with value: 0.929363572784494.\n"
     ]
    },
    {
     "name": "stderr",
     "output_type": "stream",
     "text": [
      "Best trial: 410. Best value: 0.929364:  95%|██████████████████████████████████████████████████████████████████████████    | 475/500 [07:52<00:27,  1.08s/it]"
     ]
    },
    {
     "name": "stdout",
     "output_type": "stream",
     "text": [
      "[I 2025-02-03 14:04:14,964] Trial 474 finished with value: 0.9250674393046259 and parameters: {'learning_rate': 0.04806166684212159, 'max_depth': 27, 'min_child_weight': 15, 'subsample': 0.5536236312668147, 'colsample_bytree': 0.5642023988868553, 'gamma': 0.0011252510745293253, 'lambda': 0.06815961784092571, 'alpha': 0.049222050111628064, 'eta': 1.8900725569807042e-06, 'n_estimators': 5120, 'enable_categorical': True}. Best is trial 410 with value: 0.929363572784494.\n"
     ]
    },
    {
     "name": "stderr",
     "output_type": "stream",
     "text": [
      "Best trial: 410. Best value: 0.929364:  95%|██████████████████████████████████████████████████████████████████████████▎   | 476/500 [07:53<00:27,  1.13s/it]"
     ]
    },
    {
     "name": "stdout",
     "output_type": "stream",
     "text": [
      "[I 2025-02-03 14:04:16,195] Trial 475 finished with value: 0.9282645618942952 and parameters: {'learning_rate': 0.058025154471036615, 'max_depth': 28, 'min_child_weight': 18, 'subsample': 0.657633388749042, 'colsample_bytree': 0.7950052557442956, 'gamma': 2.0038859762958604e-07, 'lambda': 0.022464384402811326, 'alpha': 0.041183748976871846, 'eta': 1.1584629864123564e-06, 'n_estimators': 32, 'enable_categorical': True}. Best is trial 410 with value: 0.929363572784494.\n"
     ]
    },
    {
     "name": "stderr",
     "output_type": "stream",
     "text": [
      "Best trial: 410. Best value: 0.929364:  95%|██████████████████████████████████████████████████████████████████████████▍   | 477/500 [07:54<00:22,  1.03it/s]"
     ]
    },
    {
     "name": "stdout",
     "output_type": "stream",
     "text": [
      "[I 2025-02-03 14:04:16,802] Trial 476 finished with value: 0.925766809871116 and parameters: {'learning_rate': 0.03691996444239945, 'max_depth': 28, 'min_child_weight': 17, 'subsample': 0.4447172490604447, 'colsample_bytree': 0.8809658824835349, 'gamma': 1.8994507843913476e-05, 'lambda': 0.017332266544240187, 'alpha': 1.4045698129872861, 'eta': 9.941533435312944e-07, 'n_estimators': 128, 'enable_categorical': True}. Best is trial 410 with value: 0.929363572784494.\n"
     ]
    },
    {
     "name": "stderr",
     "output_type": "stream",
     "text": [
      "Best trial: 410. Best value: 0.929364:  96%|██████████████████████████████████████████████████████████████████████████▌   | 478/500 [07:56<00:27,  1.27s/it]"
     ]
    },
    {
     "name": "stdout",
     "output_type": "stream",
     "text": [
      "[I 2025-02-03 14:04:18,778] Trial 477 finished with value: 0.9266660005994605 and parameters: {'learning_rate': 0.06951304390719042, 'max_depth': 26, 'min_child_weight': 5, 'subsample': 0.8167462649722157, 'colsample_bytree': 0.7168059881422532, 'gamma': 2.606913596715466e-06, 'lambda': 0.032960238018146376, 'alpha': 0.06684839096812127, 'eta': 6.070713543507938e-07, 'n_estimators': 3096, 'enable_categorical': True}. Best is trial 410 with value: 0.929363572784494.\n"
     ]
    },
    {
     "name": "stderr",
     "output_type": "stream",
     "text": [
      "Best trial: 410. Best value: 0.929364:  96%|██████████████████████████████████████████████████████████████████████████▋   | 479/500 [07:58<00:28,  1.34s/it]"
     ]
    },
    {
     "name": "stdout",
     "output_type": "stream",
     "text": [
      "[I 2025-02-03 14:04:20,275] Trial 478 finished with value: 0.9282645618942952 and parameters: {'learning_rate': 0.04524100688420385, 'max_depth': 27, 'min_child_weight': 8, 'subsample': 0.5198219714682505, 'colsample_bytree': 0.8835779567532475, 'gamma': 0.001242245711708676, 'lambda': 0.053845087005211976, 'alpha': 0.13311845848801518, 'eta': 9.081093293452012e-07, 'n_estimators': 1024, 'enable_categorical': True}. Best is trial 410 with value: 0.929363572784494.\n"
     ]
    },
    {
     "name": "stderr",
     "output_type": "stream",
     "text": [
      "Best trial: 410. Best value: 0.929364:  96%|██████████████████████████████████████████████████████████████████████████▉   | 480/500 [07:59<00:28,  1.42s/it]"
     ]
    },
    {
     "name": "stdout",
     "output_type": "stream",
     "text": [
      "[I 2025-02-03 14:04:21,879] Trial 479 finished with value: 0.9286642022180038 and parameters: {'learning_rate': 0.05897920744536506, 'max_depth': 26, 'min_child_weight': 9, 'subsample': 0.618468820864846, 'colsample_bytree': 0.7870613873949641, 'gamma': 6.343571883929514e-05, 'lambda': 0.045166865093903844, 'alpha': 0.04393269224197352, 'eta': 0.02347277309790367, 'n_estimators': 32, 'enable_categorical': True}. Best is trial 410 with value: 0.929363572784494.\n"
     ]
    },
    {
     "name": "stderr",
     "output_type": "stream",
     "text": [
      "Best trial: 410. Best value: 0.929364:  96%|███████████████████████████████████████████████████████████████████████████   | 481/500 [08:00<00:26,  1.40s/it]"
     ]
    },
    {
     "name": "stdout",
     "output_type": "stream",
     "text": [
      "[I 2025-02-03 14:04:23,228] Trial 480 finished with value: 0.9280647417324408 and parameters: {'learning_rate': 0.050221238670506284, 'max_depth': 26, 'min_child_weight': 16, 'subsample': 0.70721444930803, 'colsample_bytree': 0.879251689222597, 'gamma': 7.881756275093834e-05, 'lambda': 0.05757753411102026, 'alpha': 0.07285962256854431, 'eta': 2.1473977638333627e-06, 'n_estimators': 4096, 'enable_categorical': True}. Best is trial 410 with value: 0.929363572784494.\n"
     ]
    },
    {
     "name": "stderr",
     "output_type": "stream",
     "text": [
      "Best trial: 410. Best value: 0.929364:  96%|███████████████████████████████████████████████████████████████████████████▏  | 482/500 [08:01<00:19,  1.10s/it]"
     ]
    },
    {
     "name": "stdout",
     "output_type": "stream",
     "text": [
      "[I 2025-02-03 14:04:23,648] Trial 481 finished with value: 0.8904985513038266 and parameters: {'learning_rate': 0.9914032060520143, 'max_depth': 27, 'min_child_weight': 8, 'subsample': 0.43807758648359807, 'colsample_bytree': 0.003013577871274269, 'gamma': 0.00012200519039470233, 'lambda': 0.03758092942822602, 'alpha': 0.05348963517962264, 'eta': 4.9007293876312e-06, 'n_estimators': 32, 'enable_categorical': True}. Best is trial 410 with value: 0.929363572784494.\n"
     ]
    },
    {
     "name": "stderr",
     "output_type": "stream",
     "text": [
      "Best trial: 410. Best value: 0.929364:  97%|███████████████████████████████████████████████████████████████████████████▎  | 483/500 [08:02<00:20,  1.23s/it]"
     ]
    },
    {
     "name": "stdout",
     "output_type": "stream",
     "text": [
      "[I 2025-02-03 14:04:25,173] Trial 482 finished with value: 0.9276651014087322 and parameters: {'learning_rate': 0.07254536057341511, 'max_depth': 28, 'min_child_weight': 8, 'subsample': 0.9883344409980612, 'colsample_bytree': 0.9996571256894, 'gamma': 0.0009140451777732722, 'lambda': 0.04853205952440053, 'alpha': 0.08334679324198341, 'eta': 1.3692872052004726e-06, 'n_estimators': 1536, 'enable_categorical': True}. Best is trial 410 with value: 0.929363572784494.\n"
     ]
    },
    {
     "name": "stderr",
     "output_type": "stream",
     "text": [
      "Best trial: 410. Best value: 0.929364:  97%|███████████████████████████████████████████████████████████████████████████▌  | 484/500 [08:04<00:20,  1.26s/it]"
     ]
    },
    {
     "name": "stdout",
     "output_type": "stream",
     "text": [
      "[I 2025-02-03 14:04:26,508] Trial 483 finished with value: 0.926965730842242 and parameters: {'learning_rate': 0.04127593411310604, 'max_depth': 19, 'min_child_weight': 13, 'subsample': 0.5466417414372853, 'colsample_bytree': 0.7111127946024429, 'gamma': 0.001494624021009246, 'lambda': 0.02979120919908492, 'alpha': 0.041439244487471605, 'eta': 4.3441604178349535e-07, 'n_estimators': 4096, 'enable_categorical': True}. Best is trial 410 with value: 0.929363572784494.\n"
     ]
    },
    {
     "name": "stderr",
     "output_type": "stream",
     "text": [
      "Best trial: 410. Best value: 0.929364:  97%|███████████████████████████████████████████████████████████████████████████▋  | 485/500 [08:05<00:20,  1.33s/it]"
     ]
    },
    {
     "name": "stdout",
     "output_type": "stream",
     "text": [
      "[I 2025-02-03 14:04:28,009] Trial 484 finished with value: 0.9261664501948247 and parameters: {'learning_rate': 0.06340140375937295, 'max_depth': 32, 'min_child_weight': 8, 'subsample': 0.49507587783244766, 'colsample_bytree': 0.627953032479548, 'gamma': 0.0001535322549333889, 'lambda': 0.03853377164960818, 'alpha': 0.057175398723578116, 'eta': 1.746883370839992e-08, 'n_estimators': 64, 'enable_categorical': True}. Best is trial 410 with value: 0.929363572784494.\n"
     ]
    },
    {
     "name": "stderr",
     "output_type": "stream",
     "text": [
      "Best trial: 410. Best value: 0.929364:  97%|███████████████████████████████████████████████████████████████████████████▊  | 486/500 [08:07<00:22,  1.60s/it]"
     ]
    },
    {
     "name": "stdout",
     "output_type": "stream",
     "text": [
      "[I 2025-02-03 14:04:30,239] Trial 485 finished with value: 0.9278649215705864 and parameters: {'learning_rate': 0.03176522571422327, 'max_depth': 25, 'min_child_weight': 6, 'subsample': 0.6280245428342573, 'colsample_bytree': 0.8091861933011225, 'gamma': 0.0007812901505459809, 'lambda': 0.02491396782638775, 'alpha': 0.046911179274941574, 'eta': 6.295790060429008e-07, 'n_estimators': 3096, 'enable_categorical': True}. Best is trial 410 with value: 0.929363572784494.\n"
     ]
    },
    {
     "name": "stderr",
     "output_type": "stream",
     "text": [
      "Best trial: 410. Best value: 0.929364:  97%|███████████████████████████████████████████████████████████████████████████▉  | 487/500 [08:09<00:19,  1.53s/it]"
     ]
    },
    {
     "name": "stdout",
     "output_type": "stream",
     "text": [
      "[I 2025-02-03 14:04:31,606] Trial 486 finished with value: 0.9279648316515137 and parameters: {'learning_rate': 0.053248136488417086, 'max_depth': 26, 'min_child_weight': 8, 'subsample': 0.41994055037362094, 'colsample_bytree': 0.8885717029889757, 'gamma': 0.00024772078636475765, 'lambda': 0.05876089153653008, 'alpha': 0.038149241420062235, 'eta': 3.1771975135033726e-06, 'n_estimators': 4096, 'enable_categorical': True}. Best is trial 410 with value: 0.929363572784494.\n"
     ]
    },
    {
     "name": "stderr",
     "output_type": "stream",
     "text": [
      "Best trial: 410. Best value: 0.929364:  98%|████████████████████████████████████████████████████████████████████████████▏ | 488/500 [08:09<00:14,  1.21s/it]"
     ]
    },
    {
     "name": "stdout",
     "output_type": "stream",
     "text": [
      "[I 2025-02-03 14:04:32,069] Trial 487 finished with value: 0.8601258867019682 and parameters: {'learning_rate': 0.07269225081886521, 'max_depth': 30, 'min_child_weight': 16, 'subsample': 0.8731608292844134, 'colsample_bytree': 0.024525734748724933, 'gamma': 3.957314730768917e-05, 'lambda': 0.05131145890818554, 'alpha': 0.06684804639816076, 'eta': 7.96623739907454e-05, 'n_estimators': 256, 'enable_categorical': True}. Best is trial 410 with value: 0.929363572784494.\n"
     ]
    },
    {
     "name": "stderr",
     "output_type": "stream",
     "text": [
      "Best trial: 410. Best value: 0.929364:  98%|████████████████████████████████████████████████████████████████████████████▎ | 489/500 [08:11<00:13,  1.22s/it]"
     ]
    },
    {
     "name": "stdout",
     "output_type": "stream",
     "text": [
      "[I 2025-02-03 14:04:33,295] Trial 488 finished with value: 0.9279648316515137 and parameters: {'learning_rate': 0.06142460793955647, 'max_depth': 27, 'min_child_weight': 11, 'subsample': 0.5658344849930244, 'colsample_bytree': 0.9883464574171255, 'gamma': 3.918833700617518e-06, 'lambda': 0.06718028639736771, 'alpha': 0.041551045478960436, 'eta': 9.122875083869525e-07, 'n_estimators': 1024, 'enable_categorical': True}. Best is trial 410 with value: 0.929363572784494.\n"
     ]
    },
    {
     "name": "stderr",
     "output_type": "stream",
     "text": [
      "Best trial: 410. Best value: 0.929364:  98%|████████████████████████████████████████████████████████████████████████████▍ | 490/500 [08:12<00:14,  1.42s/it]"
     ]
    },
    {
     "name": "stdout",
     "output_type": "stream",
     "text": [
      "[I 2025-02-03 14:04:35,180] Trial 489 finished with value: 0.9282645618942952 and parameters: {'learning_rate': 0.050987162398574766, 'max_depth': 26, 'min_child_weight': 8, 'subsample': 0.7148637729784363, 'colsample_bytree': 0.7651088031111413, 'gamma': 0.00018687013418482, 'lambda': 0.02925438672770538, 'alpha': 0.05489770249040777, 'eta': 3.5377500343170677e-07, 'n_estimators': 32, 'enable_categorical': True}. Best is trial 410 with value: 0.929363572784494.\n"
     ]
    },
    {
     "name": "stderr",
     "output_type": "stream",
     "text": [
      "Best trial: 410. Best value: 0.929364:  98%|████████████████████████████████████████████████████████████████████████████▌ | 491/500 [08:14<00:12,  1.37s/it]"
     ]
    },
    {
     "name": "stdout",
     "output_type": "stream",
     "text": [
      "[I 2025-02-03 14:04:36,454] Trial 490 finished with value: 0.9288640223798581 and parameters: {'learning_rate': 0.04258221068231151, 'max_depth': 28, 'min_child_weight': 8, 'subsample': 0.36234602511498243, 'colsample_bytree': 0.9922259079674853, 'gamma': 9.826346620228727e-05, 'lambda': 0.04191538342441195, 'alpha': 0.08682259561275771, 'eta': 3.111194917522941e-05, 'n_estimators': 4096, 'enable_categorical': True}. Best is trial 410 with value: 0.929363572784494.\n"
     ]
    },
    {
     "name": "stderr",
     "output_type": "stream",
     "text": [
      "Best trial: 410. Best value: 0.929364:  98%|████████████████████████████████████████████████████████████████████████████▊ | 492/500 [08:15<00:10,  1.31s/it]"
     ]
    },
    {
     "name": "stdout",
     "output_type": "stream",
     "text": [
      "[I 2025-02-03 14:04:37,609] Trial 491 finished with value: 0.9288640223798581 and parameters: {'learning_rate': 0.07440534840341914, 'max_depth': 25, 'min_child_weight': 8, 'subsample': 0.4793348483917281, 'colsample_bytree': 0.8597501784808632, 'gamma': 0.001996871358657176, 'lambda': 0.0029296329530990877, 'alpha': 0.03842542806001192, 'eta': 6.076602799758599e-07, 'n_estimators': 2048, 'enable_categorical': True}. Best is trial 410 with value: 0.929363572784494.\n"
     ]
    },
    {
     "name": "stderr",
     "output_type": "stream",
     "text": [
      "Best trial: 410. Best value: 0.929364:  99%|████████████████████████████████████████████████████████████████████████████▉ | 493/500 [08:16<00:09,  1.37s/it]"
     ]
    },
    {
     "name": "stdout",
     "output_type": "stream",
     "text": [
      "[I 2025-02-03 14:04:39,140] Trial 492 finished with value: 0.9279648316515137 and parameters: {'learning_rate': 0.05742234342224988, 'max_depth': 29, 'min_child_weight': 10, 'subsample': 0.6154561881530932, 'colsample_bytree': 0.6999238748691116, 'gamma': 0.00047801185822901935, 'lambda': 0.0359793563635125, 'alpha': 0.06558290938449421, 'eta': 2.189179883329446e-05, 'n_estimators': 512, 'enable_categorical': True}. Best is trial 410 with value: 0.929363572784494.\n"
     ]
    },
    {
     "name": "stderr",
     "output_type": "stream",
     "text": [
      "Best trial: 410. Best value: 0.929364:  99%|█████████████████████████████████████████████████████████████████████████████ | 494/500 [08:17<00:07,  1.22s/it]"
     ]
    },
    {
     "name": "stdout",
     "output_type": "stream",
     "text": [
      "[I 2025-02-03 14:04:40,007] Trial 493 finished with value: 0.9279648316515137 and parameters: {'learning_rate': 0.06913819502431709, 'max_depth': 25, 'min_child_weight': 19, 'subsample': 0.49848117803473135, 'colsample_bytree': 0.9928419646182763, 'gamma': 0.001174447691228959, 'lambda': 0.07667283115938407, 'alpha': 0.050378422569803794, 'eta': 3.4921895561338154e-08, 'n_estimators': 4096, 'enable_categorical': True}. Best is trial 410 with value: 0.929363572784494.\n"
     ]
    },
    {
     "name": "stderr",
     "output_type": "stream",
     "text": [
      "Best trial: 410. Best value: 0.929364:  99%|█████████████████████████████████████████████████████████████████████████████▍| 496/500 [08:19<00:04,  1.04s/it]"
     ]
    },
    {
     "name": "stdout",
     "output_type": "stream",
     "text": [
      "[I 2025-02-03 14:04:41,897] Trial 494 finished with value: 0.928764112298931 and parameters: {'learning_rate': 0.03858064024753174, 'max_depth': 26, 'min_child_weight': 8, 'subsample': 0.7792784977467392, 'colsample_bytree': 0.9973804644910099, 'gamma': 0.000710001803465579, 'lambda': 0.04331053070573754, 'alpha': 0.1520497086253316, 'eta': 1.4188069430974028e-06, 'n_estimators': 2048, 'enable_categorical': True}. Best is trial 410 with value: 0.929363572784494.\n",
      "[I 2025-02-03 14:04:42,056] Trial 495 finished with value: 0.8559296633030272 and parameters: {'learning_rate': 0.04822883642391746, 'max_depth': 26, 'min_child_weight': 16, 'subsample': 0.003748576306171063, 'colsample_bytree': 0.8149444368018656, 'gamma': 0.0003092997679704916, 'lambda': 0.0581753368648361, 'alpha': 0.03804716107267683, 'eta': 5.6564397598572985e-08, 'n_estimators': 5120, 'enable_categorical': True}. Best is trial 410 with value: 0.929363572784494.\n"
     ]
    },
    {
     "name": "stderr",
     "output_type": "stream",
     "text": [
      "Best trial: 410. Best value: 0.929364:  99%|█████████████████████████████████████████████████████████████████████████████▌| 497/500 [08:20<00:03,  1.04s/it]"
     ]
    },
    {
     "name": "stdout",
     "output_type": "stream",
     "text": [
      "[I 2025-02-03 14:04:43,076] Trial 496 finished with value: 0.927565191327805 and parameters: {'learning_rate': 0.06053500540860565, 'max_depth': 27, 'min_child_weight': 12, 'subsample': 0.42502210916257377, 'colsample_bytree': 0.8720756765456154, 'gamma': 1.3962964563215234e-05, 'lambda': 0.02546017844306503, 'alpha': 0.07282831070019036, 'eta': 7.988666754502383e-07, 'n_estimators': 4096, 'enable_categorical': True}. Best is trial 410 with value: 0.929363572784494.\n"
     ]
    },
    {
     "name": "stderr",
     "output_type": "stream",
     "text": [
      "Best trial: 410. Best value: 0.929364: 100%|█████████████████████████████████████████████████████████████████████████████▋| 498/500 [08:21<00:01,  1.16it/s]"
     ]
    },
    {
     "name": "stdout",
     "output_type": "stream",
     "text": [
      "[I 2025-02-03 14:04:43,532] Trial 497 finished with value: 0.9167749025876711 and parameters: {'learning_rate': 0.07644584305662518, 'max_depth': 25, 'min_child_weight': 8, 'subsample': 0.04187254929059839, 'colsample_bytree': 0.5340983583997615, 'gamma': 0.0004981123522075391, 'lambda': 0.03175230468377706, 'alpha': 0.0573168405291476, 'eta': 7.2919404934382005e-06, 'n_estimators': 32, 'enable_categorical': True}. Best is trial 410 with value: 0.929363572784494.\n"
     ]
    },
    {
     "name": "stderr",
     "output_type": "stream",
     "text": [
      "Best trial: 410. Best value: 0.929364: 100%|█████████████████████████████████████████████████████████████████████████████▊| 499/500 [08:22<00:00,  1.17it/s]"
     ]
    },
    {
     "name": "stdout",
     "output_type": "stream",
     "text": [
      "[I 2025-02-03 14:04:44,369] Trial 498 finished with value: 0.9259666300329703 and parameters: {'learning_rate': 0.051577697822851924, 'max_depth': 26, 'min_child_weight': 20, 'subsample': 0.3258929934620126, 'colsample_bytree': 0.7312079586424439, 'gamma': 0.0009113827834208835, 'lambda': 0.04707959650702025, 'alpha': 0.1073370336981657, 'eta': 0.0010679690265059827, 'n_estimators': 2048, 'enable_categorical': True}. Best is trial 410 with value: 0.929363572784494.\n"
     ]
    },
    {
     "name": "stderr",
     "output_type": "stream",
     "text": [
      "Best trial: 410. Best value: 0.929364: 100%|██████████████████████████████████████████████████████████████████████████████| 500/500 [08:24<00:00,  1.01s/it]"
     ]
    },
    {
     "name": "stdout",
     "output_type": "stream",
     "text": [
      "[I 2025-02-03 14:04:46,377] Trial 499 finished with value: 0.9267659106803876 and parameters: {'learning_rate': 0.006339799209800368, 'max_depth': 27, 'min_child_weight': 8, 'subsample': 0.5606834118114922, 'colsample_bytree': 0.8741794752735385, 'gamma': 0.00018191739690047988, 'lambda': 0.03698222138464663, 'alpha': 0.04738318350271958, 'eta': 4.1843956172995767e-07, 'n_estimators': 4096, 'enable_categorical': True}. Best is trial 410 with value: 0.929363572784494.\n"
     ]
    },
    {
     "name": "stderr",
     "output_type": "stream",
     "text": [
      "\n"
     ]
    }
   ],
   "source": [
    "study = optuna.create_study(direction=\"maximize\", sampler=TPESampler())\n",
    "study.optimize(objective, n_trials=500, show_progress_bar=True)"
   ]
  },
  {
   "cell_type": "code",
   "execution_count": 9,
   "id": "cf84baa7-e9e7-4829-a4f1-c987a308bd73",
   "metadata": {},
   "outputs": [
    {
     "name": "stdout",
     "output_type": "stream",
     "text": [
      "Best Accuracy: 0.929363572784494\n",
      "\n",
      "Best Hyperparameters found: {'learning_rate': 0.06639197561140248, 'max_depth': 26, 'min_child_weight': 8, 'subsample': 0.42691534910536266, 'colsample_bytree': 0.8070978748047901, 'gamma': 0.0006453810007407459, 'lambda': 0.1854567183257992, 'alpha': 0.025256802180717654, 'eta': 8.31120945724503e-07, 'n_estimators': 768, 'enable_categorical': True}\n"
     ]
    }
   ],
   "source": [
    "print(f\"Best Accuracy: {study.best_trial.value}\\n\")\n",
    "print(f\"Best Hyperparameters found: {study.best_params}\")"
   ]
  },
  {
   "cell_type": "code",
   "execution_count": 10,
   "id": "ffa31c51-688c-4746-b1a5-9af07395acab",
   "metadata": {},
   "outputs": [
    {
     "ename": "ImportError",
     "evalue": "Tried to import 'plotly' but failed. Please make sure that the package is installed correctly to use this feature. Actual error: No module named 'plotly'.",
     "output_type": "error",
     "traceback": [
      "\u001b[0;31m---------------------------------------------------------------------------\u001b[0m",
      "\u001b[0;31mModuleNotFoundError\u001b[0m                       Traceback (most recent call last)",
      "File \u001b[0;32m~/anaconda3/envs/graphquest/lib/python3.9/site-packages/optuna/visualization/_plotly_imports.py:7\u001b[0m\n\u001b[1;32m      6\u001b[0m \u001b[38;5;28;01mwith\u001b[39;00m try_import() \u001b[38;5;28;01mas\u001b[39;00m _imports:\n\u001b[0;32m----> 7\u001b[0m     \u001b[38;5;28;01mimport\u001b[39;00m\u001b[38;5;250m \u001b[39m\u001b[38;5;21;01mplotly\u001b[39;00m\n\u001b[1;32m      8\u001b[0m     \u001b[38;5;28;01mfrom\u001b[39;00m\u001b[38;5;250m \u001b[39m\u001b[38;5;21;01mplotly\u001b[39;00m\u001b[38;5;250m \u001b[39m\u001b[38;5;28;01mimport\u001b[39;00m __version__ \u001b[38;5;28;01mas\u001b[39;00m plotly_version\n",
      "\u001b[0;31mModuleNotFoundError\u001b[0m: No module named 'plotly'",
      "\nThe above exception was the direct cause of the following exception:\n",
      "\u001b[0;31mImportError\u001b[0m                               Traceback (most recent call last)",
      "Cell \u001b[0;32mIn[10], line 1\u001b[0m\n\u001b[0;32m----> 1\u001b[0m \u001b[43mov\u001b[49m\u001b[38;5;241;43m.\u001b[39;49m\u001b[43mplot_optimization_history\u001b[49m\u001b[43m(\u001b[49m\u001b[43mstudy\u001b[49m\u001b[43m)\u001b[49m\u001b[38;5;241m.\u001b[39mshow()\n\u001b[1;32m      2\u001b[0m ov\u001b[38;5;241m.\u001b[39mplot_param_importances(study)\u001b[38;5;241m.\u001b[39mshow()\n\u001b[1;32m      3\u001b[0m ov\u001b[38;5;241m.\u001b[39mplot_contour(study, params \u001b[38;5;241m=\u001b[39m [\u001b[38;5;124m\"\u001b[39m\u001b[38;5;124mmax_depth\u001b[39m\u001b[38;5;124m\"\u001b[39m, \u001b[38;5;124m\"\u001b[39m\u001b[38;5;124mlearning_rate\u001b[39m\u001b[38;5;124m\"\u001b[39m])\u001b[38;5;241m.\u001b[39mshow()\n",
      "File \u001b[0;32m~/anaconda3/envs/graphquest/lib/python3.9/site-packages/optuna/visualization/_optimization_history.py:200\u001b[0m, in \u001b[0;36mplot_optimization_history\u001b[0;34m(study, target, target_name, error_bar)\u001b[0m\n\u001b[1;32m    172\u001b[0m \u001b[38;5;28;01mdef\u001b[39;00m\u001b[38;5;250m \u001b[39m\u001b[38;5;21mplot_optimization_history\u001b[39m(\n\u001b[1;32m    173\u001b[0m     study: Study \u001b[38;5;241m|\u001b[39m Sequence[Study],\n\u001b[1;32m    174\u001b[0m     \u001b[38;5;241m*\u001b[39m,\n\u001b[0;32m   (...)\u001b[0m\n\u001b[1;32m    177\u001b[0m     error_bar: \u001b[38;5;28mbool\u001b[39m \u001b[38;5;241m=\u001b[39m \u001b[38;5;28;01mFalse\u001b[39;00m,\n\u001b[1;32m    178\u001b[0m ) \u001b[38;5;241m-\u001b[39m\u001b[38;5;241m>\u001b[39m \u001b[38;5;124m\"\u001b[39m\u001b[38;5;124mgo.Figure\u001b[39m\u001b[38;5;124m\"\u001b[39m:\n\u001b[1;32m    179\u001b[0m \u001b[38;5;250m    \u001b[39m\u001b[38;5;124;03m\"\"\"Plot optimization history of all trials in a study.\u001b[39;00m\n\u001b[1;32m    180\u001b[0m \n\u001b[1;32m    181\u001b[0m \u001b[38;5;124;03m    Args:\u001b[39;00m\n\u001b[0;32m   (...)\u001b[0m\n\u001b[1;32m    197\u001b[0m \u001b[38;5;124;03m        A :class:`plotly.graph_objects.Figure` object.\u001b[39;00m\n\u001b[1;32m    198\u001b[0m \u001b[38;5;124;03m    \"\"\"\u001b[39;00m\n\u001b[0;32m--> 200\u001b[0m     \u001b[43m_imports\u001b[49m\u001b[38;5;241;43m.\u001b[39;49m\u001b[43mcheck\u001b[49m\u001b[43m(\u001b[49m\u001b[43m)\u001b[49m\n\u001b[1;32m    202\u001b[0m     info_list \u001b[38;5;241m=\u001b[39m _get_optimization_history_info_list(study, target, target_name, error_bar)\n\u001b[1;32m    203\u001b[0m     \u001b[38;5;28;01mreturn\u001b[39;00m _get_optimization_history_plot(info_list, target_name)\n",
      "File \u001b[0;32m~/anaconda3/envs/graphquest/lib/python3.9/site-packages/optuna/_imports.py:94\u001b[0m, in \u001b[0;36m_DeferredImportExceptionContextManager.check\u001b[0;34m(self)\u001b[0m\n\u001b[1;32m     92\u001b[0m \u001b[38;5;28;01mif\u001b[39;00m \u001b[38;5;28mself\u001b[39m\u001b[38;5;241m.\u001b[39m_deferred \u001b[38;5;129;01mis\u001b[39;00m \u001b[38;5;129;01mnot\u001b[39;00m \u001b[38;5;28;01mNone\u001b[39;00m:\n\u001b[1;32m     93\u001b[0m     exc_value, message \u001b[38;5;241m=\u001b[39m \u001b[38;5;28mself\u001b[39m\u001b[38;5;241m.\u001b[39m_deferred\n\u001b[0;32m---> 94\u001b[0m     \u001b[38;5;28;01mraise\u001b[39;00m \u001b[38;5;167;01mImportError\u001b[39;00m(message) \u001b[38;5;28;01mfrom\u001b[39;00m\u001b[38;5;250m \u001b[39m\u001b[38;5;21;01mexc_value\u001b[39;00m\n",
      "\u001b[0;31mImportError\u001b[0m: Tried to import 'plotly' but failed. Please make sure that the package is installed correctly to use this feature. Actual error: No module named 'plotly'."
     ]
    }
   ],
   "source": [
    "ov.plot_optimization_history(study).show()\n",
    "ov.plot_param_importances(study).show()\n",
    "ov.plot_contour(study, params = [\"max_depth\", \"learning_rate\"]).show()\n",
    "ov.plot_parallel_coordinate(study).show()"
   ]
  }
 ],
 "metadata": {
  "kernelspec": {
   "display_name": "graphquest",
   "language": "python",
   "name": "graphquest"
  },
  "language_info": {
   "codemirror_mode": {
    "name": "ipython",
    "version": 3
   },
   "file_extension": ".py",
   "mimetype": "text/x-python",
   "name": "python",
   "nbconvert_exporter": "python",
   "pygments_lexer": "ipython3",
   "version": "3.9.21"
  }
 },
 "nbformat": 4,
 "nbformat_minor": 5
}

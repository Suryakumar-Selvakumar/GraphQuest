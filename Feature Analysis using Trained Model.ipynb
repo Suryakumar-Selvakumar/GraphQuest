{
 "cells": [
  {
   "cell_type": "code",
   "execution_count": 1,
   "id": "84fece5d-df20-47e3-a3bd-3b2717de5ad6",
   "metadata": {},
   "outputs": [],
   "source": [
    "import warnings\n",
    "warnings.filterwarnings(\"ignore\")"
   ]
  },
  {
   "cell_type": "code",
   "execution_count": 2,
   "id": "e033ffec-cab7-476e-889a-3dffd59f4de2",
   "metadata": {},
   "outputs": [],
   "source": [
    "# import libs\n",
    "import pandas as pd\n",
    "import numpy as np\n",
    "import matplotlib.pyplot as plt\n",
    "import seaborn as sns\n",
    "import xgboost as xgb\n",
    "from sklearn.model_selection import train_test_split\n",
    "import shap\n",
    "import os\n",
    "import pickle"
   ]
  },
  {
   "cell_type": "code",
   "execution_count": 3,
   "id": "07b89efe-aeb3-48b3-b8b8-7734abd92409",
   "metadata": {},
   "outputs": [
    {
     "data": {
      "text/html": [
       "<div>\n",
       "<style scoped>\n",
       "    .dataframe tbody tr th:only-of-type {\n",
       "        vertical-align: middle;\n",
       "    }\n",
       "\n",
       "    .dataframe tbody tr th {\n",
       "        vertical-align: top;\n",
       "    }\n",
       "\n",
       "    .dataframe thead th {\n",
       "        text-align: right;\n",
       "    }\n",
       "</style>\n",
       "<table border=\"1\" class=\"dataframe\">\n",
       "  <thead>\n",
       "    <tr style=\"text-align: right;\">\n",
       "      <th></th>\n",
       "      <th>PlayerID</th>\n",
       "      <th>Age</th>\n",
       "      <th>Gender</th>\n",
       "      <th>PlayTimeHours</th>\n",
       "      <th>InGamePurchases</th>\n",
       "      <th>GameDifficulty</th>\n",
       "      <th>SessionsPerWeek</th>\n",
       "      <th>AvgSessionDurationMinutes</th>\n",
       "      <th>PlayerLevel</th>\n",
       "      <th>AchievementsUnlocked</th>\n",
       "      <th>EngagementLevel</th>\n",
       "      <th>AvgPlayTimePerWeek</th>\n",
       "      <th>isAddicted</th>\n",
       "      <th>Location_Europe</th>\n",
       "      <th>Location_Other</th>\n",
       "      <th>Location_USA</th>\n",
       "      <th>Genre_RPG</th>\n",
       "      <th>Genre_Simulation</th>\n",
       "      <th>Genre_Sports</th>\n",
       "      <th>Genre_Strategy</th>\n",
       "    </tr>\n",
       "  </thead>\n",
       "  <tbody>\n",
       "    <tr>\n",
       "      <th>0</th>\n",
       "      <td>9000</td>\n",
       "      <td>43</td>\n",
       "      <td>0</td>\n",
       "      <td>16.271119</td>\n",
       "      <td>0</td>\n",
       "      <td>1</td>\n",
       "      <td>6</td>\n",
       "      <td>108</td>\n",
       "      <td>79</td>\n",
       "      <td>25</td>\n",
       "      <td>1</td>\n",
       "      <td>648</td>\n",
       "      <td>0</td>\n",
       "      <td>False</td>\n",
       "      <td>True</td>\n",
       "      <td>False</td>\n",
       "      <td>False</td>\n",
       "      <td>False</td>\n",
       "      <td>False</td>\n",
       "      <td>True</td>\n",
       "    </tr>\n",
       "    <tr>\n",
       "      <th>1</th>\n",
       "      <td>9001</td>\n",
       "      <td>29</td>\n",
       "      <td>1</td>\n",
       "      <td>5.525961</td>\n",
       "      <td>0</td>\n",
       "      <td>1</td>\n",
       "      <td>5</td>\n",
       "      <td>144</td>\n",
       "      <td>11</td>\n",
       "      <td>10</td>\n",
       "      <td>1</td>\n",
       "      <td>720</td>\n",
       "      <td>0</td>\n",
       "      <td>False</td>\n",
       "      <td>False</td>\n",
       "      <td>True</td>\n",
       "      <td>False</td>\n",
       "      <td>False</td>\n",
       "      <td>False</td>\n",
       "      <td>True</td>\n",
       "    </tr>\n",
       "    <tr>\n",
       "      <th>2</th>\n",
       "      <td>9002</td>\n",
       "      <td>22</td>\n",
       "      <td>1</td>\n",
       "      <td>8.223755</td>\n",
       "      <td>0</td>\n",
       "      <td>0</td>\n",
       "      <td>16</td>\n",
       "      <td>142</td>\n",
       "      <td>35</td>\n",
       "      <td>41</td>\n",
       "      <td>2</td>\n",
       "      <td>2272</td>\n",
       "      <td>1</td>\n",
       "      <td>False</td>\n",
       "      <td>False</td>\n",
       "      <td>True</td>\n",
       "      <td>False</td>\n",
       "      <td>False</td>\n",
       "      <td>True</td>\n",
       "      <td>False</td>\n",
       "    </tr>\n",
       "    <tr>\n",
       "      <th>3</th>\n",
       "      <td>9003</td>\n",
       "      <td>35</td>\n",
       "      <td>0</td>\n",
       "      <td>5.265351</td>\n",
       "      <td>1</td>\n",
       "      <td>0</td>\n",
       "      <td>9</td>\n",
       "      <td>85</td>\n",
       "      <td>57</td>\n",
       "      <td>47</td>\n",
       "      <td>1</td>\n",
       "      <td>765</td>\n",
       "      <td>0</td>\n",
       "      <td>False</td>\n",
       "      <td>False</td>\n",
       "      <td>True</td>\n",
       "      <td>False</td>\n",
       "      <td>False</td>\n",
       "      <td>False</td>\n",
       "      <td>False</td>\n",
       "    </tr>\n",
       "    <tr>\n",
       "      <th>4</th>\n",
       "      <td>9004</td>\n",
       "      <td>33</td>\n",
       "      <td>0</td>\n",
       "      <td>15.531945</td>\n",
       "      <td>0</td>\n",
       "      <td>1</td>\n",
       "      <td>2</td>\n",
       "      <td>131</td>\n",
       "      <td>95</td>\n",
       "      <td>37</td>\n",
       "      <td>1</td>\n",
       "      <td>262</td>\n",
       "      <td>0</td>\n",
       "      <td>True</td>\n",
       "      <td>False</td>\n",
       "      <td>False</td>\n",
       "      <td>False</td>\n",
       "      <td>False</td>\n",
       "      <td>False</td>\n",
       "      <td>False</td>\n",
       "    </tr>\n",
       "  </tbody>\n",
       "</table>\n",
       "</div>"
      ],
      "text/plain": [
       "   PlayerID  Age  Gender  PlayTimeHours  InGamePurchases  GameDifficulty  \\\n",
       "0      9000   43       0      16.271119                0               1   \n",
       "1      9001   29       1       5.525961                0               1   \n",
       "2      9002   22       1       8.223755                0               0   \n",
       "3      9003   35       0       5.265351                1               0   \n",
       "4      9004   33       0      15.531945                0               1   \n",
       "\n",
       "   SessionsPerWeek  AvgSessionDurationMinutes  PlayerLevel  \\\n",
       "0                6                        108           79   \n",
       "1                5                        144           11   \n",
       "2               16                        142           35   \n",
       "3                9                         85           57   \n",
       "4                2                        131           95   \n",
       "\n",
       "   AchievementsUnlocked  EngagementLevel  AvgPlayTimePerWeek  isAddicted  \\\n",
       "0                    25                1                 648           0   \n",
       "1                    10                1                 720           0   \n",
       "2                    41                2                2272           1   \n",
       "3                    47                1                 765           0   \n",
       "4                    37                1                 262           0   \n",
       "\n",
       "   Location_Europe  Location_Other  Location_USA  Genre_RPG  Genre_Simulation  \\\n",
       "0            False            True         False      False             False   \n",
       "1            False           False          True      False             False   \n",
       "2            False           False          True      False             False   \n",
       "3            False           False          True      False             False   \n",
       "4             True           False         False      False             False   \n",
       "\n",
       "   Genre_Sports  Genre_Strategy  \n",
       "0         False            True  \n",
       "1         False            True  \n",
       "2          True           False  \n",
       "3         False           False  \n",
       "4         False           False  "
      ]
     },
     "execution_count": 3,
     "metadata": {},
     "output_type": "execute_result"
    }
   ],
   "source": [
    "df = pd.read_csv(\"data/online_gaming_behavior_dataset_preprocessed.csv\")\n",
    "df.head()"
   ]
  },
  {
   "cell_type": "code",
   "execution_count": 4,
   "id": "7c2b4a94-cda0-4215-80bf-a80e54636c0f",
   "metadata": {},
   "outputs": [],
   "source": [
    "# Split dataset\n",
    "\n",
    "X = df.drop(columns=[\"EngagementLevel\", \"PlayerID\"])\n",
    "y = df[\"EngagementLevel\"]\n",
    "\n",
    "# Obtain train and test sets\n",
    "X_train, X_test, y_train, y_test = train_test_split(\n",
    "    X, y, test_size=0.25, random_state=42, stratify=y\n",
    ")"
   ]
  },
  {
   "cell_type": "code",
   "execution_count": 8,
   "id": "ee0452ca-a088-4adc-af79-810015922ebc",
   "metadata": {},
   "outputs": [
    {
     "name": "stdout",
     "output_type": "stream",
     "text": [
      "Final Model loaded!\n"
     ]
    }
   ],
   "source": [
    "# Load Final model\n",
    "final_model_path = \"models/final_xgboost_model.pkl\"\n",
    "with open(final_model_path, \"rb\") as file:\n",
    "    final_model = pickle.load(file)\n",
    "print(\"Final Model loaded!\")"
   ]
  },
  {
   "cell_type": "code",
   "execution_count": 9,
   "id": "e7091c5f-317c-49f4-bcbf-15ea4e9f422e",
   "metadata": {},
   "outputs": [
    {
     "name": "stdout",
     "output_type": "stream",
     "text": [
      "Unique predicted classes AFTER loading: [1 2]\n"
     ]
    }
   ],
   "source": [
    "y_pred_after_loading = final_model.predict(xgb.DMatrix(X_test)).astype(int)\n",
    "print(\"Unique predicted classes AFTER loading:\", np.unique(y_pred_after_loading))"
   ]
  },
  {
   "cell_type": "code",
   "execution_count": null,
   "id": "d43d4cd5-c83c-4083-b60b-a31467c2478a",
   "metadata": {},
   "outputs": [],
   "source": []
  },
  {
   "cell_type": "code",
   "execution_count": null,
   "id": "a71a1d6d-695a-43e5-82ef-e6057c25bc75",
   "metadata": {},
   "outputs": [],
   "source": [
    "# Inspect SHAP values\n",
    "\n",
    "print(f\"SHAP values type: {type(shap_values)}\")\n",
    "print(f\"SHAP values shape: {shap_values.values.shape}\")"
   ]
  },
  {
   "cell_type": "code",
   "execution_count": null,
   "id": "e8c6eb6e-0c4e-4718-b1be-da4212bff5c0",
   "metadata": {},
   "outputs": [],
   "source": [
    "# We have SHAP values all classes\n",
    "# Let's split for each class\n",
    "shap_values_high = shap_values.values[:, :, 2]\n",
    "shap_values_medium = shap_values.values[:, :, 1]\n",
    "shap_values_low = shap_values.values[:, :, 0]"
   ]
  },
  {
   "cell_type": "code",
   "execution_count": null,
   "id": "5f44a37c-3816-4f32-a6a1-fb5b678bc1f8",
   "metadata": {},
   "outputs": [],
   "source": [
    "# Get model predictions\n",
    "y_pred = final_model.predict(xgb.DMatrix(X_test)).astype(int)\n",
    "\n",
    "# Print unique predicted classes to ensure class 0 is included\n",
    "print(\"Unique predicted classes:\", np.unique(y_pred))"
   ]
  },
  {
   "cell_type": "code",
   "execution_count": null,
   "id": "4157818e-5ae7-4eda-9ba7-0c67ae464b94",
   "metadata": {},
   "outputs": [],
   "source": [
    "unique_classes, class_counts = np.unique(y_train, return_counts=True)\n",
    "print(\"Class Distribution in Training Set:\")\n",
    "for cls, count in zip(unique_classes, class_counts):\n",
    "    print(f\"Class {cls}: {count} samples\")"
   ]
  },
  {
   "cell_type": "code",
   "execution_count": null,
   "id": "565c8f92-1071-43a7-9434-29c127fe36fc",
   "metadata": {},
   "outputs": [],
   "source": [
    "# Get model raw scores (before softmax)\n",
    "logits = final_model.predict(xgb.DMatrix(X_test))\n",
    "\n",
    "# Print logits for first few samples\n",
    "for i in range(5):\n",
    "    print(f\"Sample {i}: Logits = {logits[i]}, Predicted Class = {np.argmax(logits[i])}\")"
   ]
  },
  {
   "cell_type": "code",
   "execution_count": null,
   "id": "359f53c6-4677-4608-9957-877f76794ac9",
   "metadata": {},
   "outputs": [],
   "source": []
  },
  {
   "cell_type": "markdown",
   "id": "a96742cd-ae21-4716-b6db-b43527c140cf",
   "metadata": {},
   "source": []
  },
  {
   "cell_type": "code",
   "execution_count": null,
   "id": "6873acf8-a44e-4428-8757-958a51aa4627",
   "metadata": {},
   "outputs": [],
   "source": []
  },
  {
   "cell_type": "code",
   "execution_count": null,
   "id": "67fe6252-3dbb-4982-aab6-486dc46ce360",
   "metadata": {},
   "outputs": [],
   "source": []
  },
  {
   "cell_type": "code",
   "execution_count": null,
   "id": "2f1b0bd4-1aea-4e92-8758-cddd15a09b9e",
   "metadata": {},
   "outputs": [],
   "source": []
  },
  {
   "cell_type": "markdown",
   "id": "4f317b4b-e53f-4c04-b1e9-97bc5b9040cf",
   "metadata": {},
   "source": []
  },
  {
   "cell_type": "code",
   "execution_count": null,
   "id": "a4a71bf1-dc2e-49fd-9fa9-683dbedad580",
   "metadata": {},
   "outputs": [],
   "source": []
  },
  {
   "cell_type": "code",
   "execution_count": null,
   "id": "a430ba5e-38a1-4260-9a77-850845e35cbb",
   "metadata": {},
   "outputs": [],
   "source": []
  },
  {
   "cell_type": "code",
   "execution_count": null,
   "id": "93ecdded-8e66-4054-8339-9588083814d1",
   "metadata": {},
   "outputs": [],
   "source": []
  },
  {
   "cell_type": "code",
   "execution_count": null,
   "id": "942a6930-1ef2-4835-8246-160c93b934ff",
   "metadata": {},
   "outputs": [],
   "source": []
  }
 ],
 "metadata": {
  "kernelspec": {
   "display_name": "graphquest",
   "language": "python",
   "name": "graphquest"
  },
  "language_info": {
   "codemirror_mode": {
    "name": "ipython",
    "version": 3
   },
   "file_extension": ".py",
   "mimetype": "text/x-python",
   "name": "python",
   "nbconvert_exporter": "python",
   "pygments_lexer": "ipython3",
   "version": "3.9.21"
  }
 },
 "nbformat": 4,
 "nbformat_minor": 5
}
